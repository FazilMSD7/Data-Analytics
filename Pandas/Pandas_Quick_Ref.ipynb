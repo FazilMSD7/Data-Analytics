{
  "nbformat": 4,
  "nbformat_minor": 0,
  "metadata": {
    "colab": {
      "provenance": [],
      "authorship_tag": "ABX9TyNEG2tfevtThnl9XPPXtrGu",
      "include_colab_link": true
    },
    "kernelspec": {
      "name": "python3",
      "display_name": "Python 3"
    },
    "language_info": {
      "name": "python"
    }
  },
  "cells": [
    {
      "cell_type": "markdown",
      "metadata": {
        "id": "view-in-github",
        "colab_type": "text"
      },
      "source": [
        "<a href=\"https://colab.research.google.com/github/FazilMSD7/Data-Analytics/blob/main/Pandas/Pandas_Quick_Ref.ipynb\" target=\"_parent\"><img src=\"https://colab.research.google.com/assets/colab-badge.svg\" alt=\"Open In Colab\"/></a>"
      ]
    },
    {
      "cell_type": "markdown",
      "source": [
        "##🐼 Pandas Quick Reference — My Learning Progress\n",
        "###1️⃣ Introduction & Basics\n",
        "\n",
        "\n",
        "*   Why Pandas — built on NumPy for efficient data handling\n",
        "*   Importing datasets: CSV, Excel, SQL, JSON\n",
        "\n",
        "*   Data structures:<br>\n",
        "    Series → 1D, homogeneous, size immutable<br>\n",
        "    DataFrame → 2D, heterogeneous, size mutable\n",
        "\n",
        "*   Creating Series and DataFrames\n",
        "*   Reading and selecting data\n",
        "\n",
        "###2️⃣ Data Cleaning\n",
        "\n",
        "*   Handling Missing Values:<br>\n",
        "    dropna(), isnull(), fillna()<br>\n",
        "    Forward fill & backward fill methods\n",
        "\n",
        "*   Replacing & Renaming values\n",
        "\n",
        "*   Handling Duplicates:<br>\n",
        "    duplicated(), drop_duplicates()\n",
        "\n",
        "*   Fixing Invalid Values:<br>\n",
        "    Numeric cleanup using apply(lambda)<br>\n",
        "    String cleanup using str.split() and column expansion\n",
        "\n",
        "###3️⃣ Filtering & Transformation\n",
        "\n",
        "*   Conditional filtering using logical conditions and Lambda\n",
        "\n",
        "*   Column transformations with:<br>\n",
        "    apply(), map(), applymap()\n",
        "\n",
        "###4️⃣ Miscellaneous Notes\n",
        "\n",
        "*   Size mutability: add/drop rows & columns easily in DataFrame\n",
        "\n",
        "*   Efficient manipulation and extraction of data"
      ],
      "metadata": {
        "id": "v9FdSqQrFUiq"
      }
    }
  ]
}