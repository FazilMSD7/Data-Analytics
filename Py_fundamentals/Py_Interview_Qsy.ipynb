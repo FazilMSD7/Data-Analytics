{
  "nbformat": 4,
  "nbformat_minor": 0,
  "metadata": {
    "colab": {
      "provenance": [],
      "authorship_tag": "ABX9TyNFKw1fCDiw+tZ1UICeuFkJ",
      "include_colab_link": true
    },
    "kernelspec": {
      "name": "python3",
      "display_name": "Python 3"
    },
    "language_info": {
      "name": "python"
    }
  },
  "cells": [
    {
      "cell_type": "markdown",
      "metadata": {
        "id": "view-in-github",
        "colab_type": "text"
      },
      "source": [
        "<a href=\"https://colab.research.google.com/github/FazilMSD7/Data-Analytics/blob/main/Py_fundamentals/Py_Interview_Qsy.ipynb\" target=\"_parent\"><img src=\"https://colab.research.google.com/assets/colab-badge.svg\" alt=\"Open In Colab\"/></a>"
      ]
    },
    {
      "cell_type": "markdown",
      "source": [
        "1. what is Python? What are benefits of using python?<br>\n",
        "--> hgh-level(eng-binary),interpreted(line by line execution) and easy to learn prg. lang.<br>\n",
        "  Benefits : many libraries, used in various fields, used in various platforms(windows,mac,linux..)<br>\n",
        "2. Dynamically typed lang.?<br>\n",
        "--> don’t need to declare the data type of a variable. Flexible, but can lead to unexpected errors if types change accidentally.<br>\n",
        "  Type checking : Static: dtypes checked before execution, Dynamic : while execution<br>\n",
        "3. Pep 8? --> PEP 8 (Python Enhancement Proposal 8) is a set of guidelines for writing clean, readable, and consistent Python code.<br>\n",
        "eg: naming convention, indention..\n",
        "4. Common Built-in Data Types in Python<br>\n",
        "* Numeric Types: int → Integer values,float → Decimal values,complex → Complex numbers (e.g., 3 + 4j)<br>\n",
        "* Text Type: str → String values<br>\n",
        "* Sequence Types:<br>\n",
        "list → Ordered, mutable collection (e.g., [1, 2, 3])<br>\n",
        "tuple → Ordered, immutable collection (e.g., (1, 2, 3))<br>\n",
        "range → Sequence of numbers (e.g., range(5))<br>\n",
        "* Mapping Type: dict → Key-value pairs (e.g., {'name': 'Fazil', 'age': 25})<br>\n",
        "* Set Types:<br>\n",
        "set → Unordered, unique elements (e.g., {1, 2, 3})<br>\n",
        "frozenset → Immutable set (e.g., frozenset({1, 2, 3}))<br>\n",
        "* Boolean Type: bool → True or False<br>\n",
        "* Binary Types: bytes, bytearray, memoryview<br>\n",
        "5. Operator precedence(order) : https://www.programiz.com/python-programming/precedence-associativity<br>\n"
      ],
      "metadata": {
        "id": "AU-bFycj4MEl"
      }
    }
  ]
}