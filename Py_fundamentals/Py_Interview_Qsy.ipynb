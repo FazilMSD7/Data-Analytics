{
  "nbformat": 4,
  "nbformat_minor": 0,
  "metadata": {
    "colab": {
      "provenance": [],
      "authorship_tag": "ABX9TyPurJr7GRR2bFhgxLBrt8GL",
      "include_colab_link": true
    },
    "kernelspec": {
      "name": "python3",
      "display_name": "Python 3"
    },
    "language_info": {
      "name": "python"
    }
  },
  "cells": [
    {
      "cell_type": "markdown",
      "metadata": {
        "id": "view-in-github",
        "colab_type": "text"
      },
      "source": [
        "<a href=\"https://colab.research.google.com/github/FazilMSD7/Data-Analytics/blob/main/Py_fundamentals/Py_Interview_Qsy.ipynb\" target=\"_parent\"><img src=\"https://colab.research.google.com/assets/colab-badge.svg\" alt=\"Open In Colab\"/></a>"
      ]
    },
    {
      "cell_type": "markdown",
      "source": [
        "##Week 1:"
      ],
      "metadata": {
        "id": "TJhHFnouQvcP"
      }
    },
    {
      "cell_type": "markdown",
      "source": [
        "1. what is Python? What are benefits of using python?<br>\n",
        "--> hgh-level(eng-binary),interpreted(line by line execution) and easy to learn prg. lang.<br>\n",
        "  Benefits : many libraries, used in various fields, used in various platforms(windows,mac,linux..)<br>"
      ],
      "metadata": {
        "id": "AU-bFycj4MEl"
      }
    },
    {
      "cell_type": "markdown",
      "source": [
        "2. Dynamically typed lang.?<br>\n",
        "--> don’t need to declare the data type of a variable. Flexible, but can lead to unexpected errors if types change accidentally.<br>\n",
        "  Type checking : Static: dtypes checked before execution, Dynamic : while execution<br>"
      ],
      "metadata": {
        "id": "6_n6RboQgv6l"
      }
    },
    {
      "cell_type": "markdown",
      "source": [
        "3. Pep 8? --> PEP 8 (Python Enhancement Proposal 8) is a set of guidelines for writing clean, readable, and consistent Python code.<br>\n",
        "eg: naming convention, indention..<br>"
      ],
      "metadata": {
        "id": "hb1O8aFqgwaE"
      }
    },
    {
      "cell_type": "markdown",
      "source": [
        "4. Common Built-in Data Types in Python<br>\n",
        "* Numeric Types: int → Integer values,float → Decimal values,complex → Complex numbers (e.g., 3 + 4j)<br>\n",
        "* Text Type: str → String values<br>\n",
        "* Sequence Types:<br>\n",
        "list → Ordered, mutable collection (e.g., [1, 2, 3])<br>\n",
        "tuple → Ordered, immutable collection (e.g., (1, 2, 3))<br>\n",
        "range → Sequence of numbers (e.g., range(5))<br>\n",
        "* Mapping Type: dict → Key-value pairs (e.g., {'name': 'Fazil', 'age': 25})<br>\n",
        "* Set Types:<br>\n",
        "set → Unordered, unique elements (e.g., {1, 2, 3})<br>\n",
        "frozenset → Immutable set (e.g., frozenset({1, 2, 3}))<br>\n",
        "* Boolean Type: bool → True or False<br>\n",
        "* Binary Types: bytes, bytearray, memoryview<br>"
      ],
      "metadata": {
        "id": "pGSvj8Gig68M"
      }
    },
    {
      "cell_type": "markdown",
      "source": [
        "5. Operator precedence(order) : https://www.programiz.com/python-programming/precedence-associativity<br>"
      ],
      "metadata": {
        "id": "ux20v-jSg7Vr"
      }
    },
    {
      "cell_type": "markdown",
      "source": [
        "6. Ternary Operators : Not used in python, in other lang. we use. age>18 ? print('vote') : print('can't vote).<br>\n",
        "In python instead we can use : print('vote') if a>18 else print(\"can't vote\")"
      ],
      "metadata": {
        "id": "fCj_8wEFg72h"
      }
    },
    {
      "cell_type": "code",
      "source": [
        "#cloning : x[:] --> for same value store in diff. memory address\n",
        "s = [1,2,3]\n",
        "p = s\n",
        "q = s[:]\n",
        "print(s is p)\n",
        "print(s is q)\n",
        "s.append(4)\n",
        "print(s,p,q)"
      ],
      "metadata": {
        "id": "sJm1d4AfmAN7",
        "outputId": "93e7aa3c-97a2-4eae-b395-01692c2a8b31",
        "colab": {
          "base_uri": "https://localhost:8080/"
        }
      },
      "execution_count": null,
      "outputs": [
        {
          "output_type": "stream",
          "name": "stdout",
          "text": [
            "True\n",
            "False\n",
            "[1, 2, 3, 4] [1, 2, 3, 4] [1, 2, 3]\n"
          ]
        }
      ]
    },
    {
      "cell_type": "markdown",
      "source": [
        "7. Is Operator : checks memory address of variables..(is, is not)<br>\n",
        "  '==' op. chks if both values are equal"
      ],
      "metadata": {
        "id": "kWizwnQQh307"
      }
    },
    {
      "cell_type": "code",
      "source": [
        "a,b = 1,1\n",
        "print(a==b)\n",
        "\n",
        "print(id(a))\n",
        "print(a is b)\n",
        "\n",
        "a= 257\n",
        "b= 257\n",
        "print(a is b, (f'a:',id(a),'b:',id(b))) #-5 to 256 same id,other diff\n"
      ],
      "metadata": {
        "id": "ZjUObt70iQOw",
        "outputId": "c2d31a09-136e-4965-9c82-bd715c71045c",
        "colab": {
          "base_uri": "https://localhost:8080/"
        }
      },
      "execution_count": null,
      "outputs": [
        {
          "output_type": "stream",
          "name": "stdout",
          "text": [
            "True\n",
            "10750856\n",
            "True\n",
            "False ('a:', 139533883194480, 'b:', 139533883193136)\n"
          ]
        }
      ]
    },
    {
      "cell_type": "markdown",
      "source": [
        "8. Disadvantage of Python:<br>\n",
        "* Slower Speed: Python is slower than compiled languages like C or Java.\n",
        "* High Memory Usage: Not ideal for memory-intensive tasks.\n",
        "* Limited Mobile Development: Less popular for mobile app development.\n",
        "* Runtime Errors: Since Python is dynamically typed, some errors appear only at runtime.\n",
        "* Global Interpreter Lock (GIL): Limits Python’s ability to run multiple threads efficiently.\n",
        "* Security : For db is low, for enterprise application we still choose java.."
      ],
      "metadata": {
        "id": "kn74l7sakIBa"
      }
    },
    {
      "cell_type": "markdown",
      "source": [
        "9. How strings are stored in Python:"
      ],
      "metadata": {
        "id": "LcIEVkYBk2ni"
      }
    },
    {
      "cell_type": "markdown",
      "source": [
        "10. Zen of Python(crct way to write in py): https://inventwithpython.com/blog/2018/08/17/the-zen-of-python-explained/"
      ],
      "metadata": {
        "id": "N2tgkQ4vk_aX"
      }
    },
    {
      "cell_type": "markdown",
      "source": [
        "11. _ variable in Python: ignore specic value, instead of non-usable variable we can use"
      ],
      "metadata": {
        "id": "Hy-g-PD3lk2r"
      }
    },
    {
      "cell_type": "code",
      "source": [
        "for _ in range(1,3):\n",
        "  print('hello')"
      ],
      "metadata": {
        "id": "4P34txEekDBh",
        "outputId": "9062f6f4-a1ad-415a-94b4-80ea8f08d902",
        "colab": {
          "base_uri": "https://localhost:8080/"
        }
      },
      "execution_count": null,
      "outputs": [
        {
          "output_type": "stream",
          "name": "stdout",
          "text": [
            "hello\n",
            "hello\n"
          ]
        }
      ]
    },
    {
      "cell_type": "markdown",
      "source": [
        "12. Modules : each file is a module<br>\n",
        "    Package : collection of similar modules<br>\n",
        "    Library : Bundle of codes/modules. eg: matlotlib library for plotting"
      ],
      "metadata": {
        "id": "WuTyMf9NnCmy"
      }
    },
    {
      "cell_type": "markdown",
      "source": [
        "13. o.3 - 0.2 not equal to 0.1 in python why?<br>\n",
        "Reason behind is precision, computers don't use decimal(10 base), they use binary(2 base)"
      ],
      "metadata": {
        "id": "cjcehIq6ns9-"
      }
    },
    {
      "cell_type": "code",
      "source": [
        "print(0.3-0.2)"
      ],
      "metadata": {
        "id": "qEilhGnkoQRA",
        "outputId": "e6ebb47c-df6d-41f4-cdd7-425b0d315f26",
        "colab": {
          "base_uri": "https://localhost:8080/"
        }
      },
      "execution_count": null,
      "outputs": [
        {
          "output_type": "stream",
          "name": "stdout",
          "text": [
            "0.09999999999999998\n"
          ]
        }
      ]
    },
    {
      "cell_type": "markdown",
      "source": [
        "14. python DocString: document of anything, eg: if we hover on any keyword, dtype.. it display doc of it. Also we can access it through __doc__"
      ],
      "metadata": {
        "id": "-ZZgsWqOoV3i"
      }
    },
    {
      "cell_type": "code",
      "source": [
        "input.__doc__"
      ],
      "metadata": {
        "id": "PpL51uMloxw3",
        "outputId": "ab5f61ca-e8d6-4f65-c12f-abdb49729470",
        "colab": {
          "base_uri": "https://localhost:8080/",
          "height": 36
        }
      },
      "execution_count": null,
      "outputs": [
        {
          "output_type": "execute_result",
          "data": {
            "text/plain": [
              "\"Forward raw_input to frontends\\n\\n        Raises\\n        ------\\n        StdinNotImplementedError if active frontend doesn't support stdin.\\n        \""
            ],
            "application/vnd.google.colaboratory.intrinsic+json": {
              "type": "string"
            }
          },
          "metadata": {},
          "execution_count": 19
        }
      ]
    },
    {
      "cell_type": "markdown",
      "source": [
        "##Week 2:"
      ],
      "metadata": {
        "id": "iIBZkhy_RDSC"
      }
    },
    {
      "cell_type": "markdown",
      "source": [
        "1. Aliasing : <br>\n",
        "Technique by which we can optimize(save) memory. Eg: created multi variables with same value"
      ],
      "metadata": {
        "id": "h3AopjC0RGCU"
      }
    },
    {
      "cell_type": "code",
      "source": [
        "a = 4\n",
        "b = a\n",
        "c = b\n",
        "print(id(a),id(b),id(c))  #stores in same memory location\n",
        "\n",
        "del a\n",
        "print(b)  #it prints bcz only reference is deleted not value"
      ],
      "metadata": {
        "colab": {
          "base_uri": "https://localhost:8080/"
        },
        "id": "CRCYVIjKSw3d",
        "outputId": "56c4cf4a-07d6-45d2-b55b-6a0a1c5dc751"
      },
      "execution_count": 12,
      "outputs": [
        {
          "output_type": "stream",
          "name": "stdout",
          "text": [
            "10757832 10757832 10757832\n",
            "4\n"
          ]
        }
      ]
    },
    {
      "cell_type": "markdown",
      "source": [
        "2. Garbage collection :<br>\n",
        "Internal prg where it deletes value which is not used in program(unused memory)."
      ],
      "metadata": {
        "id": "CRvyfl_SRJ2C"
      }
    },
    {
      "cell_type": "code",
      "source": [
        "# to know which and all ref. are using that memory(value):\n",
        "a1 = 'zuzu'\n",
        "a2 = a1\n",
        "import sys\n",
        "count = sys.getrefcount('zuzu')\n",
        "print(count)\n",
        "\n",
        "del b\n",
        "del c\n",
        "print(id(4)) # this is now not used by any var so it will be deleted after specific time"
      ],
      "metadata": {
        "colab": {
          "base_uri": "https://localhost:8080/"
        },
        "id": "KCBR6ZdeUPkI",
        "outputId": "87354b19-0c20-41bf-a27e-f1ea1433f581"
      },
      "execution_count": 13,
      "outputs": [
        {
          "output_type": "stream",
          "name": "stdout",
          "text": [
            "5\n",
            "10757832\n"
          ]
        }
      ]
    },
    {
      "cell_type": "markdown",
      "source": [
        "3. What is mutability and why it's dangerous in certain scenarios?<br>\n",
        "mutability : Ability of dtype to be changed at it's memory location, depends on dtype.<br>\n",
        "Mutable -> List, Sets, Dict<br>\n",
        "Immutable -> Tuple, Int, Float, String, Boolean, Complex.."
      ],
      "metadata": {
        "id": "3-g-Kw5LUnVS"
      }
    },
    {
      "cell_type": "code",
      "source": [
        "#eg : for mutable memory address doesn't change\n",
        "L = [1,2,3]\n",
        "print('list',id(L))\n",
        "L.append(4)\n",
        "print('list',id(L))\n",
        "\n",
        "#eg : for immutable memory address changes\n",
        "T = (1,2,3)\n",
        "print('tuple',id(T))\n",
        "T = T+(4,)\n",
        "print('tuple',id(T))"
      ],
      "metadata": {
        "colab": {
          "base_uri": "https://localhost:8080/"
        },
        "id": "4JfYXwAfWimL",
        "outputId": "3259f6b3-0079-4d80-be5b-d67397285fc4"
      },
      "execution_count": 17,
      "outputs": [
        {
          "output_type": "stream",
          "name": "stdout",
          "text": [
            "list 136774637897280\n",
            "list 136774637897280\n",
            "tuple 136774638283648\n",
            "tuple 136774637561760\n"
          ]
        }
      ]
    },
    {
      "cell_type": "code",
      "source": [
        "# dangerous bcz if we're aliasing it will change org. also\n",
        "a = [1,2,3]\n",
        "b = a\n",
        "b.append(4)\n",
        "print(a)\n",
        "print(b)\n",
        "\n",
        "# same for immutable it doesn't affect\n",
        "a = (1,2,3)\n",
        "b = a\n",
        "b = b + (4,)\n",
        "print(a)\n",
        "print(b)"
      ],
      "metadata": {
        "colab": {
          "base_uri": "https://localhost:8080/"
        },
        "id": "0fN-1fj7XpAs",
        "outputId": "88f4307c-a695-4583-bee7-6d4f8f5ae56c"
      },
      "execution_count": 20,
      "outputs": [
        {
          "output_type": "stream",
          "name": "stdout",
          "text": [
            "[1, 2, 3, 4]\n",
            "[1, 2, 3, 4]\n",
            "(1, 2, 3)\n",
            "(1, 2, 3, 4)\n"
          ]
        }
      ]
    },
    {
      "cell_type": "markdown",
      "source": [
        "4. Cloning [:]/ .copy():<br>\n",
        "To deal with mutable dtypes, we can use cloning. It will have new memory"
      ],
      "metadata": {
        "id": "OybBfxW5Yk1r"
      }
    },
    {
      "cell_type": "code",
      "source": [
        "a = [1,2,3]\n",
        "b = a[:]\n",
        "# b = a.copy()\n",
        "b.append(4)\n",
        "print(a)\n",
        "print(b)"
      ],
      "metadata": {
        "colab": {
          "base_uri": "https://localhost:8080/"
        },
        "id": "g17vM0E5ZVo9",
        "outputId": "32c5ddc7-1aa3-4be7-ab72-bf63899dc2d8"
      },
      "execution_count": 21,
      "outputs": [
        {
          "output_type": "stream",
          "name": "stdout",
          "text": [
            "[1, 2, 3]\n",
            "[1, 2, 3, 4]\n"
          ]
        }
      ]
    },
    {
      "cell_type": "markdown",
      "source": [
        "5. Differentiate btw deep and shallow copies?<br>\n",
        "shallow copy: when we use cloning [:] or .copy() -> reference changes but value memory remains same.<br>\n",
        "deep copy: import copy -> copy.deepcopy(x) : both refence and value memory is changed<br><br>\n",
        "For 1d list use shallow, for nested list use deep copy"
      ],
      "metadata": {
        "id": "g1lCxiIxZeUq"
      }
    },
    {
      "cell_type": "code",
      "source": [
        "#shallow copy: so due to that while changing any value in 2d/3d.. arrays it will affect(shares same memory location for values)\n",
        "\n",
        "a = [1,2,3,[4,5]]\n",
        "b = a[:]\n",
        "# b = a.copy()\n",
        "print('ref id of a',id(a))\n",
        "print('ref id of b',id(b))\n",
        "print('memory id of a',id(a[1]))\n",
        "print('memory id of b',id(b[1]))\n",
        "\n",
        "b[3][0] = 400\n",
        "print(b)\n",
        "print(a)"
      ],
      "metadata": {
        "colab": {
          "base_uri": "https://localhost:8080/"
        },
        "id": "WukW0erQbMmr",
        "outputId": "3ffed373-664d-4207-8951-8d8da72079a1"
      },
      "execution_count": 28,
      "outputs": [
        {
          "output_type": "stream",
          "name": "stdout",
          "text": [
            "ref id of a 136774641322816\n",
            "ref id of b 136774637865152\n",
            "memory id of a 10757768\n",
            "memory id of b 10757768\n",
            "[1, 2, 3, [400, 5]]\n",
            "[1, 2, 3, [400, 5]]\n"
          ]
        }
      ]
    },
    {
      "cell_type": "code",
      "source": [
        "#deep copy: it won't affect both ref. and valus memory\n",
        "import copy\n",
        "a = [1,2,3,[4,5]]\n",
        "b = copy.deepcopy(a)\n",
        "print('ref id of a',id(a))\n",
        "print('ref id of b',id(b))\n",
        "print('memory id of a',id(a[1]))\n",
        "print('memory id of b',id(b[1]))\n",
        "\n",
        "b[3][0] = 400\n",
        "print(b)\n",
        "print(a)"
      ],
      "metadata": {
        "colab": {
          "base_uri": "https://localhost:8080/"
        },
        "id": "bX-_bF86b9mX",
        "outputId": "a3dfc5b7-67f3-4db0-ab81-9c7b88af08d3"
      },
      "execution_count": 30,
      "outputs": [
        {
          "output_type": "stream",
          "name": "stdout",
          "text": [
            "ref id of a 136774637679104\n",
            "ref id of b 136774637682432\n",
            "memory id of a 10757768\n",
            "memory id of b 10757768\n",
            "[1, 2, 3, [400, 5]]\n",
            "[1, 2, 3, [4, 5]]\n"
          ]
        }
      ]
    },
    {
      "cell_type": "markdown",
      "source": [
        "6. How nested lists are stored in memory?<br>\n",
        "Referential array : List store in continous memory location, not values. So for 1d array values is store one after other. <br>eg: [1,2,3] stores in 101,102,103<br><br>\n",
        "But in case of Nested lists : inner array stores in separate address location.<br>eg: [1,2,3,[4,5]] stores in 101,102,103,104. here 104 has separate memory location -> 4 in [1001] and 5 in [1002].."
      ],
      "metadata": {
        "id": "atj3u1zsc2YJ"
      }
    },
    {
      "cell_type": "markdown",
      "source": [
        "7. How strings are stored in memory?<br>\n",
        "Same as lists but Strings are just Referential arrays,whereas Lists are Referential + Dynamic array(len of array inc. as store more values)<br>\n",
        "eg: 'hello' -> h[101], e[102], l[103]..."
      ],
      "metadata": {
        "id": "Rc7f9Ekwfpq6"
      }
    },
    {
      "cell_type": "markdown",
      "source": [
        "8. Why tuples takes less memory than list?<br>\n",
        "Tuples : static array(immutable), Lists : dynamic array"
      ],
      "metadata": {
        "id": "6j5ZMS2FhGfw"
      }
    }
  ]
}