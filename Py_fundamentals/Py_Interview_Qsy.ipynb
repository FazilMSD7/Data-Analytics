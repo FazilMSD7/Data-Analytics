{
  "nbformat": 4,
  "nbformat_minor": 0,
  "metadata": {
    "colab": {
      "provenance": [],
      "authorship_tag": "ABX9TyORiINczrPNrvX+s3HlIDW6",
      "include_colab_link": true
    },
    "kernelspec": {
      "name": "python3",
      "display_name": "Python 3"
    },
    "language_info": {
      "name": "python"
    }
  },
  "cells": [
    {
      "cell_type": "markdown",
      "metadata": {
        "id": "view-in-github",
        "colab_type": "text"
      },
      "source": [
        "<a href=\"https://colab.research.google.com/github/FazilMSD7/Data-Analytics/blob/main/Py_fundamentals/Py_Interview_Qsy.ipynb\" target=\"_parent\"><img src=\"https://colab.research.google.com/assets/colab-badge.svg\" alt=\"Open In Colab\"/></a>"
      ]
    },
    {
      "cell_type": "markdown",
      "source": [
        "1. what is Python? What are benefits of using python?<br>\n",
        "--> hgh-level(eng-binary),interpreted(line by line execution) and easy to learn prg. lang.<br>\n",
        "  Benefits : many libraries, used in various fields, used in various platforms(windows,mac,linux..)<br>"
      ],
      "metadata": {
        "id": "AU-bFycj4MEl"
      }
    },
    {
      "cell_type": "markdown",
      "source": [
        "2. Dynamically typed lang.?<br>\n",
        "--> don’t need to declare the data type of a variable. Flexible, but can lead to unexpected errors if types change accidentally.<br>\n",
        "  Type checking : Static: dtypes checked before execution, Dynamic : while execution<br>"
      ],
      "metadata": {
        "id": "6_n6RboQgv6l"
      }
    },
    {
      "cell_type": "markdown",
      "source": [
        "3. Pep 8? --> PEP 8 (Python Enhancement Proposal 8) is a set of guidelines for writing clean, readable, and consistent Python code.<br>\n",
        "eg: naming convention, indention..<br>"
      ],
      "metadata": {
        "id": "hb1O8aFqgwaE"
      }
    },
    {
      "cell_type": "markdown",
      "source": [
        "4. Common Built-in Data Types in Python<br>\n",
        "* Numeric Types: int → Integer values,float → Decimal values,complex → Complex numbers (e.g., 3 + 4j)<br>\n",
        "* Text Type: str → String values<br>\n",
        "* Sequence Types:<br>\n",
        "list → Ordered, mutable collection (e.g., [1, 2, 3])<br>\n",
        "tuple → Ordered, immutable collection (e.g., (1, 2, 3))<br>\n",
        "range → Sequence of numbers (e.g., range(5))<br>\n",
        "* Mapping Type: dict → Key-value pairs (e.g., {'name': 'Fazil', 'age': 25})<br>\n",
        "* Set Types:<br>\n",
        "set → Unordered, unique elements (e.g., {1, 2, 3})<br>\n",
        "frozenset → Immutable set (e.g., frozenset({1, 2, 3}))<br>\n",
        "* Boolean Type: bool → True or False<br>\n",
        "* Binary Types: bytes, bytearray, memoryview<br>"
      ],
      "metadata": {
        "id": "pGSvj8Gig68M"
      }
    },
    {
      "cell_type": "markdown",
      "source": [
        "5. Operator precedence(order) : https://www.programiz.com/python-programming/precedence-associativity<br>"
      ],
      "metadata": {
        "id": "ux20v-jSg7Vr"
      }
    },
    {
      "cell_type": "markdown",
      "source": [
        "6. Ternary Operators : Not used in python, in other lang. we use. age>18 ? print('vote') : print('can't vote).<br>\n",
        "In python instead we can use : print('vote') if a>18 else print(\"can't vote\")"
      ],
      "metadata": {
        "id": "fCj_8wEFg72h"
      }
    },
    {
      "cell_type": "code",
      "source": [
        "#cloning : x[:] --> for same value store in diff. memory address\n",
        "s = [1,2,3]\n",
        "p = s\n",
        "q = s[:]\n",
        "print(s is p)\n",
        "print(s is q)\n",
        "s.append(4)\n",
        "print(s,p,q)"
      ],
      "metadata": {
        "id": "sJm1d4AfmAN7",
        "outputId": "93e7aa3c-97a2-4eae-b395-01692c2a8b31",
        "colab": {
          "base_uri": "https://localhost:8080/"
        }
      },
      "execution_count": 16,
      "outputs": [
        {
          "output_type": "stream",
          "name": "stdout",
          "text": [
            "True\n",
            "False\n",
            "[1, 2, 3, 4] [1, 2, 3, 4] [1, 2, 3]\n"
          ]
        }
      ]
    },
    {
      "cell_type": "markdown",
      "source": [
        "7. Is Operator : checks memory address of variables..(is, is not)<br>\n",
        "  '==' op. chks if both values are equal"
      ],
      "metadata": {
        "id": "kWizwnQQh307"
      }
    },
    {
      "cell_type": "code",
      "source": [
        "a,b = 1,1\n",
        "print(a==b)\n",
        "\n",
        "print(id(a))\n",
        "print(a is b)\n",
        "\n",
        "a= 257\n",
        "b= 257\n",
        "print(a is b, (f'a:',id(a),'b:',id(b))) #-5 to 256 same id,other diff\n"
      ],
      "metadata": {
        "id": "ZjUObt70iQOw",
        "outputId": "c2d31a09-136e-4965-9c82-bd715c71045c",
        "colab": {
          "base_uri": "https://localhost:8080/"
        }
      },
      "execution_count": 14,
      "outputs": [
        {
          "output_type": "stream",
          "name": "stdout",
          "text": [
            "True\n",
            "10750856\n",
            "True\n",
            "False ('a:', 139533883194480, 'b:', 139533883193136)\n"
          ]
        }
      ]
    },
    {
      "cell_type": "markdown",
      "source": [
        "8. Disadvantage of Python:<br>\n",
        "* Slower Speed: Python is slower than compiled languages like C or Java.\n",
        "* High Memory Usage: Not ideal for memory-intensive tasks.\n",
        "* Limited Mobile Development: Less popular for mobile app development.\n",
        "* Runtime Errors: Since Python is dynamically typed, some errors appear only at runtime.\n",
        "* Global Interpreter Lock (GIL): Limits Python’s ability to run multiple threads efficiently.\n",
        "* Security : For db is low, for enterprise application we still choose java.."
      ],
      "metadata": {
        "id": "kn74l7sakIBa"
      }
    },
    {
      "cell_type": "markdown",
      "source": [
        "9. How strings are stored in Python:"
      ],
      "metadata": {
        "id": "LcIEVkYBk2ni"
      }
    },
    {
      "cell_type": "markdown",
      "source": [
        "10. Zen of Python(crct way to write in py): https://inventwithpython.com/blog/2018/08/17/the-zen-of-python-explained/"
      ],
      "metadata": {
        "id": "N2tgkQ4vk_aX"
      }
    },
    {
      "cell_type": "markdown",
      "source": [
        "11. _ variable in Python: ignore specic value, instead of non-usable variable we can use"
      ],
      "metadata": {
        "id": "Hy-g-PD3lk2r"
      }
    },
    {
      "cell_type": "code",
      "source": [
        "for _ in range(1,3):\n",
        "  print('hello')"
      ],
      "metadata": {
        "id": "4P34txEekDBh",
        "outputId": "9062f6f4-a1ad-415a-94b4-80ea8f08d902",
        "colab": {
          "base_uri": "https://localhost:8080/"
        }
      },
      "execution_count": 17,
      "outputs": [
        {
          "output_type": "stream",
          "name": "stdout",
          "text": [
            "hello\n",
            "hello\n"
          ]
        }
      ]
    },
    {
      "cell_type": "markdown",
      "source": [
        "12. Modules : each file is a module<br>\n",
        "    Package : collection of similar modules<br>\n",
        "    Library : Bundle of codes/modules. eg: matlotlib library for plotting"
      ],
      "metadata": {
        "id": "WuTyMf9NnCmy"
      }
    },
    {
      "cell_type": "markdown",
      "source": [
        "13. o.3 - 0.2 not equal to 0.1 in python why?<br>\n",
        "Reason behind is precision, computers don't use decimal(10 base), they use binary(2 base)"
      ],
      "metadata": {
        "id": "cjcehIq6ns9-"
      }
    },
    {
      "cell_type": "code",
      "source": [
        "print(0.3-0.2)"
      ],
      "metadata": {
        "id": "qEilhGnkoQRA",
        "outputId": "e6ebb47c-df6d-41f4-cdd7-425b0d315f26",
        "colab": {
          "base_uri": "https://localhost:8080/"
        }
      },
      "execution_count": 18,
      "outputs": [
        {
          "output_type": "stream",
          "name": "stdout",
          "text": [
            "0.09999999999999998\n"
          ]
        }
      ]
    },
    {
      "cell_type": "markdown",
      "source": [
        "14. python DocString: document of anything, eg: if we hover on any keyword, dtype.. it display doc of it. Also we can access it through __doc__"
      ],
      "metadata": {
        "id": "-ZZgsWqOoV3i"
      }
    },
    {
      "cell_type": "code",
      "source": [
        "input.__doc__"
      ],
      "metadata": {
        "id": "PpL51uMloxw3",
        "outputId": "ab5f61ca-e8d6-4f65-c12f-abdb49729470",
        "colab": {
          "base_uri": "https://localhost:8080/",
          "height": 36
        }
      },
      "execution_count": 19,
      "outputs": [
        {
          "output_type": "execute_result",
          "data": {
            "text/plain": [
              "\"Forward raw_input to frontends\\n\\n        Raises\\n        ------\\n        StdinNotImplementedError if active frontend doesn't support stdin.\\n        \""
            ],
            "application/vnd.google.colaboratory.intrinsic+json": {
              "type": "string"
            }
          },
          "metadata": {},
          "execution_count": 19
        }
      ]
    }
  ]
}