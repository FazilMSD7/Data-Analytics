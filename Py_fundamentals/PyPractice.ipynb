{
  "nbformat": 4,
  "nbformat_minor": 0,
  "metadata": {
    "colab": {
      "provenance": [],
      "authorship_tag": "ABX9TyP1MdHMtOkxzV/I2hgTrJPF",
      "include_colab_link": true
    },
    "kernelspec": {
      "name": "python3",
      "display_name": "Python 3"
    },
    "language_info": {
      "name": "python"
    }
  },
  "cells": [
    {
      "cell_type": "markdown",
      "metadata": {
        "id": "view-in-github",
        "colab_type": "text"
      },
      "source": [
        "<a href=\"https://colab.research.google.com/github/FazilMSD7/Data-Analytics/blob/main/Py_fundamentals/PyPractice.ipynb\" target=\"_parent\"><img src=\"https://colab.research.google.com/assets/colab-badge.svg\" alt=\"Open In Colab\"/></a>"
      ]
    },
    {
      "cell_type": "markdown",
      "source": [
        "**LOOPS PRACTICE**"
      ],
      "metadata": {
        "id": "4e5wKCTGrp6K"
      }
    },
    {
      "cell_type": "code",
      "source": [
        "# For Loops :\n",
        "# sum of 1-50 even numbers using continue\n",
        "sum = 0\n",
        "for i in range(1,51):\n",
        "  if i%2!=0:\n",
        "    continue\n",
        "  sum+=i\n",
        "print(sum)\n",
        "\n",
        "# first multiple of 7 in 10-50 using break\n",
        "for i in  range(10,51):\n",
        "  if i%7==0:\n",
        "    break\n",
        "print(i)\n",
        "\n",
        "# count how many times letter 'a' appears in string\n",
        "count = 0\n",
        "for i in 'australia':\n",
        "  if i == 'a':\n",
        "    count+=1\n",
        "  continue\n",
        "print(count)\n",
        "\n",
        "# prime numbers from 10,30\n",
        "for i in range(10,31):\n",
        "  for j in range(2,i):\n",
        "    if i%j==0:\n",
        "      break\n",
        "  else:\n",
        "    print(i)\n",
        "\n",
        "# sum positive numbers until 0 using break\n",
        "sum = 0\n",
        "li = [2,4,6,-1,7,4,0,3,7]\n",
        "for i in li:\n",
        "  if i>0:\n",
        "    sum+=i\n",
        "  elif i==0:\n",
        "    break\n",
        "print(sum)\n",
        "\n",
        "# all non-alphabet char in string\n",
        "li = 'sd#7c&6\"s8)sd#bf^e32'\n",
        "letters = ['A', 'B', 'C', 'D', 'E', 'F', 'G', 'H', 'I', 'J', 'K', 'L', 'M', 'N', 'O', 'P', 'Q', 'R', 'S', 'T', 'U', 'V', 'W', 'X', 'Y', 'Z','a', 'b', 'c', 'd', 'e', 'f', 'g', 'h', 'i', 'j', 'k', 'l', 'm', 'n', 'o', 'p', 'q', 'r', 's', 't', 'u', 'v', 'w', 'x', 'y', 'z']\n",
        "\n",
        "for i in li:\n",
        "  if i not in letters:\n",
        "    print(i)\n",
        "    continue\n",
        "\n",
        "# largest even number in list\n",
        "li = [18, 64, 80, 12, 46, 98, 34, 76, 22, 58]\n",
        "largest = 0\n",
        "for i in li:\n",
        "  if i>largest:\n",
        "    largest = i\n",
        "print(largest)\n",
        "\n",
        "# largest in odd number in li:\n",
        "li = [32,55,66,201,33,34,134]\n",
        "lar= 0\n",
        "for i in li:\n",
        "    if i>lar and i%2!=0:\n",
        "        lar=i\n",
        "print(lar)"
      ],
      "metadata": {
        "id": "FIK5oUsWrwtT",
        "colab": {
          "base_uri": "https://localhost:8080/"
        },
        "outputId": "f2017c62-1cde-4926-b9fd-c36a2e525118"
      },
      "execution_count": null,
      "outputs": [
        {
          "output_type": "stream",
          "name": "stdout",
          "text": [
            "650\n",
            "14\n",
            "3\n",
            "11\n",
            "13\n",
            "17\n",
            "19\n",
            "23\n",
            "29\n",
            "23\n",
            "#\n",
            "7\n",
            "&\n",
            "6\n",
            "\"\n",
            "8\n",
            ")\n",
            "#\n",
            "^\n",
            "3\n",
            "2\n",
            "98\n",
            "201\n"
          ]
        }
      ]
    },
    {
      "cell_type": "code",
      "source": [
        "# Accepting a number from the user until the user enters Zero. Display the sum and average\n",
        "sum = 0\n",
        "count = 0\n",
        "for i in range(1000):\n",
        "  num = int(input('no.'))\n",
        "  if num==0:\n",
        "    break\n",
        "  sum+=num\n",
        "  count+=1\n",
        "print(f'sum:{sum},avg:{sum/count}')"
      ],
      "metadata": {
        "colab": {
          "base_uri": "https://localhost:8080/"
        },
        "id": "ZuNMAG_CVq9f",
        "outputId": "6e0cf31a-cc62-4c0d-a352-ef0c07bb0dd8"
      },
      "execution_count": null,
      "outputs": [
        {
          "output_type": "stream",
          "name": "stdout",
          "text": [
            "no.87\n",
            "no.56\n",
            "no.88\n",
            "no.0\n",
            "sum:231,avg:77.0\n"
          ]
        }
      ]
    },
    {
      "cell_type": "code",
      "source": [
        "# if number is odd in a list, find index of odd number\n",
        "li = [0,22,23,54,13,42,6]\n",
        "index = 0\n",
        "for i in range(len(li)):\n",
        "  if li[i]%2!=0:\n",
        "    index+=1\n",
        "print(index)\n",
        "\n",
        "# using enum\n",
        "li = [22,54,9,10,23]\n",
        "for index,i in enumerate(li):\n",
        "  if i%2!=0:\n",
        "    break\n",
        "print(i, index)\n",
        "\n",
        "''' numbers which are divisible by 7 but are not a multiple of 5, between 2000 and 3200 (both included).\n",
        " The numbers obtained should be printed in a comma-separated sequence on a single line'''\n",
        "\n",
        "for i in range(100,201):\n",
        "  if i%7==0 and i%5!=0:\n",
        "      print(i,end=',')\n",
        "print('\\n')\n",
        "# to avoid comma at last\n",
        "res=[]\n",
        "for i in range(100,201):\n",
        "    if i%7==0 and i%5!=0:\n",
        "        res.append(str(i))\n",
        "print(','.join(res))\n",
        "\n",
        "\n",
        "'''Take a user input as integer N. Find out the sum from 1 to N. If any number if divisible by 5, then skip that number.\n",
        "And if the sum is greater than 300, don't need to calculate the sum further more. Print the final result. And don't use for loop to solve this problem.'''\n",
        "\n",
        "n= int(input('no'))\n",
        "sum = 0\n",
        "for i in range(1,n+1):\n",
        "    if i%5==0:\n",
        "        continue\n",
        "    sum+=i\n",
        "    if sum>300:\n",
        "        sum-=i\n",
        "        break\n",
        "print(sum)\n"
      ],
      "metadata": {
        "colab": {
          "base_uri": "https://localhost:8080/"
        },
        "id": "-PjxBiwMYetx",
        "outputId": "60884e6c-6cdf-4016-cc7f-57f0b46c4139"
      },
      "execution_count": null,
      "outputs": [
        {
          "output_type": "stream",
          "name": "stdout",
          "text": [
            "2\n",
            "9 2\n",
            "112,119,126,133,147,154,161,168,182,189,196,\n",
            "\n",
            "112,119,126,133,147,154,161,168,182,189,196\n"
          ]
        }
      ]
    },
    {
      "cell_type": "code",
      "source": [
        "'''Write a program, which will find all such numbers between 1000 and 3000 (both included) such that each digit of the number is an even number.\n",
        " The numbers obtained should be printed in a space-separated sequence on a single line.'''\n",
        "res = []\n",
        "for i in range(200,501): #250\n",
        "  flag = True\n",
        "  cur = i\n",
        "  while cur>0:\n",
        "    last = cur%10 #0\n",
        "    if last%2!=0:\n",
        "       flag=False\n",
        "       break\n",
        "    cur = cur//10\n",
        "  if flag==True:\n",
        "      res.append(str(i))\n",
        "print(res)\n"
      ],
      "metadata": {
        "colab": {
          "base_uri": "https://localhost:8080/"
        },
        "id": "8FcyOnU3v0pF",
        "outputId": "790546d5-ed01-4484-e810-6ea036e6cb00"
      },
      "execution_count": null,
      "outputs": [
        {
          "output_type": "stream",
          "name": "stdout",
          "text": [
            "['200', '202', '204', '206', '208', '220', '222', '224', '226', '228', '240', '242', '244', '246', '248', '260', '262', '264', '266', '268', '280', '282', '284', '286', '288', '400', '402', '404', '406', '408', '420', '422', '424', '426', '428', '440', '442', '444', '446', '448', '460', '462', '464', '466', '468', '480', '482', '484', '486', '488']\n"
          ]
        }
      ]
    },
    {
      "cell_type": "code",
      "source": [
        "# while loop:\n",
        "# reverse an number:\n",
        "rev = 0\n",
        "num = 786\n",
        "while num>0:\n",
        "  last = num%10 #6\n",
        "  rev = rev*10 + last\n",
        "  num = num//10\n",
        "print(rev)\n",
        "\n",
        "# fib - n\n",
        "n = int(input('no.'))\n",
        "num1, num2 = 0,1\n",
        "i=0\n",
        "while i<=n:\n",
        "  print(num1)\n",
        "  c= num1 + num2\n",
        "  num1 = num2\n",
        "  num2 = c\n",
        "  i+=1\n",
        "\n",
        "#sum of digits\n",
        "n = int(input('no.'))\n",
        "sum = 0\n",
        "while n>0:\n",
        "  last = n%10\n",
        "  sum+=last\n",
        "  n = n//10\n",
        "print(sum)\n",
        "\n",
        "#countdown 10-1:\n",
        "import time\n",
        "num = 10\n",
        "while num>0:\n",
        "  print(num)\n",
        "  time.sleep(1)\n",
        "  num-=1\n",
        "\n",
        "# factorial\n",
        "n = int(input('no.'))\n",
        "fact = 1\n",
        "i=1\n",
        "while i<=n:\n",
        "  fact*=i\n",
        "  i+=1\n",
        "print(fact)"
      ],
      "metadata": {
        "colab": {
          "base_uri": "https://localhost:8080/"
        },
        "id": "Ve5OEV271Ltr",
        "outputId": "cc42fdbd-51ee-4b26-fd74-687be34612cc"
      },
      "execution_count": null,
      "outputs": [
        {
          "output_type": "stream",
          "name": "stdout",
          "text": [
            "687\n",
            "no.5\n",
            "0\n",
            "1\n",
            "1\n",
            "2\n",
            "3\n",
            "5\n",
            "no.5\n",
            "5\n",
            "10\n",
            "9\n",
            "8\n",
            "7\n",
            "6\n",
            "5\n",
            "4\n",
            "3\n",
            "2\n",
            "1\n",
            "no.5\n",
            "1\n"
          ]
        }
      ]
    },
    {
      "cell_type": "code",
      "source": [
        "# sum of 1/1!+2/2!+3/3!...\n",
        "res = 0\n",
        "fac = 1\n",
        "n= int(input('no.'))\n",
        "for i in range(1,n+1):\n",
        "  fac *= i\n",
        "  res = res+i/fac\n",
        "print(res)"
      ],
      "metadata": {
        "colab": {
          "base_uri": "https://localhost:8080/"
        },
        "id": "7HKa1O2ycxsc",
        "outputId": "4b5c3448-e7ce-487f-c3d6-49b0a9a5a7aa"
      },
      "execution_count": null,
      "outputs": [
        {
          "output_type": "stream",
          "name": "stdout",
          "text": [
            "no.5\n",
            "2.708333333333333\n"
          ]
        }
      ]
    },
    {
      "cell_type": "markdown",
      "source": [
        "**PATTERNS**"
      ],
      "metadata": {
        "id": "k2Z8exaCNK1_"
      }
    },
    {
      "cell_type": "code",
      "source": [
        "# patterns\n",
        "'''\n",
        "*\n",
        "**\n",
        "***\n",
        "'''\n",
        "\n",
        "for i in range(1,4):\n",
        "  for j in range(1,i+1):\n",
        "    print('*',end='')\n",
        "  print()\n",
        "\n",
        "'''\n",
        "1\n",
        "12\n",
        "121\n",
        "12321\n",
        "1234321\n",
        "'''\n",
        "\n",
        "for i in range(1,6):      #2\n",
        "  for j in range(1,i+1):  #1,2\n",
        "    print(j,end='')\n",
        "  for k in range(i-1,0,-1):#1\n",
        "    print(k,end='')\n",
        "  print()\n",
        "\n",
        "'''\n",
        "1\n",
        "2 3\n",
        "4 5 6\n",
        "7 8 9 10\n",
        "11 12 13 14 15\n",
        "'''\n",
        "\n",
        "num = 1\n",
        "for i in range(1,5):\n",
        "  for j in range(i):\n",
        "    print(num,end='')\n",
        "    num+=1\n",
        "  print()\n",
        "\n",
        "\n",
        "'''\n",
        "    *\n",
        "   ***\n",
        "  *****\n",
        " *******\n",
        "*********\n",
        "'''\n",
        "\n",
        "num = 5\n",
        "for i in range(1,num+1):\n",
        "  print(' '*(num-i)+'*'*(2*i-1))\n",
        "\n",
        "\n",
        "'''\n",
        "    1\n",
        "   121\n",
        "  12321\n",
        " 1234321\n",
        "123454321\n",
        "'''\n",
        "\n",
        "n = 5\n",
        "for i in range(1,n):\n",
        "  print(' '*(n-i),end='')\n",
        "  for j in range(1,i+1):\n",
        "    print(j,end='')\n",
        "  for k in range(i-1,0,-1):\n",
        "    print(k,end='')\n",
        "  print()\n",
        "\n",
        "'''\n",
        "*****\n",
        "*   *\n",
        "*   *\n",
        "*   *\n",
        "*****\n",
        "'''\n",
        "\n",
        "n= 5\n",
        "for i in range(n):\n",
        "  if i==0 or i==n-1 or i==2:\n",
        "    print('*'*n)\n",
        "  else:\n",
        "    print('*'+' '*(n-2)+'*')"
      ],
      "metadata": {
        "colab": {
          "base_uri": "https://localhost:8080/"
        },
        "id": "TLVpgmYekQ-B",
        "outputId": "f493063b-2a48-400b-81fb-560dbe7f50cd"
      },
      "execution_count": null,
      "outputs": [
        {
          "output_type": "stream",
          "name": "stdout",
          "text": [
            "*\n",
            "**\n",
            "***\n",
            "1\n",
            "121\n",
            "12321\n",
            "1234321\n",
            "123454321\n",
            "1\n",
            "23\n",
            "456\n",
            "78910\n",
            "    *\n",
            "   ***\n",
            "  *****\n",
            " *******\n",
            "*********\n",
            "    1\n",
            "   121\n",
            "  12321\n",
            " 1234321\n",
            "*****\n",
            "*   *\n",
            "*****\n",
            "*   *\n",
            "*****\n"
          ]
        }
      ]
    },
    {
      "cell_type": "markdown",
      "source": [
        "**Loops Practice**"
      ],
      "metadata": {
        "id": "dIgTMsTnCWMc"
      }
    },
    {
      "cell_type": "code",
      "source": [
        "'''\n",
        "5 4 3 2 1\n",
        "4 3 2 1\n",
        "3 2 1\n",
        "2 1\n",
        "1\n",
        "'''\n",
        "n = 5\n",
        "for i in range(0,n):\n",
        "    for j in range(n-i,0,-1):\n",
        "        print(j,end='')\n",
        "    print()\n",
        "\n",
        "'''\n",
        "*\n",
        "* *\n",
        "* * *\n",
        "* * * *\n",
        "* * * * *\n",
        "* * * *\n",
        "* * *\n",
        "* *\n",
        "*\n",
        "'''\n",
        "\n",
        "n = 5\n",
        "for i in range(0,n):\n",
        "    for j in range(0,i+1):\n",
        "        print('*',end='')\n",
        "    print()\n",
        "for i in range(0,n):\n",
        "    for k in range(n-i,0,-1):\n",
        "        print('*',end='')\n",
        "    print()\n",
        "\n",
        "'''\n",
        "        *\n",
        "      * * *\n",
        "    * * * * *\n",
        "   * * * * * * *\n",
        "* * * * * * * * *\n",
        "'''\n",
        "\n",
        "n = 3\n",
        "for i in range(1,n+1):\n",
        "    print(' '*(n),end='')\n",
        "    print('* '*i)\n",
        "    n-=1\n",
        "\n",
        "n=5\n",
        "for i in range(1,n+1):\n",
        "    print(' '*(n-i)+'* '*i)\n",
        "\n",
        "\n",
        "'''\n",
        "1\n",
        "\n",
        "2 1\n",
        "\n",
        "3 2 1\n",
        "\n",
        "4 3 2 1\n",
        "\n",
        "5 4 3 2 1\n",
        "'''\n",
        "\n",
        "for i in range(1,7):\n",
        "    for j in range(i,0,-1):\n",
        "        print(j,end='')\n",
        "    print()\n",
        "print()\n",
        "# 1 + x^2/2 + x^3/3 + … x^n/n\n",
        "# n will be provided by the user\n",
        "\n",
        "sum =1\n",
        "n=5\n",
        "x= 10\n",
        "for i in range(2,n+1):\n",
        "    sum = sum + x**i/i\n",
        "print(sum)\n",
        "print()\n",
        "\n",
        "#x-1/x + 1/2(x-1/x)2 + 1/2(x-1/x)3 +...\n",
        "\n",
        "x=10\n",
        "n=5\n",
        "sum = (x-1)/x\n",
        "for i in range(2,n+1):\n",
        "    sum = sum + (1/2*((x-1)/x))**i\n",
        "print(sum)\n",
        "print()\n",
        "\n",
        "#if n =5 the series will become 2 + 22 + 222 + 2222 + 22222 = 24690\n",
        "\n",
        "n =3\n",
        "sum =0\n",
        "s = 2\n",
        "for i in range(1,n+1):\n",
        "    sum +=s\n",
        "    s = s*10 + 2\n",
        "print(sum)\n",
        "print()\n",
        "\n",
        "'''\n",
        "1 2 3 4\n",
        "1 2 4 3\n",
        "1 3 2 4\n",
        "1 3 4 2\n",
        "1 4 2 3\n",
        "1 4 3 2\n",
        "2 1 3 4\n",
        "2 1 4 3\n",
        "2 3 1 4\n",
        "2 3 4 1\n",
        "2 4 1 3\n",
        ".\n",
        ".\n",
        "and so on\n",
        "'''\n",
        "\n",
        "for i in range(1,3):\n",
        "    for j in range(1,3):\n",
        "        for k in range(1,3):\n",
        "            for l in range(1,3):\n",
        "                print(i,j,k,l)"
      ],
      "metadata": {
        "colab": {
          "base_uri": "https://localhost:8080/"
        },
        "id": "6Lxag9W_CY1p",
        "outputId": "7b0ddfcb-bfbc-4096-f84a-6923aec09324"
      },
      "execution_count": null,
      "outputs": [
        {
          "output_type": "stream",
          "name": "stdout",
          "text": [
            "54321\n",
            "4321\n",
            "321\n",
            "21\n",
            "1\n",
            "*\n",
            "**\n",
            "***\n",
            "****\n",
            "*****\n",
            "*****\n",
            "****\n",
            "***\n",
            "**\n",
            "*\n",
            "   * \n",
            "  * * \n",
            " * * * \n",
            "    * \n",
            "   * * \n",
            "  * * * \n",
            " * * * * \n",
            "* * * * * \n",
            "1\n",
            "21\n",
            "321\n",
            "4321\n",
            "54321\n",
            "654321\n",
            "\n",
            "22884.333333333332\n",
            "\n",
            "1.2530840625\n",
            "\n",
            "246\n",
            "\n",
            "1 1 1 1\n",
            "1 1 1 2\n",
            "1 1 2 1\n",
            "1 1 2 2\n",
            "1 2 1 1\n",
            "1 2 1 2\n",
            "1 2 2 1\n",
            "1 2 2 2\n",
            "2 1 1 1\n",
            "2 1 1 2\n",
            "2 1 2 1\n",
            "2 1 2 2\n",
            "2 2 1 1\n",
            "2 2 1 2\n",
            "2 2 2 1\n",
            "2 2 2 2\n"
          ]
        }
      ]
    },
    {
      "cell_type": "code",
      "source": [
        "# 1. count no. of letter in string\n",
        "a = 'dhcs'\n",
        "count = 0\n",
        "for i in a:\n",
        "  count+=1\n",
        "print(count)\n",
        "\n",
        "# 2. print username from an email\n",
        "a = 'fazilmsd7@gmail.com'\n",
        "for i in a:\n",
        "  if i == '@':\n",
        "    break\n",
        "  print(i,end='')\n",
        "print()\n",
        "\n",
        "print(a.index('@'))\n",
        "print(a[0:9])\n",
        "\n",
        "# 3. count no. of times letter occured/frequency of letter\n",
        "a = 'fazilmsd7@gmail.com'\n",
        "count = 0\n",
        "for i in a:\n",
        "  if i == 'a':\n",
        "    count+=1\n",
        "print(count)\n",
        "\n",
        "print(a.count('a'))\n",
        "# 4. remove particular char and print other\n",
        "a = 'fazilmsd7@gmail.com'\n",
        "for i in a:\n",
        "  if i == '7':\n",
        "    continue\n",
        "  print(i,end='')\n",
        "print()\n",
        "# 5. palindrome\n",
        "a = 'malayalam'\n",
        "if a == a[::-1]:\n",
        "  print('palindrome')\n",
        "else:\n",
        "  print('not palindrome')\n",
        "\n",
        "for i in range(0,len(a)//2):\n",
        "  if a[i] != a[len(a)-i-1]:\n",
        "    print('not palindrome')\n",
        "    break\n",
        "print('palindrome')\n",
        "\n",
        "# 6. count no. of words in string\n",
        "a = 'hello my name is fazil'\n",
        "count =0\n",
        "s = a.split()\n",
        "for i in s:\n",
        "  count+=1\n",
        "print(count)\n",
        "\n",
        "# 7. converts string to title\n",
        "s = a.title()\n",
        "print(s)\n"
      ],
      "metadata": {
        "colab": {
          "base_uri": "https://localhost:8080/"
        },
        "id": "JgtrH-ADb30M",
        "outputId": "17131bc1-7312-4d57-a329-c2181d14ea30"
      },
      "execution_count": null,
      "outputs": [
        {
          "output_type": "stream",
          "name": "stdout",
          "text": [
            "4\n",
            "fazilmsd7\n",
            "9\n",
            "fazilmsd7\n",
            "2\n",
            "2\n",
            "fazilmsd@gmail.com\n",
            "palindrome\n",
            "palindrome\n",
            "5\n",
            "Hello My Name Is Fazil\n"
          ]
        }
      ]
    },
    {
      "cell_type": "markdown",
      "source": [
        "**String Practice**"
      ],
      "metadata": {
        "id": "QsH4RjYBo5hZ"
      }
    },
    {
      "cell_type": "code",
      "source": [
        "#1. remove duplicate\n",
        "a = 'aeroplane'\n",
        "s = ''\n",
        "for i in a:\n",
        "    if i not in s:\n",
        "        s+=i\n",
        "print(s)\n",
        "\n",
        "#2. word location in string\n",
        "Sentence= 'We can learn data science through campusx mentorship program.'\n",
        "word= 'campusx'\n",
        "\n",
        "a = Sentence.split()\n",
        "print(1+a.index(word))\n",
        "\n",
        "count =0  #without index()\n",
        "for i in a:\n",
        "    count+=1\n",
        "    if i == word:\n",
        "        break\n",
        "print(count)\n",
        "\n",
        "#3.reverse words in string\n",
        "a = 'my name is laxmi'\n",
        "s = a.split()[::-1]\n",
        "l = ''\n",
        "for i in s:\n",
        "    l = l+' '+i\n",
        "print(l)\n",
        "\n",
        "#4. chk whether symmetrical:(if both halves are same)\n",
        "a = 'khokho'\n",
        "if a[0:3] ==a[3:]:\n",
        "    print('sym')\n",
        "else:\n",
        "    print('no')\n",
        "\n",
        "#5. remove char in string except integer\n",
        "str1 = 'I am 25 years and 10 months old'\n",
        "for i in str1:\n",
        "    if i.isdigit() == True:\n",
        "        print(i,end='')\n",
        "print()\n",
        "\n",
        "#6. sum, avg of integers in string\n",
        "a = 'hel123o4every093'\n",
        "f = ''\n",
        "s = 0\n",
        "for i in a:\n",
        "    if i.isdigit() == True:\n",
        "        f+=i\n",
        "print(f)\n",
        "f = int(f)\n",
        "count = 0\n",
        "while f>0:\n",
        "    l = f%10\n",
        "    s+=l\n",
        "    f = f//10\n",
        "    count+=1\n",
        "print(s)\n",
        "print('avg: ',s/count)\n",
        "\n",
        "#7. short form of given string in cap\n",
        "s = 'Data science mentorship program'\n",
        "a = s.title()\n",
        "l = a.split()\n",
        "for i in l:\n",
        "    print(i[0],end='')"
      ],
      "metadata": {
        "id": "Ep66r801pC_O",
        "colab": {
          "base_uri": "https://localhost:8080/"
        },
        "outputId": "3b90547d-49f5-49da-cdbb-613abe30ae3a"
      },
      "execution_count": null,
      "outputs": [
        {
          "output_type": "stream",
          "name": "stdout",
          "text": [
            "aeropln\n",
            "7\n",
            "7\n",
            " laxmi is name my\n",
            "sym\n",
            "2510\n",
            "1234093\n",
            "22\n",
            "avg:  3.142857142857143\n",
            "DSMP"
          ]
        }
      ]
    },
    {
      "cell_type": "markdown",
      "source": [
        "**List Practice**"
      ],
      "metadata": {
        "id": "Sqx6-yoYtgDE"
      }
    },
    {
      "cell_type": "code",
      "source": [
        "#1. Combine two lists index-wise(columns wise)\n",
        "list1 = [\"M\", \"na\", \"i\", \"Kh\"]\n",
        "list2 = [\"y\", \"me\", \"s\", \"an\"]\n",
        "l = []\n",
        "for i in zip(list1,list2):\n",
        "  l.append(i)\n",
        "print('1. ',l)\n",
        "\n",
        "a = [[i,j] for (i,j) in zip(list1,list2)]\n",
        "print('1. ',a)"
      ],
      "metadata": {
        "colab": {
          "base_uri": "https://localhost:8080/"
        },
        "id": "GpKjZ1wcbAix",
        "outputId": "254f0c25-d5b0-4442-8770-25192f240a19"
      },
      "execution_count": null,
      "outputs": [
        {
          "output_type": "stream",
          "name": "stdout",
          "text": [
            "1.  [('M', 'y'), ('na', 'me'), ('i', 's'), ('Kh', 'an')]\n",
            "1.  [['M', 'y'], ['na', 'me'], ['i', 's'], ['Kh', 'an']]\n"
          ]
        }
      ]
    },
    {
      "cell_type": "code",
      "source": [
        "#2. Add new item to list after a specified item : add item 7000 after 6000\n",
        "list1 = [10, 20, [300, 400, [5000, 6000], 500], 30, 40]\n",
        "list1[2][2].append(7000)\n",
        "print('2. ',list1)"
      ],
      "metadata": {
        "colab": {
          "base_uri": "https://localhost:8080/"
        },
        "id": "24n4wRgTbAfZ",
        "outputId": "f6e6010e-862c-4b0e-f083-3c9679fe30fd"
      },
      "execution_count": null,
      "outputs": [
        {
          "output_type": "stream",
          "name": "stdout",
          "text": [
            "2.  [10, 20, [300, 400, [5000, 6000, 7000], 500], 30, 40]\n"
          ]
        }
      ]
    },
    {
      "cell_type": "code",
      "source": [
        "#3. Write a program to show no. of items of each candy type. Update no of items available\n",
        "candy_list = ['Jelly Belly','Kit Kat','Double Bubble','Milky Way','Three Musketeers']\n",
        "no_of_items = [10,20,34,74,32]\n",
        "l = list(zip(candy_list,no_of_items))\n",
        "print('3. ',l)\n",
        "\n",
        "for i,j in zip(candy_list,no_of_items):\n",
        "  print(i,'-',j)"
      ],
      "metadata": {
        "colab": {
          "base_uri": "https://localhost:8080/"
        },
        "id": "2UlxHzVrbAWQ",
        "outputId": "57690cce-67bc-4719-d8a1-66afe2c2530a"
      },
      "execution_count": null,
      "outputs": [
        {
          "output_type": "stream",
          "name": "stdout",
          "text": [
            "3.  [('Jelly Belly', 10), ('Kit Kat', 20), ('Double Bubble', 34), ('Milky Way', 74), ('Three Musketeers', 32)]\n",
            "Jelly Belly - 10\n",
            "Kit Kat - 20\n",
            "Double Bubble - 34\n",
            "Milky Way - 74\n",
            "Three Musketeers - 32\n"
          ]
        }
      ]
    },
    {
      "cell_type": "code",
      "source": [
        "#4. Write a program to print a list after performing running sum on it\n",
        "list1 = [1,2,3,4,5,6]\n",
        "l = []\n",
        "sum = 0\n",
        "for i in list1:\n",
        "  sum+=i\n",
        "  l.append(sum)\n",
        "print('4. ',l)"
      ],
      "metadata": {
        "colab": {
          "base_uri": "https://localhost:8080/"
        },
        "id": "c-wlbcsGbATI",
        "outputId": "d804cc76-a4b2-4e76-e8a5-ad1e5c882605"
      },
      "execution_count": null,
      "outputs": [
        {
          "output_type": "stream",
          "name": "stdout",
          "text": [
            "4.  [1, 3, 6, 10, 15, 21]\n"
          ]
        }
      ]
    },
    {
      "cell_type": "code",
      "source": [
        "#5. Find list of common unique items from two list. and show in increasing order\n",
        "num1 = [23,45,67,78,89,34,67]\n",
        "num2 = [34,89,55,56,39,67,67]\n",
        "n = []\n",
        "for i in num1 and num2:\n",
        "  if i in num1 and num2:\n",
        "    if i not in n:\n",
        "      n.append(i)\n",
        "print('5. ',sorted(n))\n",
        "\n",
        "u = [i for i in num1 and num2 if i in num1 and num2]\n",
        "print('5. ',sorted(u))  #can't use"
      ],
      "metadata": {
        "colab": {
          "base_uri": "https://localhost:8080/"
        },
        "id": "qU51kzRKbABM",
        "outputId": "1dfe6a10-6d8f-4753-9f07-22818820c1a2"
      },
      "execution_count": null,
      "outputs": [
        {
          "output_type": "stream",
          "name": "stdout",
          "text": [
            "5.  [34, 67, 89]\n",
            "5.  [34, 67, 67, 89]\n"
          ]
        }
      ]
    },
    {
      "cell_type": "code",
      "source": [
        "from re import split\n",
        "#6. Split String of list on K character.\n",
        "l = ['CampusX is a channel', 'for data-science', 'aspirants.']\n",
        "d = []\n",
        "k=[]\n",
        "for i in l:\n",
        "  y = i.split()\n",
        "  k.append(y)\n",
        "  for j in y:\n",
        "    d.append(j)\n",
        "print('6. ',d)\n",
        "print('just to check i.split() --> ',k)\n",
        "\n",
        "print('comp. : ',[j for i in l for j in i.split()])\n",
        "\n",
        "result = []\n",
        "for i in l:\n",
        "  result.extend(i.split())\n",
        "print('6. ',result)"
      ],
      "metadata": {
        "colab": {
          "base_uri": "https://localhost:8080/"
        },
        "id": "imIWGP7Vti-C",
        "outputId": "df4614f0-6e77-4120-c772-73f027df6692"
      },
      "execution_count": null,
      "outputs": [
        {
          "output_type": "stream",
          "name": "stdout",
          "text": [
            "6.  ['CampusX', 'is', 'a', 'channel', 'for', 'data-science', 'aspirants.']\n",
            "just to check i.split() -->  [['CampusX', 'is', 'a', 'channel'], ['for', 'data-science'], ['aspirants.']]\n",
            "comp. :  ['CampusX', 'is', 'a', 'channel', 'for', 'data-science', 'aspirants.']\n",
            "6.  ['CampusX', 'is', 'a', 'channel', 'for', 'data-science', 'aspirants.']\n"
          ]
        }
      ]
    },
    {
      "cell_type": "code",
      "source": [
        "#7. Convert Character Matrix to single String using string comprehension\n",
        "l = [['c', 'a', 'm', 'p', 'u', 'x'], ['i', 's'], ['b', 'e', 's', 't'], ['c', 'h', 'a', 'n', 'n', 'e', 'l']]\n",
        "o =''\n",
        "for i in l:\n",
        "  o += ' '\n",
        "  for j in i:\n",
        "    o += j\n",
        "print('7. ',o)\n",
        "\n",
        "y = [j for i in l for j in i]\n",
        "print('sep. cmplty--> ',y)\n",
        "\n",
        "print(' '.join([''.join(i) for i in l]))"
      ],
      "metadata": {
        "colab": {
          "base_uri": "https://localhost:8080/"
        },
        "id": "C_o6S5z9bgh5",
        "outputId": "51353f81-c92c-44ff-d853-5fe69b2f79a1"
      },
      "execution_count": null,
      "outputs": [
        {
          "output_type": "stream",
          "name": "stdout",
          "text": [
            "7.   campux is best channel\n",
            "sep. cmplty-->  ['c', 'a', 'm', 'p', 'u', 'x', 'i', 's', 'b', 'e', 's', 't', 'c', 'h', 'a', 'n', 'n', 'e', 'l']\n",
            "campux is best channel\n"
          ]
        }
      ]
    },
    {
      "cell_type": "code",
      "source": [
        "#8. Add Space between Potential Words --> op: ['campusx Is', 'best For', 'data Scientist']\n",
        "l = ['campusxIs', 'bestFor', 'dataScientist']\n",
        "r = []\n",
        "for i in l:\n",
        "  new_word = ''\n",
        "  for j in i:\n",
        "    if j.isupper():\n",
        "      new_word = new_word +' '+ j\n",
        "    else:\n",
        "      new_word+=j\n",
        "  r.append(new_word)\n",
        "print('8. ',r)\n",
        "\n",
        "print([''.join(' '+j if j.isupper() else j for j in i)for i in l])"
      ],
      "metadata": {
        "colab": {
          "base_uri": "https://localhost:8080/"
        },
        "id": "9UKZgzSubnjQ",
        "outputId": "d7d356c5-1be6-4b2c-cc39-40ddb0edb0db"
      },
      "execution_count": null,
      "outputs": [
        {
          "output_type": "stream",
          "name": "stdout",
          "text": [
            "8.  ['campusx Is', 'best For', 'data Scientist']\n",
            "['campusx Is', 'best For', 'data Scientist']\n"
          ]
        }
      ]
    },
    {
      "cell_type": "code",
      "source": [
        "#9. Write a program that can perform union operation on 2 lists\n",
        "l1 = [1,2,3,4,5,1]\n",
        "l2 = [2,3,5,7,8]\n",
        "l3 = l1+l2\n",
        "l4 = []\n",
        "for i in l3:\n",
        "  if i not in l4:\n",
        "    l4.append(i)\n",
        "print('9. ',l4)"
      ],
      "metadata": {
        "colab": {
          "base_uri": "https://localhost:8080/"
        },
        "id": "O9R22DL6bnhE",
        "outputId": "0c97421c-81af-4108-bc4f-611a82bd9ea3"
      },
      "execution_count": null,
      "outputs": [
        {
          "output_type": "stream",
          "name": "stdout",
          "text": [
            "9.  [1, 2, 3, 4, 5, 7, 8]\n"
          ]
        }
      ]
    },
    {
      "cell_type": "code",
      "source": [
        "#10. Write a program that can find the max number of each row of a matrix\n",
        "l = [[1,2,3],[4,5,6],[7,8,9]]\n",
        "l2 = []\n",
        "for i in l:\n",
        "  for j in i:\n",
        "    if j == max(i):\n",
        "      l2.append(j)\n",
        "print('10. ',l2)\n",
        "\n",
        "r = []\n",
        "for i in l:\n",
        "  r.append(max(i))\n",
        "print(r)\n",
        "\n",
        "print('list comp: ',\n",
        "    [j for i in l for j in i if j==max(i)])"
      ],
      "metadata": {
        "colab": {
          "base_uri": "https://localhost:8080/"
        },
        "id": "ZbYD2Bj_bnek",
        "outputId": "530c8a90-1e8b-455a-f27b-ea51012dac0b"
      },
      "execution_count": null,
      "outputs": [
        {
          "output_type": "stream",
          "name": "stdout",
          "text": [
            "10.  [3, 6, 9]\n",
            "[3, 6, 9]\n",
            "list comp:  [3, 6, 9]\n"
          ]
        }
      ]
    },
    {
      "cell_type": "code",
      "source": [
        "#11. Write a list comprehension that can flatten a nested list\n",
        "#op : [1, 2, 3, 4, 5, 6, 7, 8, 9]\n",
        "matrix = [\n",
        "[1,2,3],\n",
        "[4,5,6],\n",
        "[7,8,9]]\n",
        "m= []\n",
        "for i in matrix:\n",
        "  for j in i:\n",
        "    m.append(j)\n",
        "print('11. ',m)\n",
        "\n",
        "print([j for i in matrix for j in i])"
      ],
      "metadata": {
        "colab": {
          "base_uri": "https://localhost:8080/"
        },
        "id": "g7MFqzJObncp",
        "outputId": "12daa7cf-1e22-4869-b3c4-3cb0becd42a9"
      },
      "execution_count": null,
      "outputs": [
        {
          "output_type": "stream",
          "name": "stdout",
          "text": [
            "11.  [1, 2, 3, 4, 5, 6, 7, 8, 9]\n",
            "[1, 2, 3, 4, 5, 6, 7, 8, 9]\n"
          ]
        }
      ]
    },
    {
      "cell_type": "code",
      "source": [
        "#12. Write a list comprehension that can transpose a given matrix\n",
        "'''op : [1, 4, 7]\n",
        "        [2, 5, 8]\n",
        "        [3, 6, 9]'''\n",
        "\n",
        "matrix = [\n",
        "[1,2,3],\n",
        "[4,5,6],\n",
        "[7,8,9]]\n",
        "e = []\n",
        "f = []\n",
        "g = []\n",
        "for i in matrix:\n",
        "  for j in i:\n",
        "    if i.index(j) == 0:\n",
        "      e.append(j)\n",
        "    elif i.index(j) == 1:\n",
        "      f.append(j)\n",
        "    else:\n",
        "      g.append(j)\n",
        "print('12. ',e,f,g)\n",
        "\n",
        "print([[row[i] for row in matrix]for i in range(len(matrix))])"
      ],
      "metadata": {
        "colab": {
          "base_uri": "https://localhost:8080/"
        },
        "id": "j1y0vnd6bnaM",
        "outputId": "7e1577f4-1a21-4e27-b9e2-5ae637613a35"
      },
      "execution_count": null,
      "outputs": [
        {
          "output_type": "stream",
          "name": "stdout",
          "text": [
            "12.  [1, 4, 7] [2, 5, 8] [3, 6, 9]\n",
            "[[1, 4, 7], [2, 5, 8], [3, 6, 9]]\n"
          ]
        }
      ]
    },
    {
      "cell_type": "code",
      "source": [
        "#13.   You are given a list of integers. You are asked to make a list by running through elements of the list by adding all elements greater and itself.\n",
        "# list is [2,4,6,10,1] -> resultant list= [22,20,16,10,23]\n",
        "l= [2,4,6,10,1]\n",
        "n= []\n",
        "sum = 0\n",
        "for i in l:\n",
        "  sum =0\n",
        "  for j in l:\n",
        "    if j>=i:\n",
        "      sum+=j\n",
        "  n.append(sum)\n",
        "print('13. ',n)\n"
      ],
      "metadata": {
        "colab": {
          "base_uri": "https://localhost:8080/"
        },
        "id": "87-9_hkAbnX3",
        "outputId": "ead32165-b759-4ef4-a236-22f370cfff0d"
      },
      "execution_count": null,
      "outputs": [
        {
          "output_type": "stream",
          "name": "stdout",
          "text": [
            "13.  [22, 20, 16, 10, 23]\n"
          ]
        }
      ]
    },
    {
      "cell_type": "code",
      "source": [
        "#14. Sort a list of alphanumeric strings based on product value of numeric character in it. If in any string there is no numeric character take it's product value as 1.\n",
        "# Output: ['456', '23fg', '1ac21', '1', 'kls', '098d']\n",
        "l = ['1ac21', '23fg', '456', '098d','1','kls']\n",
        "s= []\n",
        "p= []\n",
        "for i in l:\n",
        "  sum = 0\n",
        "  prd = 1\n",
        "  for j in i:\n",
        "    if j.isdigit():\n",
        "      sum+=int(j)\n",
        "      prd*=int(j)\n",
        "  s.append(sum)\n",
        "  p.append(prd)\n",
        "print('sum: ',s)\n",
        "print('prd: ',p)\n",
        "\n",
        "q = list(zip(p,l))\n",
        "print(q)\n",
        "\n",
        "print([i[1] for i in sorted((q),reverse=True)])"
      ],
      "metadata": {
        "colab": {
          "base_uri": "https://localhost:8080/"
        },
        "id": "7iy8ld4_b8Cn",
        "outputId": "a9ac7599-5418-43a5-c48a-d9d194b62ae1"
      },
      "execution_count": null,
      "outputs": [
        {
          "output_type": "stream",
          "name": "stdout",
          "text": [
            "sum:  [4, 5, 15, 17, 1, 0]\n",
            "prd:  [2, 6, 120, 0, 1, 1]\n",
            "[(2, '1ac21'), (6, '23fg'), (120, '456'), (0, '098d'), (1, '1'), (1, 'kls')]\n",
            "['456', '23fg', '1ac21', 'kls', '1', '098d']\n"
          ]
        }
      ]
    },
    {
      "cell_type": "code",
      "source": [
        "#15. Write a list comprehension to print the following matrix --> [[0, 1, 2], [3, 4, 5], [6, 7, 8]]\n",
        "print([[j+3*i for j in range(3)]for i in range(3)])"
      ],
      "metadata": {
        "colab": {
          "base_uri": "https://localhost:8080/"
        },
        "id": "kVNGJZ0yT1a1",
        "outputId": "2e8f358c-ea3c-483b-b41e-3278b54ea2d0"
      },
      "execution_count": null,
      "outputs": [
        {
          "output_type": "stream",
          "name": "stdout",
          "text": [
            "[[0, 1, 2], [3, 4, 5], [6, 7, 8]]\n"
          ]
        }
      ]
    },
    {
      "cell_type": "markdown",
      "source": [
        "**Tuples Practice :**"
      ],
      "metadata": {
        "id": "0xfDzMRcK1pB"
      }
    },
    {
      "cell_type": "code",
      "source": [
        "#`Q1:` Join Tuples if similar initial element\n",
        "#Input  : test_list = [(5, 6), (5, 7), (5, 8), (6, 10), (7, 13)]   Output : [(5, 6, 7, 8), (6, 10), (7, 13)]\n",
        "test_list = [(5, 6), (5, 7), (5, 8), (6, 10), (7, 13)]\n",
        "unique = []\n",
        "for i in test_list:\n",
        "  unique.append(i[0])\n",
        "unique = set(unique)\n",
        "print(unique)\n",
        "\n",
        "r = []\n",
        "for i in unique:\n",
        "  r.append([i])\n",
        "  for j in test_list:\n",
        "    if j[0] == i:\n",
        "      r[-1].append(j[1])\n",
        "print(list(map(tuple,r)))"
      ],
      "metadata": {
        "colab": {
          "base_uri": "https://localhost:8080/"
        },
        "id": "KPieA1a4K57d",
        "outputId": "9ca389e1-911e-4f3b-f807-76bdb707c126"
      },
      "execution_count": null,
      "outputs": [
        {
          "output_type": "stream",
          "name": "stdout",
          "text": [
            "{5, 6, 7}\n",
            "[(5, 6, 7, 8), (6, 10), (7, 13)]\n"
          ]
        }
      ]
    },
    {
      "cell_type": "code",
      "source": [
        "#`Q2:` Multiply Adjacent elements (both side) and take sum of right and lest side multiplication result.\n",
        "'''\n",
        "The original tuple : (1, 5, 7, 8, 10)\n",
        "Resultant tuple after multiplication :\n",
        "\n",
        "(1*5, 1*5+5*7, 7*5 + 7*8, 8*7 + 8*10, 10*8) -> (5, 40, 91, 136, 80)\n",
        "\n",
        "output-(5, 40, 91, 136, 80)'''\n",
        "\n",
        "t = (1, 5, 7, 8, 10)\n",
        "l = []\n",
        "l.append(t[0]*t[1])\n",
        "\n",
        "for i in range(1,len(t)-1):\n",
        "  l.append(t[i]*t[i-1]+t[i]*t[i+1])\n",
        "\n",
        "l.append(t[-1]*t[-2])\n",
        "print(l)"
      ],
      "metadata": {
        "colab": {
          "base_uri": "https://localhost:8080/"
        },
        "id": "oxuk2Z31P26L",
        "outputId": "52ac5157-6d4a-4cd8-8c42-4d6780bbd3c1"
      },
      "execution_count": null,
      "outputs": [
        {
          "output_type": "stream",
          "name": "stdout",
          "text": [
            "[5, 40, 91, 136, 80]\n"
          ]
        }
      ]
    },
    {
      "cell_type": "code",
      "source": [
        "#`Q3`: Check is tuples are same or not? Two tuples would be same if both tuples have same element at same index\n",
        "\n",
        "t1 = (1,2,3,0)\n",
        "t2 = (0,1,2,3)\n",
        "if t1==t2:\n",
        "    print('same')\n",
        "else:\n",
        "    print('t1 and t2 are not same')"
      ],
      "metadata": {
        "colab": {
          "base_uri": "https://localhost:8080/"
        },
        "id": "RCNaNEqCP6Jq",
        "outputId": "4b566219-d4d8-4117-f09e-913c49171a56"
      },
      "execution_count": null,
      "outputs": [
        {
          "output_type": "stream",
          "name": "stdout",
          "text": [
            "t1 and t2 are not same\n"
          ]
        }
      ]
    },
    {
      "cell_type": "code",
      "source": [
        "#`Q4`: Count no of tuples, list and set from a list.  Output: List-2 Set-2 Tuples-1\n",
        "\n",
        "list1 = [{'hi', 'bye'},{'Geeks', 'forGeeks'},('a', 'b'),['hi', 'bye'],['a', 'b']]\n",
        "output = [0,0,0]\n",
        "for i in list1:\n",
        "  if type(i) == list:\n",
        "    output[0]+=1\n",
        "  elif type(i) == set:\n",
        "    output[1]+=1\n",
        "  elif type(i) == tuple:\n",
        "    output[2]+=1\n",
        "print(f'list-{output[0]},set{output[1]},tuple-{output[2]}')"
      ],
      "metadata": {
        "colab": {
          "base_uri": "https://localhost:8080/"
        },
        "id": "-Bxyx4UVQF_o",
        "outputId": "ce873bd3-7da8-43d1-f2ab-b61caacfbb48"
      },
      "execution_count": null,
      "outputs": [
        {
          "output_type": "stream",
          "name": "stdout",
          "text": [
            "list-2,set2,tuple-1\n"
          ]
        }
      ]
    },
    {
      "cell_type": "code",
      "source": [
        "#`Q5`: Shortlist Students for a Job role\n",
        "''' Ask user to input students record and store in tuples for each record. Then Ask user to input three things he wants in the candidate- Primary Skill, Higher Education,\n",
        "Year of Graduation.\n",
        "\n",
        "Show every students record in form of tuples if matches all required criteria.\n",
        "\n",
        "It is assumed that there will be only one primry skill.\n",
        "\n",
        "If no such candidate found, print `No such candidate'''\n",
        "\n",
        "# Input:\n",
        "'''Enter No of records- 2\n",
        "Enter Details of student-1\n",
        "Enter Student name- Manohar\n",
        "Enter Higher Education- B.Tech\n",
        "Enter Primary Skill- Python\n",
        "Enter Year of Graduation- 2022\n",
        "Enter Details of student-2\n",
        "Enter Student name- Ponian\n",
        "Enter Higher Education- B.Sc.\n",
        "Enter Primary Skill- C++\n",
        "Enter Year of Graduation- 2020\n",
        "\n",
        "Enter Job Role Requirement\n",
        "Enter Skill- Python\n",
        "Enter Higher Education- B.Tech\n",
        "Enter Year of Graduation- 2022'''\n",
        "\n",
        "students = []\n",
        "\n",
        "num= int(input('Enter No. of Students: '))\n",
        "\n",
        "for i in range(2):\n",
        "    print('Enter Details of student ',i+1)\n",
        "    name = input('Enter Student name : ')\n",
        "    ed = input('Enter Higher Education : ')\n",
        "    skill = input('Enter Primary Skill : ')\n",
        "    grad_year = input('Enter Year of Graduation : ')\n",
        "\n",
        "    students.append((name,ed,skill,grad_year))\n",
        "print(students)\n",
        "print()\n",
        "\n",
        "print('Enter Job Role Requirement : ')\n",
        "req_skill = input('Enter Skill- Python : ')\n",
        "req_ed = input('Enter Higher Education- B.Tech : ')\n",
        "req_grad_year= input('Enter Year of Graduation- 2022 : ')\n",
        "\n",
        "print((req_ed,req_skill,req_grad_year))\n",
        "print()\n",
        "\n",
        "flag = False\n",
        "for i in students:\n",
        "    if i[1]==req_ed and i[2]==req_skill and i[3]==req_grad_year:\n",
        "        print(i)\n",
        "        flag=True\n",
        "\n",
        "if flag==False:\n",
        "  print('No such candidate')"
      ],
      "metadata": {
        "colab": {
          "base_uri": "https://localhost:8080/"
        },
        "id": "h09Tdt0GRAAs",
        "outputId": "6ff9e991-b58d-42e3-cf23-ef8dc2960960"
      },
      "execution_count": null,
      "outputs": [
        {
          "output_type": "stream",
          "name": "stdout",
          "text": [
            "Enter No. of Students: 2\n",
            "Enter Details of student  1\n",
            "Enter Student name : Mano\n",
            "Enter Higher Education : B.Tech\n",
            "Enter Primary Skill : Python\n",
            "Enter Year of Graduation : 2022\n",
            "Enter Details of student  2\n",
            "Enter Student name : Selva\n",
            "Enter Higher Education : Bsc\n",
            "Enter Primary Skill : Java\n",
            "Enter Year of Graduation : 2019\n",
            "[('Mano', 'B.Tech', 'Python', '2022'), ('Selva', 'Bsc', 'Java', '2019')]\n",
            "\n",
            "Enter Job Role Requirement : \n",
            "Enter Skill- Python : Python\n",
            "Enter Higher Education- B.Tech : B.Tech\n",
            "Enter Year of Graduation- 2022 : 2022\n",
            "('B.Tech', 'Python', '2022')\n",
            "\n",
            "('Mano', 'B.Tech', 'Python', '2022')\n"
          ]
        }
      ]
    },
    {
      "cell_type": "markdown",
      "source": [
        "**SET Practice**"
      ],
      "metadata": {
        "id": "vHQ4kO18SqRY"
      }
    },
    {
      "cell_type": "code",
      "source": [
        "#`Q1:` Write a program to find set of common elements in three lists using sets.  Output : [80, 20]\n",
        "\n",
        "ar1 = [1, 5, 10, 20, 40, 80]\n",
        "ar2 = [6, 7, 20, 80, 100]\n",
        "ar3 = [3, 4, 15, 20, 30, 70, 80, 120]\n",
        "\n",
        "ar1,ar2,ar3 = set(ar1), set(ar2), set(ar3)\n",
        "print([i for i in ar1 & ar2 & ar3])"
      ],
      "metadata": {
        "colab": {
          "base_uri": "https://localhost:8080/"
        },
        "id": "L2Q54GodSsgE",
        "outputId": "a597376e-a444-49af-c9c6-92f8f9d9b0db"
      },
      "execution_count": null,
      "outputs": [
        {
          "output_type": "stream",
          "name": "stdout",
          "text": [
            "[80, 20]\n"
          ]
        }
      ]
    },
    {
      "cell_type": "code",
      "source": [
        "#`Q2:` Write a program to count unique number of vowels using sets in a given string. Lowercase and upercase vowels will be taken as different.\n",
        "# Output: No of unique vowels-6\n",
        "\n",
        "Str1 = set(\"hands-on data science mentorship progrAm with live classes at affordable fee only on CampusX\")\n",
        "s = set('aeiouAEIOU')\n",
        "print('No of vowels',len(Str1 & s))\n",
        "\n",
        "Str1 = \"hands-on data science mentorship progrAm with live classes at affordable fee only on CampusX\"\n",
        "vowels = {'A','E','I','O','U','a','e','i','o','u'}\n",
        "og = set()\n",
        "for i in Str1:\n",
        "    if i in vowels:\n",
        "        og.add(i)\n",
        "counter=len(og)\n",
        "print('No of unique vowels-',counter)\n"
      ],
      "metadata": {
        "colab": {
          "base_uri": "https://localhost:8080/"
        },
        "id": "JK5mzo0TTXgR",
        "outputId": "c00e1157-0733-4976-f33c-fde678cc19c4"
      },
      "execution_count": null,
      "outputs": [
        {
          "output_type": "stream",
          "name": "stdout",
          "text": [
            "No of vowels 6\n",
            "No of unique vowels- 6\n"
          ]
        }
      ]
    },
    {
      "cell_type": "code",
      "source": [
        "### `Q3:` Write a program to Check if a given string is binary string of or not. A string is said to be binary if it's consists of only two unique characters.\n",
        "\n",
        "str = set(\"10101001\")\n",
        "if len(str) == 2:\n",
        "    print('Yes')\n",
        "else:\n",
        "    print('No')"
      ],
      "metadata": {
        "colab": {
          "base_uri": "https://localhost:8080/"
        },
        "id": "rweFQAsmUa2r",
        "outputId": "3b5b79c7-2a53-403c-cb6f-5a4e228123a3"
      },
      "execution_count": null,
      "outputs": [
        {
          "output_type": "stream",
          "name": "stdout",
          "text": [
            "Yes\n"
          ]
        }
      ]
    },
    {
      "cell_type": "code",
      "source": [
        "# `Q4`: find union of n arrays. Output: [1, 2, 3, 4, 5, 6, 7, 9]\n",
        "\n",
        "arr = [[1, 2, 2, 4, 3, 6],\n",
        "      [5, 1, 3, 4],\n",
        "      [9, 5, 7, 1],\n",
        "      [2, 4, 1, 3]]\n",
        "\n",
        "q = set()\n",
        "for i in arr:\n",
        "    for j in range(len(i)):\n",
        "        q.add(i[j])\n",
        "print(list(q))\n",
        "\n",
        "print(list({i[j] for i in arr for j in range(len(i))}))\n",
        "\n",
        "for i in arr:\n",
        "    q.update(i)\n",
        "print(list(q))"
      ],
      "metadata": {
        "colab": {
          "base_uri": "https://localhost:8080/"
        },
        "id": "U5hBI90-W9Tx",
        "outputId": "0d22966a-fa82-4021-d6c0-f9d1913f195e"
      },
      "execution_count": null,
      "outputs": [
        {
          "output_type": "stream",
          "name": "stdout",
          "text": [
            "[1, 2, 3, 4, 5, 6, 7, 9]\n",
            "[1, 2, 3, 4, 5, 6, 7, 9]\n",
            "[1, 2, 3, 4, 5, 6, 7, 9]\n"
          ]
        }
      ]
    },
    {
      "cell_type": "code",
      "source": [
        "# `Q5`: Intersection of two lists using list-comprehension.\n",
        "\n",
        "lst1 = {15, 9, 10, 56, 23, 78, 5, 4, 9}\n",
        "lst2 = {9, 4, 5, 36, 47, 26, 10, 45, 87}\n",
        "\n",
        "print([i for i in lst1.intersection(lst2)])\n",
        "print([i for i in lst1 if i in lst2])\n",
        "\n",
        "lst3 = {4, 9, 1, 17, 11, 26, 28, 54, 69}\n",
        "lst4 = {9, 9, 74, 21, 45, 11, 63, 28, 26}\n",
        "\n",
        "print(sorted([i for i in lst3.intersection(lst4)]))"
      ],
      "metadata": {
        "colab": {
          "base_uri": "https://localhost:8080/"
        },
        "id": "hW-CvwkRYddn",
        "outputId": "5ce7cc70-6d0e-42b6-bd37-f2857d7ce4c6"
      },
      "execution_count": null,
      "outputs": [
        {
          "output_type": "stream",
          "name": "stdout",
          "text": [
            "[9, 10, 4, 5]\n",
            "[4, 5, 9, 10]\n",
            "[9, 11, 26, 28]\n"
          ]
        }
      ]
    },
    {
      "cell_type": "markdown",
      "source": [
        "**Dictionary Practice**"
      ],
      "metadata": {
        "id": "3YG-8q5YYxK-"
      }
    },
    {
      "cell_type": "code",
      "source": [
        "# `Q1`: Key with maximum unique values. Given a dictionary with values list, extract key whose value has most unique values.\n",
        "# output1 : CampusX   output2 : Best\n",
        "\n",
        "test_dict = {\"CampusX\" : [5, 7, 9, 4, 0], \"is\" : [6, 7, 4, 3, 3], \"Best\" : [9, 9, 6, 5, 5]}\n",
        "\n",
        "max_values = 0\n",
        "\n",
        "for i in test_dict:\n",
        "  if max_values < len(set(test_dict[i])):\n",
        "    max_values = len(set(test_dict[i]))\n",
        "    max_keys = i\n",
        "print(max_keys)\n",
        "\n",
        "test_dict = {\"CampusX\" : [5, 7, 7, 7, 7], \"is\" : [6, 7, 7, 7], \"Best\" : [9, 9, 6, 5, 5]}\n",
        "\n",
        "max_values = 0\n",
        "for i in test_dict:\n",
        "  if max_values < len(set(test_dict[i])):\n",
        "    max_values = len(set(test_dict[i]))\n",
        "    max_keys = i\n",
        "print(max_keys)"
      ],
      "metadata": {
        "colab": {
          "base_uri": "https://localhost:8080/"
        },
        "id": "3nVV7OllY0mu",
        "outputId": "bbe5a6b4-c00f-4b7e-ae37-15c29cbc77c2"
      },
      "execution_count": null,
      "outputs": [
        {
          "output_type": "stream",
          "name": "stdout",
          "text": [
            "CampusX\n",
            "Best\n"
          ]
        }
      ]
    },
    {
      "cell_type": "code",
      "source": [
        "### `Q2`: Replace words from Dictionary. Given String, replace it’s words from lookup dictionary.\n",
        "\n",
        "test_str = 'CampusX best for DS students.'\n",
        "repl_dict = {\"best\" : \"is the best channel\", \"DS\" : \"Data-Science\"}\n",
        "\n",
        "st = []\n",
        "for i in test_str.split():\n",
        "    if i in repl_dict:\n",
        "      st.append(repl_dict[i])\n",
        "    else:\n",
        "      st.append(i)\n",
        "print(' '.join(st))\n",
        "\n",
        "test_str = 'CampusX best for DS students.'\n",
        "repl_dict = {\"good\" : \"is the best channel\", \"ds\" : \"Data-Science\"}\n",
        "\n",
        "st = []\n",
        "for i in test_str:\n",
        "  if i in repl_dict:\n",
        "    st.append(repl_dict[i])\n",
        "  else:\n",
        "    st.append(i)\n",
        "print(''.join(st))"
      ],
      "metadata": {
        "id": "ROlxWRdwd_QW",
        "outputId": "d383da11-91e8-467b-a0fc-ee6bd1ae8054",
        "colab": {
          "base_uri": "https://localhost:8080/"
        }
      },
      "execution_count": null,
      "outputs": [
        {
          "output_type": "stream",
          "name": "stdout",
          "text": [
            "CampusX is the best channel for Data-Science students.\n",
            "CampusX best for DS students.\n"
          ]
        }
      ]
    },
    {
      "cell_type": "code",
      "source": [
        "### `Q3`: Convert List to List of dictionaries. Given list values and keys list, convert these values to key value pairs in form of list of dictionaries.\n",
        "\n",
        "#op : [{'name': 'DataScience', 'id': 3}, {'name': 'is', 'id': 8}]\n",
        "test_list = [\"DataScience\", 3, \"is\", 8]\n",
        "key_list = [\"name\", \"id\"]\n",
        "\n",
        "n = len(test_list)\n",
        "r = []\n",
        "for i in range(0,n,2):\n",
        "  r.append({key_list[0]:test_list[i],key_list[1]:test_list[i]})\n",
        "print(r)\n",
        "\n",
        "#op : [{'name': 'CampusX', 'id': 10}]\n",
        "test_list = [\"CampusX\", 10]\n",
        "key_list = [\"name\", \"id\"]\n",
        "\n",
        "print({i:j for i,j in zip(key_list,test_list)})"
      ],
      "metadata": {
        "id": "Zs7GSaTnhOBX",
        "outputId": "7da8ddec-dacf-46ff-f141-eb3b330ba83c",
        "colab": {
          "base_uri": "https://localhost:8080/"
        }
      },
      "execution_count": null,
      "outputs": [
        {
          "output_type": "stream",
          "name": "stdout",
          "text": [
            "[{'name': 'DataScience', 'id': 'DataScience'}, {'name': 'is', 'id': 'is'}]\n",
            "{'name': 'CampusX', 'id': 10}\n"
          ]
        }
      ]
    },
    {
      "cell_type": "code",
      "source": [
        "### `Q4`: Convert a list of Tuples into Dictionary.\n",
        "\n",
        "# op : {'akash': [10], 'gaurav': [12], 'anand': [14], 'suraj': [20], 'akhil': [25], 'ashish': [30]}\n",
        "d = [(\"akash\", 10), (\"gaurav\", 12), (\"anand\", 14), (\"suraj\", 20), (\"akhil\", 25), (\"ashish\", 30)]\n",
        "print({i:j for i,j in d})\n",
        "\n",
        "\n",
        "# op : {'A': [1], 'B': [2], 'C': [3]}\n",
        "c = [('A', 1), ('B', 2), ('C', 3)]\n",
        "print({i:j for i,j in c})\n"
      ],
      "metadata": {
        "id": "hQR73-rti7uT",
        "outputId": "04de276e-fefd-4fcc-a3c1-ee77ffa0d23d",
        "colab": {
          "base_uri": "https://localhost:8080/"
        }
      },
      "execution_count": null,
      "outputs": [
        {
          "output_type": "stream",
          "name": "stdout",
          "text": [
            "{'akash': 10, 'gaurav': 12, 'anand': 14, 'suraj': 20, 'akhil': 25, 'ashish': 30}\n",
            "{'A': 1, 'B': 2, 'C': 3}\n"
          ]
        }
      ]
    },
    {
      "cell_type": "code",
      "source": [
        "### `Q5`: Sort Dictionary key and values List.\n",
        "\n",
        "#op : {'a': [4, 19], 'b': [10, 12], 'c': [3]}\n",
        "q = {'c': [3], 'b': [12, 10], 'a': [19, 4]}\n",
        "d = {}\n",
        "for i in sorted(q):\n",
        "  d[i] = sorted(q[i])\n",
        "print(d)\n",
        "\n",
        "\n",
        "#op : {'c': [3, 10, 34]}\n",
        "q = {'c': [10, 34, 3]}\n",
        "d = {}\n",
        "for i in sorted(q):\n",
        "  q[i] = sorted(q[i])\n",
        "print(q)"
      ],
      "metadata": {
        "id": "XShytyT5jZf1",
        "outputId": "96545b5f-b27e-4468-94ba-a08fd9b2d844",
        "colab": {
          "base_uri": "https://localhost:8080/"
        }
      },
      "execution_count": null,
      "outputs": [
        {
          "output_type": "stream",
          "name": "stdout",
          "text": [
            "{'a': [4, 19], 'b': [10, 12], 'c': [3]}\n",
            "{'c': [3, 10, 34]}\n"
          ]
        }
      ]
    },
    {
      "cell_type": "markdown",
      "source": [
        "**Functions Practice**"
      ],
      "metadata": {
        "id": "5K9tawWNN9gj"
      }
    },
    {
      "cell_type": "code",
      "source": [
        "# **`Problem-1:`** Write a Python function that takes a list and returns a new list with unique elements of the first list.\n",
        "# op : [1, 2, 3, 4, 5]\n",
        "\n",
        "L = [1,2,3,3,3,3,4,5]\n",
        "def f(L):\n",
        "  Q = []\n",
        "  for i in L:\n",
        "    if i not in Q:\n",
        "      Q.append(i)\n",
        "  return Q\n",
        "f(L)"
      ],
      "metadata": {
        "id": "9qcA-M3lOFbS",
        "outputId": "0d0bba4f-dbe6-4d72-88e8-80e41010c503",
        "colab": {
          "base_uri": "https://localhost:8080/"
        }
      },
      "execution_count": null,
      "outputs": [
        {
          "output_type": "execute_result",
          "data": {
            "text/plain": [
              "[1, 2, 3, 4, 5]"
            ]
          },
          "metadata": {},
          "execution_count": 5
        }
      ]
    },
    {
      "cell_type": "code",
      "source": [
        "# **`Problem-2:`** Write a Python function that accepts a hyphen-separated sequence of words as parameter and returns the words in a hyphen-separated sequence after sorting them alphabetically.\n",
        "# op : black-green-red-white-yellow\n",
        "\n",
        "inp = 'green-red-yellow-black-white'.split('-')\n",
        "def f(i):\n",
        "  return '-'.join(sorted(inp))\n",
        "f(inp)"
      ],
      "metadata": {
        "id": "YxT90nIYO6LI",
        "outputId": "644a28cf-1be5-49d6-ac78-fc96d5dde5d5",
        "colab": {
          "base_uri": "https://localhost:8080/",
          "height": 36
        }
      },
      "execution_count": null,
      "outputs": [
        {
          "output_type": "execute_result",
          "data": {
            "text/plain": [
              "'black-green-red-white-yellow'"
            ],
            "application/vnd.google.colaboratory.intrinsic+json": {
              "type": "string"
            }
          },
          "metadata": {},
          "execution_count": 19
        }
      ]
    },
    {
      "cell_type": "code",
      "source": [
        "# **`Problem 3:`** Write a Python function that accepts a string and calculate the number of upper case letters and lower case letters.\n",
        "# Expected Output : No. of Upper case characters :  9, No. of Lower case Characters :  47\n",
        "Sample = 'CampusX is an Online Mentorship Program fOr EnginEering studentS.'\n",
        "def f():\n",
        "  upper = 0\n",
        "  lower = 0\n",
        "  for i in Sample:\n",
        "    if i == i.upper() and i.isalpha():\n",
        "      upper+=1\n",
        "    elif i == i.lower() and i.isalpha():\n",
        "      lower+=1\n",
        "  print('Upper case : ',upper)\n",
        "  print('Lower case : ',lower)\n",
        "f()"
      ],
      "metadata": {
        "id": "1EIh_EZUQcYY",
        "outputId": "cc26842a-fec4-489d-ec61-3e41ae0f6681",
        "colab": {
          "base_uri": "https://localhost:8080/"
        }
      },
      "execution_count": null,
      "outputs": [
        {
          "output_type": "stream",
          "name": "stdout",
          "text": [
            "Upper case :  9\n",
            "Lower case :  47\n"
          ]
        }
      ]
    },
    {
      "cell_type": "code",
      "source": [
        "# **`Problem 4:`** Write a Python program to print the even numbers from a given list.\n",
        "# Expected Result : [2, 4, 6, 8]\n",
        "\n",
        "Sample = [1, 2, 3, 4, 5, 6, 7, 8, 9]\n",
        "s = list(filter(lambda i : i if i%2==0 else 0,Sample))\n",
        "print(s)"
      ],
      "metadata": {
        "id": "YAaYXIyNRk8D",
        "outputId": "32a0c5bd-0ba1-4cb6-f90d-02ec7af37270",
        "colab": {
          "base_uri": "https://localhost:8080/"
        }
      },
      "execution_count": null,
      "outputs": [
        {
          "output_type": "stream",
          "name": "stdout",
          "text": [
            "[2, 4, 6, 8]\n"
          ]
        }
      ]
    },
    {
      "cell_type": "code",
      "source": [
        "# **`Problem 5:`** Write a Python function to check whether a number is perfect or not.\n",
        "'''A Perfect number is a number that is half the sum of all of its positive divisors (including itself).\n",
        "\n",
        "Example :\n",
        "\n",
        "The first perfect number is 6, because 1, 2, and 3 are its proper positive divisors, and 1 + 2 + 3 = 6.\n",
        "Equivalently, the number 6 is equal to half the sum of all its positive divisors: ( 1 + 2 + 3 + 6 ) / 2 = 6.\n",
        "\n",
        "The next perfect number is 28 = 1 + 2 + 4 + 7 + 14. This is followed by the perfect numbers 496 and 8128.'''\n",
        "\n",
        "def is_perfect(num):\n",
        "  sum = 0\n",
        "  for i in range(1,num):\n",
        "    if num%i == 0:\n",
        "      sum+=i\n",
        "  return sum==num\n",
        "is_perfect(6)"
      ],
      "metadata": {
        "id": "wu3-wK1ASfmK",
        "outputId": "b6fe17fa-bfbf-40e3-d403-628c87626e41",
        "colab": {
          "base_uri": "https://localhost:8080/"
        }
      },
      "execution_count": null,
      "outputs": [
        {
          "output_type": "execute_result",
          "data": {
            "text/plain": [
              "True"
            ]
          },
          "metadata": {},
          "execution_count": 30
        }
      ]
    },
    {
      "cell_type": "code",
      "source": [
        "# **`Problem-6:`** Write a Python function to concatenate any no of dictionaries to create a new one.\n",
        "# Expected Result : {1: 10, 2: 20, 3: 30, 4: 40, 5: 50, 6: 60}\n",
        "\n",
        "dic1={1:10, 2:20}\n",
        "dic2={3:30, 4:40}\n",
        "dic3={5:50,6:60}\n",
        "\n",
        "def con():\n",
        "  s = {}\n",
        "  for i in dic1,dic2,dic3:\n",
        "    s.update(i)\n",
        "  return s\n",
        "print(con())\n",
        "\n",
        "def conc(*kwargs):\n",
        "  q = {}\n",
        "  for i in kwargs:\n",
        "    q.update(i)\n",
        "  return q\n",
        "conc(dic1,dic2,dic3)"
      ],
      "metadata": {
        "id": "fHzgBgnnTIaJ",
        "outputId": "a565da38-0070-4b47-f9e8-86594781a580",
        "colab": {
          "base_uri": "https://localhost:8080/"
        }
      },
      "execution_count": null,
      "outputs": [
        {
          "output_type": "stream",
          "name": "stdout",
          "text": [
            "{1: 10, 2: 20, 3: 30, 4: 40, 5: 50, 6: 60}\n"
          ]
        },
        {
          "output_type": "execute_result",
          "data": {
            "text/plain": [
              "{1: 10, 2: 20, 3: 30, 4: 40, 5: 50, 6: 60}"
            ]
          },
          "metadata": {},
          "execution_count": 38
        }
      ]
    },
    {
      "cell_type": "code",
      "source": [
        "# **`Problem-7`** Write a python function that accepts a string as input and returns the word with most occurence.\n",
        "# Output : you -> 2\n",
        "st = 'hello how are you i am fine thank you'\n",
        "\n",
        "def count():\n",
        "  counter = 1\n",
        "  for i in st.split():\n",
        "    if st.count(i)>counter:\n",
        "      counter+=1\n",
        "  print(i ,'-> ',counter)\n",
        "count()"
      ],
      "metadata": {
        "id": "_adkZSWXUa1V",
        "outputId": "a872a2ae-487a-4cf2-a803-645942a5f64e",
        "colab": {
          "base_uri": "https://localhost:8080/"
        }
      },
      "execution_count": null,
      "outputs": [
        {
          "output_type": "stream",
          "name": "stdout",
          "text": [
            "you ->  2\n"
          ]
        }
      ]
    },
    {
      "cell_type": "code",
      "source": [
        "# **`Problem-8`** Write a python function that receives a list of integers and prints out a histogram of bin size 10\n",
        "# Output: {11-20:2,21-30:1,31-40:2,41-50:3}\n",
        "\n",
        "L = [13,42,15,37,22,39,41,50]\n",
        "\n",
        "import math\n",
        "def f():\n",
        "    max_bin = math.floor(max(L)/10)*10\n",
        "    min_bin = math.floor(min(L)/10)*10\n",
        "\n",
        "    d ={}\n",
        "\n",
        "    for i in range(min_bin,max_bin+1,10):\n",
        "        count = 0\n",
        "        for j in L:\n",
        "            if i < j <= i + 10:\n",
        "                count+=1\n",
        "        d[str(i+1) + '-' + str(i+10)] = count\n",
        "    return d\n",
        "\n",
        "f()"
      ],
      "metadata": {
        "id": "RE2jtoYSVUeG",
        "outputId": "8b49ee3d-d2c0-4c06-a512-11f0f6764f90",
        "colab": {
          "base_uri": "https://localhost:8080/"
        }
      },
      "execution_count": null,
      "outputs": [
        {
          "output_type": "execute_result",
          "data": {
            "text/plain": [
              "{'11-20': 2, '21-30': 1, '31-40': 2, '41-50': 3, '51-60': 0}"
            ]
          },
          "metadata": {},
          "execution_count": 46
        }
      ]
    },
    {
      "cell_type": "code",
      "source": [
        "# `Problem-10`:Write a python program that receives a list of strings and performs bag of word operation on those strings\n",
        "# https://en.wikipedia.org/wiki/Bag-of-words_model(for ref.)\n",
        "\n",
        "def bag_of_words(texts):\n",
        "    d = {}\n",
        "    for i in texts:\n",
        "        print(i)\n",
        "        for j in i.split():\n",
        "            d[j] = d.get(j, 0) + 1\n",
        "    return d\n",
        "\n",
        "# Example usage:\n",
        "texts = [\"cat bat mat\", \"bat rat\", \"cat rat mat\"]\n",
        "result = bag_of_words(texts)\n",
        "print(result)"
      ],
      "metadata": {
        "id": "zL16FBIxV0ex",
        "outputId": "bb99311f-fe4d-40de-e007-a1d758f7b485",
        "colab": {
          "base_uri": "https://localhost:8080/"
        }
      },
      "execution_count": null,
      "outputs": [
        {
          "output_type": "stream",
          "name": "stdout",
          "text": [
            "cat bat mat\n",
            "bat rat\n",
            "cat rat mat\n",
            "{'cat': 2, 'bat': 2, 'mat': 2, 'rat': 2}\n"
          ]
        }
      ]
    },
    {
      "cell_type": "code",
      "source": [
        "# `Problem 11:` Write a Python program to add three given lists using Python map and lambda.\n",
        "L = [1,2,3]\n",
        "M = [4,5,6]\n",
        "N = [7,8,9]\n",
        "\n",
        "f = list(map(lambda i : i,(L+M+N)))\n",
        "print(f)\n",
        "\n",
        "g = list(map(lambda x,y,z : x+y+z,L,M,N))\n",
        "print(g)"
      ],
      "metadata": {
        "id": "HTYjXOUjWMur",
        "outputId": "8677199b-6746-43a7-d737-4e0e5d076892",
        "colab": {
          "base_uri": "https://localhost:8080/"
        }
      },
      "execution_count": null,
      "outputs": [
        {
          "output_type": "stream",
          "name": "stdout",
          "text": [
            "[1, 2, 3, 4, 5, 6, 7, 8, 9]\n",
            "[12, 15, 18]\n"
          ]
        }
      ]
    },
    {
      "cell_type": "code",
      "source": [
        "###`Problem-12:`Write a Python program to create a list containing the power of said number in bases raised to the corresponding number in the index using Python map.\n",
        "# [1,2,9,64,625,-]\n",
        "\n",
        "list1 = [1,2,3,4,5,6]\n",
        "f = list(map(lambda i : i**(i-1),list1))\n",
        "print(f)"
      ],
      "metadata": {
        "id": "veZzk6NUWoJ-",
        "outputId": "823156b6-1d14-4d3b-e8e0-b69aa29d3b3c",
        "colab": {
          "base_uri": "https://localhost:8080/"
        }
      },
      "execution_count": null,
      "outputs": [
        {
          "output_type": "stream",
          "name": "stdout",
          "text": [
            "[1, 2, 9, 64, 625, 7776]\n"
          ]
        }
      ]
    },
    {
      "cell_type": "code",
      "source": [
        "###`Problem-13` Using filter() and list() functions and .lower() method filter all the vowels in a given string.\n",
        "\n",
        "st = 'Hello How Are You'\n",
        "s = set('aeiouAEIOU')\n",
        "d = ''\n",
        "for i in st:\n",
        "  if i in s:\n",
        "    d+=i\n",
        "print(''.join(set(d)))\n",
        "print(list(d))\n",
        "\n",
        "q = list(filter(lambda i: i if i in s else 0,st.lower()))\n",
        "print(q)"
      ],
      "metadata": {
        "id": "UaqkIXUtXpax",
        "outputId": "c2c1f54f-07fb-40d7-f6b4-958ab8fe6566",
        "colab": {
          "base_uri": "https://localhost:8080/"
        }
      },
      "execution_count": null,
      "outputs": [
        {
          "output_type": "stream",
          "name": "stdout",
          "text": [
            "eAou\n",
            "['e', 'o', 'o', 'A', 'e', 'o', 'u']\n",
            "['e', 'o', 'o', 'a', 'e', 'o', 'u']\n"
          ]
        }
      ]
    },
    {
      "cell_type": "code",
      "source": [
        "# `Problem-14`: Use reduce to convert a 2D list to 1D\n",
        "arr = [[1,2,3],[2,3,4],[5,6,7]]\n",
        "\n",
        "d=[]\n",
        "def conv():\n",
        "  for i in arr:\n",
        "    for j in i:\n",
        "      d.append(j)\n",
        "  return d\n",
        "print(conv())\n",
        "\n",
        "\n",
        "import functools\n",
        "f = list(functools.reduce(lambda i,j: i+j,arr))\n",
        "print(f)"
      ],
      "metadata": {
        "id": "PI4FVQg5ZiOl",
        "outputId": "2b082fa9-6e8a-40f9-de32-34410fa1ea8b",
        "colab": {
          "base_uri": "https://localhost:8080/"
        }
      },
      "execution_count": null,
      "outputs": [
        {
          "output_type": "stream",
          "name": "stdout",
          "text": [
            "[1, 2, 3, 2, 3, 4, 5, 6, 7]\n",
            "[1, 2, 3, 2, 3, 4, 5, 6, 7]\n"
          ]
        }
      ]
    },
    {
      "cell_type": "code",
      "source": [
        "#`Problem 15`- A dictionary contains following information about 5 employees:\n",
        "# First name, Last name, Age, Grade(Skilled,Semi-skilled,Highly skilled)\n",
        "\n",
        "# Write a program using map/filter/reduce to a list of employees(first name + last name) who are highly skilled\n",
        "\n",
        "employees = [\n",
        "    {\n",
        "        'fname':'Nitish',\n",
        "        'lname':'Singh',\n",
        "        'age' : 33,\n",
        "        'grade':'skilled'\n",
        "    },\n",
        "    {\n",
        "        'fname':'Ankit',\n",
        "        'lname':'Verma',\n",
        "        'age' : 34,\n",
        "        'grade':'semi-skilled'\n",
        "    },\n",
        "    {\n",
        "        'fname':'Neha',\n",
        "        'lname':'Singh',\n",
        "        'age' : 35,\n",
        "        'grade':'highly-skilled'\n",
        "    },\n",
        "    {\n",
        "        'fname':'Anurag',\n",
        "        'lname':'Kumar',\n",
        "        'age' : 30,\n",
        "        'grade':'skilled'\n",
        "    },\n",
        "    {\n",
        "        'fname':'Abhinav',\n",
        "        'lname':'Sharma',\n",
        "        'age' : 37,\n",
        "        'grade':'highly-skilled'\n",
        "    }\n",
        "\n",
        "]\n",
        "\n",
        "a = list(filter(lambda i : i if i['grade']=='highly-skilled' else 0,employees))\n",
        "list(map(lambda i : i['fname']+' '+i['lname'],a))"
      ],
      "metadata": {
        "id": "eGZ_V5IwbMaS",
        "outputId": "65dad8d2-18c7-4112-8748-a2d5bbbdb0e5",
        "colab": {
          "base_uri": "https://localhost:8080/"
        }
      },
      "execution_count": null,
      "outputs": [
        {
          "output_type": "execute_result",
          "data": {
            "text/plain": [
              "['Neha Singh', 'Abhinav Sharma']"
            ]
          },
          "metadata": {},
          "execution_count": 80
        }
      ]
    },
    {
      "cell_type": "markdown",
      "source": [
        "**Class & Objcets Practice**"
      ],
      "metadata": {
        "id": "fOLGuJBhBUio"
      }
    },
    {
      "cell_type": "markdown",
      "source": [
        "Problem based on OOP Python.<br>\n",
        "\n",
        "TechWorld, a technology training center, wants to allocate courses for instructors. An instructor is identified by name, technology skills, experience and average feedback. An instructor is allocated a course, if he/she satisfies the below two conditions:<br>\n",
        "- eligibility criteria:<br>\n",
        "    - if experience is more than 3 years, average feedback should be 4.5 or more<br>\n",
        "    - if experience is 3 years or less, average feedback should be 4 or more<br>\n",
        "- he/she should posses the technology skill for the course<br>\n",
        "\n",
        "Identify the class name and attributes to represent instructors. Write a Python program to implement the class chosen with its attributes and methods.<br>\n",
        "\n",
        "**Note:**<br>\n",
        "- Consider all instance variables to be private and methods to be public.<br>\n",
        "- An instructor may have multiple technology skills, so consider instance variable, technology_skill to be a list.<br>\n",
        "- *check_eligibility()*: Return true if eligibility criteria is satisfied by the instructor. Else, return false<br>\n",
        "- *allocate_course(technology)*: Return true if the course which requires the given technology can be allocated to the instructor. Else, return false.<br>\n",
        "\n",
        "Represent a few objects of the class, initialize instance variables using setter methods, invoke\n",
        "appropriate methods and test your program."
      ],
      "metadata": {
        "id": "2L0CFjU3BnC_"
      }
    },
    {
      "cell_type": "code",
      "source": [
        "class Instructor:\n",
        "  def __init__(self,name,technology,experience,feedback):\n",
        "    self._name = name\n",
        "    self._technology = technology\n",
        "    self._experience = experience\n",
        "    self._feedback = feedback\n",
        "\n",
        "  def check_eligibility(self):\n",
        "    if self._experience > 3 and self._feedback >= 4.5:\n",
        "      return True\n",
        "    elif self._experience <= 3 and self._feedback > 4:\n",
        "      return True\n",
        "    else:\n",
        "      return False\n",
        "\n",
        "  def allocate_course(self,technology):\n",
        "    is_eligible = self.check_eligibility()\n",
        "\n",
        "    if is_eligible:\n",
        "      if technology in self._technology:\n",
        "        return 'Padha sakta hai'\n",
        "      else:\n",
        "        return 'Yeh toh usko aata hi nai'\n",
        "    else:\n",
        "      return 'Acha nahi padata hai'\n",
        "\n",
        "inst = Instructor('Fz',['DS','BA','ML'],3,4.1)\n",
        "inst.allocate_course('BA')\n"
      ],
      "metadata": {
        "id": "A4AfSB8QCDPz",
        "outputId": "9318da85-9dad-4087-9acc-88f706f44aee",
        "colab": {
          "base_uri": "https://localhost:8080/",
          "height": 36
        }
      },
      "execution_count": 10,
      "outputs": [
        {
          "output_type": "execute_result",
          "data": {
            "text/plain": [
              "'Padha sakta hai'"
            ],
            "application/vnd.google.colaboratory.intrinsic+json": {
              "type": "string"
            }
          },
          "metadata": {},
          "execution_count": 10
        }
      ]
    }
  ]
}