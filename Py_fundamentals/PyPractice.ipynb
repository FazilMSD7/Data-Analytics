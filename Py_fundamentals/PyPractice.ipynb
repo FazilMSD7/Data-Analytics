{
  "nbformat": 4,
  "nbformat_minor": 0,
  "metadata": {
    "colab": {
      "provenance": [],
      "authorship_tag": "ABX9TyNGr2U9w2Frw6G9CEwoQWUx",
      "include_colab_link": true
    },
    "kernelspec": {
      "name": "python3",
      "display_name": "Python 3"
    },
    "language_info": {
      "name": "python"
    }
  },
  "cells": [
    {
      "cell_type": "markdown",
      "metadata": {
        "id": "view-in-github",
        "colab_type": "text"
      },
      "source": [
        "<a href=\"https://colab.research.google.com/github/FazilMSD7/Data-Analytics/blob/main/Py_fundamentals/PyPractice.ipynb\" target=\"_parent\"><img src=\"https://colab.research.google.com/assets/colab-badge.svg\" alt=\"Open In Colab\"/></a>"
      ]
    },
    {
      "cell_type": "markdown",
      "source": [
        "**LOOPS PRACTICE**"
      ],
      "metadata": {
        "id": "4e5wKCTGrp6K"
      }
    },
    {
      "cell_type": "code",
      "source": [
        "# For Loops :\n",
        "# sum of 1-50 even numbers using continue\n",
        "sum = 0\n",
        "for i in range(1,51):\n",
        "  if i%2!=0:\n",
        "    continue\n",
        "  sum+=i\n",
        "print(sum)\n",
        "\n",
        "# first multiple of 7 in 10-50 using break\n",
        "for i in  range(10,51):\n",
        "  if i%7==0:\n",
        "    break\n",
        "print(i)\n",
        "\n",
        "# count how many times letter 'a' appears in string\n",
        "count = 0\n",
        "for i in 'australia':\n",
        "  if i == 'a':\n",
        "    count+=1\n",
        "  continue\n",
        "print(count)\n",
        "\n",
        "# prime numbers from 10,30\n",
        "for i in range(10,31):\n",
        "  for j in range(2,i):\n",
        "    if i%j==0:\n",
        "      break\n",
        "  else:\n",
        "    print(i)\n",
        "\n",
        "# sum positive numbers until 0 using break\n",
        "sum = 0\n",
        "li = [2,4,6,-1,7,4,0,3,7]\n",
        "for i in li:\n",
        "  if i>0:\n",
        "    sum+=i\n",
        "  elif i==0:\n",
        "    break\n",
        "print(sum)\n",
        "\n",
        "# all non-alphabet char in string\n",
        "li = 'sd#7c&6\"s8)sd#bf^e32'\n",
        "letters = ['A', 'B', 'C', 'D', 'E', 'F', 'G', 'H', 'I', 'J', 'K', 'L', 'M', 'N', 'O', 'P', 'Q', 'R', 'S', 'T', 'U', 'V', 'W', 'X', 'Y', 'Z','a', 'b', 'c', 'd', 'e', 'f', 'g', 'h', 'i', 'j', 'k', 'l', 'm', 'n', 'o', 'p', 'q', 'r', 's', 't', 'u', 'v', 'w', 'x', 'y', 'z']\n",
        "\n",
        "for i in li:\n",
        "  if i not in letters:\n",
        "    print(i)\n",
        "    continue\n",
        "\n",
        "# largest even number in list\n",
        "li = [18, 64, 80, 12, 46, 98, 34, 76, 22, 58]\n",
        "largest = 0\n",
        "for i in li:\n",
        "  if i>largest:\n",
        "    largest = i\n",
        "print(largest)\n",
        "\n",
        "# largest in odd number in li:\n",
        "li = [32,55,66,201,33,34,134]\n",
        "lar= 0\n",
        "for i in li:\n",
        "    if i>lar and i%2!=0:\n",
        "        lar=i\n",
        "print(lar)"
      ],
      "metadata": {
        "id": "FIK5oUsWrwtT",
        "colab": {
          "base_uri": "https://localhost:8080/"
        },
        "outputId": "f2017c62-1cde-4926-b9fd-c36a2e525118"
      },
      "execution_count": null,
      "outputs": [
        {
          "output_type": "stream",
          "name": "stdout",
          "text": [
            "650\n",
            "14\n",
            "3\n",
            "11\n",
            "13\n",
            "17\n",
            "19\n",
            "23\n",
            "29\n",
            "23\n",
            "#\n",
            "7\n",
            "&\n",
            "6\n",
            "\"\n",
            "8\n",
            ")\n",
            "#\n",
            "^\n",
            "3\n",
            "2\n",
            "98\n",
            "201\n"
          ]
        }
      ]
    },
    {
      "cell_type": "code",
      "source": [
        "# Accepting a number from the user until the user enters Zero. Display the sum and average\n",
        "sum = 0\n",
        "count = 0\n",
        "for i in range(1000):\n",
        "  num = int(input('no.'))\n",
        "  if num==0:\n",
        "    break\n",
        "  sum+=num\n",
        "  count+=1\n",
        "print(f'sum:{sum},avg:{sum/count}')"
      ],
      "metadata": {
        "colab": {
          "base_uri": "https://localhost:8080/"
        },
        "id": "ZuNMAG_CVq9f",
        "outputId": "6e0cf31a-cc62-4c0d-a352-ef0c07bb0dd8"
      },
      "execution_count": null,
      "outputs": [
        {
          "output_type": "stream",
          "name": "stdout",
          "text": [
            "no.87\n",
            "no.56\n",
            "no.88\n",
            "no.0\n",
            "sum:231,avg:77.0\n"
          ]
        }
      ]
    },
    {
      "cell_type": "code",
      "source": [
        "# if number is odd in a list, find index of odd number\n",
        "li = [0,22,23,54,13,42,6]\n",
        "index = 0\n",
        "for i in range(len(li)):\n",
        "  if li[i]%2!=0:\n",
        "    index+=1\n",
        "print(index)\n",
        "\n",
        "# using enum\n",
        "li = [22,54,9,10,23]\n",
        "for index,i in enumerate(li):\n",
        "  if i%2!=0:\n",
        "    break\n",
        "print(i, index)\n",
        "\n",
        "''' numbers which are divisible by 7 but are not a multiple of 5, between 2000 and 3200 (both included).\n",
        " The numbers obtained should be printed in a comma-separated sequence on a single line'''\n",
        "\n",
        "for i in range(100,201):\n",
        "  if i%7==0 and i%5!=0:\n",
        "      print(i,end=',')\n",
        "print('\\n')\n",
        "# to avoid comma at last\n",
        "res=[]\n",
        "for i in range(100,201):\n",
        "    if i%7==0 and i%5!=0:\n",
        "        res.append(str(i))\n",
        "print(','.join(res))\n",
        "\n",
        "\n",
        "'''Take a user input as integer N. Find out the sum from 1 to N. If any number if divisible by 5, then skip that number.\n",
        "And if the sum is greater than 300, don't need to calculate the sum further more. Print the final result. And don't use for loop to solve this problem.'''\n",
        "\n",
        "n= int(input('no'))\n",
        "sum = 0\n",
        "for i in range(1,n+1):\n",
        "    if i%5==0:\n",
        "        continue\n",
        "    sum+=i\n",
        "    if sum>300:\n",
        "        sum-=i\n",
        "        break\n",
        "print(sum)\n"
      ],
      "metadata": {
        "colab": {
          "base_uri": "https://localhost:8080/"
        },
        "id": "-PjxBiwMYetx",
        "outputId": "60884e6c-6cdf-4016-cc7f-57f0b46c4139"
      },
      "execution_count": null,
      "outputs": [
        {
          "output_type": "stream",
          "name": "stdout",
          "text": [
            "2\n",
            "9 2\n",
            "112,119,126,133,147,154,161,168,182,189,196,\n",
            "\n",
            "112,119,126,133,147,154,161,168,182,189,196\n"
          ]
        }
      ]
    },
    {
      "cell_type": "code",
      "source": [
        "'''Write a program, which will find all such numbers between 1000 and 3000 (both included) such that each digit of the number is an even number.\n",
        " The numbers obtained should be printed in a space-separated sequence on a single line.'''\n",
        "res = []\n",
        "for i in range(200,501): #250\n",
        "  flag = True\n",
        "  cur = i\n",
        "  while cur>0:\n",
        "    last = cur%10 #0\n",
        "    if last%2!=0:\n",
        "       flag=False\n",
        "       break\n",
        "    cur = cur//10\n",
        "  if flag==True:\n",
        "      res.append(str(i))\n",
        "print(res)\n"
      ],
      "metadata": {
        "colab": {
          "base_uri": "https://localhost:8080/"
        },
        "id": "8FcyOnU3v0pF",
        "outputId": "790546d5-ed01-4484-e810-6ea036e6cb00"
      },
      "execution_count": null,
      "outputs": [
        {
          "output_type": "stream",
          "name": "stdout",
          "text": [
            "['200', '202', '204', '206', '208', '220', '222', '224', '226', '228', '240', '242', '244', '246', '248', '260', '262', '264', '266', '268', '280', '282', '284', '286', '288', '400', '402', '404', '406', '408', '420', '422', '424', '426', '428', '440', '442', '444', '446', '448', '460', '462', '464', '466', '468', '480', '482', '484', '486', '488']\n"
          ]
        }
      ]
    },
    {
      "cell_type": "code",
      "source": [
        "# while loop:\n",
        "# reverse an number:\n",
        "rev = 0\n",
        "num = 786\n",
        "while num>0:\n",
        "  last = num%10 #6\n",
        "  rev = rev*10 + last\n",
        "  num = num//10\n",
        "print(rev)\n",
        "\n",
        "# fib - n\n",
        "n = int(input('no.'))\n",
        "num1, num2 = 0,1\n",
        "i=0\n",
        "while i<=n:\n",
        "  print(num1)\n",
        "  c= num1 + num2\n",
        "  num1 = num2\n",
        "  num2 = c\n",
        "  i+=1\n",
        "\n",
        "#sum of digits\n",
        "n = int(input('no.'))\n",
        "sum = 0\n",
        "while n>0:\n",
        "  last = n%10\n",
        "  sum+=last\n",
        "  n = n//10\n",
        "print(sum)\n",
        "\n",
        "#countdown 10-1:\n",
        "import time\n",
        "num = 10\n",
        "while num>0:\n",
        "  print(num)\n",
        "  time.sleep(1)\n",
        "  num-=1\n",
        "\n",
        "# factorial\n",
        "n = int(input('no.'))\n",
        "fact = 1\n",
        "i=1\n",
        "while i<=n:\n",
        "  fact*=i\n",
        "  i+=1\n",
        "print(fact)"
      ],
      "metadata": {
        "colab": {
          "base_uri": "https://localhost:8080/"
        },
        "id": "Ve5OEV271Ltr",
        "outputId": "cc42fdbd-51ee-4b26-fd74-687be34612cc"
      },
      "execution_count": null,
      "outputs": [
        {
          "output_type": "stream",
          "name": "stdout",
          "text": [
            "687\n",
            "no.5\n",
            "0\n",
            "1\n",
            "1\n",
            "2\n",
            "3\n",
            "5\n",
            "no.5\n",
            "5\n",
            "10\n",
            "9\n",
            "8\n",
            "7\n",
            "6\n",
            "5\n",
            "4\n",
            "3\n",
            "2\n",
            "1\n",
            "no.5\n",
            "1\n"
          ]
        }
      ]
    },
    {
      "cell_type": "code",
      "source": [
        "# sum of 1/1!+2/2!+3/3!...\n",
        "res = 0\n",
        "fac = 1\n",
        "n= int(input('no.'))\n",
        "for i in range(1,n+1):\n",
        "  fac *= i\n",
        "  res = res+i/fac\n",
        "print(res)"
      ],
      "metadata": {
        "colab": {
          "base_uri": "https://localhost:8080/"
        },
        "id": "7HKa1O2ycxsc",
        "outputId": "4b5c3448-e7ce-487f-c3d6-49b0a9a5a7aa"
      },
      "execution_count": null,
      "outputs": [
        {
          "output_type": "stream",
          "name": "stdout",
          "text": [
            "no.5\n",
            "2.708333333333333\n"
          ]
        }
      ]
    },
    {
      "cell_type": "markdown",
      "source": [
        "**PATTERNS**"
      ],
      "metadata": {
        "id": "k2Z8exaCNK1_"
      }
    },
    {
      "cell_type": "code",
      "source": [
        "# patterns\n",
        "'''\n",
        "*\n",
        "**\n",
        "***\n",
        "'''\n",
        "\n",
        "for i in range(1,4):\n",
        "  for j in range(1,i+1):\n",
        "    print('*',end='')\n",
        "  print()\n",
        "\n",
        "'''\n",
        "1\n",
        "12\n",
        "121\n",
        "12321\n",
        "1234321\n",
        "'''\n",
        "\n",
        "for i in range(1,6):      #2\n",
        "  for j in range(1,i+1):  #1,2\n",
        "    print(j,end='')\n",
        "  for k in range(i-1,0,-1):#1\n",
        "    print(k,end='')\n",
        "  print()\n",
        "\n",
        "'''\n",
        "1\n",
        "2 3\n",
        "4 5 6\n",
        "7 8 9 10\n",
        "11 12 13 14 15\n",
        "'''\n",
        "\n",
        "num = 1\n",
        "for i in range(1,5):\n",
        "  for j in range(i):\n",
        "    print(num,end='')\n",
        "    num+=1\n",
        "  print()\n",
        "\n",
        "\n",
        "'''\n",
        "    *\n",
        "   ***\n",
        "  *****\n",
        " *******\n",
        "*********\n",
        "'''\n",
        "\n",
        "num = 5\n",
        "for i in range(1,num+1):\n",
        "  print(' '*(num-i)+'*'*(2*i-1))\n",
        "\n",
        "\n",
        "'''\n",
        "    1\n",
        "   121\n",
        "  12321\n",
        " 1234321\n",
        "123454321\n",
        "'''\n",
        "\n",
        "n = 5\n",
        "for i in range(1,n):\n",
        "  print(' '*(n-i),end='')\n",
        "  for j in range(1,i+1):\n",
        "    print(j,end='')\n",
        "  for k in range(i-1,0,-1):\n",
        "    print(k,end='')\n",
        "  print()\n",
        "\n",
        "'''\n",
        "*****\n",
        "*   *\n",
        "*   *\n",
        "*   *\n",
        "*****\n",
        "'''\n",
        "\n",
        "n= 5\n",
        "for i in range(n):\n",
        "  if i==0 or i==n-1 or i==2:\n",
        "    print('*'*n)\n",
        "  else:\n",
        "    print('*'+' '*(n-2)+'*')"
      ],
      "metadata": {
        "colab": {
          "base_uri": "https://localhost:8080/"
        },
        "id": "TLVpgmYekQ-B",
        "outputId": "f493063b-2a48-400b-81fb-560dbe7f50cd"
      },
      "execution_count": null,
      "outputs": [
        {
          "output_type": "stream",
          "name": "stdout",
          "text": [
            "*\n",
            "**\n",
            "***\n",
            "1\n",
            "121\n",
            "12321\n",
            "1234321\n",
            "123454321\n",
            "1\n",
            "23\n",
            "456\n",
            "78910\n",
            "    *\n",
            "   ***\n",
            "  *****\n",
            " *******\n",
            "*********\n",
            "    1\n",
            "   121\n",
            "  12321\n",
            " 1234321\n",
            "*****\n",
            "*   *\n",
            "*****\n",
            "*   *\n",
            "*****\n"
          ]
        }
      ]
    },
    {
      "cell_type": "markdown",
      "source": [
        "**Loops Practice**"
      ],
      "metadata": {
        "id": "dIgTMsTnCWMc"
      }
    },
    {
      "cell_type": "code",
      "source": [
        "'''\n",
        "5 4 3 2 1\n",
        "4 3 2 1\n",
        "3 2 1\n",
        "2 1\n",
        "1\n",
        "'''\n",
        "n = 5\n",
        "for i in range(0,n):\n",
        "    for j in range(n-i,0,-1):\n",
        "        print(j,end='')\n",
        "    print()\n",
        "\n",
        "'''\n",
        "*\n",
        "* *\n",
        "* * *\n",
        "* * * *\n",
        "* * * * *\n",
        "* * * *\n",
        "* * *\n",
        "* *\n",
        "*\n",
        "'''\n",
        "\n",
        "n = 5\n",
        "for i in range(0,n):\n",
        "    for j in range(0,i+1):\n",
        "        print('*',end='')\n",
        "    print()\n",
        "for i in range(0,n):\n",
        "    for k in range(n-i,0,-1):\n",
        "        print('*',end='')\n",
        "    print()\n",
        "\n",
        "'''\n",
        "        *\n",
        "      * * *\n",
        "    * * * * *\n",
        "   * * * * * * *\n",
        "* * * * * * * * *\n",
        "'''\n",
        "\n",
        "n = 3\n",
        "for i in range(1,n+1):\n",
        "    print(' '*(n),end='')\n",
        "    print('* '*i)\n",
        "    n-=1\n",
        "\n",
        "n=5\n",
        "for i in range(1,n+1):\n",
        "    print(' '*(n-i)+'* '*i)\n",
        "\n",
        "\n",
        "'''\n",
        "1\n",
        "\n",
        "2 1\n",
        "\n",
        "3 2 1\n",
        "\n",
        "4 3 2 1\n",
        "\n",
        "5 4 3 2 1\n",
        "'''\n",
        "\n",
        "for i in range(1,7):\n",
        "    for j in range(i,0,-1):\n",
        "        print(j,end='')\n",
        "    print()\n",
        "print()\n",
        "# 1 + x^2/2 + x^3/3 + … x^n/n\n",
        "# n will be provided by the user\n",
        "\n",
        "sum =1\n",
        "n=5\n",
        "x= 10\n",
        "for i in range(2,n+1):\n",
        "    sum = sum + x**i/i\n",
        "print(sum)\n",
        "print()\n",
        "\n",
        "#x-1/x + 1/2(x-1/x)2 + 1/2(x-1/x)3 +...\n",
        "\n",
        "x=10\n",
        "n=5\n",
        "sum = (x-1)/x\n",
        "for i in range(2,n+1):\n",
        "    sum = sum + (1/2*((x-1)/x))**i\n",
        "print(sum)\n",
        "print()\n",
        "\n",
        "#if n =5 the series will become 2 + 22 + 222 + 2222 + 22222 = 24690\n",
        "\n",
        "n =3\n",
        "sum =0\n",
        "s = 2\n",
        "for i in range(1,n+1):\n",
        "    sum +=s\n",
        "    s = s*10 + 2\n",
        "print(sum)\n",
        "print()\n",
        "\n",
        "'''\n",
        "1 2 3 4\n",
        "1 2 4 3\n",
        "1 3 2 4\n",
        "1 3 4 2\n",
        "1 4 2 3\n",
        "1 4 3 2\n",
        "2 1 3 4\n",
        "2 1 4 3\n",
        "2 3 1 4\n",
        "2 3 4 1\n",
        "2 4 1 3\n",
        ".\n",
        ".\n",
        "and so on\n",
        "'''\n",
        "\n",
        "for i in range(1,3):\n",
        "    for j in range(1,3):\n",
        "        for k in range(1,3):\n",
        "            for l in range(1,3):\n",
        "                print(i,j,k,l)"
      ],
      "metadata": {
        "colab": {
          "base_uri": "https://localhost:8080/"
        },
        "id": "6Lxag9W_CY1p",
        "outputId": "7b0ddfcb-bfbc-4096-f84a-6923aec09324"
      },
      "execution_count": null,
      "outputs": [
        {
          "output_type": "stream",
          "name": "stdout",
          "text": [
            "54321\n",
            "4321\n",
            "321\n",
            "21\n",
            "1\n",
            "*\n",
            "**\n",
            "***\n",
            "****\n",
            "*****\n",
            "*****\n",
            "****\n",
            "***\n",
            "**\n",
            "*\n",
            "   * \n",
            "  * * \n",
            " * * * \n",
            "    * \n",
            "   * * \n",
            "  * * * \n",
            " * * * * \n",
            "* * * * * \n",
            "1\n",
            "21\n",
            "321\n",
            "4321\n",
            "54321\n",
            "654321\n",
            "\n",
            "22884.333333333332\n",
            "\n",
            "1.2530840625\n",
            "\n",
            "246\n",
            "\n",
            "1 1 1 1\n",
            "1 1 1 2\n",
            "1 1 2 1\n",
            "1 1 2 2\n",
            "1 2 1 1\n",
            "1 2 1 2\n",
            "1 2 2 1\n",
            "1 2 2 2\n",
            "2 1 1 1\n",
            "2 1 1 2\n",
            "2 1 2 1\n",
            "2 1 2 2\n",
            "2 2 1 1\n",
            "2 2 1 2\n",
            "2 2 2 1\n",
            "2 2 2 2\n"
          ]
        }
      ]
    },
    {
      "cell_type": "code",
      "source": [
        "# 1. count no. of letter in string\n",
        "a = 'dhcs'\n",
        "count = 0\n",
        "for i in a:\n",
        "  count+=1\n",
        "print(count)\n",
        "\n",
        "# 2. print username from an email\n",
        "a = 'fazilmsd7@gmail.com'\n",
        "for i in a:\n",
        "  if i == '@':\n",
        "    break\n",
        "  print(i,end='')\n",
        "print()\n",
        "\n",
        "print(a.index('@'))\n",
        "print(a[0:9])\n",
        "\n",
        "# 3. count no. of times letter occured/frequency of letter\n",
        "a = 'fazilmsd7@gmail.com'\n",
        "count = 0\n",
        "for i in a:\n",
        "  if i == 'a':\n",
        "    count+=1\n",
        "print(count)\n",
        "\n",
        "print(a.count('a'))\n",
        "# 4. remove particular char and print other\n",
        "a = 'fazilmsd7@gmail.com'\n",
        "for i in a:\n",
        "  if i == '7':\n",
        "    continue\n",
        "  print(i,end='')\n",
        "print()\n",
        "# 5. palindrome\n",
        "a = 'malayalam'\n",
        "if a == a[::-1]:\n",
        "  print('palindrome')\n",
        "else:\n",
        "  print('not palindrome')\n",
        "\n",
        "for i in range(0,len(a)//2):\n",
        "  if a[i] != a[len(a)-i-1]:\n",
        "    print('not palindrome')\n",
        "    break\n",
        "print('palindrome')\n",
        "\n",
        "# 6. count no. of words in string\n",
        "a = 'hello my name is fazil'\n",
        "count =0\n",
        "s = a.split()\n",
        "for i in s:\n",
        "  count+=1\n",
        "print(count)\n",
        "\n",
        "# 7. converts string to title\n",
        "s = a.title()\n",
        "print(s)\n"
      ],
      "metadata": {
        "colab": {
          "base_uri": "https://localhost:8080/"
        },
        "id": "JgtrH-ADb30M",
        "outputId": "17131bc1-7312-4d57-a329-c2181d14ea30"
      },
      "execution_count": null,
      "outputs": [
        {
          "output_type": "stream",
          "name": "stdout",
          "text": [
            "4\n",
            "fazilmsd7\n",
            "9\n",
            "fazilmsd7\n",
            "2\n",
            "2\n",
            "fazilmsd@gmail.com\n",
            "palindrome\n",
            "palindrome\n",
            "5\n",
            "Hello My Name Is Fazil\n"
          ]
        }
      ]
    },
    {
      "cell_type": "markdown",
      "source": [
        "**String Practice**"
      ],
      "metadata": {
        "id": "QsH4RjYBo5hZ"
      }
    },
    {
      "cell_type": "code",
      "source": [
        "#1. remove duplicate\n",
        "a = 'aeroplane'\n",
        "s = ''\n",
        "for i in a:\n",
        "    if i not in s:\n",
        "        s+=i\n",
        "print(s)\n",
        "\n",
        "#2. word location in string\n",
        "Sentence= 'We can learn data science through campusx mentorship program.'\n",
        "word= 'campusx'\n",
        "\n",
        "a = Sentence.split()\n",
        "print(1+a.index(word))\n",
        "\n",
        "count =0  #without index()\n",
        "for i in a:\n",
        "    count+=1\n",
        "    if i == word:\n",
        "        break\n",
        "print(count)\n",
        "\n",
        "#3.reverse words in string\n",
        "a = 'my name is laxmi'\n",
        "s = a.split()[::-1]\n",
        "l = ''\n",
        "for i in s:\n",
        "    l = l+' '+i\n",
        "print(l)\n",
        "\n",
        "#4. chk whether symmetrical:(if both halves are same)\n",
        "a = 'khokho'\n",
        "if a[0:3] ==a[3:]:\n",
        "    print('sym')\n",
        "else:\n",
        "    print('no')\n",
        "\n",
        "#5. remove char in string except integer\n",
        "str1 = 'I am 25 years and 10 months old'\n",
        "for i in str1:\n",
        "    if i.isdigit() == True:\n",
        "        print(i,end='')\n",
        "print()\n",
        "\n",
        "#6. sum, avg of integers in string\n",
        "a = 'hel123o4every093'\n",
        "f = ''\n",
        "s = 0\n",
        "for i in a:\n",
        "    if i.isdigit() == True:\n",
        "        f+=i\n",
        "print(f)\n",
        "f = int(f)\n",
        "count = 0\n",
        "while f>0:\n",
        "    l = f%10\n",
        "    s+=l\n",
        "    f = f//10\n",
        "    count+=1\n",
        "print(s)\n",
        "print('avg: ',s/count)\n",
        "\n",
        "#7. short form of given string in cap\n",
        "s = 'Data science mentorship program'\n",
        "a = s.title()\n",
        "l = a.split()\n",
        "for i in l:\n",
        "    print(i[0],end='')"
      ],
      "metadata": {
        "id": "Ep66r801pC_O",
        "colab": {
          "base_uri": "https://localhost:8080/"
        },
        "outputId": "3b90547d-49f5-49da-cdbb-613abe30ae3a"
      },
      "execution_count": 5,
      "outputs": [
        {
          "output_type": "stream",
          "name": "stdout",
          "text": [
            "aeropln\n",
            "7\n",
            "7\n",
            " laxmi is name my\n",
            "sym\n",
            "2510\n",
            "1234093\n",
            "22\n",
            "avg:  3.142857142857143\n",
            "DSMP"
          ]
        }
      ]
    },
    {
      "cell_type": "markdown",
      "source": [
        "List Practice"
      ],
      "metadata": {
        "id": "Sqx6-yoYtgDE"
      }
    },
    {
      "cell_type": "code",
      "source": [
        "#1. Combine two lists index-wise(columns wise)\n",
        "list1 = [\"M\", \"na\", \"i\", \"Kh\"]\n",
        "list2 = [\"y\", \"me\", \"s\", \"an\"]\n",
        "l = []\n",
        "for i in zip(list1,list2):\n",
        "  l.append(i)\n",
        "print('1. ',l)\n",
        "\n",
        "a = [[i,j] for (i,j) in zip(list1,list2)]\n",
        "print('1. ',a)"
      ],
      "metadata": {
        "colab": {
          "base_uri": "https://localhost:8080/"
        },
        "id": "GpKjZ1wcbAix",
        "outputId": "254f0c25-d5b0-4442-8770-25192f240a19"
      },
      "execution_count": 42,
      "outputs": [
        {
          "output_type": "stream",
          "name": "stdout",
          "text": [
            "1.  [('M', 'y'), ('na', 'me'), ('i', 's'), ('Kh', 'an')]\n",
            "1.  [['M', 'y'], ['na', 'me'], ['i', 's'], ['Kh', 'an']]\n"
          ]
        }
      ]
    },
    {
      "cell_type": "code",
      "source": [
        "#2. Add new item to list after a specified item : add item 7000 after 6000\n",
        "list1 = [10, 20, [300, 400, [5000, 6000], 500], 30, 40]\n",
        "list1[2][2].append(7000)\n",
        "print('2. ',list1)"
      ],
      "metadata": {
        "colab": {
          "base_uri": "https://localhost:8080/"
        },
        "id": "24n4wRgTbAfZ",
        "outputId": "f6e6010e-862c-4b0e-f083-3c9679fe30fd"
      },
      "execution_count": 43,
      "outputs": [
        {
          "output_type": "stream",
          "name": "stdout",
          "text": [
            "2.  [10, 20, [300, 400, [5000, 6000, 7000], 500], 30, 40]\n"
          ]
        }
      ]
    },
    {
      "cell_type": "code",
      "source": [
        "#3. Write a program to show no. of items of each candy type. Update no of items available\n",
        "candy_list = ['Jelly Belly','Kit Kat','Double Bubble','Milky Way','Three Musketeers']\n",
        "no_of_items = [10,20,34,74,32]\n",
        "l = list(zip(candy_list,no_of_items))\n",
        "print('3. ',l)\n",
        "\n",
        "for i,j in zip(candy_list,no_of_items):\n",
        "  print(i,'-',j)"
      ],
      "metadata": {
        "colab": {
          "base_uri": "https://localhost:8080/"
        },
        "id": "2UlxHzVrbAWQ",
        "outputId": "57690cce-67bc-4719-d8a1-66afe2c2530a"
      },
      "execution_count": 44,
      "outputs": [
        {
          "output_type": "stream",
          "name": "stdout",
          "text": [
            "3.  [('Jelly Belly', 10), ('Kit Kat', 20), ('Double Bubble', 34), ('Milky Way', 74), ('Three Musketeers', 32)]\n",
            "Jelly Belly - 10\n",
            "Kit Kat - 20\n",
            "Double Bubble - 34\n",
            "Milky Way - 74\n",
            "Three Musketeers - 32\n"
          ]
        }
      ]
    },
    {
      "cell_type": "code",
      "source": [
        "#4. Write a program to print a list after performing running sum on it\n",
        "list1 = [1,2,3,4,5,6]\n",
        "l = []\n",
        "sum = 0\n",
        "for i in list1:\n",
        "  sum+=i\n",
        "  l.append(sum)\n",
        "print('4. ',l)"
      ],
      "metadata": {
        "colab": {
          "base_uri": "https://localhost:8080/"
        },
        "id": "c-wlbcsGbATI",
        "outputId": "d804cc76-a4b2-4e76-e8a5-ad1e5c882605"
      },
      "execution_count": 45,
      "outputs": [
        {
          "output_type": "stream",
          "name": "stdout",
          "text": [
            "4.  [1, 3, 6, 10, 15, 21]\n"
          ]
        }
      ]
    },
    {
      "cell_type": "code",
      "source": [
        "#5. Find list of common unique items from two list. and show in increasing order\n",
        "num1 = [23,45,67,78,89,34,67]\n",
        "num2 = [34,89,55,56,39,67,67]\n",
        "n = []\n",
        "for i in num1 and num2:\n",
        "  if i in num1 and num2:\n",
        "    if i not in n:\n",
        "      n.append(i)\n",
        "print('5. ',sorted(n))\n",
        "\n",
        "u = [i for i in num1 and num2 if i in num1 and num2]\n",
        "print('5. ',sorted(u))  #can't use"
      ],
      "metadata": {
        "colab": {
          "base_uri": "https://localhost:8080/"
        },
        "id": "qU51kzRKbABM",
        "outputId": "1dfe6a10-6d8f-4753-9f07-22818820c1a2"
      },
      "execution_count": 46,
      "outputs": [
        {
          "output_type": "stream",
          "name": "stdout",
          "text": [
            "5.  [34, 67, 89]\n",
            "5.  [34, 67, 67, 89]\n"
          ]
        }
      ]
    },
    {
      "cell_type": "code",
      "source": [
        "from re import split\n",
        "#6. Split String of list on K character.\n",
        "l = ['CampusX is a channel', 'for data-science', 'aspirants.']\n",
        "d = []\n",
        "k=[]\n",
        "for i in l:\n",
        "  y = i.split()\n",
        "  k.append(y)\n",
        "  for j in y:\n",
        "    d.append(j)\n",
        "print('6. ',d)\n",
        "print('just to check i.split() --> ',k)\n",
        "\n",
        "print('comp. : ',[j for i in l for j in i.split()])\n",
        "\n",
        "result = []\n",
        "for i in l:\n",
        "  result.extend(i.split())\n",
        "print('6. ',result)"
      ],
      "metadata": {
        "colab": {
          "base_uri": "https://localhost:8080/"
        },
        "id": "imIWGP7Vti-C",
        "outputId": "df4614f0-6e77-4120-c772-73f027df6692"
      },
      "execution_count": 3,
      "outputs": [
        {
          "output_type": "stream",
          "name": "stdout",
          "text": [
            "6.  ['CampusX', 'is', 'a', 'channel', 'for', 'data-science', 'aspirants.']\n",
            "just to check i.split() -->  [['CampusX', 'is', 'a', 'channel'], ['for', 'data-science'], ['aspirants.']]\n",
            "comp. :  ['CampusX', 'is', 'a', 'channel', 'for', 'data-science', 'aspirants.']\n",
            "6.  ['CampusX', 'is', 'a', 'channel', 'for', 'data-science', 'aspirants.']\n"
          ]
        }
      ]
    },
    {
      "cell_type": "code",
      "source": [
        "#7. Convert Character Matrix to single String using string comprehension\n",
        "l = [['c', 'a', 'm', 'p', 'u', 'x'], ['i', 's'], ['b', 'e', 's', 't'], ['c', 'h', 'a', 'n', 'n', 'e', 'l']]\n",
        "o =''\n",
        "for i in l:\n",
        "  o += ' '\n",
        "  for j in i:\n",
        "    o += j\n",
        "print('7. ',o)\n",
        "\n",
        "y = [j for i in l for j in i]\n",
        "print('sep. cmplty--> ',y)\n",
        "\n",
        "print(' '.join([''.join(i) for i in l]))"
      ],
      "metadata": {
        "colab": {
          "base_uri": "https://localhost:8080/"
        },
        "id": "C_o6S5z9bgh5",
        "outputId": "51353f81-c92c-44ff-d853-5fe69b2f79a1"
      },
      "execution_count": 92,
      "outputs": [
        {
          "output_type": "stream",
          "name": "stdout",
          "text": [
            "7.   campux is best channel\n",
            "sep. cmplty-->  ['c', 'a', 'm', 'p', 'u', 'x', 'i', 's', 'b', 'e', 's', 't', 'c', 'h', 'a', 'n', 'n', 'e', 'l']\n",
            "campux is best channel\n"
          ]
        }
      ]
    },
    {
      "cell_type": "code",
      "source": [
        "#8. Add Space between Potential Words --> op: ['campusx Is', 'best For', 'data Scientist']\n",
        "l = ['campusxIs', 'bestFor', 'dataScientist']\n",
        "r = []\n",
        "for i in l:\n",
        "  new_word = ''\n",
        "  for j in i:\n",
        "    if j.isupper():\n",
        "      new_word = new_word +' '+ j\n",
        "    else:\n",
        "      new_word+=j\n",
        "  r.append(new_word)\n",
        "print('8. ',r)\n",
        "\n",
        "print([''.join(' '+j if j.isupper() else j for j in i)for i in l])"
      ],
      "metadata": {
        "colab": {
          "base_uri": "https://localhost:8080/"
        },
        "id": "9UKZgzSubnjQ",
        "outputId": "d7d356c5-1be6-4b2c-cc39-40ddb0edb0db"
      },
      "execution_count": 141,
      "outputs": [
        {
          "output_type": "stream",
          "name": "stdout",
          "text": [
            "8.  ['campusx Is', 'best For', 'data Scientist']\n",
            "['campusx Is', 'best For', 'data Scientist']\n"
          ]
        }
      ]
    },
    {
      "cell_type": "code",
      "source": [
        "#9. Write a program that can perform union operation on 2 lists\n",
        "l1 = [1,2,3,4,5,1]\n",
        "l2 = [2,3,5,7,8]\n",
        "l3 = l1+l2\n",
        "l4 = []\n",
        "for i in l3:\n",
        "  if i not in l4:\n",
        "    l4.append(i)\n",
        "print('9. ',l4)"
      ],
      "metadata": {
        "colab": {
          "base_uri": "https://localhost:8080/"
        },
        "id": "O9R22DL6bnhE",
        "outputId": "0c97421c-81af-4108-bc4f-611a82bd9ea3"
      },
      "execution_count": 50,
      "outputs": [
        {
          "output_type": "stream",
          "name": "stdout",
          "text": [
            "9.  [1, 2, 3, 4, 5, 7, 8]\n"
          ]
        }
      ]
    },
    {
      "cell_type": "code",
      "source": [
        "#10. Write a program that can find the max number of each row of a matrix\n",
        "l = [[1,2,3],[4,5,6],[7,8,9]]\n",
        "l2 = []\n",
        "for i in l:\n",
        "  for j in i:\n",
        "    if j == max(i):\n",
        "      l2.append(j)\n",
        "print('10. ',l2)\n",
        "\n",
        "r = []\n",
        "for i in l:\n",
        "  r.append(max(i))\n",
        "print(r)\n",
        "\n",
        "print('list comp: ',\n",
        "    [j for i in l for j in i if j==max(i)])"
      ],
      "metadata": {
        "colab": {
          "base_uri": "https://localhost:8080/"
        },
        "id": "ZbYD2Bj_bnek",
        "outputId": "530c8a90-1e8b-455a-f27b-ea51012dac0b"
      },
      "execution_count": 172,
      "outputs": [
        {
          "output_type": "stream",
          "name": "stdout",
          "text": [
            "10.  [3, 6, 9]\n",
            "[3, 6, 9]\n",
            "list comp:  [3, 6, 9]\n"
          ]
        }
      ]
    },
    {
      "cell_type": "code",
      "source": [
        "#11. Write a list comprehension that can flatten a nested list\n",
        "#op : [1, 2, 3, 4, 5, 6, 7, 8, 9]\n",
        "matrix = [\n",
        "[1,2,3],\n",
        "[4,5,6],\n",
        "[7,8,9]]\n",
        "m= []\n",
        "for i in matrix:\n",
        "  for j in i:\n",
        "    m.append(j)\n",
        "print('11. ',m)\n",
        "\n",
        "print([j for i in matrix for j in i])"
      ],
      "metadata": {
        "colab": {
          "base_uri": "https://localhost:8080/"
        },
        "id": "g7MFqzJObncp",
        "outputId": "12daa7cf-1e22-4869-b3c4-3cb0becd42a9"
      },
      "execution_count": 169,
      "outputs": [
        {
          "output_type": "stream",
          "name": "stdout",
          "text": [
            "11.  [1, 2, 3, 4, 5, 6, 7, 8, 9]\n",
            "[1, 2, 3, 4, 5, 6, 7, 8, 9]\n"
          ]
        }
      ]
    },
    {
      "cell_type": "code",
      "source": [
        "#12. Write a list comprehension that can transpose a given matrix\n",
        "'''op : [1, 4, 7]\n",
        "        [2, 5, 8]\n",
        "        [3, 6, 9]'''\n",
        "\n",
        "matrix = [\n",
        "[1,2,3],\n",
        "[4,5,6],\n",
        "[7,8,9]]\n",
        "e = []\n",
        "f = []\n",
        "g = []\n",
        "for i in matrix:\n",
        "  for j in i:\n",
        "    if i.index(j) == 0:\n",
        "      e.append(j)\n",
        "    elif i.index(j) == 1:\n",
        "      f.append(j)\n",
        "    else:\n",
        "      g.append(j)\n",
        "print('12. ',e,f,g)\n",
        "\n",
        "print([[row[i] for row in matrix]for i in range(len(matrix))])"
      ],
      "metadata": {
        "colab": {
          "base_uri": "https://localhost:8080/"
        },
        "id": "j1y0vnd6bnaM",
        "outputId": "7e1577f4-1a21-4e27-b9e2-5ae637613a35"
      },
      "execution_count": 168,
      "outputs": [
        {
          "output_type": "stream",
          "name": "stdout",
          "text": [
            "12.  [1, 4, 7] [2, 5, 8] [3, 6, 9]\n",
            "[[1, 4, 7], [2, 5, 8], [3, 6, 9]]\n"
          ]
        }
      ]
    },
    {
      "cell_type": "code",
      "source": [
        "#13.   You are given a list of integers. You are asked to make a list by running through elements of the list by adding all elements greater and itself.\n",
        "# list is [2,4,6,10,1] -> resultant list= [22,20,16,10,23]\n",
        "l= [2,4,6,10,1]\n",
        "n= []\n",
        "sum = 0\n",
        "for i in l:\n",
        "  sum =0\n",
        "  for j in l:\n",
        "    if j>=i:\n",
        "      sum+=j\n",
        "  n.append(sum)\n",
        "print('13. ',n)\n"
      ],
      "metadata": {
        "colab": {
          "base_uri": "https://localhost:8080/"
        },
        "id": "87-9_hkAbnX3",
        "outputId": "ead32165-b759-4ef4-a236-22f370cfff0d"
      },
      "execution_count": 142,
      "outputs": [
        {
          "output_type": "stream",
          "name": "stdout",
          "text": [
            "13.  [22, 20, 16, 10, 23]\n"
          ]
        }
      ]
    },
    {
      "cell_type": "code",
      "source": [
        "#14. Sort a list of alphanumeric strings based on product value of numeric character in it. If in any string there is no numeric character take it's product value as 1.\n",
        "# Output: ['456', '23fg', '1ac21', '1', 'kls', '098d']\n",
        "l = ['1ac21', '23fg', '456', '098d','1','kls']\n",
        "s= []\n",
        "p= []\n",
        "for i in l:\n",
        "  sum = 0\n",
        "  prd = 1\n",
        "  for j in i:\n",
        "    if j.isdigit():\n",
        "      sum+=int(j)\n",
        "      prd*=int(j)\n",
        "  s.append(sum)\n",
        "  p.append(prd)\n",
        "print('sum: ',s)\n",
        "print('prd: ',p)\n",
        "\n",
        "q = list(zip(p,l))\n",
        "print(q)\n",
        "\n",
        "print([i[1] for i in sorted((q),reverse=True)])"
      ],
      "metadata": {
        "colab": {
          "base_uri": "https://localhost:8080/"
        },
        "id": "7iy8ld4_b8Cn",
        "outputId": "a9ac7599-5418-43a5-c48a-d9d194b62ae1"
      },
      "execution_count": 71,
      "outputs": [
        {
          "output_type": "stream",
          "name": "stdout",
          "text": [
            "sum:  [4, 5, 15, 17, 1, 0]\n",
            "prd:  [2, 6, 120, 0, 1, 1]\n",
            "[(2, '1ac21'), (6, '23fg'), (120, '456'), (0, '098d'), (1, '1'), (1, 'kls')]\n",
            "['456', '23fg', '1ac21', 'kls', '1', '098d']\n"
          ]
        }
      ]
    },
    {
      "cell_type": "code",
      "source": [
        "#15. Write a list comprehension to print the following matrix --> [[0, 1, 2], [3, 4, 5], [6, 7, 8]]\n",
        "print([[j+3*i for j in range(3)]for i in range(3)])"
      ],
      "metadata": {
        "colab": {
          "base_uri": "https://localhost:8080/"
        },
        "id": "kVNGJZ0yT1a1",
        "outputId": "2e8f358c-ea3c-483b-b41e-3278b54ea2d0"
      },
      "execution_count": 162,
      "outputs": [
        {
          "output_type": "stream",
          "name": "stdout",
          "text": [
            "[[0, 1, 2], [3, 4, 5], [6, 7, 8]]\n"
          ]
        }
      ]
    }
  ]
}