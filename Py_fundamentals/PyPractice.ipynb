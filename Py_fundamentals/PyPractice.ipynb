{
  "nbformat": 4,
  "nbformat_minor": 0,
  "metadata": {
    "colab": {
      "provenance": [],
      "authorship_tag": "ABX9TyPkEIlb97YURy3HUNOgCb5d",
      "include_colab_link": true
    },
    "kernelspec": {
      "name": "python3",
      "display_name": "Python 3"
    },
    "language_info": {
      "name": "python"
    }
  },
  "cells": [
    {
      "cell_type": "markdown",
      "metadata": {
        "id": "view-in-github",
        "colab_type": "text"
      },
      "source": [
        "<a href=\"https://colab.research.google.com/github/FazilMSD7/Data-Analytics/blob/main/Py_fundamentals/PyPractice.ipynb\" target=\"_parent\"><img src=\"https://colab.research.google.com/assets/colab-badge.svg\" alt=\"Open In Colab\"/></a>"
      ]
    },
    {
      "cell_type": "markdown",
      "source": [
        "**LOOPS PRACTICE**"
      ],
      "metadata": {
        "id": "4e5wKCTGrp6K"
      }
    },
    {
      "cell_type": "code",
      "source": [
        "# For Loops :\n",
        "# sum of 1-50 even numbers using continue\n",
        "sum = 0\n",
        "for i in range(1,51):\n",
        "  if i%2!=0:\n",
        "    continue\n",
        "  sum+=i\n",
        "print(sum)\n",
        "\n",
        "# first multiple of 7 in 10-50 using break\n",
        "for i in  range(10,51):\n",
        "  if i%7==0:\n",
        "    break\n",
        "print(i)\n",
        "\n",
        "# count how many times letter 'a' appears in string\n",
        "count = 0\n",
        "for i in 'australia':\n",
        "  if i == 'a':\n",
        "    count+=1\n",
        "  continue\n",
        "print(count)\n",
        "\n",
        "# prime numbers from 10,30\n",
        "for i in range(10,31):\n",
        "  for j in range(2,i):\n",
        "    if i%j==0:\n",
        "      break\n",
        "  else:\n",
        "    print(i)\n",
        "\n",
        "# sum positive numbers until 0 using break\n",
        "sum = 0\n",
        "li = [2,4,6,-1,7,4,0,3,7]\n",
        "for i in li:\n",
        "  if i>0:\n",
        "    sum+=i\n",
        "  elif i==0:\n",
        "    break\n",
        "print(sum)\n",
        "\n",
        "# all non-alphabet char in string\n",
        "li = 'sd#7c&6\"s8)sd#bf^e32'\n",
        "letters = ['A', 'B', 'C', 'D', 'E', 'F', 'G', 'H', 'I', 'J', 'K', 'L', 'M', 'N', 'O', 'P', 'Q', 'R', 'S', 'T', 'U', 'V', 'W', 'X', 'Y', 'Z','a', 'b', 'c', 'd', 'e', 'f', 'g', 'h', 'i', 'j', 'k', 'l', 'm', 'n', 'o', 'p', 'q', 'r', 's', 't', 'u', 'v', 'w', 'x', 'y', 'z']\n",
        "\n",
        "for i in li:\n",
        "  if i not in letters:\n",
        "    print(i)\n",
        "    continue\n",
        "\n",
        "# largest even number in list\n",
        "li = [18, 64, 80, 12, 46, 98, 34, 76, 22, 58]\n",
        "largest = 0\n",
        "for i in li:\n",
        "  if i>largest:\n",
        "    largest = i\n",
        "print(largest)\n",
        "\n",
        "# largest in odd number in li:\n",
        "li = [32,55,66,201,33,34,134]\n",
        "lar= 0\n",
        "for i in li:\n",
        "    if i>lar and i%2!=0:\n",
        "        lar=i\n",
        "print(lar)"
      ],
      "metadata": {
        "id": "FIK5oUsWrwtT",
        "colab": {
          "base_uri": "https://localhost:8080/"
        },
        "outputId": "f2017c62-1cde-4926-b9fd-c36a2e525118"
      },
      "execution_count": 45,
      "outputs": [
        {
          "output_type": "stream",
          "name": "stdout",
          "text": [
            "650\n",
            "14\n",
            "3\n",
            "11\n",
            "13\n",
            "17\n",
            "19\n",
            "23\n",
            "29\n",
            "23\n",
            "#\n",
            "7\n",
            "&\n",
            "6\n",
            "\"\n",
            "8\n",
            ")\n",
            "#\n",
            "^\n",
            "3\n",
            "2\n",
            "98\n",
            "201\n"
          ]
        }
      ]
    },
    {
      "cell_type": "code",
      "source": [
        "# Accepting a number from the user until the user enters Zero. Display the sum and average\n",
        "sum = 0\n",
        "count = 0\n",
        "for i in range(1000):\n",
        "  num = int(input('no.'))\n",
        "  if num==0:\n",
        "    break\n",
        "  sum+=num\n",
        "  count+=1\n",
        "print(f'sum:{sum},avg:{sum/count}')"
      ],
      "metadata": {
        "colab": {
          "base_uri": "https://localhost:8080/"
        },
        "id": "ZuNMAG_CVq9f",
        "outputId": "6e0cf31a-cc62-4c0d-a352-ef0c07bb0dd8"
      },
      "execution_count": 35,
      "outputs": [
        {
          "output_type": "stream",
          "name": "stdout",
          "text": [
            "no.87\n",
            "no.56\n",
            "no.88\n",
            "no.0\n",
            "sum:231,avg:77.0\n"
          ]
        }
      ]
    },
    {
      "cell_type": "code",
      "source": [
        "# if number is odd in a list, find index of odd number\n",
        "li = [0,22,23,54,13,42,6]\n",
        "index = 0\n",
        "for i in range(len(li)):\n",
        "  if li[i]%2!=0:\n",
        "    index+=1\n",
        "print(index)\n",
        "\n",
        "# using enum\n",
        "li = [22,54,9,10,23]\n",
        "for index,i in enumerate(li):\n",
        "  if i%2!=0:\n",
        "    break\n",
        "print(i, index)\n",
        "\n",
        "''' numbers which are divisible by 7 but are not a multiple of 5, between 2000 and 3200 (both included).\n",
        " The numbers obtained should be printed in a comma-separated sequence on a single line'''\n",
        "\n",
        "for i in range(100,201):\n",
        "  if i%7==0 and i%5!=0:\n",
        "      print(i,end=',')\n",
        "print('\\n')\n",
        "# to avoid comma at last\n",
        "res=[]\n",
        "for i in range(100,201):\n",
        "    if i%7==0 and i%5!=0:\n",
        "        res.append(str(i))\n",
        "print(','.join(res))\n",
        "\n",
        "\n",
        "'''Take a user input as integer N. Find out the sum from 1 to N. If any number if divisible by 5, then skip that number.\n",
        "And if the sum is greater than 300, don't need to calculate the sum further more. Print the final result. And don't use for loop to solve this problem.'''\n",
        "\n",
        "n= int(input('no'))\n",
        "sum = 0\n",
        "for i in range(1,n+1):\n",
        "    if i%5==0:\n",
        "        continue\n",
        "    sum+=i\n",
        "    if sum>300:\n",
        "        sum-=i\n",
        "        break\n",
        "print(sum)\n"
      ],
      "metadata": {
        "colab": {
          "base_uri": "https://localhost:8080/"
        },
        "id": "-PjxBiwMYetx",
        "outputId": "60884e6c-6cdf-4016-cc7f-57f0b46c4139"
      },
      "execution_count": 54,
      "outputs": [
        {
          "output_type": "stream",
          "name": "stdout",
          "text": [
            "2\n",
            "9 2\n",
            "112,119,126,133,147,154,161,168,182,189,196,\n",
            "\n",
            "112,119,126,133,147,154,161,168,182,189,196\n"
          ]
        }
      ]
    },
    {
      "cell_type": "code",
      "source": [
        "'''Write a program, which will find all such numbers between 1000 and 3000 (both included) such that each digit of the number is an even number.\n",
        " The numbers obtained should be printed in a space-separated sequence on a single line.'''\n",
        "res = []\n",
        "for i in range(200,501): #250\n",
        "  flag = True\n",
        "  cur = i\n",
        "  while cur>0:\n",
        "    last = cur%10 #0\n",
        "    if last%2!=0:\n",
        "       flag=False\n",
        "       break\n",
        "    cur = cur//10\n",
        "    if flag==True:\n",
        "       res.append(str(i))\n",
        "print(res)\n"
      ],
      "metadata": {
        "colab": {
          "base_uri": "https://localhost:8080/"
        },
        "id": "8FcyOnU3v0pF",
        "outputId": "3a59fea1-f375-43ec-dcbb-35b771906265"
      },
      "execution_count": 64,
      "outputs": [
        {
          "output_type": "stream",
          "name": "stdout",
          "text": [
            "['200', '200', '200', '202', '202', '202', '204', '204', '204', '206', '206', '206', '208', '208', '208', '210', '212', '214', '216', '218', '220', '220', '220', '222', '222', '222', '224', '224', '224', '226', '226', '226', '228', '228', '228', '230', '232', '234', '236', '238', '240', '240', '240', '242', '242', '242', '244', '244', '244', '246', '246', '246', '248', '248', '248', '250', '252', '254', '256', '258', '260', '260', '260', '262', '262', '262', '264', '264', '264', '266', '266', '266', '268', '268', '268', '270', '272', '274', '276', '278', '280', '280', '280', '282', '282', '282', '284', '284', '284', '286', '286', '286', '288', '288', '288', '290', '292', '294', '296', '298', '300', '300', '302', '302', '304', '304', '306', '306', '308', '308', '310', '312', '314', '316', '318', '320', '320', '322', '322', '324', '324', '326', '326', '328', '328', '330', '332', '334', '336', '338', '340', '340', '342', '342', '344', '344', '346', '346', '348', '348', '350', '352', '354', '356', '358', '360', '360', '362', '362', '364', '364', '366', '366', '368', '368', '370', '372', '374', '376', '378', '380', '380', '382', '382', '384', '384', '386', '386', '388', '388', '390', '392', '394', '396', '398', '400', '400', '400', '402', '402', '402', '404', '404', '404', '406', '406', '406', '408', '408', '408', '410', '412', '414', '416', '418', '420', '420', '420', '422', '422', '422', '424', '424', '424', '426', '426', '426', '428', '428', '428', '430', '432', '434', '436', '438', '440', '440', '440', '442', '442', '442', '444', '444', '444', '446', '446', '446', '448', '448', '448', '450', '452', '454', '456', '458', '460', '460', '460', '462', '462', '462', '464', '464', '464', '466', '466', '466', '468', '468', '468', '470', '472', '474', '476', '478', '480', '480', '480', '482', '482', '482', '484', '484', '484', '486', '486', '486', '488', '488', '488', '490', '492', '494', '496', '498', '500', '500']\n"
          ]
        }
      ]
    },
    {
      "cell_type": "code",
      "source": [
        "# while loop:\n",
        "# reverse an number:\n",
        "rev = 0\n",
        "num = 786\n",
        "while num>0:\n",
        "  last = num%10 #6\n",
        "  rev = rev*10 + last\n",
        "  num = num//10\n",
        "print(rev)\n",
        "\n",
        "# fib - n\n",
        "n = int(input('no.'))\n",
        "num1, num2 = 0,1\n",
        "i=0\n",
        "while i<=n:\n",
        "  print(num1)\n",
        "  c= num1 + num2\n",
        "  num1 = num2\n",
        "  num2 = c\n",
        "  i+=1\n",
        "\n",
        "#sum of digits\n",
        "n = int(input('no.'))\n",
        "sum = 0\n",
        "while n>0:\n",
        "  last = n%10\n",
        "  sum+=last\n",
        "  n = n//10\n",
        "print(sum)\n",
        "\n",
        "#countdown 10-1:\n",
        "import time\n",
        "num = 10\n",
        "while num>0:\n",
        "  print(num)\n",
        "  time.sleep(1)\n",
        "  num-=1\n",
        "\n",
        "# factorial\n",
        "n = int(input('no.'))\n",
        "fact = 1\n",
        "i=1\n",
        "while i<=n:\n",
        "  fact*=i\n",
        "  i+=1\n",
        "print(fact)"
      ],
      "metadata": {
        "colab": {
          "base_uri": "https://localhost:8080/"
        },
        "id": "Ve5OEV271Ltr",
        "outputId": "cc42fdbd-51ee-4b26-fd74-687be34612cc"
      },
      "execution_count": 86,
      "outputs": [
        {
          "output_type": "stream",
          "name": "stdout",
          "text": [
            "687\n",
            "no.5\n",
            "0\n",
            "1\n",
            "1\n",
            "2\n",
            "3\n",
            "5\n",
            "no.5\n",
            "5\n",
            "10\n",
            "9\n",
            "8\n",
            "7\n",
            "6\n",
            "5\n",
            "4\n",
            "3\n",
            "2\n",
            "1\n",
            "no.5\n",
            "1\n"
          ]
        }
      ]
    },
    {
      "cell_type": "code",
      "source": [
        "# sum of 1/1!+2/2!+3/3!...\n",
        "res = 0\n",
        "fac = 1\n",
        "n= int(input('no.'))\n",
        "for i in range(1,n+1):\n",
        "  fac *= i\n",
        "  res = res+i/fac\n",
        "print(res)"
      ],
      "metadata": {
        "colab": {
          "base_uri": "https://localhost:8080/"
        },
        "id": "7HKa1O2ycxsc",
        "outputId": "4b5c3448-e7ce-487f-c3d6-49b0a9a5a7aa"
      },
      "execution_count": 5,
      "outputs": [
        {
          "output_type": "stream",
          "name": "stdout",
          "text": [
            "no.5\n",
            "2.708333333333333\n"
          ]
        }
      ]
    },
    {
      "cell_type": "markdown",
      "source": [
        "**PATTERNS**"
      ],
      "metadata": {
        "id": "k2Z8exaCNK1_"
      }
    },
    {
      "cell_type": "code",
      "source": [
        "# patterns\n",
        "'''\n",
        "*\n",
        "**\n",
        "***\n",
        "'''\n",
        "\n",
        "for i in range(1,4):\n",
        "  for j in range(1,i+1):\n",
        "    print('*',end='')\n",
        "  print()\n",
        "\n",
        "'''\n",
        "1\n",
        "12\n",
        "121\n",
        "12321\n",
        "1234321\n",
        "'''\n",
        "\n",
        "for i in range(1,6):      #2\n",
        "  for j in range(1,i+1):  #1,2\n",
        "    print(j,end='')\n",
        "  for k in range(i-1,0,-1):#1\n",
        "    print(k,end='')\n",
        "  print()\n",
        "\n",
        "'''\n",
        "1\n",
        "2 3\n",
        "4 5 6\n",
        "7 8 9 10\n",
        "11 12 13 14 15\n",
        "'''\n",
        "\n",
        "num = 1\n",
        "for i in range(1,5):\n",
        "  for j in range(i):\n",
        "    print(num,end='')\n",
        "    num+=1\n",
        "  print()\n",
        "\n",
        "\n",
        "'''\n",
        "    *\n",
        "   ***\n",
        "  *****\n",
        " *******\n",
        "*********\n",
        "'''\n",
        "\n",
        "num = 5\n",
        "for i in range(1,n+1):\n",
        "  print(' '*(n-i)+'*'*(2*i-1))\n",
        "\n",
        "\n",
        "'''\n",
        "    1\n",
        "   121\n",
        "  12321\n",
        " 1234321\n",
        "123454321\n",
        "'''\n",
        "\n",
        "n = 5\n",
        "for i in range(1,n):\n",
        "  print(' '*(n-i),end='')\n",
        "  for j in range(1,i+1):\n",
        "    print(j,end='')\n",
        "  for k in range(i-1,0,-1):\n",
        "    print(k,end='')\n",
        "  print()\n",
        "\n",
        "'''\n",
        "*****\n",
        "*   *\n",
        "*   *\n",
        "*   *\n",
        "*****\n",
        "'''\n",
        "\n",
        "n= 5\n",
        "for i in range(n):\n",
        "  if i==0 or i==n-1 or i==2:\n",
        "    print('*'*n)\n",
        "  else:\n",
        "    print('*'+' '*(n-2)+'*')"
      ],
      "metadata": {
        "colab": {
          "base_uri": "https://localhost:8080/"
        },
        "id": "TLVpgmYekQ-B",
        "outputId": "e89528d8-87fb-4535-8d0f-eec0fbe365dd"
      },
      "execution_count": 72,
      "outputs": [
        {
          "output_type": "stream",
          "name": "stdout",
          "text": [
            "*\n",
            "**\n",
            "***\n",
            "1\n",
            "121\n",
            "12321\n",
            "1234321\n",
            "123454321\n",
            "1\n",
            "23\n",
            "456\n",
            "78910\n",
            "    *\n",
            "   ***\n",
            "  *****\n",
            " *******\n",
            "*********\n",
            "    1\n",
            "   121\n",
            "  12321\n",
            " 1234321\n",
            "*****\n",
            "*   *\n",
            "*****\n",
            "*   *\n",
            "*****\n"
          ]
        }
      ]
    }
  ]
}