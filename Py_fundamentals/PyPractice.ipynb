{
  "nbformat": 4,
  "nbformat_minor": 0,
  "metadata": {
    "colab": {
      "provenance": [],
      "authorship_tag": "ABX9TyPkLI6mNJ/u+PJBonXDR+18",
      "include_colab_link": true
    },
    "kernelspec": {
      "name": "python3",
      "display_name": "Python 3"
    },
    "language_info": {
      "name": "python"
    }
  },
  "cells": [
    {
      "cell_type": "markdown",
      "metadata": {
        "id": "view-in-github",
        "colab_type": "text"
      },
      "source": [
        "<a href=\"https://colab.research.google.com/github/FazilMSD7/Data-Analytics/blob/main/Py_fundamentals/PyPractice.ipynb\" target=\"_parent\"><img src=\"https://colab.research.google.com/assets/colab-badge.svg\" alt=\"Open In Colab\"/></a>"
      ]
    },
    {
      "cell_type": "markdown",
      "source": [
        "**LOOPS PRACTICE**"
      ],
      "metadata": {
        "id": "4e5wKCTGrp6K"
      }
    },
    {
      "cell_type": "code",
      "source": [
        "# For Loops :\n"
      ],
      "metadata": {
        "id": "FIK5oUsWrwtT"
      },
      "execution_count": null,
      "outputs": []
    }
  ]
}