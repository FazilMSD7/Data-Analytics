{
  "nbformat": 4,
  "nbformat_minor": 0,
  "metadata": {
    "colab": {
      "provenance": [],
      "authorship_tag": "ABX9TyMVBEbz8C2A2ibREyvfkdHq",
      "include_colab_link": true
    },
    "kernelspec": {
      "name": "python3",
      "display_name": "Python 3"
    },
    "language_info": {
      "name": "python"
    }
  },
  "cells": [
    {
      "cell_type": "markdown",
      "metadata": {
        "id": "view-in-github",
        "colab_type": "text"
      },
      "source": [
        "<a href=\"https://colab.research.google.com/github/FazilMSD7/Data-Analytics/blob/main/Py_fundamentals/Python_Advanced.ipynb\" target=\"_parent\"><img src=\"https://colab.research.google.com/assets/colab-badge.svg\" alt=\"Open In Colab\"/></a>"
      ]
    },
    {
      "cell_type": "markdown",
      "source": [
        "###**OOP** (Object Oriented Programming)<br>\n",
        "OOP makes code organized, reusable, and closer to real-world thinking. U can create ur own Data type<br>\n",
        "1. Object → Real-world entity (like a car, bank account, student).\n",
        "\n",
        "2. Class → A blueprint to create objects.\n",
        "\n",
        "#### The main principles (pillars) of OOP:\n",
        "\n",
        "3. Encapsulation → Keep data safe and controlled inside a class.\n",
        "\n",
        "4. Inheritance → Reuse and extend code from other classes.\n",
        "\n",
        "5. Polymorphism → Same function name, different behavior.\n",
        "\n",
        "6. Abstraction → Hide unnecessary details, show only important parts."
      ],
      "metadata": {
        "id": "bSxmmsH_CbSg"
      }
    },
    {
      "cell_type": "markdown",
      "source": [
        "### Class and Object:<br>\n",
        "Blueprint to create Objects, It's set of rules which object follows<br>\n",
        "All data types are classes, and Variables which using that are objects<br><br>\n",
        "\n",
        "Class → A blueprint or template that defines how objects are created (what data and behaviors they have).\n",
        "\n",
        "*   Example: list is a built-in class in Python.\n",
        "\n",
        "\n",
        "Object → An instance of a class.\n",
        "\n",
        "*   Example: L = [1,2,3] → here L is an object (instance of the list class).\n",
        "\n",
        "Behavior/Methods → Objects can use the functions defined in their class.\n",
        "\n",
        "*   Example: L.append(4) works because append() is a method of the list class.\n",
        "\n",
        "Data → Objects also hold their own data (state).\n",
        "\n",
        "*   Example: Before append → [1,2,3], after append → [1,2,3,4].\n",
        "\n",
        "Diff. btw Methods and Function:\n",
        "\n",
        "*   Method : Created inside Class\n",
        "*   Function : Created outside Class\n",
        "\n",
        "Example : L = [1,2,3]<br>\n",
        "L.append(4) --> here append is a method inside List class<br>\n",
        "len(L) --> here len() is a function"
      ],
      "metadata": {
        "id": "MzcQZRwHE9vJ"
      }
    },
    {
      "cell_type": "code",
      "source": [
        "# ATM Machine\n",
        "\n",
        "class Atm():\n",
        "  def __init__(self):\n",
        "    self.pin = ''\n",
        "    self.balance = 0\n",
        "\n",
        "  def menu(self):\n",
        "    user_input = input('''\n",
        "    1. Press 1 Create Pin\n",
        "    2. Press 2 Change Pin\n",
        "    3. Press 3 Check Balance\n",
        "    4. Press 4 Withdraw amount\n",
        "    5. Press Anything else to exit\n",
        "    ''')\n",
        "\n",
        "    if user_input == '1':\n",
        "      self.create_pin()\n",
        "    elif user_input == '2':\n",
        "      self.change_pin()\n",
        "    elif user_input == '3':\n",
        "      self.check_balance()\n",
        "    elif user_input == '4':\n",
        "      self.withdraw_amt()\n",
        "    else:\n",
        "      print(\"Thank you for banking with us..\")\n",
        "      exit()\n",
        "\n",
        "\n",
        "  def create_pin(self):\n",
        "    user_pin = input(\"Enter pin to be created : \")\n",
        "    self.pin = user_pin\n",
        "    print(\"Pin created successfully...\")\n",
        "\n",
        "    user_balance = int(input(\"Enter balance : \"))\n",
        "    self.balance = user_balance\n",
        "    self.menu()\n",
        "\n",
        "  def change_pin(self):\n",
        "    user_pin = input(\"Enter pin : \")\n",
        "    if user_pin == self.pin:\n",
        "      user_pin = input(\"Enter new pin\")\n",
        "      self.pin = user_pin\n",
        "      print(\"Pin changed successfully...\")\n",
        "    else:\n",
        "      print(\"Invalid pin\")\n",
        "    self.menu()\n",
        "\n",
        "  def check_balance(self):\n",
        "    user_pin = input(\"Enter pin : \")\n",
        "    if user_pin == self.pin:\n",
        "      print(f'Balance amount : {self.balance}')\n",
        "    else:\n",
        "      print(\"Invalid pin\")\n",
        "    self.menu()\n",
        "\n",
        "  def withdraw_amt(self):\n",
        "    user_pin = input(\"Enter pin : \")\n",
        "    if user_pin == self.pin:\n",
        "      amt = int(input(\"Enter withdraw amount : \"))\n",
        "      if amt <= self.balance:\n",
        "        self.balance = self.balance - amt\n",
        "        print(f'{amt} withdrawed successfully, Remaining balance : {self.balance}')\n",
        "      else:\n",
        "        print(\"Insufficient balance to withdraw\")\n",
        "    else:\n",
        "      print(\"Invalid pin\")\n",
        "    self.menu()\n",
        "\n",
        "\n",
        "obj = Atm()\n",
        "obj.menu()\n"
      ],
      "metadata": {
        "colab": {
          "base_uri": "https://localhost:8080/"
        },
        "id": "CtK2jW4GaD_Y",
        "outputId": "5dd3dea1-cb95-444e-8a75-0bac51567b62"
      },
      "execution_count": null,
      "outputs": [
        {
          "name": "stdout",
          "output_type": "stream",
          "text": [
            "\n",
            "    1. Press 1 Create Pin\n",
            "    2. Press 2 Change Pin\n",
            "    3. Press 3 Check Balance\n",
            "    4. Press 4 Withdraw amount\n",
            "    5. Press Anything else to exit\n",
            "    1\n",
            "Enter pin to be created : 1234\n",
            "Pin created successfully...\n",
            "Enter balance : 1000\n",
            "\n",
            "    1. Press 1 Create Pin\n",
            "    2. Press 2 Change Pin\n",
            "    3. Press 3 Check Balance\n",
            "    4. Press 4 Withdraw amount\n",
            "    5. Press Anything else to exit\n",
            "    3\n",
            "Enter pin : 1234\n",
            "Balance amount : 1000\n",
            "\n",
            "    1. Press 1 Create Pin\n",
            "    2. Press 2 Change Pin\n",
            "    3. Press 3 Check Balance\n",
            "    4. Press 4 Withdraw amount\n",
            "    5. Press Anything else to exit\n",
            "    4\n",
            "Enter pin : 900\n",
            "Invalid pin\n",
            "\n",
            "    1. Press 1 Create Pin\n",
            "    2. Press 2 Change Pin\n",
            "    3. Press 3 Check Balance\n",
            "    4. Press 4 Withdraw amount\n",
            "    5. Press Anything else to exit\n",
            "    4\n",
            "Enter pin : 1234\n",
            "Enter withdraw amount : 900\n",
            "900 withdrawed successfully, Remaining balance100\n",
            "\n",
            "    1. Press 1 Create Pin\n",
            "    2. Press 2 Change Pin\n",
            "    3. Press 3 Check Balance\n",
            "    4. Press 4 Withdraw amount\n",
            "    5. Press Anything else to exit\n",
            "    4\n",
            "Enter pin : 1234\n",
            "Enter withdraw amount : 50\n",
            "50 withdrawed successfully, Remaining balance50\n",
            "\n",
            "    1. Press 1 Create Pin\n",
            "    2. Press 2 Change Pin\n",
            "    3. Press 3 Check Balance\n",
            "    4. Press 4 Withdraw amount\n",
            "    5. Press Anything else to exit\n",
            "    4\n",
            "Enter pin : 1234\n",
            "Enter withdraw amount : 50\n",
            "50 withdrawed successfully, Remaining balance0\n",
            "\n",
            "    1. Press 1 Create Pin\n",
            "    2. Press 2 Change Pin\n",
            "    3. Press 3 Check Balance\n",
            "    4. Press 4 Withdraw amount\n",
            "    5. Press Anything else to exit\n",
            "    7\n"
          ]
        }
      ]
    },
    {
      "cell_type": "markdown",
      "source": [
        "### Magic/Dunder Methods :\n",
        "Magic method let you customize how objects behave with operators, functions, and printing. Start's and ends with double underscore<br>\n",
        "Eg : Constructor is a magic method<br>\n",
        "#### constructor :\n",
        "Constructor(______init__) is a method inside class, which is super method bcz u no need to call while excecuting like other functions...<br>\n",
        "bcz it triggers automatically. U don't have any control like other functions<br>\n",
        "we use in configuration : like setting db, network before executing itself..<br><br>\n",
        "Think like; God -> Programmer, Earth -> Class, Humans -> Objects, Death -> Constructor"
      ],
      "metadata": {
        "id": "VxVNyHrsnxjZ"
      }
    },
    {
      "cell_type": "markdown",
      "source": [
        "### Self :<br>\n",
        "**self** is a reference to the current object. (It's like a mediator inside a class between methods)<br>\n",
        "It lets methods inside a class access variables and call other methods of the same object.<br>\n",
        "Without self, the object cannot access its own data or methods.<br><br>\n",
        "In this ATM class, self links all methods (menu, create_pin, withdraw_amt, etc.) to the same object (obj).<br>\n",
        "That’s why when you set a pin or balance, the same values are available in other methods.\n",
        "So, self ensures all methods work on the same object’s data.<br>\n",
        "Without self, each method wouldn’t know which object’s data to use."
      ],
      "metadata": {
        "id": "q8h7GOuhrViR"
      }
    },
    {
      "cell_type": "code",
      "source": [
        "# Creating own Function : (Factor)\n",
        "\n",
        "class Factor:\n",
        "  def __init__(self,x,y): #parameterized constructor\n",
        "    self.num = x\n",
        "    self.den = y\n",
        "\n",
        "  def __str__(self):    # __str__ inbuild constructor to print output in ur desired way\n",
        "    return '{}/{}'.format(self.num,self.den)\n",
        "\n",
        "  def __add__(self,other):  # __add__ inbuild to add\n",
        "    new_num = self.num*other.den + other.den*self.den\n",
        "    new_den = self.den*other.den\n",
        "    return '{}/{}'.format(new_num,new_den)\n",
        "\n",
        "  def __sub__(self,other):  # __sub__ inbuild to sub\n",
        "    new_num = self.num*other.den - other.den*self.den\n",
        "    new_den = self.den*other.den\n",
        "    return '{}/{}'.format(new_num,new_den)\n",
        "\n",
        "\n",
        "  def __mul__(self,other):  # __mul__ inbuild to multiply\n",
        "    new_num = self.num*other.num\n",
        "    new_den = self.den*other.den\n",
        "    return '{}/{}'.format(new_num,new_den)\n",
        "\n",
        "  def __truediv__(self,other):  # __truediv__ inbuild to divide\n",
        "    new_num = self.num*other.den\n",
        "    new_den = self.den*other.num\n",
        "    return '{}/{}'.format(new_num,new_den)\n",
        "\n",
        "  def convert_to_decimal(self): # create own functions also\n",
        "    return self.num/self.den\n",
        "\n",
        "fr1 = Factor(1,2)\n",
        "print(fr1)\n",
        "\n",
        "fr2 = Factor(3,4)\n",
        "print(fr1+fr2)\n",
        "print(fr1-fr2)\n",
        "print(fr1*fr2)\n",
        "print(fr1/fr2)\n",
        "\n",
        "fr1.convert_to_decimal()"
      ],
      "metadata": {
        "colab": {
          "base_uri": "https://localhost:8080/"
        },
        "id": "LjW3_FT5ww99",
        "outputId": "27eca9da-90cd-4459-a5ae-ca8c603b162c"
      },
      "execution_count": null,
      "outputs": [
        {
          "output_type": "stream",
          "name": "stdout",
          "text": [
            "1/2\n",
            "12/8\n",
            "-4/8\n",
            "3/8\n",
            "4/6\n"
          ]
        },
        {
          "output_type": "execute_result",
          "data": {
            "text/plain": [
              "0.5"
            ]
          },
          "metadata": {},
          "execution_count": 1
        }
      ]
    },
    {
      "cell_type": "markdown",
      "source": [
        "Attribute creation outside class"
      ],
      "metadata": {
        "id": "_Se6atfnlRWY"
      }
    },
    {
      "cell_type": "code",
      "source": [
        "class Person:\n",
        "  def __init__(self,name,country):\n",
        "    self.name = name\n",
        "    self.country = country\n",
        "\n",
        "  def greet(self):\n",
        "    if self.country == 'India':\n",
        "      return f'Namaste! ,{self.name}'\n",
        "    else:\n",
        "      print('Hello ',self.name)\n",
        "\n",
        "p = Person('Fazil','India')\n",
        "print(p.greet())  #accessing mtd\n",
        "\n",
        "print(p.name) #accessing attribute\n",
        "\n",
        "print(p.gender) #accessing non-existing throws error"
      ],
      "metadata": {
        "id": "aCsWmkXDlVmv",
        "outputId": "e4c5c6e0-25b8-45f6-95a7-fca74fa80eaf",
        "colab": {
          "base_uri": "https://localhost:8080/",
          "height": 211
        }
      },
      "execution_count": null,
      "outputs": [
        {
          "output_type": "stream",
          "name": "stdout",
          "text": [
            "Namaste! ,Fazil\n",
            "Fazil\n"
          ]
        },
        {
          "output_type": "error",
          "ename": "AttributeError",
          "evalue": "'Person' object has no attribute 'gender'",
          "traceback": [
            "\u001b[0;31m---------------------------------------------------------------------------\u001b[0m",
            "\u001b[0;31mAttributeError\u001b[0m                            Traceback (most recent call last)",
            "\u001b[0;32m/tmp/ipython-input-1332336613.py\u001b[0m in \u001b[0;36m<cell line: 0>\u001b[0;34m()\u001b[0m\n\u001b[1;32m     15\u001b[0m \u001b[0mprint\u001b[0m\u001b[0;34m(\u001b[0m\u001b[0mp\u001b[0m\u001b[0;34m.\u001b[0m\u001b[0mname\u001b[0m\u001b[0;34m)\u001b[0m \u001b[0;31m#accessing attribute\u001b[0m\u001b[0;34m\u001b[0m\u001b[0;34m\u001b[0m\u001b[0m\n\u001b[1;32m     16\u001b[0m \u001b[0;34m\u001b[0m\u001b[0m\n\u001b[0;32m---> 17\u001b[0;31m \u001b[0mprint\u001b[0m\u001b[0;34m(\u001b[0m\u001b[0mp\u001b[0m\u001b[0;34m.\u001b[0m\u001b[0mgender\u001b[0m\u001b[0;34m)\u001b[0m\u001b[0;34m\u001b[0m\u001b[0;34m\u001b[0m\u001b[0m\n\u001b[0m",
            "\u001b[0;31mAttributeError\u001b[0m: 'Person' object has no attribute 'gender'"
          ]
        }
      ]
    },
    {
      "cell_type": "code",
      "source": [
        "p.gender = 'Male'\n",
        "print(p.gender) #creating attr. outside class"
      ],
      "metadata": {
        "id": "lXLRghpHmbHq",
        "outputId": "26174863-c916-4bf2-f38b-5e625b9da59f",
        "colab": {
          "base_uri": "https://localhost:8080/"
        }
      },
      "execution_count": null,
      "outputs": [
        {
          "output_type": "stream",
          "name": "stdout",
          "text": [
            "Male\n"
          ]
        }
      ]
    },
    {
      "cell_type": "markdown",
      "source": [
        "####Reference Variables\n",
        "*   Holds the object, stores address of that object\n",
        "*   We can create objects without reference variable, we use it bcz we can store to reuse\n",
        "*   An object can have multiple reference varaibles\n",
        "*   Assigning a new reference variable to an existing doesn't create new, so if u change value it affects both\n",
        "\n",
        "\n",
        "\n"
      ],
      "metadata": {
        "id": "t0T-ZlYWnsju"
      }
    },
    {
      "cell_type": "code",
      "source": [
        "#object without reference\n",
        "class Person:\n",
        "  def __init__(self):\n",
        "    self.name = 'fazil'\n",
        "    self.gender = 'male'\n",
        "\n",
        "Person # Person by itself => the class, not an object.\n",
        "\n",
        "Person()  # creates an object.\n",
        "\n",
        "p = Person() # creates an object and assigns a reference (p) to it.\n",
        "\n",
        "p.name  # now we can access by using reference of object\n",
        "\n",
        "q = p\n",
        "print(p.name)\n",
        "print(q.name)\n",
        "\n",
        "q.name = 'monica' #  if u change value it affects both\n",
        "print(p.name)\n",
        "print(q.name)"
      ],
      "metadata": {
        "id": "MS2gFeaXnv4-",
        "outputId": "e481e75e-9597-4a0a-ae5f-870681d35c50",
        "colab": {
          "base_uri": "https://localhost:8080/"
        }
      },
      "execution_count": null,
      "outputs": [
        {
          "output_type": "stream",
          "name": "stdout",
          "text": [
            "fazil\n",
            "fazil\n",
            "monica\n",
            "monica\n"
          ]
        }
      ]
    },
    {
      "cell_type": "markdown",
      "source": [
        "####Pass by reference\n",
        "we can pass object to function and return object for a function which is inside/outside of a class"
      ],
      "metadata": {
        "id": "WrZmPSWwsAyo"
      }
    },
    {
      "cell_type": "code",
      "source": [
        "class Person:\n",
        "  def __init__(self,name,gender):\n",
        "    self.name = name\n",
        "    self.gender = gender\n",
        "\n",
        "def greet(person):\n",
        "  print('My name is ',person.name,'and I am a ',person.gender)  # Inside the function, you can use that object’s data (person.name, person.gender).\n",
        "  p1 = Person('Monica','Female')  # new obj created\n",
        "  return p1 # return obj in function\n",
        "\n",
        "p = Person('Fazil','Male')\n",
        "greet(p)  # sent object as param to a function\n",
        "\n",
        "x = greet(p)\n",
        "print(x.name)\n",
        "print(x.gender)\n",
        "\n",
        "\n",
        "# Objects are mutable\n",
        "# for every object value of instance variable is diff. eg: self.name --> p1.name, p2.name : stores in diff. memory"
      ],
      "metadata": {
        "id": "u16KqQtMsmDd",
        "outputId": "04a7af55-18d9-47fc-dc29-f91e2d7ae512",
        "colab": {
          "base_uri": "https://localhost:8080/"
        }
      },
      "execution_count": 2,
      "outputs": [
        {
          "output_type": "stream",
          "name": "stdout",
          "text": [
            "My name is  Fazil and I am a  Male\n",
            "My name is  Fazil and I am a  Male\n",
            "Monica\n",
            "Female\n"
          ]
        }
      ]
    },
    {
      "cell_type": "markdown",
      "source": [
        "###**Encapsulation**\n",
        "*   Binding data together\n",
        "\n",
        "*   Encapsulation means hiding the data (using private variables) + exposing controlled methods to access or modify it.\n",
        "\n",
        "*   set variable with __ (double underscore) at start of variable. Eg : self.__balance\n",
        "\n",
        "*   Getter → safely read a private variable.\n",
        "\n",
        "*   Setter → safely update a private variable with rules/validation.\n",
        "\n"
      ],
      "metadata": {
        "id": "UPPHfDwQGSGn"
      }
    },
    {
      "cell_type": "code",
      "source": [
        "class Bank:\n",
        "    def __init__(self, balance):\n",
        "        self.__balance = balance   # private variable\n",
        "\n",
        "    # Getter\n",
        "    def get_balance(self):\n",
        "        return self.__balance\n",
        "\n",
        "    # Setter\n",
        "    def set_balance(self, amount):\n",
        "        if amount >= 0:\n",
        "            self.__balance = amount\n",
        "        else:\n",
        "            print(\"Balance cannot be negative!\")\n",
        "\n",
        "    # Method to deposit\n",
        "    def deposit(self, amount):\n",
        "        if amount > 0:\n",
        "            self.__balance += amount\n",
        "        else:\n",
        "            print(\"Deposit must be positive!\")\n",
        "\n",
        "# --- Using the class ---\n",
        "account = Bank(1000)\n",
        "\n",
        "# print(account.__balance)  --> throws error we can't access directly bcz private\n",
        "\n",
        "print(account.get_balance())   # ✅ 1000 (getter)\n",
        "\n",
        "account.set_balance(2000)      # ✅ update balance\n",
        "print(account.get_balance())   # ✅ 2000\n",
        "\n",
        " # ❌ invalid update\n",
        "account.set_balance(-500)\n",
        "\n",
        "# account.set_balance('hehehe')\n",
        "# print(account.get_balance())  --> throws error, bcz we can still change private using set_balance, but we shouldn't do that\n",
        "\n",
        "\n",
        "# Remember nothing in Python is cmpltly privatized... :)"
      ],
      "metadata": {
        "id": "DShnSZc2iA4y",
        "outputId": "84af99e9-3a2f-4d79-8dc5-388c2abf798f",
        "colab": {
          "base_uri": "https://localhost:8080/"
        }
      },
      "execution_count": 5,
      "outputs": [
        {
          "output_type": "stream",
          "name": "stdout",
          "text": [
            "1000\n",
            "2000\n",
            "Balance cannot be negative!\n"
          ]
        }
      ]
    },
    {
      "cell_type": "markdown",
      "source": [
        "###Collection of Objects\n",
        "we can pass objects in lists/sets/dicts"
      ],
      "metadata": {
        "id": "EaNAEoNC4QNL"
      }
    },
    {
      "cell_type": "code",
      "source": [
        "# list of objects\n",
        "class Person:\n",
        "  def __init__(self,name,gender):\n",
        "    self.name = name\n",
        "    self.gender = gender\n",
        "\n",
        "p1 = Person('Fz','Male')\n",
        "p2 = Person('Monica','Female')\n",
        "\n",
        "L = [p1,p2]\n",
        "print(L)\n",
        "\n",
        "for i in L:\n",
        "  print(i.name,i.gender)"
      ],
      "metadata": {
        "id": "qsd1Z4u85GNh",
        "outputId": "359605aa-b5e1-4316-9c2f-468094d0e3f9",
        "colab": {
          "base_uri": "https://localhost:8080/"
        }
      },
      "execution_count": null,
      "outputs": [
        {
          "output_type": "stream",
          "name": "stdout",
          "text": [
            "[<__main__.Person object at 0x7b6f0a6bfa50>, <__main__.Person object at 0x7b6f0a7093d0>]\n",
            "Fz Male\n",
            "Monica Female\n"
          ]
        }
      ]
    },
    {
      "cell_type": "code",
      "source": [
        "# dictionary of objects\n",
        "class Person:\n",
        "  def __init__(self,name,gender):\n",
        "    self.name = name\n",
        "    self.gender = gender\n",
        "\n",
        "p1 = Person('Fz','Male')\n",
        "p2 = Person('Monica','Female')\n",
        "\n",
        "d = {'p1':p1,'p2':p2}\n",
        "for i in d:\n",
        "  print(d[i].name,d[i].gender)\n"
      ],
      "metadata": {
        "id": "7DnXCuZe6FS5",
        "outputId": "4077fe2d-34f1-4292-b344-6b63a96b6577",
        "colab": {
          "base_uri": "https://localhost:8080/"
        }
      },
      "execution_count": null,
      "outputs": [
        {
          "output_type": "stream",
          "name": "stdout",
          "text": [
            "Fz Male\n",
            "Monica Female\n"
          ]
        }
      ]
    },
    {
      "cell_type": "markdown",
      "source": [
        "###Instance vs Static Variable <br>\n",
        "Instance Variable :\n",
        "\n",
        "*   Belongs to each object (unique copy per object)\n",
        "*   Defined using self.\n",
        "*   Changes affect only that object.\n",
        "*   Instance variable → specific to each object (self.var).\n",
        "\n",
        "\n",
        "Static (Class) Variable\n",
        "\n",
        "*   Belongs to the class itself (shared across all objects).\n",
        "*   Defined outside __init__, inside class.\n",
        "*   Change affects all objects.\n",
        "*   Static/Class variable → common to all objects (ClassName.var)."
      ],
      "metadata": {
        "id": "TzcwZe8f9HMl"
      }
    },
    {
      "cell_type": "code",
      "source": [
        "# instance variable\n",
        "class Bank:\n",
        "    def __init__(self):\n",
        "        self.__balance = 0\n",
        "        self.name = 'Fazil'\n",
        "        self.cId = 0\n",
        "        self.cId+=1\n",
        "\n",
        "c1 = Bank()\n",
        "c2 = Bank()\n",
        "\n",
        "print(c1.cId)\n",
        "\n",
        "print(c2.cId) # both cId remains same bcz it points to diff. variables(instance -> c1,c2)"
      ],
      "metadata": {
        "id": "2clm1g8U68TW",
        "outputId": "8d6081a6-5595-4dce-f375-6f3e94359687",
        "colab": {
          "base_uri": "https://localhost:8080/"
        }
      },
      "execution_count": 7,
      "outputs": [
        {
          "output_type": "stream",
          "name": "stdout",
          "text": [
            "1\n",
            "1\n"
          ]
        }
      ]
    },
    {
      "cell_type": "code",
      "source": [
        "# static variable\n",
        "class Bank:\n",
        "\n",
        "    counter = 1\n",
        "    def __init__(self):\n",
        "        self.__balance = 0\n",
        "        self.name = 'Fazil'\n",
        "        self.cId = Bank.counter\n",
        "        Bank.counter = Bank.counter + 1\n",
        "\n",
        "c1 = Bank()\n",
        "c2 = Bank()\n",
        "c3 = Bank()\n",
        "\n",
        "print(c1.cId)\n",
        "\n",
        "print(c2.cId) # both cId changes same bcz it points to same. class variables(static -> Bank.counter for all c1,c2,c3..)\n",
        "\n",
        "print(c3.cId)"
      ],
      "metadata": {
        "id": "NSADuYdL_YJ8",
        "outputId": "d8ad8662-c247-446c-934f-bf430b581877",
        "colab": {
          "base_uri": "https://localhost:8080/"
        }
      },
      "execution_count": null,
      "outputs": [
        {
          "output_type": "stream",
          "name": "stdout",
          "text": [
            "1\n",
            "2\n",
            "3\n"
          ]
        }
      ]
    },
    {
      "cell_type": "markdown",
      "source": [
        "Static Method"
      ],
      "metadata": {
        "id": "4uerfHLFCJlO"
      }
    },
    {
      "cell_type": "code",
      "source": [
        "# but still someone can change the counter value, so make it private and use @staticmethod keyword --> Static mtd\n",
        "# Bank.counter = 'hehehe'\n",
        "\n",
        "class Bank:\n",
        "\n",
        "    __counter = 1\n",
        "    def __init__(self):\n",
        "        self.__balance = 0\n",
        "        self.name = 'Fazil'\n",
        "        self.cId = Bank.__counter\n",
        "        Bank.__counter = Bank.__counter + 1\n",
        "\n",
        "    #utility function\n",
        "    @staticmethod\n",
        "    def get_counter():\n",
        "        return Bank.__counter\n",
        "\n",
        "c1 = Bank()\n",
        "c2 = Bank()\n",
        "c3 = Bank()\n",
        "\n",
        "print(c1.cId)\n",
        "\n",
        "print(c2.cId) # both cId changes same bcz it points to same. class variables(static -> Bank.counter for all c1,c2,c3..)\n",
        "\n",
        "print(c3.cId)\n",
        "\n",
        "print(Bank.get_counter())"
      ],
      "metadata": {
        "id": "oYTIt135BFCm",
        "outputId": "6769ce32-f2c0-4121-de97-d66b18faeac2",
        "colab": {
          "base_uri": "https://localhost:8080/"
        }
      },
      "execution_count": null,
      "outputs": [
        {
          "output_type": "stream",
          "name": "stdout",
          "text": [
            "1\n",
            "2\n",
            "3\n",
            "4\n"
          ]
        }
      ]
    },
    {
      "cell_type": "markdown",
      "source": [
        "###Class Relationships\n",
        "\n",
        "*   Aggregation\n",
        "*   Inheritance\n",
        "\n"
      ],
      "metadata": {
        "id": "LVTuDnJdPNfx"
      }
    },
    {
      "cell_type": "markdown",
      "source": [
        "####**Aggregation**(Has-A-Relationship) :\n",
        "When One class owns the other class. Eg: Class Customer owns Class Address --> customer has address..<br>\n",
        "We can't fetch private variables of child class directlty, use getter/setter<br>\n",
        "When creating the parent, you pass the child object as a parameter to establish the relationship"
      ],
      "metadata": {
        "id": "TFoOMNJtPHKW"
      }
    },
    {
      "cell_type": "code",
      "source": [
        "#Parent class:\n",
        "class Customer:\n",
        "  def __init__(self,name,gender,address):\n",
        "    self.name = name\n",
        "    self.gender = gender\n",
        "    self.__address = address\n",
        "\n",
        "  def print_address(self):\n",
        "    print(self.__address.get_city(),self.__address.state)\n",
        "\n",
        "  def details(self):\n",
        "    print(self.name,self.gender,end=' ')\n",
        "    self.print_address()  # to call other mtd inside a mtd\n",
        "\n",
        "  def edit_profile(self,new_name,new_city,new_state): # edit address will be called frm Address()\n",
        "    self.name = new_name\n",
        "    self.__address.edit_address(new_city,new_state)\n",
        "\n",
        "class Address:\n",
        "  def __init__(self,city,state):\n",
        "    self.__city = city\n",
        "    self.state = state\n",
        "\n",
        "  def get_city(self): #use getter to access private variable city\n",
        "    return self.__city\n",
        "\n",
        "  def edit_address(self,new_city,new_state):\n",
        "    self.__city = new_city\n",
        "    self.state = new_state\n",
        "\n",
        "addr = Address('Ooty','TN')\n",
        "c = Customer('Fz','Male',addr)  #pass the child object as a parameter\n",
        "c.details()\n",
        "\n",
        "c.edit_profile('Fazil','Sby','Kl')\n",
        "c.details()"
      ],
      "metadata": {
        "colab": {
          "base_uri": "https://localhost:8080/"
        },
        "id": "T4CbyOyPQ0gZ",
        "outputId": "30935b17-0c7a-405a-c935-b99337b53022"
      },
      "execution_count": 3,
      "outputs": [
        {
          "output_type": "stream",
          "name": "stdout",
          "text": [
            "Fz Male Ooty TN\n",
            "Fazil Male Sby Kl\n"
          ]
        }
      ]
    },
    {
      "cell_type": "markdown",
      "source": [
        "###Inheritance<br>\n",
        "\n",
        "\n",
        "*   One class (child/derived) acquires the properties and behaviors (variables & methods) of another class (parent/base).\n",
        "\n",
        "*   If child class doesn't have it's own constructor, Parent class constructor will be called\n",
        "\n",
        "*   If child has it's constructor, Parent class won't be called itself. Means we can access parent. Can access through super()\n",
        "\n",
        "*   We can access Parent -> constructor, non-private variable, non-private mtd\n",
        "\n",
        "*   The parent has no access to child   \n",
        "\n",
        "*   Child class can overide the attributes or methods -> Method overiding\n",
        "\n",
        "*   super() is an inbuilt fn which is used to invoke the parent class mtds and attr.\n",
        "\n"
      ],
      "metadata": {
        "id": "xeuOzgyyhn3K"
      }
    },
    {
      "cell_type": "code",
      "source": [
        "class Phone:\n",
        "  def __init__(self,brand,price,model):\n",
        "    self.brand = brand\n",
        "    self.__price = price\n",
        "    self.model = model\n",
        "\n",
        "class SmartPhone(Phone):\n",
        "  pass\n",
        "\n",
        "s = SmartPhone('Apple',75000,'Apple 13 Pro')\n",
        "print(s.model) #access parent variable\n",
        "\n",
        "s.price #can't access parent private variable without getter"
      ],
      "metadata": {
        "colab": {
          "base_uri": "https://localhost:8080/",
          "height": 193
        },
        "id": "mMnQfjsQbGRR",
        "outputId": "69a39a71-be11-4334-96c1-07efd2227c44"
      },
      "execution_count": 67,
      "outputs": [
        {
          "output_type": "stream",
          "name": "stdout",
          "text": [
            "Apple 13 Pro\n"
          ]
        },
        {
          "output_type": "error",
          "ename": "AttributeError",
          "evalue": "'SmartPhone' object has no attribute 'price'",
          "traceback": [
            "\u001b[0;31m---------------------------------------------------------------------------\u001b[0m",
            "\u001b[0;31mAttributeError\u001b[0m                            Traceback (most recent call last)",
            "\u001b[0;32m/tmp/ipython-input-3614928756.py\u001b[0m in \u001b[0;36m<cell line: 0>\u001b[0;34m()\u001b[0m\n\u001b[1;32m     11\u001b[0m \u001b[0mprint\u001b[0m\u001b[0;34m(\u001b[0m\u001b[0ms\u001b[0m\u001b[0;34m.\u001b[0m\u001b[0mmodel\u001b[0m\u001b[0;34m)\u001b[0m \u001b[0;31m#access parent variable\u001b[0m\u001b[0;34m\u001b[0m\u001b[0;34m\u001b[0m\u001b[0m\n\u001b[1;32m     12\u001b[0m \u001b[0;34m\u001b[0m\u001b[0m\n\u001b[0;32m---> 13\u001b[0;31m \u001b[0ms\u001b[0m\u001b[0;34m.\u001b[0m\u001b[0mprice\u001b[0m \u001b[0;31m#can't access parent private variable\u001b[0m\u001b[0;34m\u001b[0m\u001b[0;34m\u001b[0m\u001b[0m\n\u001b[0m",
            "\u001b[0;31mAttributeError\u001b[0m: 'SmartPhone' object has no attribute 'price'"
          ]
        }
      ]
    },
    {
      "cell_type": "code",
      "source": [
        "class Phone:\n",
        "  def __init__(self,brand,price,model):\n",
        "    self.brand = brand\n",
        "    self.price = price\n",
        "    self.model = model\n",
        "\n",
        "class SmartPhone(Phone):\n",
        "  def __init__(self,color):\n",
        "    self.color = color\n",
        "\n",
        "s = SmartPhone('Black')\n",
        "s.brand #can't access parent variable, bcz child has it's own const."
      ],
      "metadata": {
        "colab": {
          "base_uri": "https://localhost:8080/",
          "height": 176
        },
        "id": "_iKSmMLCoO_P",
        "outputId": "62f6c0e0-67ee-4389-a489-e53c45ad15c0"
      },
      "execution_count": 70,
      "outputs": [
        {
          "output_type": "error",
          "ename": "AttributeError",
          "evalue": "'SmartPhone' object has no attribute 'brand'",
          "traceback": [
            "\u001b[0;31m---------------------------------------------------------------------------\u001b[0m",
            "\u001b[0;31mAttributeError\u001b[0m                            Traceback (most recent call last)",
            "\u001b[0;32m/tmp/ipython-input-411123828.py\u001b[0m in \u001b[0;36m<cell line: 0>\u001b[0;34m()\u001b[0m\n\u001b[1;32m     10\u001b[0m \u001b[0;34m\u001b[0m\u001b[0m\n\u001b[1;32m     11\u001b[0m \u001b[0ms\u001b[0m \u001b[0;34m=\u001b[0m \u001b[0mSmartPhone\u001b[0m\u001b[0;34m(\u001b[0m\u001b[0;34m'Black'\u001b[0m\u001b[0;34m)\u001b[0m\u001b[0;34m\u001b[0m\u001b[0;34m\u001b[0m\u001b[0m\n\u001b[0;32m---> 12\u001b[0;31m \u001b[0ms\u001b[0m\u001b[0;34m.\u001b[0m\u001b[0mbrand\u001b[0m \u001b[0;31m#can't access parent variable, bcz child has it's own const.\u001b[0m\u001b[0;34m\u001b[0m\u001b[0;34m\u001b[0m\u001b[0m\n\u001b[0m",
            "\u001b[0;31mAttributeError\u001b[0m: 'SmartPhone' object has no attribute 'brand'"
          ]
        }
      ]
    },
    {
      "cell_type": "code",
      "source": [
        "class Parent:\n",
        "  def __init__(self,num):\n",
        "    self.__num = num\n",
        "\n",
        "  def get_num(self):  #using getter access\n",
        "    return self.__num\n",
        "\n",
        "class Child(Parent):\n",
        "  def show(self):\n",
        "    print('Inside child')\n",
        "\n",
        "c = Child(2)\n",
        "print(c.get_num())\n",
        "c.show()"
      ],
      "metadata": {
        "colab": {
          "base_uri": "https://localhost:8080/"
        },
        "id": "LBadzcJXpFVs",
        "outputId": "8c32d75b-9d02-443a-a01d-b95d46782084"
      },
      "execution_count": 74,
      "outputs": [
        {
          "output_type": "stream",
          "name": "stdout",
          "text": [
            "2\n",
            "Inside child\n"
          ]
        }
      ]
    },
    {
      "cell_type": "markdown",
      "source": [
        "###Method overiding\n",
        "If parent and child class have same mtd name, Child mtd will be called"
      ],
      "metadata": {
        "id": "jTye961vq4TT"
      }
    },
    {
      "cell_type": "code",
      "source": [
        "class Phone:\n",
        "  def buy(self):\n",
        "    print('Parent class')\n",
        "\n",
        "class SmartPhone(Phone):\n",
        "  def buy(self):\n",
        "    print('Child class')\n",
        "\n",
        "s = SmartPhone()\n",
        "s.buy()"
      ],
      "metadata": {
        "colab": {
          "base_uri": "https://localhost:8080/"
        },
        "id": "yt6HhZ6vri6i",
        "outputId": "153154f0-04bc-48a2-8dc7-e811364d5d5f"
      },
      "execution_count": 7,
      "outputs": [
        {
          "output_type": "stream",
          "name": "stdout",
          "text": [
            "Child class\n"
          ]
        }
      ]
    },
    {
      "cell_type": "markdown",
      "source": [
        "###Super Keyword\n",
        "\n",
        "*   To call both constructors, and access both even it's method overiding\n",
        "*   Can only call inside class, can't call outside\n",
        "*   We can access only mtds, not attributes\n",
        "\n",
        "\n",
        "\n"
      ],
      "metadata": {
        "id": "f4yQjSBur-6S"
      }
    },
    {
      "cell_type": "code",
      "source": [
        "class Phone:\n",
        "  def __init__(self,brand,price,model):\n",
        "    self.brand = brand\n",
        "    self.__price = price\n",
        "    self.model = model\n",
        "\n",
        "  def buy(self):\n",
        "    print('Parent class')\n",
        "\n",
        "class SmartPhone(Phone):\n",
        "  def buy(self):\n",
        "    print('Child class')\n",
        "    super().buy()\n",
        "    # super().brand # can't access attributes\n",
        "\n",
        "s = SmartPhone('Apple',75000,'Apple 13 Pro')\n",
        "s.buy()"
      ],
      "metadata": {
        "colab": {
          "base_uri": "https://localhost:8080/"
        },
        "id": "-jVVMAGwtK33",
        "outputId": "7451eb74-3ca9-4c63-e1a5-75aa4e85d72e"
      },
      "execution_count": 83,
      "outputs": [
        {
          "output_type": "stream",
          "name": "stdout",
          "text": [
            "Child class\n",
            "Parent class\n"
          ]
        }
      ]
    },
    {
      "cell_type": "code",
      "source": [
        "# super -> constructor\n",
        "\n",
        "class Phone:\n",
        "  def __init__(self,brand,price,model):\n",
        "    print('Inside Parent class')\n",
        "    self.brand = brand\n",
        "    self.__price = price\n",
        "    self.model = model\n",
        "\n",
        "class SmartPhone(Phone):\n",
        "  def __init__(self,brand,price,model,os):\n",
        "    print('Child class')\n",
        "    super().__init__(price,brand,price)\n",
        "    self.os = os\n",
        "    print('Inside Child class')\n",
        "\n",
        "s = SmartPhone('Apple',75000,'Apple 13 Pro','IOS')\n",
        "print(s.os) #child member\n",
        "\n",
        "s.brand  #parent member"
      ],
      "metadata": {
        "colab": {
          "base_uri": "https://localhost:8080/"
        },
        "id": "LAFPmwkRtYUb",
        "outputId": "bd2eff57-4eff-4eb6-e1cf-4688bdd3f6b2"
      },
      "execution_count": 81,
      "outputs": [
        {
          "output_type": "stream",
          "name": "stdout",
          "text": [
            "Child class\n",
            "Inside Parent class\n",
            "Inside Child class\n",
            "IOS\n"
          ]
        },
        {
          "output_type": "execute_result",
          "data": {
            "text/plain": [
              "75000"
            ]
          },
          "metadata": {},
          "execution_count": 81
        }
      ]
    },
    {
      "cell_type": "markdown",
      "source": [
        "###Types of Inheritance\n",
        "\n",
        "*   Single -> One child inherits from one parent.\n",
        "(e.g., Dog → Animal)\n",
        "\n",
        "*   Multilevel -> A chain of inheritance (child → parent → grandparent).\n",
        "(e.g., SmartPhone → Phone → Device)\n",
        "\n",
        "*   Hierarical -> Multiple children inherit from the same parent.\n",
        "(e.g., Dog, Cat → Animal)\n",
        "\n",
        "*   Multiple -> One child inherits from multiple parents.\n",
        "(e.g., SmartPhone → Phone, Camera)\n",
        "\n",
        "*   Hybrid -> Combination of two or more types (common in real projects).\n",
        "(e.g., mix of hierarchical + multiple)\n",
        "![inheritance_types.jpg](data:image/jpeg;base64,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)\n"
      ],
      "metadata": {
        "id": "sOb6uFZl2Gzs"
      }
    },
    {
      "cell_type": "code",
      "source": [
        "#single inheritance:\n",
        "class SmartPhone:\n",
        "  def __init__(self,name,model):\n",
        "    self.name = name\n",
        "    self.model = model\n",
        "\n",
        "class Phone(SmartPhone):\n",
        "  pass\n",
        "\n",
        "p = Phone('Nokia','Nokia8')\n",
        "p.model"
      ],
      "metadata": {
        "colab": {
          "base_uri": "https://localhost:8080/",
          "height": 36
        },
        "id": "1dRCbay14TwU",
        "outputId": "c5421e5f-9ed8-4e51-f036-7755edc3a117"
      },
      "execution_count": 7,
      "outputs": [
        {
          "output_type": "execute_result",
          "data": {
            "text/plain": [
              "'Nokia8'"
            ],
            "application/vnd.google.colaboratory.intrinsic+json": {
              "type": "string"
            }
          },
          "metadata": {},
          "execution_count": 7
        }
      ]
    },
    {
      "cell_type": "code",
      "source": [
        "#multilevel inheritance:\n",
        "class Brand:\n",
        "  def __init__(self,name,model):\n",
        "    self.name = name\n",
        "    self.model = model\n",
        "\n",
        "class Price(Brand):\n",
        "  def __init__(self, name, model,price):\n",
        "    self.price = price\n",
        "    super().__init__(name, model)\n",
        "\n",
        "class SmartPhone(Price):\n",
        "  def __init__(self,name,model,price,year):\n",
        "    self.year = year\n",
        "    super().__init__(name,model,price)\n",
        "\n",
        "s = SmartPhone('Apple','Iphone 13 Pro',75000,2019)\n",
        "print(s.price)\n",
        "s.year"
      ],
      "metadata": {
        "colab": {
          "base_uri": "https://localhost:8080/"
        },
        "id": "dREQ61Vu8XPf",
        "outputId": "5b3c0119-d7c8-461b-c11d-f4720b7aca07"
      },
      "execution_count": 12,
      "outputs": [
        {
          "output_type": "stream",
          "name": "stdout",
          "text": [
            "75000\n"
          ]
        },
        {
          "output_type": "execute_result",
          "data": {
            "text/plain": [
              "2019"
            ]
          },
          "metadata": {},
          "execution_count": 12
        }
      ]
    },
    {
      "cell_type": "code",
      "source": [
        "#heirarichal inheritance:\n",
        "class Vehicle:\n",
        "  def __init__(self,name):\n",
        "    self.name = name\n",
        "\n",
        "class Brand(Vehicle):\n",
        "  def __init__(self,name,brand):\n",
        "    self.brand = brand\n",
        "    super().__init__(name)\n",
        "\n",
        "class Model(Vehicle):\n",
        "  def __init__(self, name, model):\n",
        "    self.model = model\n",
        "    super().__init__(name)\n",
        "\n",
        "b = Brand('Kia Seltos','Kia')\n",
        "m = Model('Kia Seltos',2020)\n",
        "\n",
        "print(b.name, b.brand)\n",
        "print(m.name, m.model)"
      ],
      "metadata": {
        "colab": {
          "base_uri": "https://localhost:8080/"
        },
        "id": "nw3ZwQA39uHc",
        "outputId": "9d5d3e3a-8969-4368-fbd0-9d7c244d3ee6"
      },
      "execution_count": 13,
      "outputs": [
        {
          "output_type": "stream",
          "name": "stdout",
          "text": [
            "Kia Seltos Kia\n",
            "Kia Seltos 2020\n"
          ]
        }
      ]
    },
    {
      "cell_type": "code",
      "source": [
        "#multiple inheritance:\n",
        "class Cricket:\n",
        "  def cricket(self):\n",
        "    print('Likes to play Cricket')\n",
        "\n",
        "class Football:\n",
        "  def football(self):\n",
        "    print('Likes to play Football')\n",
        "\n",
        "class Son(Cricket,Football):\n",
        "  pass\n",
        "\n",
        "s = Son()\n",
        "s.football()\n",
        "s.cricket()"
      ],
      "metadata": {
        "colab": {
          "base_uri": "https://localhost:8080/"
        },
        "id": "PRrfQei4-2Uc",
        "outputId": "b58044a2-e5fd-42e1-c197-8a8a223d3e22"
      },
      "execution_count": 25,
      "outputs": [
        {
          "output_type": "stream",
          "name": "stdout",
          "text": [
            "Likes to play Football\n",
            "Likes to play Cricket\n"
          ]
        }
      ]
    },
    {
      "cell_type": "code",
      "source": [
        "# Diamond Problem : This ambiguity in method resolution\n",
        "#So always Child takes the first param in case of ambiguity\n",
        "\n",
        "class Price:\n",
        "  def buy(self):\n",
        "    return 'This is Price Class'\n",
        "\n",
        "class Brand:\n",
        "  def buy(self):\n",
        "    return 'This is Brand Class'\n",
        "\n",
        "#Method resolution order\n",
        "class SmartPhone(Price,Brand):\n",
        "  pass\n",
        "\n",
        "\n",
        "s =SmartPhone()\n",
        "s.buy()"
      ],
      "metadata": {
        "colab": {
          "base_uri": "https://localhost:8080/",
          "height": 36
        },
        "id": "7ROwMTGlB6Dt",
        "outputId": "3847c7d0-d025-4a52-80be-8eb1afa35e0e"
      },
      "execution_count": 29,
      "outputs": [
        {
          "output_type": "execute_result",
          "data": {
            "text/plain": [
              "'This is Price Class'"
            ],
            "application/vnd.google.colaboratory.intrinsic+json": {
              "type": "string"
            }
          },
          "metadata": {},
          "execution_count": 29
        }
      ]
    },
    {
      "cell_type": "markdown",
      "source": [
        "###Polymorphism\n",
        "*   Polymorphism -> same method/operator can behave in different ways depending on the object\n",
        "\n",
        "*   Method Overiding -> If parent and child class have same mtd name, Child mtd will be called.\n",
        "\n",
        "*   Method Overloading -> If a class has two or more method with same name. In python it doesn't work\n",
        "\n",
        "*   Operator Overloading -> Operators will be use multiple time with diff. behaviour\n",
        "\n",
        "\n"
      ],
      "metadata": {
        "id": "GJ1LHnfhEEkd"
      }
    },
    {
      "cell_type": "code",
      "source": [
        "# Method Overiding: (Have discussed same in Inheritance. And to call both with same, user Super())\n",
        "# If parent and child class have same mtd name, Child mtd will be called.\n",
        "\n",
        "class Phone:\n",
        "  def __init__(self,brand,price,model):\n",
        "    self.brand = brand\n",
        "    self.__price = price\n",
        "    self.model = model\n",
        "\n",
        "  def buy(self):\n",
        "    print('Parent class')\n",
        "\n",
        "class SmartPhone(Phone):\n",
        "  def buy(self):\n",
        "    print('Child class')\n",
        "    super().buy() # to call both\n",
        "\n",
        "s = SmartPhone('Apple',75000,'Apple 13 Pro')\n",
        "s.buy()"
      ],
      "metadata": {
        "colab": {
          "base_uri": "https://localhost:8080/"
        },
        "id": "w_v9EMbIE4-B",
        "outputId": "c2b623b9-3171-49c7-b8ee-6e08b71ba446"
      },
      "execution_count": 31,
      "outputs": [
        {
          "output_type": "stream",
          "name": "stdout",
          "text": [
            "Child class\n",
            "Parent class\n"
          ]
        }
      ]
    },
    {
      "cell_type": "code",
      "source": [
        "# Method Overloading : If a class has two or more method with same name. In python it doesn't work\n",
        "# In python doesn't work, use default arg.\n",
        "\n",
        "class Shape:\n",
        "  def area(self,radius):\n",
        "    return 3.14*radius*radius\n",
        "\n",
        "  def area(self,l,b):\n",
        "    return l*b\n",
        "\n",
        "s = Shape()\n",
        "# s.area(2) --> won't wrk bcz in python always latest will be taken\n",
        "\n",
        "s.area(2,4)"
      ],
      "metadata": {
        "colab": {
          "base_uri": "https://localhost:8080/"
        },
        "id": "M3DqmiyUFGff",
        "outputId": "78f63e2f-99e0-44b9-8418-64e6064b1702"
      },
      "execution_count": 34,
      "outputs": [
        {
          "output_type": "execute_result",
          "data": {
            "text/plain": [
              "8"
            ]
          },
          "metadata": {},
          "execution_count": 34
        }
      ]
    },
    {
      "cell_type": "code",
      "source": [
        "class Shape:\n",
        "  def area(self,a,b=0):\n",
        "    if b == 0:\n",
        "      return 3.14*a*a\n",
        "    else:\n",
        "      return a*b\n",
        "\n",
        "s = Shape()\n",
        "print(s.area(2))\n",
        "\n",
        "s.area(2,4)"
      ],
      "metadata": {
        "colab": {
          "base_uri": "https://localhost:8080/"
        },
        "id": "383TbMjcG2am",
        "outputId": "5bcbb5cd-17bd-45c4-8e53-3eeacf75c64a"
      },
      "execution_count": 38,
      "outputs": [
        {
          "output_type": "stream",
          "name": "stdout",
          "text": [
            "12.56\n"
          ]
        },
        {
          "output_type": "execute_result",
          "data": {
            "text/plain": [
              "8"
            ]
          },
          "metadata": {},
          "execution_count": 38
        }
      ]
    },
    {
      "cell_type": "code",
      "source": [
        "# Operator Overloading -> Operators will be use multiple time with diff. behaviour\n",
        "\n",
        "print(4+6)\n",
        "\n",
        "print('Hello' + ' ' + 'Fazil')\n",
        "\n",
        "print([1,2,3]+[4,5])\n",
        "\n",
        "\n",
        "# for OOPS we have covered in Factor method which created\n",
        "\n",
        "class Book:\n",
        "    def __init__(self, pages):\n",
        "        self.pages = pages\n",
        "\n",
        "    # Overloading + operator\n",
        "    def __add__(self, other):\n",
        "        return self.pages + other.pages\n",
        "\n",
        "b1 = Book(100)\n",
        "b2 = Book(150)\n",
        "\n",
        "print(b1 + b2)  #Here, instead of adding objects directly (which would give an error), we define how + should behave → it adds the pages"
      ],
      "metadata": {
        "colab": {
          "base_uri": "https://localhost:8080/"
        },
        "id": "wLSmvCXGHnqn",
        "outputId": "7fb49e48-68d8-47cb-be03-d2ee332ffb50"
      },
      "execution_count": 42,
      "outputs": [
        {
          "output_type": "stream",
          "name": "stdout",
          "text": [
            "10\n",
            "Hello Fazil\n",
            "[1, 2, 3, 4, 5]\n",
            "250\n"
          ]
        }
      ]
    },
    {
      "cell_type": "markdown",
      "source": [
        "###Aggregation vs Inheritance\n",
        "\n",
        "* Inheritance (IS-A relationship):\n",
        "One class is a type of another.\n",
        "<br> Example: Dog IS-A Animal. Child reuses parent’s properties and methods.\n",
        "<br> Inheritance → reusability & hierarchy\n",
        "\n",
        "<br>\n",
        "\n",
        "* Aggregation (HAS-A relationship):\n",
        "One class has another as a part.\n",
        "<br>Example: Customer HAS-A Address. An object of one class is used inside another.\n",
        "<br>Aggregation → association & ownership\n",
        "<br> When creating the parent, you pass the child object as a parameter to establish the relationship\n",
        "<br>c = Customer('Fz','Male',addr)"
      ],
      "metadata": {
        "id": "u9cZQpz9KG30"
      }
    },
    {
      "cell_type": "markdown",
      "source": [
        "###Abstraction\n",
        "Hiding implementation details and showing only the essentials<br>\n",
        "\n",
        "\n",
        "*   To implement Abstraction : U need to import ABC(need to inherit ABC Class)<br>\n",
        "Need to have atleast one @abstract method\n",
        "\n",
        "*  U can't create object of Abstract class\n",
        "\n",
        "* Eg: When u are Senior prg. U create a class Bank and it has a abstract mtd security.<br>\n",
        "So when someone need to use ur class, he should have the abstract mtd created by u in his child class\n",
        "\n",
        "\n",
        "\n"
      ],
      "metadata": {
        "id": "XvE9Q_Z0JRpx"
      }
    },
    {
      "cell_type": "code",
      "source": [
        "from abc import ABC,abstractmethod\n",
        "class Bank(ABC):\n",
        "  def database(self):\n",
        "    return 'connected to db'\n",
        "\n",
        "  @abstractmethod\n",
        "  def security(self):\n",
        "    return 'Security for Bank class'\n",
        "\n",
        "class MobileApp(Bank):\n",
        "  def login(self):\n",
        "    print('login successfull')\n",
        "\n",
        "  def security(self): #need to use that abstract mtd\n",
        "    return 'Security for MobileApp class'\n",
        "\n",
        "m = MobileApp()\n",
        "m.login()\n",
        "m.database()\n",
        "\n",
        "# b = Bank()  #can't create obj for abstract class"
      ],
      "metadata": {
        "colab": {
          "base_uri": "https://localhost:8080/",
          "height": 53
        },
        "id": "qudGDAAOJebH",
        "outputId": "9dab6369-44ac-4107-cced-e6c509d04b59"
      },
      "execution_count": 48,
      "outputs": [
        {
          "output_type": "stream",
          "name": "stdout",
          "text": [
            "login successfull\n"
          ]
        },
        {
          "output_type": "execute_result",
          "data": {
            "text/plain": [
              "'connected to db'"
            ],
            "application/vnd.google.colaboratory.intrinsic+json": {
              "type": "string"
            }
          },
          "metadata": {},
          "execution_count": 48
        }
      ]
    }
  ]
}