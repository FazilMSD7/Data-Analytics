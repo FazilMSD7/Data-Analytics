{
  "nbformat": 4,
  "nbformat_minor": 0,
  "metadata": {
    "colab": {
      "provenance": [],
      "authorship_tag": "ABX9TyNSog53Zxq+zsSaTNV6faMx",
      "include_colab_link": true
    },
    "kernelspec": {
      "name": "python3",
      "display_name": "Python 3"
    },
    "language_info": {
      "name": "python"
    }
  },
  "cells": [
    {
      "cell_type": "markdown",
      "metadata": {
        "id": "view-in-github",
        "colab_type": "text"
      },
      "source": [
        "<a href=\"https://colab.research.google.com/github/FazilMSD7/Data-Analytics/blob/main/Py_fundamentals/Python_Advanced.ipynb\" target=\"_parent\"><img src=\"https://colab.research.google.com/assets/colab-badge.svg\" alt=\"Open In Colab\"/></a>"
      ]
    },
    {
      "cell_type": "markdown",
      "source": [
        "###**OOP** (Object Oriented Programming)<br>\n",
        "OOP makes code organized, reusable, and closer to real-world thinking. U can create ur own Data type<br>\n",
        "1. Object → Real-world entity (like a car, bank account, student).\n",
        "\n",
        "2. Class → A blueprint to create objects.\n",
        "\n",
        "#### The main principles (pillars) of OOP:\n",
        "\n",
        "4. Encapsulation → Keep data safe and controlled inside a class.\n",
        "\n",
        "5. Inheritance → Reuse and extend code from other classes.\n",
        "\n",
        "6. Polymorphism → Same function name, different behavior.\n",
        "\n",
        "7. Abstraction → Hide unnecessary details, show only important parts."
      ],
      "metadata": {
        "id": "bSxmmsH_CbSg"
      }
    },
    {
      "cell_type": "markdown",
      "source": [
        "### Class and Object:<br>\n",
        "Blueprint to create Objects, It's set of rules which object follows<br>\n",
        "All data types are classes, and Variables which using that are objects<br><br>\n",
        "\n",
        "Class → A blueprint or template that defines how objects are created (what data\n",
        "\n",
        "*   Example: list is a built-in class in Python.\n",
        "\n",
        "and behaviors they have).\n",
        "\n",
        "\n",
        "Object → An instance of a class.\n",
        "\n",
        "*   Example: L = [1,2,3] → here L is an object (instance of the list class).\n",
        "\n",
        "Behavior/Methods → Objects can use the functions defined in their class.\n",
        "\n",
        "*   Example: L.append(4) works because append() is a method of the list class.\n",
        "\n",
        "Data → Objects also hold their own data (state).\n",
        "\n",
        "*   Example: Before append → [1,2,3], after append → [1,2,3,4].\n",
        "\n",
        "Diff. btw Methods and Function:\n",
        "\n",
        "*   Method : Created inside Class\n",
        "*   Function : Created outside Class\n",
        "\n",
        "Example : L = [1,2,3]<br>\n",
        "L.append(4) --> here append is a method inside List class<br>\n",
        "len(L) --> here len() is a function"
      ],
      "metadata": {
        "id": "MzcQZRwHE9vJ"
      }
    },
    {
      "cell_type": "code",
      "source": [
        "# ATM Machine\n",
        "\n",
        "class Atm():\n",
        "  def __init__(self):\n",
        "    self.pin = ''\n",
        "    self.balance = 0\n",
        "\n",
        "  def menu(self):\n",
        "    user_input = input('''\n",
        "    1. Press 1 Create Pin\n",
        "    2. Press 2 Change Pin\n",
        "    3. Press 3 Check Balance\n",
        "    4. Press 4 Withdraw amount\n",
        "    5. Press Anything else to exit\n",
        "    ''')\n",
        "\n",
        "    if user_input == '1':\n",
        "      self.create_pin()\n",
        "    elif user_input == '2':\n",
        "      self.change_pin()\n",
        "    elif user_input == '3':\n",
        "      self.check_balance()\n",
        "    elif user_input == '4':\n",
        "      self.withdraw_amt()\n",
        "    else:\n",
        "      print(\"Thank you for banking with us..\")\n",
        "      exit()\n",
        "\n",
        "\n",
        "  def create_pin(self):\n",
        "    user_pin = input(\"Enter pin to be created : \")\n",
        "    self.pin = user_pin\n",
        "    print(\"Pin created successfully...\")\n",
        "\n",
        "    user_balance = int(input(\"Enter balance : \"))\n",
        "    self.balance = user_balance\n",
        "    self.menu()\n",
        "\n",
        "  def change_pin(self):\n",
        "    user_pin = input(\"Enter pin : \")\n",
        "    if user_pin == self.pin:\n",
        "      user_pin = input(\"Enter new pin\")\n",
        "      self.pin = user_pin\n",
        "      print(\"Pin changed successfully...\")\n",
        "    else:\n",
        "      print(\"Invalid pin\")\n",
        "    self.menu()\n",
        "\n",
        "  def check_balance(self):\n",
        "    user_pin = input(\"Enter pin : \")\n",
        "    if user_pin == self.pin:\n",
        "      print(f'Balance amount : {self.balance}')\n",
        "    else:\n",
        "      print(\"Invalid pin\")\n",
        "    self.menu()\n",
        "\n",
        "  def withdraw_amt(self):\n",
        "    user_pin = input(\"Enter pin : \")\n",
        "    if user_pin == self.pin:\n",
        "      amt = int(input(\"Enter withdraw amount : \"))\n",
        "      if amt <= self.balance:\n",
        "        self.balance = self.balance - amt\n",
        "        print(f'{amt} withdrawed successfully, Remaining balance : {self.balance}')\n",
        "      else:\n",
        "        print(\"Insufficient balance to withdraw\")\n",
        "    else:\n",
        "      print(\"Invalid pin\")\n",
        "    self.menu()\n",
        "\n",
        "\n",
        "obj = Atm()\n",
        "obj.menu()\n"
      ],
      "metadata": {
        "id": "CtK2jW4GaD_Y",
        "outputId": "5dd3dea1-cb95-444e-8a75-0bac51567b62",
        "colab": {
          "base_uri": "https://localhost:8080/"
        }
      },
      "execution_count": 5,
      "outputs": [
        {
          "name": "stdout",
          "output_type": "stream",
          "text": [
            "\n",
            "    1. Press 1 Create Pin\n",
            "    2. Press 2 Change Pin\n",
            "    3. Press 3 Check Balance\n",
            "    4. Press 4 Withdraw amount\n",
            "    5. Press Anything else to exit\n",
            "    1\n",
            "Enter pin to be created : 1234\n",
            "Pin created successfully...\n",
            "Enter balance : 1000\n",
            "\n",
            "    1. Press 1 Create Pin\n",
            "    2. Press 2 Change Pin\n",
            "    3. Press 3 Check Balance\n",
            "    4. Press 4 Withdraw amount\n",
            "    5. Press Anything else to exit\n",
            "    3\n",
            "Enter pin : 1234\n",
            "Balance amount : 1000\n",
            "\n",
            "    1. Press 1 Create Pin\n",
            "    2. Press 2 Change Pin\n",
            "    3. Press 3 Check Balance\n",
            "    4. Press 4 Withdraw amount\n",
            "    5. Press Anything else to exit\n",
            "    4\n",
            "Enter pin : 900\n",
            "Invalid pin\n",
            "\n",
            "    1. Press 1 Create Pin\n",
            "    2. Press 2 Change Pin\n",
            "    3. Press 3 Check Balance\n",
            "    4. Press 4 Withdraw amount\n",
            "    5. Press Anything else to exit\n",
            "    4\n",
            "Enter pin : 1234\n",
            "Enter withdraw amount : 900\n",
            "900 withdrawed successfully, Remaining balance100\n",
            "\n",
            "    1. Press 1 Create Pin\n",
            "    2. Press 2 Change Pin\n",
            "    3. Press 3 Check Balance\n",
            "    4. Press 4 Withdraw amount\n",
            "    5. Press Anything else to exit\n",
            "    4\n",
            "Enter pin : 1234\n",
            "Enter withdraw amount : 50\n",
            "50 withdrawed successfully, Remaining balance50\n",
            "\n",
            "    1. Press 1 Create Pin\n",
            "    2. Press 2 Change Pin\n",
            "    3. Press 3 Check Balance\n",
            "    4. Press 4 Withdraw amount\n",
            "    5. Press Anything else to exit\n",
            "    4\n",
            "Enter pin : 1234\n",
            "Enter withdraw amount : 50\n",
            "50 withdrawed successfully, Remaining balance0\n",
            "\n",
            "    1. Press 1 Create Pin\n",
            "    2. Press 2 Change Pin\n",
            "    3. Press 3 Check Balance\n",
            "    4. Press 4 Withdraw amount\n",
            "    5. Press Anything else to exit\n",
            "    7\n"
          ]
        }
      ]
    },
    {
      "cell_type": "markdown",
      "source": [
        "### Magic/Dunder Methods :\n",
        "Magic method let you customize how objects behave with operators, functions, and printing. Start's and ends with double underscore<br>\n",
        "Eg : Constructor is a magic method<br>\n",
        "#### constructor :\n",
        "Constructor(______init__) is a method inside class, which is super method bcz u no need to call while excecuting like other functions...<br>\n",
        "bcz it triggers automatically. U don't have any control like other functions<br>\n",
        "we use in configuration : like setting db, network before executing itself..<br><br>\n",
        "Think like; God -> Programmer, Earth -> Class, Humans -> Objects, Death -> Constructor"
      ],
      "metadata": {
        "id": "VxVNyHrsnxjZ"
      }
    },
    {
      "cell_type": "markdown",
      "source": [
        "### Self :<br>\n",
        "**self** is a reference to the current object. (It's like a mediator inside a class between methods)<br>\n",
        "It lets methods inside a class access variables and call other methods of the same object.<br>\n",
        "Without self, the object cannot access its own data or methods.<br><br>\n",
        "In this ATM class, self links all methods (menu, create_pin, withdraw_amt, etc.) to the same object (obj).<br>\n",
        "That’s why when you set a pin or balance, the same values are available in other methods.\n",
        "So, self ensures all methods work on the same object’s data.<br>\n",
        "Without self, each method wouldn’t know which object’s data to use."
      ],
      "metadata": {
        "id": "q8h7GOuhrViR"
      }
    },
    {
      "cell_type": "code",
      "source": [
        "# Creating own Function : (Factor)\n",
        "\n",
        "class Factor():\n",
        "  def __init__(self,x,y): #parameterized constructor\n",
        "    self.num = x\n",
        "    self.den = y\n",
        "\n",
        "  def __str__(self):    # __str__ inbuild constructor to print output in ur desired way\n",
        "    return '{}/{}'.format(self.num,self.den)\n",
        "\n",
        "  def __add__(self,other):  # __add__ inbuild to add\n",
        "    new_num = self.num*other.den + other.den*self.den\n",
        "    new_den = self.den*other.den\n",
        "    return '{}/{}'.format(new_num,new_den)\n",
        "\n",
        "  def __sub__(self,other):  # __sub__ inbuild to sub\n",
        "    new_num = self.num*other.den - other.den*self.den\n",
        "    new_den = self.den*other.den\n",
        "    return '{}/{}'.format(new_num,new_den)\n",
        "\n",
        "\n",
        "  def __mul__(self,other):  # __mul__ inbuild to multiply\n",
        "    new_num = self.num*other.num\n",
        "    new_den = self.den*other.den\n",
        "    return '{}/{}'.format(new_num,new_den)\n",
        "\n",
        "  def __truediv__(self,other):  # __truediv__ inbuild to divide\n",
        "    new_num = self.num*other.den\n",
        "    new_den = self.den*other.num\n",
        "    return '{}/{}'.format(new_num,new_den)\n",
        "\n",
        "  def convert_to_decimal(self): # create own functions also\n",
        "    return self.num/self.den\n",
        "\n",
        "fr1 = Factor(1,2)\n",
        "print(fr1)\n",
        "\n",
        "fr2 = Factor(3,4)\n",
        "print(fr1+fr2)\n",
        "print(fr1-fr2)\n",
        "print(fr1*fr2)\n",
        "print(fr1/fr2)\n",
        "\n",
        "fr1.convert_to_decimal()"
      ],
      "metadata": {
        "id": "LjW3_FT5ww99",
        "outputId": "c27e3b82-f060-481c-b4e0-c118643ebc17",
        "colab": {
          "base_uri": "https://localhost:8080/"
        }
      },
      "execution_count": 14,
      "outputs": [
        {
          "output_type": "stream",
          "name": "stdout",
          "text": [
            "1/2\n",
            "12/8\n",
            "-4/8\n",
            "3/8\n",
            "4/6\n"
          ]
        },
        {
          "output_type": "execute_result",
          "data": {
            "text/plain": [
              "0.5"
            ]
          },
          "metadata": {},
          "execution_count": 14
        }
      ]
    }
  ]
}