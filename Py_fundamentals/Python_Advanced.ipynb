{
  "nbformat": 4,
  "nbformat_minor": 0,
  "metadata": {
    "colab": {
      "provenance": [],
      "authorship_tag": "ABX9TyPyX2D9TgGu/z4/q3hpSb0E",
      "include_colab_link": true
    },
    "kernelspec": {
      "name": "python3",
      "display_name": "Python 3"
    },
    "language_info": {
      "name": "python"
    }
  },
  "cells": [
    {
      "cell_type": "markdown",
      "metadata": {
        "id": "view-in-github",
        "colab_type": "text"
      },
      "source": [
        "<a href=\"https://colab.research.google.com/github/FazilMSD7/Data-Analytics/blob/main/Py_fundamentals/Python_Advanced.ipynb\" target=\"_parent\"><img src=\"https://colab.research.google.com/assets/colab-badge.svg\" alt=\"Open In Colab\"/></a>"
      ]
    },
    {
      "cell_type": "markdown",
      "source": [
        "###**OOP** (Object Oriented Programming)<br>\n",
        "OOP makes code organized, reusable, and closer to real-world thinking. U can create ur own Data type<br>\n",
        "1. Object → Real-world entity (like a car, bank account, student).\n",
        "\n",
        "2. Class → A blueprint to create objects.\n",
        "\n",
        "#### The main principles (pillars) of OOP:\n",
        "\n",
        "3. Encapsulation → Keep data safe and controlled inside a class.\n",
        "\n",
        "4. Inheritance → Reuse and extend code from other classes.\n",
        "\n",
        "5. Polymorphism → Same function name, different behavior.\n",
        "\n",
        "6. Abstraction → Hide unnecessary details, show only important parts."
      ],
      "metadata": {
        "id": "bSxmmsH_CbSg"
      }
    },
    {
      "cell_type": "markdown",
      "source": [
        "### Class and Object:<br>\n",
        "Blueprint to create Objects, It's set of rules which object follows<br>\n",
        "All data types are classes, and Variables which using that are objects<br><br>\n",
        "\n",
        "Class → A blueprint or template that defines how objects are created (what data and behaviors they have).\n",
        "\n",
        "*   Example: list is a built-in class in Python.\n",
        "\n",
        "\n",
        "Object → An instance of a class.\n",
        "\n",
        "*   Example: L = [1,2,3] → here L is an object (instance of the list class).\n",
        "\n",
        "Behavior/Methods → Objects can use the functions defined in their class.\n",
        "\n",
        "*   Example: L.append(4) works because append() is a method of the list class.\n",
        "\n",
        "Data → Objects also hold their own data (state).\n",
        "\n",
        "*   Example: Before append → [1,2,3], after append → [1,2,3,4].\n",
        "\n",
        "Diff. btw Methods and Function:\n",
        "\n",
        "*   Method : Created inside Class\n",
        "*   Function : Created outside Class\n",
        "\n",
        "Example : L = [1,2,3]<br>\n",
        "L.append(4) --> here append is a method inside List class<br>\n",
        "len(L) --> here len() is a function"
      ],
      "metadata": {
        "id": "MzcQZRwHE9vJ"
      }
    },
    {
      "cell_type": "code",
      "source": [
        "# ATM Machine\n",
        "\n",
        "class Atm():\n",
        "  def __init__(self):\n",
        "    self.pin = ''\n",
        "    self.balance = 0\n",
        "\n",
        "  def menu(self):\n",
        "    user_input = input('''\n",
        "    1. Press 1 Create Pin\n",
        "    2. Press 2 Change Pin\n",
        "    3. Press 3 Check Balance\n",
        "    4. Press 4 Withdraw amount\n",
        "    5. Press Anything else to exit\n",
        "    ''')\n",
        "\n",
        "    if user_input == '1':\n",
        "      self.create_pin()\n",
        "    elif user_input == '2':\n",
        "      self.change_pin()\n",
        "    elif user_input == '3':\n",
        "      self.check_balance()\n",
        "    elif user_input == '4':\n",
        "      self.withdraw_amt()\n",
        "    else:\n",
        "      print(\"Thank you for banking with us..\")\n",
        "      exit()\n",
        "\n",
        "\n",
        "  def create_pin(self):\n",
        "    user_pin = input(\"Enter pin to be created : \")\n",
        "    self.pin = user_pin\n",
        "    print(\"Pin created successfully...\")\n",
        "\n",
        "    user_balance = int(input(\"Enter balance : \"))\n",
        "    self.balance = user_balance\n",
        "    self.menu()\n",
        "\n",
        "  def change_pin(self):\n",
        "    user_pin = input(\"Enter pin : \")\n",
        "    if user_pin == self.pin:\n",
        "      user_pin = input(\"Enter new pin\")\n",
        "      self.pin = user_pin\n",
        "      print(\"Pin changed successfully...\")\n",
        "    else:\n",
        "      print(\"Invalid pin\")\n",
        "    self.menu()\n",
        "\n",
        "  def check_balance(self):\n",
        "    user_pin = input(\"Enter pin : \")\n",
        "    if user_pin == self.pin:\n",
        "      print(f'Balance amount : {self.balance}')\n",
        "    else:\n",
        "      print(\"Invalid pin\")\n",
        "    self.menu()\n",
        "\n",
        "  def withdraw_amt(self):\n",
        "    user_pin = input(\"Enter pin : \")\n",
        "    if user_pin == self.pin:\n",
        "      amt = int(input(\"Enter withdraw amount : \"))\n",
        "      if amt <= self.balance:\n",
        "        self.balance = self.balance - amt\n",
        "        print(f'{amt} withdrawed successfully, Remaining balance : {self.balance}')\n",
        "      else:\n",
        "        print(\"Insufficient balance to withdraw\")\n",
        "    else:\n",
        "      print(\"Invalid pin\")\n",
        "    self.menu()\n",
        "\n",
        "\n",
        "obj = Atm()\n",
        "obj.menu()\n"
      ],
      "metadata": {
        "colab": {
          "base_uri": "https://localhost:8080/"
        },
        "id": "CtK2jW4GaD_Y",
        "outputId": "5dd3dea1-cb95-444e-8a75-0bac51567b62"
      },
      "execution_count": null,
      "outputs": [
        {
          "name": "stdout",
          "output_type": "stream",
          "text": [
            "\n",
            "    1. Press 1 Create Pin\n",
            "    2. Press 2 Change Pin\n",
            "    3. Press 3 Check Balance\n",
            "    4. Press 4 Withdraw amount\n",
            "    5. Press Anything else to exit\n",
            "    1\n",
            "Enter pin to be created : 1234\n",
            "Pin created successfully...\n",
            "Enter balance : 1000\n",
            "\n",
            "    1. Press 1 Create Pin\n",
            "    2. Press 2 Change Pin\n",
            "    3. Press 3 Check Balance\n",
            "    4. Press 4 Withdraw amount\n",
            "    5. Press Anything else to exit\n",
            "    3\n",
            "Enter pin : 1234\n",
            "Balance amount : 1000\n",
            "\n",
            "    1. Press 1 Create Pin\n",
            "    2. Press 2 Change Pin\n",
            "    3. Press 3 Check Balance\n",
            "    4. Press 4 Withdraw amount\n",
            "    5. Press Anything else to exit\n",
            "    4\n",
            "Enter pin : 900\n",
            "Invalid pin\n",
            "\n",
            "    1. Press 1 Create Pin\n",
            "    2. Press 2 Change Pin\n",
            "    3. Press 3 Check Balance\n",
            "    4. Press 4 Withdraw amount\n",
            "    5. Press Anything else to exit\n",
            "    4\n",
            "Enter pin : 1234\n",
            "Enter withdraw amount : 900\n",
            "900 withdrawed successfully, Remaining balance100\n",
            "\n",
            "    1. Press 1 Create Pin\n",
            "    2. Press 2 Change Pin\n",
            "    3. Press 3 Check Balance\n",
            "    4. Press 4 Withdraw amount\n",
            "    5. Press Anything else to exit\n",
            "    4\n",
            "Enter pin : 1234\n",
            "Enter withdraw amount : 50\n",
            "50 withdrawed successfully, Remaining balance50\n",
            "\n",
            "    1. Press 1 Create Pin\n",
            "    2. Press 2 Change Pin\n",
            "    3. Press 3 Check Balance\n",
            "    4. Press 4 Withdraw amount\n",
            "    5. Press Anything else to exit\n",
            "    4\n",
            "Enter pin : 1234\n",
            "Enter withdraw amount : 50\n",
            "50 withdrawed successfully, Remaining balance0\n",
            "\n",
            "    1. Press 1 Create Pin\n",
            "    2. Press 2 Change Pin\n",
            "    3. Press 3 Check Balance\n",
            "    4. Press 4 Withdraw amount\n",
            "    5. Press Anything else to exit\n",
            "    7\n"
          ]
        }
      ]
    },
    {
      "cell_type": "markdown",
      "source": [
        "### Magic/Dunder Methods :\n",
        "Magic method let you customize how objects behave with operators, functions, and printing. Start's and ends with double underscore<br>\n",
        "Eg : Constructor is a magic method<br>\n",
        "#### constructor :\n",
        "Constructor(______init__) is a method inside class, which is super method bcz u no need to call while excecuting like other functions...<br>\n",
        "bcz it triggers automatically. U don't have any control like other functions<br>\n",
        "we use in configuration : like setting db, network before executing itself..<br><br>\n",
        "Think like; God -> Programmer, Earth -> Class, Humans -> Objects, Death -> Constructor"
      ],
      "metadata": {
        "id": "VxVNyHrsnxjZ"
      }
    },
    {
      "cell_type": "markdown",
      "source": [
        "### Self :<br>\n",
        "**self** is a reference to the current object. (It's like a mediator inside a class between methods)<br>\n",
        "It lets methods inside a class access variables and call other methods of the same object.<br>\n",
        "Without self, the object cannot access its own data or methods.<br><br>\n",
        "In this ATM class, self links all methods (menu, create_pin, withdraw_amt, etc.) to the same object (obj).<br>\n",
        "That’s why when you set a pin or balance, the same values are available in other methods.\n",
        "So, self ensures all methods work on the same object’s data.<br>\n",
        "Without self, each method wouldn’t know which object’s data to use."
      ],
      "metadata": {
        "id": "q8h7GOuhrViR"
      }
    },
    {
      "cell_type": "code",
      "source": [
        "# Creating own Function : (Factor)\n",
        "\n",
        "class Factor:\n",
        "  def __init__(self,x,y): #parameterized constructor\n",
        "    self.num = x\n",
        "    self.den = y\n",
        "\n",
        "  def __str__(self):    # __str__ inbuild constructor to print output in ur desired way\n",
        "    return '{}/{}'.format(self.num,self.den)\n",
        "\n",
        "  def __add__(self,other):  # __add__ inbuild to add\n",
        "    new_num = self.num*other.den + other.den*self.den\n",
        "    new_den = self.den*other.den\n",
        "    return '{}/{}'.format(new_num,new_den)\n",
        "\n",
        "  def __sub__(self,other):  # __sub__ inbuild to sub\n",
        "    new_num = self.num*other.den - other.den*self.den\n",
        "    new_den = self.den*other.den\n",
        "    return '{}/{}'.format(new_num,new_den)\n",
        "\n",
        "\n",
        "  def __mul__(self,other):  # __mul__ inbuild to multiply\n",
        "    new_num = self.num*other.num\n",
        "    new_den = self.den*other.den\n",
        "    return '{}/{}'.format(new_num,new_den)\n",
        "\n",
        "  def __truediv__(self,other):  # __truediv__ inbuild to divide\n",
        "    new_num = self.num*other.den\n",
        "    new_den = self.den*other.num\n",
        "    return '{}/{}'.format(new_num,new_den)\n",
        "\n",
        "  def convert_to_decimal(self): # create own functions also\n",
        "    return self.num/self.den\n",
        "\n",
        "fr1 = Factor(1,2)\n",
        "print(fr1)\n",
        "\n",
        "fr2 = Factor(3,4)\n",
        "print(fr1+fr2)\n",
        "print(fr1-fr2)\n",
        "print(fr1*fr2)\n",
        "print(fr1/fr2)\n",
        "\n",
        "fr1.convert_to_decimal()"
      ],
      "metadata": {
        "colab": {
          "base_uri": "https://localhost:8080/"
        },
        "id": "LjW3_FT5ww99",
        "outputId": "27eca9da-90cd-4459-a5ae-ca8c603b162c"
      },
      "execution_count": null,
      "outputs": [
        {
          "output_type": "stream",
          "name": "stdout",
          "text": [
            "1/2\n",
            "12/8\n",
            "-4/8\n",
            "3/8\n",
            "4/6\n"
          ]
        },
        {
          "output_type": "execute_result",
          "data": {
            "text/plain": [
              "0.5"
            ]
          },
          "metadata": {},
          "execution_count": 1
        }
      ]
    },
    {
      "cell_type": "markdown",
      "source": [
        "Attribute creation outside class"
      ],
      "metadata": {
        "id": "_Se6atfnlRWY"
      }
    },
    {
      "cell_type": "code",
      "source": [
        "class Person:\n",
        "  def __init__(self,name,country):\n",
        "    self.name = name\n",
        "    self.country = country\n",
        "\n",
        "  def greet(self):\n",
        "    if self.country == 'India':\n",
        "      return f'Namaste! ,{self.name}'\n",
        "    else:\n",
        "      print('Hello ',self.name)\n",
        "\n",
        "p = Person('Fazil','India')\n",
        "print(p.greet())  #accessing mtd\n",
        "\n",
        "print(p.name) #accessing attribute\n",
        "\n",
        "print(p.gender) #accessing non-existing throws error"
      ],
      "metadata": {
        "id": "aCsWmkXDlVmv",
        "outputId": "e4c5c6e0-25b8-45f6-95a7-fca74fa80eaf",
        "colab": {
          "base_uri": "https://localhost:8080/",
          "height": 211
        }
      },
      "execution_count": null,
      "outputs": [
        {
          "output_type": "stream",
          "name": "stdout",
          "text": [
            "Namaste! ,Fazil\n",
            "Fazil\n"
          ]
        },
        {
          "output_type": "error",
          "ename": "AttributeError",
          "evalue": "'Person' object has no attribute 'gender'",
          "traceback": [
            "\u001b[0;31m---------------------------------------------------------------------------\u001b[0m",
            "\u001b[0;31mAttributeError\u001b[0m                            Traceback (most recent call last)",
            "\u001b[0;32m/tmp/ipython-input-1332336613.py\u001b[0m in \u001b[0;36m<cell line: 0>\u001b[0;34m()\u001b[0m\n\u001b[1;32m     15\u001b[0m \u001b[0mprint\u001b[0m\u001b[0;34m(\u001b[0m\u001b[0mp\u001b[0m\u001b[0;34m.\u001b[0m\u001b[0mname\u001b[0m\u001b[0;34m)\u001b[0m \u001b[0;31m#accessing attribute\u001b[0m\u001b[0;34m\u001b[0m\u001b[0;34m\u001b[0m\u001b[0m\n\u001b[1;32m     16\u001b[0m \u001b[0;34m\u001b[0m\u001b[0m\n\u001b[0;32m---> 17\u001b[0;31m \u001b[0mprint\u001b[0m\u001b[0;34m(\u001b[0m\u001b[0mp\u001b[0m\u001b[0;34m.\u001b[0m\u001b[0mgender\u001b[0m\u001b[0;34m)\u001b[0m\u001b[0;34m\u001b[0m\u001b[0;34m\u001b[0m\u001b[0m\n\u001b[0m",
            "\u001b[0;31mAttributeError\u001b[0m: 'Person' object has no attribute 'gender'"
          ]
        }
      ]
    },
    {
      "cell_type": "code",
      "source": [
        "p.gender = 'Male'\n",
        "print(p.gender) #creating attr. outside class"
      ],
      "metadata": {
        "id": "lXLRghpHmbHq",
        "outputId": "26174863-c916-4bf2-f38b-5e625b9da59f",
        "colab": {
          "base_uri": "https://localhost:8080/"
        }
      },
      "execution_count": null,
      "outputs": [
        {
          "output_type": "stream",
          "name": "stdout",
          "text": [
            "Male\n"
          ]
        }
      ]
    },
    {
      "cell_type": "markdown",
      "source": [
        "####Reference Variables\n",
        "*   Holds the object, stores address of that object\n",
        "*   We can create objects without reference variable, we use it bcz we can store to reuse\n",
        "*   An object can have multiple reference varaibles\n",
        "*   Assigning a new reference variable to an existing doesn't create new, so if u change value it affects both\n",
        "\n",
        "\n",
        "\n"
      ],
      "metadata": {
        "id": "t0T-ZlYWnsju"
      }
    },
    {
      "cell_type": "code",
      "source": [
        "#object without reference\n",
        "class Person:\n",
        "  def __init__(self):\n",
        "    self.name = 'fazil'\n",
        "    self.gender = 'male'\n",
        "\n",
        "Person # Person by itself => the class, not an object.\n",
        "\n",
        "Person()  # creates an object.\n",
        "\n",
        "p = Person() # creates an object and assigns a reference (p) to it.\n",
        "\n",
        "p.name  # now we can access by using reference of object\n",
        "\n",
        "q = p\n",
        "print(p.name)\n",
        "print(q.name)\n",
        "\n",
        "q.name = 'monica' #  if u change value it affects both\n",
        "print(p.name)\n",
        "print(q.name)"
      ],
      "metadata": {
        "id": "MS2gFeaXnv4-",
        "outputId": "e481e75e-9597-4a0a-ae5f-870681d35c50",
        "colab": {
          "base_uri": "https://localhost:8080/"
        }
      },
      "execution_count": null,
      "outputs": [
        {
          "output_type": "stream",
          "name": "stdout",
          "text": [
            "fazil\n",
            "fazil\n",
            "monica\n",
            "monica\n"
          ]
        }
      ]
    },
    {
      "cell_type": "markdown",
      "source": [
        "####Pass by reference\n",
        "we can pass object to function and return object for a function which is inside/outside of a class"
      ],
      "metadata": {
        "id": "WrZmPSWwsAyo"
      }
    },
    {
      "cell_type": "code",
      "source": [
        "class Person:\n",
        "  def __init__(self,name,gender):\n",
        "    self.name = name\n",
        "    self.gender = gender\n",
        "\n",
        "def greet(person):\n",
        "  print('My name is ',person.name,'and I am a ',person.gender)  # Inside the function, you can use that object’s data (person.name, person.gender).\n",
        "  p1 = Person('Monica','Female')  # new obj created\n",
        "  return p1 # return obj in function\n",
        "\n",
        "p = Person('Fazil','Male')\n",
        "greet(p)  # sent object as param to a function\n",
        "\n",
        "x = greet(p)\n",
        "print(x.name)\n",
        "print(x.gender)\n",
        "\n",
        "\n",
        "# Objects are mutable\n",
        "# for every object value of instance variable is diff. eg: self.name --> p1.name, p2.name : stores in diff. memory"
      ],
      "metadata": {
        "id": "u16KqQtMsmDd",
        "outputId": "04a7af55-18d9-47fc-dc29-f91e2d7ae512",
        "colab": {
          "base_uri": "https://localhost:8080/"
        }
      },
      "execution_count": 2,
      "outputs": [
        {
          "output_type": "stream",
          "name": "stdout",
          "text": [
            "My name is  Fazil and I am a  Male\n",
            "My name is  Fazil and I am a  Male\n",
            "Monica\n",
            "Female\n"
          ]
        }
      ]
    },
    {
      "cell_type": "markdown",
      "source": [
        "###**Encapsulation**\n",
        "*   Binding data together\n",
        "\n",
        "*   Encapsulation means hiding the data (using private variables) + exposing controlled methods to access or modify it.\n",
        "\n",
        "*   set variable with __ (double underscore) at start of variable. Eg : self.__balance\n",
        "\n",
        "*   Getter → safely read a private variable.\n",
        "\n",
        "*   Setter → safely update a private variable with rules/validation.\n",
        "\n"
      ],
      "metadata": {
        "id": "UPPHfDwQGSGn"
      }
    },
    {
      "cell_type": "code",
      "source": [
        "class Bank:\n",
        "    def __init__(self, balance):\n",
        "        self.__balance = balance   # private variable\n",
        "\n",
        "    # Getter\n",
        "    def get_balance(self):\n",
        "        return self.__balance\n",
        "\n",
        "    # Setter\n",
        "    def set_balance(self, amount):\n",
        "        if amount >= 0:\n",
        "            self.__balance = amount\n",
        "        else:\n",
        "            print(\"Balance cannot be negative!\")\n",
        "\n",
        "    # Method to deposit\n",
        "    def deposit(self, amount):\n",
        "        if amount > 0:\n",
        "            self.__balance += amount\n",
        "        else:\n",
        "            print(\"Deposit must be positive!\")\n",
        "\n",
        "# --- Using the class ---\n",
        "account = Bank(1000)\n",
        "\n",
        "# print(account.__balance)  --> throws error we can't access directly bcz private\n",
        "\n",
        "print(account.get_balance())   # ✅ 1000 (getter)\n",
        "\n",
        "account.set_balance(2000)      # ✅ update balance\n",
        "print(account.get_balance())   # ✅ 2000\n",
        "\n",
        " # ❌ invalid update\n",
        "account.set_balance(-500)\n",
        "\n",
        "# account.set_balance('hehehe')\n",
        "# print(account.get_balance())  --> throws error, bcz we can still change private using set_balance, but we shouldn't do that\n",
        "\n",
        "\n",
        "# Remember nothing in Python is cmpltly privatized... :)"
      ],
      "metadata": {
        "id": "DShnSZc2iA4y",
        "outputId": "84af99e9-3a2f-4d79-8dc5-388c2abf798f",
        "colab": {
          "base_uri": "https://localhost:8080/"
        }
      },
      "execution_count": 5,
      "outputs": [
        {
          "output_type": "stream",
          "name": "stdout",
          "text": [
            "1000\n",
            "2000\n",
            "Balance cannot be negative!\n"
          ]
        }
      ]
    },
    {
      "cell_type": "markdown",
      "source": [
        "###Collection of Objects\n",
        "we can pass objects in lists/sets/dicts"
      ],
      "metadata": {
        "id": "EaNAEoNC4QNL"
      }
    },
    {
      "cell_type": "code",
      "source": [
        "# list of objects\n",
        "class Person:\n",
        "  def __init__(self,name,gender):\n",
        "    self.name = name\n",
        "    self.gender = gender\n",
        "\n",
        "p1 = Person('Fz','Male')\n",
        "p2 = Person('Monica','Female')\n",
        "\n",
        "L = [p1,p2]\n",
        "print(L)\n",
        "\n",
        "for i in L:\n",
        "  print(i.name,i.gender)"
      ],
      "metadata": {
        "id": "qsd1Z4u85GNh",
        "outputId": "359605aa-b5e1-4316-9c2f-468094d0e3f9",
        "colab": {
          "base_uri": "https://localhost:8080/"
        }
      },
      "execution_count": null,
      "outputs": [
        {
          "output_type": "stream",
          "name": "stdout",
          "text": [
            "[<__main__.Person object at 0x7b6f0a6bfa50>, <__main__.Person object at 0x7b6f0a7093d0>]\n",
            "Fz Male\n",
            "Monica Female\n"
          ]
        }
      ]
    },
    {
      "cell_type": "code",
      "source": [
        "# dictionary of objects\n",
        "class Person:\n",
        "  def __init__(self,name,gender):\n",
        "    self.name = name\n",
        "    self.gender = gender\n",
        "\n",
        "p1 = Person('Fz','Male')\n",
        "p2 = Person('Monica','Female')\n",
        "\n",
        "d = {'p1':p1,'p2':p2}\n",
        "for i in d:\n",
        "  print(d[i].name,d[i].gender)\n"
      ],
      "metadata": {
        "id": "7DnXCuZe6FS5",
        "outputId": "4077fe2d-34f1-4292-b344-6b63a96b6577",
        "colab": {
          "base_uri": "https://localhost:8080/"
        }
      },
      "execution_count": null,
      "outputs": [
        {
          "output_type": "stream",
          "name": "stdout",
          "text": [
            "Fz Male\n",
            "Monica Female\n"
          ]
        }
      ]
    },
    {
      "cell_type": "markdown",
      "source": [
        "###Instance vs Static Variable <br>\n",
        "Instance Variable :\n",
        "\n",
        "*   Belongs to each object (unique copy per object)\n",
        "*   Defined using self.\n",
        "*   Changes affect only that object.\n",
        "*   Instance variable → specific to each object (self.var).\n",
        "\n",
        "\n",
        "Static (Class) Variable\n",
        "\n",
        "*   Belongs to the class itself (shared across all objects).\n",
        "*   Defined outside __init__, inside class.\n",
        "*   Change affects all objects.\n",
        "*   Static/Class variable → common to all objects (ClassName.var)."
      ],
      "metadata": {
        "id": "TzcwZe8f9HMl"
      }
    },
    {
      "cell_type": "code",
      "source": [
        "# instance variable\n",
        "class Bank:\n",
        "    def __init__(self):\n",
        "        self.__balance = 0\n",
        "        self.name = 'Fazil'\n",
        "        self.cId = 0\n",
        "        self.cId+=1\n",
        "\n",
        "c1 = Bank()\n",
        "c2 = Bank()\n",
        "\n",
        "print(c1.cId)\n",
        "\n",
        "print(c2.cId) # both cId remains same bcz it points to diff. variables(instance -> c1,c2)"
      ],
      "metadata": {
        "id": "2clm1g8U68TW",
        "outputId": "8d6081a6-5595-4dce-f375-6f3e94359687",
        "colab": {
          "base_uri": "https://localhost:8080/"
        }
      },
      "execution_count": 7,
      "outputs": [
        {
          "output_type": "stream",
          "name": "stdout",
          "text": [
            "1\n",
            "1\n"
          ]
        }
      ]
    },
    {
      "cell_type": "code",
      "source": [
        "# static variable\n",
        "class Bank:\n",
        "\n",
        "    counter = 1\n",
        "    def __init__(self):\n",
        "        self.__balance = 0\n",
        "        self.name = 'Fazil'\n",
        "        self.cId = Bank.counter\n",
        "        Bank.counter = Bank.counter + 1\n",
        "\n",
        "c1 = Bank()\n",
        "c2 = Bank()\n",
        "c3 = Bank()\n",
        "\n",
        "print(c1.cId)\n",
        "\n",
        "print(c2.cId) # both cId changes same bcz it points to same. class variables(static -> Bank.counter for all c1,c2,c3..)\n",
        "\n",
        "print(c3.cId)"
      ],
      "metadata": {
        "id": "NSADuYdL_YJ8",
        "outputId": "d8ad8662-c247-446c-934f-bf430b581877",
        "colab": {
          "base_uri": "https://localhost:8080/"
        }
      },
      "execution_count": null,
      "outputs": [
        {
          "output_type": "stream",
          "name": "stdout",
          "text": [
            "1\n",
            "2\n",
            "3\n"
          ]
        }
      ]
    },
    {
      "cell_type": "markdown",
      "source": [
        "Static Method"
      ],
      "metadata": {
        "id": "4uerfHLFCJlO"
      }
    },
    {
      "cell_type": "code",
      "source": [
        "# but still someone can change the counter value, so make it private and use @staticmethod keyword --> Static mtd\n",
        "# Bank.counter = 'hehehe'\n",
        "\n",
        "class Bank:\n",
        "\n",
        "    __counter = 1\n",
        "    def __init__(self):\n",
        "        self.__balance = 0\n",
        "        self.name = 'Fazil'\n",
        "        self.cId = Bank.__counter\n",
        "        Bank.__counter = Bank.__counter + 1\n",
        "\n",
        "    #utility function\n",
        "    @staticmethod\n",
        "    def get_counter():\n",
        "        return Bank.__counter\n",
        "\n",
        "c1 = Bank()\n",
        "c2 = Bank()\n",
        "c3 = Bank()\n",
        "\n",
        "print(c1.cId)\n",
        "\n",
        "print(c2.cId) # both cId changes same bcz it points to same. class variables(static -> Bank.counter for all c1,c2,c3..)\n",
        "\n",
        "print(c3.cId)\n",
        "\n",
        "print(Bank.get_counter())"
      ],
      "metadata": {
        "id": "oYTIt135BFCm",
        "outputId": "6769ce32-f2c0-4121-de97-d66b18faeac2",
        "colab": {
          "base_uri": "https://localhost:8080/"
        }
      },
      "execution_count": null,
      "outputs": [
        {
          "output_type": "stream",
          "name": "stdout",
          "text": [
            "1\n",
            "2\n",
            "3\n",
            "4\n"
          ]
        }
      ]
    },
    {
      "cell_type": "markdown",
      "source": [
        "###Class Relationships\n",
        "\n",
        "*   Aggregation\n",
        "*   Inheritance\n",
        "\n"
      ],
      "metadata": {
        "id": "LVTuDnJdPNfx"
      }
    },
    {
      "cell_type": "markdown",
      "source": [
        "####**Aggregation**(Has-A-Relationship) :\n",
        "When One class owns the other class. Eg: Class Customer owns Class Address --> customer has address..<br>\n",
        "We can't fetch private variables of child class directlty, use getter/setter<br>\n",
        "When creating the parent, you pass the child object as a parameter to establish the relationship"
      ],
      "metadata": {
        "id": "TFoOMNJtPHKW"
      }
    },
    {
      "cell_type": "code",
      "source": [
        "#Parent class:\n",
        "class Customer:\n",
        "  def __init__(self,name,gender,address):\n",
        "    self.name = name\n",
        "    self.gender = gender\n",
        "    self.__address = address\n",
        "\n",
        "  def get_address(self):\n",
        "    return self.__address\n",
        "\n",
        "  def print_address(self):\n",
        "    print(self.__address.get_city(),self.__address.state)\n",
        "\n",
        "  def details(self):\n",
        "    print(self.name,self.gender,end=' ')\n",
        "    self.print_address()  # to call other mtd inside a mtd\n",
        "\n",
        "  def edit_profile(self,new_name,new_city,new_state): # edit address will be called frm Address()\n",
        "    self.name = new_name\n",
        "    self.__address.edit_address(new_city,new_state)\n",
        "\n",
        "class Address:\n",
        "  def __init__(self,city,state):\n",
        "    self.__city = city\n",
        "    self.state = state\n",
        "\n",
        "  def get_city(self): #use getter to access private variable city\n",
        "    return self.__city\n",
        "\n",
        "  def edit_address(self,new_city,new_state):\n",
        "    self.__city = new_city\n",
        "    self.state = new_state\n",
        "\n",
        "addr = Address('Ooty','TN')\n",
        "c = Customer('Fz','Male',addr)  #pass the child object as a parameter\n",
        "c.details()\n",
        "\n",
        "c.edit_profile('Fazil','Sby','Kl')\n",
        "c.details()"
      ],
      "metadata": {
        "id": "T4CbyOyPQ0gZ",
        "outputId": "bc4b7d45-6b92-4176-b327-a1b986447d35",
        "colab": {
          "base_uri": "https://localhost:8080/"
        }
      },
      "execution_count": 60,
      "outputs": [
        {
          "output_type": "stream",
          "name": "stdout",
          "text": [
            "Fz Male Ooty TN\n",
            "Fazil Male Sby Kl\n"
          ]
        }
      ]
    },
    {
      "cell_type": "markdown",
      "source": [
        "###Inheritance<br>\n",
        "\n",
        "\n",
        "*   One class (child/derived) acquires the properties and behaviors (variables & methods) of another class (parent/base).\n",
        "\n",
        "*   If child class doesn't have it's own constructor, Parent class constructor will be called\n",
        "\n",
        "*   If child has it's constructor, Parent class won't be called itself. Means we can access parent. Can access through super()\n",
        "\n",
        "*   We can access Parent -> constructor, non-private variable, non-private mtd\n",
        "\n",
        "*   The parent has no access to child   \n",
        "\n",
        "*   Child class can overide the attributes or methods -> Method overiding\n",
        "\n",
        "*   super() is an inbuilt fn which is used to invoke the parent class mtds and attr.\n",
        "\n"
      ],
      "metadata": {
        "id": "xeuOzgyyhn3K"
      }
    },
    {
      "cell_type": "code",
      "source": [
        "class Phone:\n",
        "  def __init__(self,brand,price,model):\n",
        "    self.brand = brand\n",
        "    self.__price = price\n",
        "    self.model = model\n",
        "\n",
        "class SmartPhone(Phone):\n",
        "  pass\n",
        "\n",
        "s = SmartPhone('Apple',75000,'Apple 13 Pro')\n",
        "print(s.model) #access parent variable\n",
        "\n",
        "s.price #can't access parent private variable without getter"
      ],
      "metadata": {
        "id": "mMnQfjsQbGRR",
        "outputId": "69a39a71-be11-4334-96c1-07efd2227c44",
        "colab": {
          "base_uri": "https://localhost:8080/",
          "height": 193
        }
      },
      "execution_count": 67,
      "outputs": [
        {
          "output_type": "stream",
          "name": "stdout",
          "text": [
            "Apple 13 Pro\n"
          ]
        },
        {
          "output_type": "error",
          "ename": "AttributeError",
          "evalue": "'SmartPhone' object has no attribute 'price'",
          "traceback": [
            "\u001b[0;31m---------------------------------------------------------------------------\u001b[0m",
            "\u001b[0;31mAttributeError\u001b[0m                            Traceback (most recent call last)",
            "\u001b[0;32m/tmp/ipython-input-3614928756.py\u001b[0m in \u001b[0;36m<cell line: 0>\u001b[0;34m()\u001b[0m\n\u001b[1;32m     11\u001b[0m \u001b[0mprint\u001b[0m\u001b[0;34m(\u001b[0m\u001b[0ms\u001b[0m\u001b[0;34m.\u001b[0m\u001b[0mmodel\u001b[0m\u001b[0;34m)\u001b[0m \u001b[0;31m#access parent variable\u001b[0m\u001b[0;34m\u001b[0m\u001b[0;34m\u001b[0m\u001b[0m\n\u001b[1;32m     12\u001b[0m \u001b[0;34m\u001b[0m\u001b[0m\n\u001b[0;32m---> 13\u001b[0;31m \u001b[0ms\u001b[0m\u001b[0;34m.\u001b[0m\u001b[0mprice\u001b[0m \u001b[0;31m#can't access parent private variable\u001b[0m\u001b[0;34m\u001b[0m\u001b[0;34m\u001b[0m\u001b[0m\n\u001b[0m",
            "\u001b[0;31mAttributeError\u001b[0m: 'SmartPhone' object has no attribute 'price'"
          ]
        }
      ]
    },
    {
      "cell_type": "code",
      "source": [
        "class Phone:\n",
        "  def __init__(self,brand,price,model):\n",
        "    self.brand = brand\n",
        "    self.price = price\n",
        "    self.model = model\n",
        "\n",
        "class SmartPhone(Phone):\n",
        "  def __init__(self,color):\n",
        "    self.color = color\n",
        "\n",
        "s = SmartPhone('Black')\n",
        "s.brand #can't access parent variable, bcz child has it's own const."
      ],
      "metadata": {
        "id": "_iKSmMLCoO_P",
        "outputId": "62f6c0e0-67ee-4389-a489-e53c45ad15c0",
        "colab": {
          "base_uri": "https://localhost:8080/",
          "height": 176
        }
      },
      "execution_count": 70,
      "outputs": [
        {
          "output_type": "error",
          "ename": "AttributeError",
          "evalue": "'SmartPhone' object has no attribute 'brand'",
          "traceback": [
            "\u001b[0;31m---------------------------------------------------------------------------\u001b[0m",
            "\u001b[0;31mAttributeError\u001b[0m                            Traceback (most recent call last)",
            "\u001b[0;32m/tmp/ipython-input-411123828.py\u001b[0m in \u001b[0;36m<cell line: 0>\u001b[0;34m()\u001b[0m\n\u001b[1;32m     10\u001b[0m \u001b[0;34m\u001b[0m\u001b[0m\n\u001b[1;32m     11\u001b[0m \u001b[0ms\u001b[0m \u001b[0;34m=\u001b[0m \u001b[0mSmartPhone\u001b[0m\u001b[0;34m(\u001b[0m\u001b[0;34m'Black'\u001b[0m\u001b[0;34m)\u001b[0m\u001b[0;34m\u001b[0m\u001b[0;34m\u001b[0m\u001b[0m\n\u001b[0;32m---> 12\u001b[0;31m \u001b[0ms\u001b[0m\u001b[0;34m.\u001b[0m\u001b[0mbrand\u001b[0m \u001b[0;31m#can't access parent variable, bcz child has it's own const.\u001b[0m\u001b[0;34m\u001b[0m\u001b[0;34m\u001b[0m\u001b[0m\n\u001b[0m",
            "\u001b[0;31mAttributeError\u001b[0m: 'SmartPhone' object has no attribute 'brand'"
          ]
        }
      ]
    },
    {
      "cell_type": "code",
      "source": [
        "class Parent:\n",
        "  def __init__(self,num):\n",
        "    self.__num = num\n",
        "\n",
        "  def get_num(self):  #using getter access\n",
        "    return self.__num\n",
        "\n",
        "class Child(Parent):\n",
        "  def show(self):\n",
        "    print('Inside child')\n",
        "\n",
        "c = Child(2)\n",
        "print(c.get_num())\n",
        "c.show()"
      ],
      "metadata": {
        "id": "LBadzcJXpFVs",
        "outputId": "8c32d75b-9d02-443a-a01d-b95d46782084",
        "colab": {
          "base_uri": "https://localhost:8080/"
        }
      },
      "execution_count": 74,
      "outputs": [
        {
          "output_type": "stream",
          "name": "stdout",
          "text": [
            "2\n",
            "Inside child\n"
          ]
        }
      ]
    },
    {
      "cell_type": "markdown",
      "source": [
        "###Method overiding\n",
        "If parent and child class have same mtd name, Parent mtd will be called"
      ],
      "metadata": {
        "id": "jTye961vq4TT"
      }
    },
    {
      "cell_type": "code",
      "source": [
        "class Phone:\n",
        "  def __init__(self,brand,price,model):\n",
        "    self.brand = brand\n",
        "    self.__price = price\n",
        "    self.model = model\n",
        "\n",
        "  def buy(self):\n",
        "    print('Parent class')\n",
        "\n",
        "class SmartPhone(Phone):\n",
        "  def buy(self):\n",
        "    print('Child class')\n",
        "\n",
        "s = SmartPhone('Apple',75000,'Apple 13 Pro')\n",
        "s.buy()"
      ],
      "metadata": {
        "id": "yt6HhZ6vri6i",
        "outputId": "5a08e9c4-343a-4817-f822-2e0637470f58",
        "colab": {
          "base_uri": "https://localhost:8080/"
        }
      },
      "execution_count": 75,
      "outputs": [
        {
          "output_type": "stream",
          "name": "stdout",
          "text": [
            "Child class\n"
          ]
        }
      ]
    },
    {
      "cell_type": "markdown",
      "source": [
        "###Super Keyword\n",
        "\n",
        "*   To call both constructors, and access both even it's method overiding\n",
        "*   Can only call inside class, can't call outside\n",
        "*   We can access only mtds, not attributes\n",
        "\n",
        "\n",
        "\n"
      ],
      "metadata": {
        "id": "f4yQjSBur-6S"
      }
    },
    {
      "cell_type": "code",
      "source": [
        "class Phone:\n",
        "  def __init__(self,brand,price,model):\n",
        "    self.brand = brand\n",
        "    self.__price = price\n",
        "    self.model = model\n",
        "\n",
        "  def buy(self):\n",
        "    print('Parent class')\n",
        "\n",
        "class SmartPhone(Phone):\n",
        "  def buy(self):\n",
        "    print('Child class')\n",
        "    super().buy()\n",
        "    # super().brand() # can't access attributes\n",
        "\n",
        "s = SmartPhone('Apple',75000,'Apple 13 Pro')\n",
        "s.buy()"
      ],
      "metadata": {
        "id": "-jVVMAGwtK33",
        "outputId": "7451eb74-3ca9-4c63-e1a5-75aa4e85d72e",
        "colab": {
          "base_uri": "https://localhost:8080/"
        }
      },
      "execution_count": 83,
      "outputs": [
        {
          "output_type": "stream",
          "name": "stdout",
          "text": [
            "Child class\n",
            "Parent class\n"
          ]
        }
      ]
    },
    {
      "cell_type": "code",
      "source": [
        "# super -> constructor\n",
        "\n",
        "class Phone:\n",
        "  def __init__(self,brand,price,model):\n",
        "    print('Inside Parent class')\n",
        "    self.brand = brand\n",
        "    self.__price = price\n",
        "    self.model = model\n",
        "\n",
        "class SmartPhone(Phone):\n",
        "  def __init__(self,brand,price,model,os):\n",
        "    print('Child class')\n",
        "    super().__init__(price,brand,price)\n",
        "    self.os = os\n",
        "    print('Inside Child class')\n",
        "\n",
        "s = SmartPhone('Apple',75000,'Apple 13 Pro','IOS')\n",
        "print(s.os) #child member\n",
        "\n",
        "s.brand  #parent member"
      ],
      "metadata": {
        "id": "LAFPmwkRtYUb",
        "outputId": "bd2eff57-4eff-4eb6-e1cf-4688bdd3f6b2",
        "colab": {
          "base_uri": "https://localhost:8080/"
        }
      },
      "execution_count": 81,
      "outputs": [
        {
          "output_type": "stream",
          "name": "stdout",
          "text": [
            "Child class\n",
            "Inside Parent class\n",
            "Inside Child class\n",
            "IOS\n"
          ]
        },
        {
          "output_type": "execute_result",
          "data": {
            "text/plain": [
              "75000"
            ]
          },
          "metadata": {},
          "execution_count": 81
        }
      ]
    }
  ]
}