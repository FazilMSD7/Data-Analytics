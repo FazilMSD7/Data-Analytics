{
  "nbformat": 4,
  "nbformat_minor": 0,
  "metadata": {
    "colab": {
      "provenance": [],
      "authorship_tag": "ABX9TyNIPtuDgcwV/2XMXJ0YLB5a",
      "include_colab_link": true
    },
    "kernelspec": {
      "name": "python3",
      "display_name": "Python 3"
    },
    "language_info": {
      "name": "python"
    }
  },
  "cells": [
    {
      "cell_type": "markdown",
      "metadata": {
        "id": "view-in-github",
        "colab_type": "text"
      },
      "source": [
        "<a href=\"https://colab.research.google.com/github/FazilMSD7/Data-Analytics/blob/main/Py_fundamentals/Python_Advanced2.ipynb\" target=\"_parent\"><img src=\"https://colab.research.google.com/assets/colab-badge.svg\" alt=\"Open In Colab\"/></a>"
      ]
    },
    {
      "cell_type": "markdown",
      "source": [
        "### DB Connection with Secure Password"
      ],
      "metadata": {
        "id": "sYRW0_KlHB5T"
      }
    },
    {
      "cell_type": "code",
      "execution_count": 2,
      "metadata": {
        "id": "d07W3R6zFGjP",
        "colab": {
          "base_uri": "https://localhost:8080/",
          "height": 400
        },
        "outputId": "a9a4860a-e545-42c7-8eda-79fdb10c8654"
      },
      "outputs": [
        {
          "output_type": "error",
          "ename": "ModuleNotFoundError",
          "evalue": "No module named 'pymysql'",
          "traceback": [
            "\u001b[0;31m---------------------------------------------------------------------------\u001b[0m",
            "\u001b[0;31mModuleNotFoundError\u001b[0m                       Traceback (most recent call last)",
            "\u001b[0;32m/tmp/ipython-input-124873364.py\u001b[0m in \u001b[0;36m<cell line: 0>\u001b[0;34m()\u001b[0m\n\u001b[0;32m----> 1\u001b[0;31m \u001b[0;32mimport\u001b[0m \u001b[0mpymysql\u001b[0m\u001b[0;34m\u001b[0m\u001b[0;34m\u001b[0m\u001b[0m\n\u001b[0m\u001b[1;32m      2\u001b[0m \u001b[0;31m# it throws error bcz mysql setup in colab not yet done..\u001b[0m\u001b[0;34m\u001b[0m\u001b[0;34m\u001b[0m\u001b[0m\n\u001b[1;32m      3\u001b[0m \u001b[0;34m\u001b[0m\u001b[0m\n\u001b[1;32m      4\u001b[0m \u001b[0;31m# Step 1 : Connect to the db\u001b[0m\u001b[0;34m\u001b[0m\u001b[0;34m\u001b[0m\u001b[0m\n\u001b[1;32m      5\u001b[0m \u001b[0;31m# Update the connection details with your MySQL server information\u001b[0m\u001b[0;34m\u001b[0m\u001b[0;34m\u001b[0m\u001b[0m\n",
            "\u001b[0;31mModuleNotFoundError\u001b[0m: No module named 'pymysql'",
            "",
            "\u001b[0;31m---------------------------------------------------------------------------\u001b[0;32m\nNOTE: If your import is failing due to a missing package, you can\nmanually install dependencies using either !pip or !apt.\n\nTo view examples of installing some common dependencies, click the\n\"Open Examples\" button below.\n\u001b[0;31m---------------------------------------------------------------------------\u001b[0m\n"
          ],
          "errorDetails": {
            "actions": [
              {
                "action": "open_url",
                "actionText": "Open Examples",
                "url": "/notebooks/snippets/importing_libraries.ipynb"
              }
            ]
          }
        }
      ],
      "source": [
        "import pymysql\n",
        "# it throws error bcz mysql setup in colab not yet done..\n",
        "\n",
        "# Step 1 : Connect to the db\n",
        "# Update the connection details with your MySQL server information\n",
        "connection = pymysql.connect(\n",
        "    host = 'localhost', # e.g., 'localhost' or an IP address\n",
        "    user = 'root',\n",
        "    password = '123',\n",
        "    database = 'testpy',\n",
        "    cursorclass = pymysql.cursors.DictCursor\n",
        ")\n",
        "\n",
        "\n",
        "try:\n",
        "  with connection.cursor() as cursor:\n",
        "    # Step 2 : Create a table\n",
        "    create_query = \"\"\"\n",
        "    CREATE TABLE IF NOT EXISTS employees(\n",
        "      id INT AUTO_INCREMENT PRIMARY KEY,\n",
        "      name VARCHAR(100),\n",
        "      department VARCHAR(50)\n",
        "    );\n",
        "    \"\"\"\n",
        "    cursor.execute(create_query)\n",
        "\n",
        "    # Step 3 : Insert Data\n",
        "    insert_query = \"INSERT INTO employees (name, department) VALUES (%s, %s)\"\n",
        "    values = [('John','HR'),('Alice','CS'),('Rasee','Accounts')]\n",
        "    cursor.executemany(insert_query,values)\n",
        "    connection.commit()\n",
        "\n",
        "    # Step 4 : Select Data\n",
        "    select_query = \"SELECT * from employees\"\n",
        "    cursor.execute(select_query)\n",
        "    result = cursor.fetchall()\n",
        "\n",
        "    for i in result:\n",
        "      print(i)\n",
        "finally:\n",
        "  connection.close()"
      ]
    },
    {
      "cell_type": "code",
      "source": [
        "import os\n",
        "if os.path.exists('test.db'):\n",
        "  os.remove('test.db')\n",
        "  print('Old test.db removed')"
      ],
      "metadata": {
        "id": "vBgycFerLWuB",
        "outputId": "ecb9e6ed-044d-4482-d2a1-5a1abfa70a51",
        "colab": {
          "base_uri": "https://localhost:8080/"
        }
      },
      "execution_count": 23,
      "outputs": [
        {
          "output_type": "stream",
          "name": "stdout",
          "text": [
            "Old test.db removed\n"
          ]
        }
      ]
    },
    {
      "cell_type": "code",
      "source": [
        "import sqlite3\n",
        "conn = sqlite3.connect('test.db')\n",
        "cur = conn.cursor()"
      ],
      "metadata": {
        "id": "E0Bl9gS7Hcoi"
      },
      "execution_count": 24,
      "outputs": []
    },
    {
      "cell_type": "code",
      "source": [
        "conn.execute('''\n",
        "CREATE TABLE IF NOT EXISTS employees(\n",
        "id INTEGER PRIMARY KEY AUTOINCREMENT,\n",
        "name VARCHAR(100),\n",
        "department VARCHAR(50)\n",
        "); '''\n",
        ")\n",
        "\n",
        "conn.commit()\n",
        "print(\"Employee table created\")"
      ],
      "metadata": {
        "id": "6zbWpXx1Htqv",
        "outputId": "27f6aebd-cc43-48ce-a7de-65fb7d3481c3",
        "colab": {
          "base_uri": "https://localhost:8080/"
        }
      },
      "execution_count": 25,
      "outputs": [
        {
          "output_type": "stream",
          "name": "stdout",
          "text": [
            "Employee table created\n"
          ]
        }
      ]
    },
    {
      "cell_type": "code",
      "source": [
        "insert_query = \"INSERT INTO employees (name, department) VALUES (?, ?);\"\n",
        "values = [('John','HR'),('Alice','CS'),('Rasee','Accounts')]\n",
        "conn.executemany(insert_query, values)\n",
        "conn.commit()"
      ],
      "metadata": {
        "id": "aUD8t4uaIYcI"
      },
      "execution_count": 26,
      "outputs": []
    },
    {
      "cell_type": "code",
      "source": [
        "conn = sqlite3.connect('test.db')\n",
        "cursor = conn.execute(''' SELECT * FROM employees''')\n",
        "for i in cursor:\n",
        "  print(i)\n",
        "\n",
        "conn.close()"
      ],
      "metadata": {
        "id": "hyP7DfzUIx66",
        "outputId": "f1cb2070-ae25-41e9-915d-67e1741d6c29",
        "colab": {
          "base_uri": "https://localhost:8080/"
        }
      },
      "execution_count": 27,
      "outputs": [
        {
          "output_type": "stream",
          "name": "stdout",
          "text": [
            "(1, 'John', 'HR')\n",
            "(2, 'Alice', 'CS')\n",
            "(3, 'Rasee', 'Accounts')\n"
          ]
        }
      ]
    }
  ]
}