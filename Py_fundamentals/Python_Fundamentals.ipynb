{
  "nbformat": 4,
  "nbformat_minor": 0,
  "metadata": {
    "colab": {
      "provenance": [],
      "include_colab_link": true
    },
    "kernelspec": {
      "name": "python3",
      "display_name": "Python 3"
    },
    "language_info": {
      "name": "python"
    }
  },
  "cells": [
    {
      "cell_type": "markdown",
      "metadata": {
        "id": "view-in-github",
        "colab_type": "text"
      },
      "source": [
        "<a href=\"https://colab.research.google.com/github/FazilMSD7/Data-Analytics/blob/main/Py_fundamentals/Python_Fundamentals.ipynb\" target=\"_parent\"><img src=\"https://colab.research.google.com/assets/colab-badge.svg\" alt=\"Open In Colab\"/></a>"
      ]
    },
    {
      "cell_type": "markdown",
      "source": [
        "**Print**"
      ],
      "metadata": {
        "id": "a4K4HlGE7dfp"
      }
    },
    {
      "cell_type": "markdown",
      "source": [],
      "metadata": {
        "id": "cPU88CsbXSGV"
      }
    },
    {
      "cell_type": "code",
      "execution_count": null,
      "metadata": {
        "id": "XSHOEwGA7MFg",
        "colab": {
          "base_uri": "https://localhost:8080/"
        },
        "outputId": "16cca1b1-8009-4089-9bd2-ba5b284908b8"
      },
      "outputs": [
        {
          "output_type": "stream",
          "name": "stdout",
          "text": [
            "fz 1.2 True\n"
          ]
        }
      ],
      "source": [
        "print('fz',1.2,True)"
      ]
    },
    {
      "cell_type": "code",
      "source": [
        "print('fz',1.2,True,sep='/')"
      ],
      "metadata": {
        "colab": {
          "base_uri": "https://localhost:8080/"
        },
        "id": "Iqay7Ag2XZYY",
        "outputId": "33366cea-799f-4797-c858-dbcaccfc12dc"
      },
      "execution_count": null,
      "outputs": [
        {
          "output_type": "stream",
          "name": "stdout",
          "text": [
            "fz/1.2/True\n"
          ]
        }
      ]
    },
    {
      "cell_type": "code",
      "source": [
        "print('fz',end='-')\n",
        "print('abd')"
      ],
      "metadata": {
        "colab": {
          "base_uri": "https://localhost:8080/"
        },
        "id": "q5QvnG5YXxs6",
        "outputId": "100a0571-6282-4d0d-9586-2195ad5a3544"
      },
      "execution_count": null,
      "outputs": [
        {
          "output_type": "stream",
          "name": "stdout",
          "text": [
            "fz-abd\n"
          ]
        }
      ]
    },
    {
      "cell_type": "code",
      "source": [
        "a = 1,2,3\n",
        "print(a)\n",
        "\n",
        "a,b,c = 1,2,3\n",
        "print(a,b,c)\n",
        "\n",
        "a =b =c =5\n",
        "print(a)"
      ],
      "metadata": {
        "colab": {
          "base_uri": "https://localhost:8080/"
        },
        "id": "YLxBhQw1bIkE",
        "outputId": "b91477b7-8cc8-44d1-f320-5c9e55b5b4bf"
      },
      "execution_count": null,
      "outputs": [
        {
          "output_type": "stream",
          "name": "stdout",
          "text": [
            "(1, 2, 3)\n",
            "1 2 3\n",
            "5\n"
          ]
        }
      ]
    },
    {
      "cell_type": "markdown",
      "source": [
        "Data **Types**"
      ],
      "metadata": {
        "id": "e_tTYDcXYNHx"
      }
    },
    {
      "cell_type": "code",
      "source": [
        "print('vf') #str\n",
        "print(3) #int\n",
        "print(3.4) #float\n",
        "print(True) #boolean\n",
        "print([1,2,3]) #list\n",
        "print((1,2)) #tuple\n",
        "print({1,2,3}) #set\n",
        "print({'a':3}) #dict\n",
        "print(7+2j) #complex"
      ],
      "metadata": {
        "colab": {
          "base_uri": "https://localhost:8080/"
        },
        "id": "P2kRSr1tX84X",
        "outputId": "9c0def59-ca1b-44ed-c1c5-ce7f0750b8a6"
      },
      "execution_count": null,
      "outputs": [
        {
          "output_type": "stream",
          "name": "stdout",
          "text": [
            "vf\n",
            "3\n",
            "3.4\n",
            "True\n",
            "[1, 2, 3]\n",
            "(1, 2)\n",
            "{1, 2, 3}\n",
            "{'a': 3}\n",
            "(7+2j)\n"
          ]
        }
      ]
    },
    {
      "cell_type": "markdown",
      "source": [
        "**Variables** : Containers store info"
      ],
      "metadata": {
        "id": "w0otkqqJZePB"
      }
    },
    {
      "cell_type": "code",
      "source": [
        "name = 'fz'\n",
        "print(name)\n",
        "# Static Typing(define datatype :other lang --> int a = 5)\n",
        "# Dynamic Typing(no need to define dtype : python --> a =5)\n",
        "\n",
        "#Static Binding(other lang. only specified dtype can be supported, eg: int a = 5) only sprts int values\n",
        "# eg : int a = 5, str a = 'st'\n",
        "\n",
        "#Dynamic Binding(python sprts, eg: a =5, a ='st')\n",
        "a = 5\n",
        "a = 'st'\n",
        "print(a)"
      ],
      "metadata": {
        "colab": {
          "base_uri": "https://localhost:8080/"
        },
        "id": "0G40KkdZZcPz",
        "outputId": "54f7703b-e94f-4f10-9d99-3918a7cdab3f"
      },
      "execution_count": null,
      "outputs": [
        {
          "output_type": "stream",
          "name": "stdout",
          "text": [
            "fz\n",
            "st\n"
          ]
        }
      ]
    },
    {
      "cell_type": "markdown",
      "source": [
        "**Keywords & Identifiers**"
      ],
      "metadata": {
        "id": "_2QkxxcnbfLk"
      }
    },
    {
      "cell_type": "code",
      "source": [
        "# Keywords : Reserved words(if,true,def...)\n",
        "# Identifiers : Giving name to prg(eg: variables,class, fn)\n",
        "# Can't start with digit, Van't be keywords, Can use sp. char _ (eg: _ = 5)\n",
        "\n",
        "# Static - Can't interact, can only read eg: calendar\n",
        "# Dynamic - Can interact, Can read/write eg: youtube"
      ],
      "metadata": {
        "id": "7GAsjPaRa9u8"
      },
      "execution_count": null,
      "outputs": []
    },
    {
      "cell_type": "markdown",
      "source": [
        "**User Input**"
      ],
      "metadata": {
        "id": "gW3JeRfMdIUG"
      }
    },
    {
      "cell_type": "code",
      "source": [
        "input('What is ur name :')"
      ],
      "metadata": {
        "colab": {
          "base_uri": "https://localhost:8080/",
          "height": 53
        },
        "id": "BWPYhXX-djnf",
        "outputId": "50b86eac-0a37-40e7-d231-256502b22ec8"
      },
      "execution_count": null,
      "outputs": [
        {
          "name": "stdout",
          "output_type": "stream",
          "text": [
            "What is ur name :Fazil\n"
          ]
        },
        {
          "output_type": "execute_result",
          "data": {
            "text/plain": [
              "'Fazil'"
            ],
            "application/vnd.google.colaboratory.intrinsic+json": {
              "type": "string"
            }
          },
          "metadata": {},
          "execution_count": 16
        }
      ]
    },
    {
      "cell_type": "code",
      "source": [
        "a = input('1st number')\n",
        "b = input('2nd number')\n",
        "c = a+b\n",
        "print(c)\n",
        "type(c)"
      ],
      "metadata": {
        "colab": {
          "base_uri": "https://localhost:8080/"
        },
        "id": "VGZo8HDpdoie",
        "outputId": "ae7da24c-8aed-4f88-d77a-206b973fd297"
      },
      "execution_count": null,
      "outputs": [
        {
          "output_type": "stream",
          "name": "stdout",
          "text": [
            "1st number4\n",
            "2nd number4\n",
            "44\n"
          ]
        },
        {
          "output_type": "execute_result",
          "data": {
            "text/plain": [
              "str"
            ]
          },
          "metadata": {},
          "execution_count": 21
        }
      ]
    },
    {
      "cell_type": "code",
      "source": [
        "a = int(input('1st number'))  # explicit conv. - chng dtyoe acc user, Implicit conv. - automatically conv.\n",
        "b = int(input('2nd number'))  # can't convert complex into other dtype : int(1+6j)\n",
        "c = a+b\n",
        "print(c)\n",
        "type(c)"
      ],
      "metadata": {
        "colab": {
          "base_uri": "https://localhost:8080/"
        },
        "id": "BoR2EKcceRZQ",
        "outputId": "038632da-4e62-4120-a3d7-71f68ec763e4"
      },
      "execution_count": null,
      "outputs": [
        {
          "output_type": "stream",
          "name": "stdout",
          "text": [
            "1st number2\n",
            "2nd number3\n",
            "5\n"
          ]
        },
        {
          "output_type": "execute_result",
          "data": {
            "text/plain": [
              "int"
            ]
          },
          "metadata": {},
          "execution_count": 22
        }
      ]
    },
    {
      "cell_type": "markdown",
      "source": [
        "**Literals** : Value stored (eg. a = 5)  5 is literal"
      ],
      "metadata": {
        "id": "LXdvQ8b4gGZ9"
      }
    },
    {
      "cell_type": "code",
      "source": [
        "from re import X\n",
        "a = 0b1010  # binary li\n",
        "b = 100 # decimal li\n",
        "c = 0o310 # octal li\n",
        "d = 0x12c # hexa li\n",
        "print(a,b,c,d)\n",
        "\n",
        "# floatal li\n",
        "float_1 = 10.5\n",
        "float_2 = 1.5e2 # 1.5*10^2\n",
        "print(float_1,float_2)\n",
        "\n",
        "# complex li\n",
        "X = 3.14j\n",
        "print(X,X.imag,X.real)\n",
        "\n",
        "# String : '', \"\", \"\"\" \"\"\" (multi lines), unicode(u\"u7634..24e) - smily, str1 = r\"row \\n string\" op. raw \\n string"
      ],
      "metadata": {
        "colab": {
          "base_uri": "https://localhost:8080/"
        },
        "id": "3Zb-WsYBfUJ9",
        "outputId": "45c8fbbc-db4c-48b0-cf71-2e733fe97626"
      },
      "execution_count": null,
      "outputs": [
        {
          "output_type": "stream",
          "name": "stdout",
          "text": [
            "10 100 200 300\n",
            "10.5 150.0\n",
            "3.14j 3.14 0.0\n"
          ]
        }
      ]
    },
    {
      "cell_type": "markdown",
      "source": [
        "**Operators :**"
      ],
      "metadata": {
        "id": "oT8L3Ow-p7eF"
      }
    },
    {
      "cell_type": "markdown",
      "source": [
        ". Arithmetic Operators -> + - * / // % **\n",
        ". Relational Operators(True or False) -> > < >= <= == !=\n",
        ". Logical Operators -> and or not\n",
        ". Bitwise Operators(not used mostly) -> & | && || ^ ~ << >>\n",
        ". Assignment Operator -> = == +=\n",
        ". Membership Operator -> in/not in"
      ],
      "metadata": {
        "id": "5un3ESHZR0Gp"
      }
    },
    {
      "cell_type": "code",
      "source": [
        "print(5//2)\n",
        "print(5%2)\n",
        "print(5**2)"
      ],
      "metadata": {
        "id": "e8ZE8dKc40Oi",
        "colab": {
          "base_uri": "https://localhost:8080/"
        },
        "outputId": "f12c53d5-7d07-494b-b761-a9c62741c6f6"
      },
      "execution_count": null,
      "outputs": [
        {
          "output_type": "stream",
          "name": "stdout",
          "text": [
            "2\n",
            "1\n",
            "25\n"
          ]
        }
      ]
    },
    {
      "cell_type": "code",
      "source": [
        "print(4!=4)"
      ],
      "metadata": {
        "colab": {
          "base_uri": "https://localhost:8080/"
        },
        "id": "X6cJYz2CSBBn",
        "outputId": "cb900547-3f1c-4ec7-fcd8-51d86f348e68"
      },
      "execution_count": null,
      "outputs": [
        {
          "output_type": "stream",
          "name": "stdout",
          "text": [
            "False\n"
          ]
        }
      ]
    },
    {
      "cell_type": "code",
      "source": [
        "print(1 and 0)\n",
        "print(1 or 0)\n",
        "print(not 1)"
      ],
      "metadata": {
        "colab": {
          "base_uri": "https://localhost:8080/"
        },
        "id": "cYqTQFFPSOOh",
        "outputId": "1fe776b5-24cb-47db-c8e1-ffc1184f0c22"
      },
      "execution_count": null,
      "outputs": [
        {
          "output_type": "stream",
          "name": "stdout",
          "text": [
            "0\n",
            "1\n",
            "False\n"
          ]
        }
      ]
    },
    {
      "cell_type": "code",
      "source": [
        "print(2&3)"
      ],
      "metadata": {
        "colab": {
          "base_uri": "https://localhost:8080/"
        },
        "id": "ehbybfqQSQ57",
        "outputId": "f1c12236-f346-4ea9-920c-0fb28008808b"
      },
      "execution_count": null,
      "outputs": [
        {
          "output_type": "stream",
          "name": "stdout",
          "text": [
            "2\n"
          ]
        }
      ]
    },
    {
      "cell_type": "code",
      "source": [
        "a = 2\n",
        "a += 3\n",
        "print(a)"
      ],
      "metadata": {
        "colab": {
          "base_uri": "https://localhost:8080/"
        },
        "id": "I1YAGDAeTUNX",
        "outputId": "36249df5-8653-4626-a20e-baab227c3aa8"
      },
      "execution_count": null,
      "outputs": [
        {
          "output_type": "stream",
          "name": "stdout",
          "text": [
            "5\n"
          ]
        }
      ]
    },
    {
      "cell_type": "code",
      "source": [
        "print('d' in 'dubai')"
      ],
      "metadata": {
        "colab": {
          "base_uri": "https://localhost:8080/"
        },
        "id": "b9S_dxtMUSyA",
        "outputId": "217347aa-8d75-4980-cc07-1a79ab2e7cc2"
      },
      "execution_count": null,
      "outputs": [
        {
          "output_type": "stream",
          "name": "stdout",
          "text": [
            "True\n"
          ]
        }
      ]
    },
    {
      "cell_type": "code",
      "source": [
        "num = int(input('number: '))\n",
        "a = num%10\n",
        "print(a)  #345%10 - 5\n",
        "num = num//10\n",
        "print(num) #345//10 - 34\n",
        "b = num%10\n",
        "print(b)  #34%10 - 4\n",
        "c = num // 10\n",
        "print(c)  #34//10 - 3\n",
        "print(a+b+c)  # 12\n"
      ],
      "metadata": {
        "colab": {
          "base_uri": "https://localhost:8080/"
        },
        "id": "8AAzqxsmUiTo",
        "outputId": "baefa877-e0b0-44a7-8c45-98c64883e6f6"
      },
      "execution_count": null,
      "outputs": [
        {
          "output_type": "stream",
          "name": "stdout",
          "text": [
            "number: 789\n",
            "9\n",
            "78\n",
            "8\n",
            "7\n",
            "24\n"
          ]
        }
      ]
    },
    {
      "cell_type": "markdown",
      "source": [
        "**If-else :**"
      ],
      "metadata": {
        "id": "aIouadcttAhE"
      }
    },
    {
      "cell_type": "code",
      "source": [
        "# Find min of 3 give numbers:\n",
        "a = int(input('1st number: '))\n",
        "b = int(input('2nd number: '))\n",
        "c = int(input('3rd number: '))\n",
        "if a>b and a>c:\n",
        "  print(a)\n",
        "elif b>a and b>c:\n",
        "  print(b)\n",
        "else:\n",
        "  print(c)"
      ],
      "metadata": {
        "colab": {
          "base_uri": "https://localhost:8080/"
        },
        "id": "rEmTmuoWm982",
        "outputId": "ed96b024-33ee-47b5-f155-77e055b7059c"
      },
      "execution_count": null,
      "outputs": [
        {
          "output_type": "stream",
          "name": "stdout",
          "text": [
            "1st number: 45\n",
            "2nd number: 88\n",
            "3rd number: 12\n",
            "88\n"
          ]
        }
      ]
    },
    {
      "cell_type": "code",
      "source": [
        "#calculator :\n",
        "a = int(input('1st number: '))\n",
        "b = int(input('2nd number: '))\n",
        "op = input('operator: ')\n",
        "if op == '+':\n",
        "  print(a+b)\n",
        "elif op == '-':\n",
        "  print(a-b)\n",
        "elif op == '*':\n",
        "  print(a*b)\n",
        "elif op == '/':\n",
        "  print(a/b)"
      ],
      "metadata": {
        "colab": {
          "base_uri": "https://localhost:8080/"
        },
        "id": "a6EyXjFTtj6p",
        "outputId": "b3bc44c8-bb2d-4a1a-87e4-ea1542bfac2c"
      },
      "execution_count": null,
      "outputs": [
        {
          "output_type": "stream",
          "name": "stdout",
          "text": [
            "1st number: 20\n",
            "2nd number: 98\n",
            "operator: -\n",
            "-78\n"
          ]
        }
      ]
    },
    {
      "cell_type": "code",
      "source": [
        "a = int(input('1st number: '))\n",
        "if a%10 ==0:\n",
        "  print(\"even\")\n",
        "else:\n",
        "  print(\"odd\")"
      ],
      "metadata": {
        "colab": {
          "base_uri": "https://localhost:8080/"
        },
        "id": "fbPNLXbJuQqt",
        "outputId": "6f4820d5-e12b-4fd3-f817-0d91a0d8f74b"
      },
      "execution_count": null,
      "outputs": [
        {
          "output_type": "stream",
          "name": "stdout",
          "text": [
            "1st number: 0\n",
            "even\n"
          ]
        }
      ]
    },
    {
      "cell_type": "markdown",
      "source": [
        "**Modules in Python**"
      ],
      "metadata": {
        "id": "2Rg0DF7cvXSZ"
      }
    },
    {
      "cell_type": "markdown",
      "source": [
        " It can include functions, classes, and variables that you can use in other programs. Reusable code - just import and use."
      ],
      "metadata": {
        "id": "2EZtV8lhRiJs"
      }
    },
    {
      "cell_type": "markdown",
      "source": [
        "Math, Random, Keywords, DateTime"
      ],
      "metadata": {
        "id": "ef_wY_BpRv8K"
      }
    },
    {
      "cell_type": "code",
      "source": [
        "import math\n",
        "print(math.sqrt(4))\n",
        "print(math.factorial(5))"
      ],
      "metadata": {
        "id": "iAiT7UaRux1x",
        "colab": {
          "base_uri": "https://localhost:8080/"
        },
        "outputId": "18ec814c-836f-4375-e41a-740057f1e121"
      },
      "execution_count": null,
      "outputs": [
        {
          "output_type": "stream",
          "name": "stdout",
          "text": [
            "2.0\n",
            "120\n"
          ]
        }
      ]
    },
    {
      "cell_type": "code",
      "source": [
        "import keyword\n",
        "print(keyword.kwlist)\n",
        "print(keyword.iskeyword('False'))"
      ],
      "metadata": {
        "colab": {
          "base_uri": "https://localhost:8080/"
        },
        "id": "gzFX20hpSDBM",
        "outputId": "3a32e427-3bea-4357-dabc-7795b6ab0b89"
      },
      "execution_count": null,
      "outputs": [
        {
          "output_type": "stream",
          "name": "stdout",
          "text": [
            "['False', 'None', 'True', 'and', 'as', 'assert', 'async', 'await', 'break', 'class', 'continue', 'def', 'del', 'elif', 'else', 'except', 'finally', 'for', 'from', 'global', 'if', 'import', 'in', 'is', 'lambda', 'nonlocal', 'not', 'or', 'pass', 'raise', 'return', 'try', 'while', 'with', 'yield']\n",
            "True\n"
          ]
        }
      ]
    },
    {
      "cell_type": "code",
      "source": [
        "import random\n",
        "print(random.randint(1,10))"
      ],
      "metadata": {
        "colab": {
          "base_uri": "https://localhost:8080/"
        },
        "id": "ch8XNsVWSuLP",
        "outputId": "f485c54e-50d3-4d0b-862e-44594722179c"
      },
      "execution_count": null,
      "outputs": [
        {
          "output_type": "stream",
          "name": "stdout",
          "text": [
            "6\n"
          ]
        }
      ]
    },
    {
      "cell_type": "code",
      "source": [
        "import datetime\n",
        "print(datetime.datetime.now())"
      ],
      "metadata": {
        "colab": {
          "base_uri": "https://localhost:8080/"
        },
        "id": "LwyFfMPoS-rL",
        "outputId": "d2ecc94b-8640-48b2-d369-b54aa12294f9"
      },
      "execution_count": null,
      "outputs": [
        {
          "output_type": "stream",
          "name": "stdout",
          "text": [
            "2024-12-09 07:23:27.675995\n"
          ]
        }
      ]
    },
    {
      "cell_type": "code",
      "source": [
        "help('modules') #all modules"
      ],
      "metadata": {
        "id": "FPXzg7qoTTSZ"
      },
      "execution_count": null,
      "outputs": []
    },
    {
      "cell_type": "markdown",
      "source": [
        "**LOOPS :**"
      ],
      "metadata": {
        "id": "3wIFfJmKT9Wl"
      }
    },
    {
      "cell_type": "markdown",
      "source": [
        "Eg: used for iteration - Swiggy : 50 dishes(same container - used for all dishes)"
      ],
      "metadata": {
        "id": "YEQprHHdUKWg"
      }
    },
    {
      "cell_type": "markdown",
      "source": [
        "**python tutor** - line by line code explain"
      ],
      "metadata": {
        "id": "kChdndAgVdWX"
      }
    },
    {
      "cell_type": "markdown",
      "source": [
        "**while loop** : if we don't know no. of loops, condition"
      ],
      "metadata": {
        "id": "hE_qnjvC-CEZ"
      }
    },
    {
      "cell_type": "code",
      "source": [
        "i = 1\n",
        "while i<6:\n",
        "  print(i)\n",
        "  i+=1\n",
        "\n",
        "number = int(input('number: '))\n",
        "i = 1\n",
        "while i<11:\n",
        "  print(number,'*',i,'=',number * i)\n",
        "  i += 1"
      ],
      "metadata": {
        "colab": {
          "base_uri": "https://localhost:8080/"
        },
        "id": "vqVuS6fhTZq1",
        "outputId": "f71ac478-8da3-46b4-afb9-cead3206d296"
      },
      "execution_count": 27,
      "outputs": [
        {
          "output_type": "stream",
          "name": "stdout",
          "text": [
            "1\n",
            "2\n",
            "3\n",
            "4\n",
            "5\n",
            "number: 7\n",
            "7 * 1 = 7\n",
            "7 * 2 = 14\n",
            "7 * 3 = 21\n",
            "7 * 4 = 28\n",
            "7 * 5 = 35\n",
            "7 * 6 = 42\n",
            "7 * 7 = 49\n",
            "7 * 8 = 56\n",
            "7 * 9 = 63\n",
            "7 * 10 = 70\n"
          ]
        }
      ]
    },
    {
      "cell_type": "markdown",
      "source": [
        "**while loop with else :**"
      ],
      "metadata": {
        "id": "USDUFhp5-Gx7"
      }
    },
    {
      "cell_type": "code",
      "source": [
        "i = 1\n",
        "while i<5:\n",
        "  print(i)\n",
        "  i += 1\n",
        "else:\n",
        "  print('done')\n",
        "\n",
        "\n",
        "a,b = 0,10\n",
        "while a<5 and b>5:\n",
        "  print(f'a:{a} and b:{b}')\n",
        "  a+=1\n",
        "  b-=1"
      ],
      "metadata": {
        "id": "MEE5LkaFWQNH",
        "colab": {
          "base_uri": "https://localhost:8080/"
        },
        "outputId": "fb6490b1-f3a4-4b43-f0b3-f1e3cd2abc35"
      },
      "execution_count": 31,
      "outputs": [
        {
          "output_type": "stream",
          "name": "stdout",
          "text": [
            "1\n",
            "2\n",
            "3\n",
            "4\n",
            "done\n",
            "a:0 and b:10\n",
            "a:1 and b:9\n",
            "a:2 and b:8\n",
            "a:3 and b:7\n",
            "a:4 and b:6\n"
          ]
        }
      ]
    },
    {
      "cell_type": "code",
      "source": [
        "from typing import Counter\n",
        "# guessing random number between 1- 100\n",
        "import random\n",
        "jackpot = random.randint(1,100)\n",
        "print(jackpot)\n",
        "guess = int(input(\"Enter a number\"))\n",
        "\n",
        "Counter = 1\n",
        "while guess != jackpot:\n",
        "  if guess>jackpot:\n",
        "    print(\"guessed number is higher\")\n",
        "  elif guess<jackpot:\n",
        "    print(\"guessed number is lower\")\n",
        "  guess = int(input(\"Enter a number\"))\n",
        "  Counter+=1\n",
        "\n",
        "else:\n",
        "  print(\"guesses number is correct\")\n",
        "print(\"No. of attempts : \", Counter)"
      ],
      "metadata": {
        "id": "LQB433BHXPoS",
        "colab": {
          "base_uri": "https://localhost:8080/"
        },
        "outputId": "85dce64e-de85-455a-8c95-2ded0a96318a"
      },
      "execution_count": null,
      "outputs": [
        {
          "output_type": "stream",
          "name": "stdout",
          "text": [
            "39\n",
            "Enter a number6\n",
            "guessed number is lower\n",
            "Enter a number9\n",
            "guessed number is lower\n",
            "Enter a number99\n",
            "guessed number is higher\n",
            "Enter a number39\n",
            "guesses number is correct\n",
            "No. of attempts :  4\n"
          ]
        }
      ]
    },
    {
      "cell_type": "markdown",
      "source": [
        "**for loop :**  if we know no. of loops"
      ],
      "metadata": {
        "id": "-co2sahk-MOl"
      }
    },
    {
      "cell_type": "code",
      "source": [
        "for i in range(1,4):\n",
        "  print(i)\n",
        "\n",
        "for i in range(0,6,2):\n",
        "  print(i)\n",
        "\n",
        "for i in range(3,1,-1):\n",
        "  print(i)\n",
        "\n",
        "for i in 'Ooty':\n",
        "  print(i)\n",
        "\n",
        "for i in {20,63,7}: #loop in any dtype\n",
        "  print(i)"
      ],
      "metadata": {
        "colab": {
          "base_uri": "https://localhost:8080/"
        },
        "id": "2NsZSmW8pHar",
        "outputId": "b5b75bb2-5418-45f8-a49c-8f072a6b406b"
      },
      "execution_count": null,
      "outputs": [
        {
          "output_type": "stream",
          "name": "stdout",
          "text": [
            "1\n",
            "2\n",
            "3\n",
            "4\n",
            "5\n",
            "0\n",
            "2\n",
            "4\n",
            "5\n",
            "4\n",
            "3\n",
            "2\n",
            "O\n",
            "o\n",
            "t\n",
            "y\n",
            "20\n",
            "63\n",
            "7\n"
          ]
        }
      ]
    },
    {
      "cell_type": "markdown",
      "source": [
        "Program - The current population of a town is 1000. The population of the town is increasing at the rate of 10% per year. <br>You have to write a program to find out the population at the end of each of the last 10 years."
      ],
      "metadata": {
        "id": "Wrui_V4PshmA"
      }
    },
    {
      "cell_type": "code",
      "source": [
        "cur_pop = 1000\n",
        "sum = 0\n",
        "for i in range(10,0,-1):\n",
        "  print(i,cur_pop)\n",
        "  cur_pop = cur_pop / 1.1\n",
        "  # cur_pop += cur_pop*1.1\n",
        "  sum += cur_pop\n",
        "\n",
        "print(sum)\n",
        "\n",
        "# note(how 1.1):\n",
        "'''9th yr pop. - x\n",
        "  10th yr pop. - x+0.1x = 1000\n",
        "  1.1x = 1000\n",
        "  x = 1000/1.1'''"
      ],
      "metadata": {
        "colab": {
          "base_uri": "https://localhost:8080/"
        },
        "id": "LHl6gk44sZi-",
        "outputId": "e3d8689d-6938-4d00-f190-47b5b9ba1293"
      },
      "execution_count": 4,
      "outputs": [
        {
          "output_type": "stream",
          "name": "stdout",
          "text": [
            "10 1000\n",
            "9 909.090909090909\n",
            "8 826.4462809917354\n",
            "7 751.3148009015775\n",
            "6 683.0134553650704\n",
            "5 620.9213230591548\n",
            "4 564.473930053777\n",
            "3 513.1581182307064\n",
            "2 466.507380209733\n",
            "1 424.09761837248453\n",
            "6144.56710570468\n"
          ]
        }
      ]
    },
    {
      "cell_type": "code",
      "source": [
        "# prime - n\n",
        "n = int(input('no.'))\n",
        "if n<2:\n",
        "  print('not prime')\n",
        "else:\n",
        "  for i in range(2,n):\n",
        "    if n%i == 0:\n",
        "      print('not prime')\n",
        "      break\n",
        "  else:\n",
        "    print('prime')\n",
        "\n",
        "# prime btw 10-40\n",
        "for i in range(10,41):\n",
        "  for j in range(2,i):\n",
        "    if i%j==0:\n",
        "      break\n",
        "  else:\n",
        "    print(i)"
      ],
      "metadata": {
        "colab": {
          "base_uri": "https://localhost:8080/"
        },
        "id": "tmQlBrH_9m3K",
        "outputId": "07e79834-97b2-4efd-defc-247e03c4607a"
      },
      "execution_count": 18,
      "outputs": [
        {
          "output_type": "stream",
          "name": "stdout",
          "text": [
            "no.7\n",
            "prime\n",
            "11\n",
            "13\n",
            "17\n",
            "19\n",
            "23\n",
            "29\n",
            "31\n",
            "37\n"
          ]
        }
      ]
    },
    {
      "cell_type": "code",
      "source": [
        "# Fibanocci\n",
        "a,b = 0,1\n",
        "for i in range(10):\n",
        "  print(a)\n",
        "  nxt = a+b\n",
        "  a = b\n",
        "  b = nxt\n",
        "print('----------')\n",
        "\n",
        "num1,num2 = 0,1\n",
        "i=0\n",
        "while i<=5:\n",
        "    print(num1)\n",
        "    nxt = num1+num2\n",
        "    num1 = num2\n",
        "    num2 =nxt\n",
        "    i+=1\n",
        "print('----------')\n",
        "\n",
        "# Factorial\n",
        "a = 1\n",
        "for i in range(1,6):\n",
        "    a = a*i\n",
        "print(a)\n",
        "print('----------')\n",
        "\n",
        "a = 1\n",
        "i=1\n",
        "while i<=5:\n",
        "  a=a*i\n",
        "  i+=1\n",
        "print(a)\n"
      ],
      "metadata": {
        "id": "inWTwv160DOb",
        "outputId": "2510e716-574b-480c-c15d-76e64f8b6739",
        "colab": {
          "base_uri": "https://localhost:8080/"
        }
      },
      "execution_count": 11,
      "outputs": [
        {
          "output_type": "stream",
          "name": "stdout",
          "text": [
            "0\n",
            "1\n",
            "1\n",
            "2\n",
            "3\n",
            "5\n",
            "8\n",
            "13\n",
            "21\n",
            "34\n",
            "----------\n",
            "0\n",
            "1\n",
            "1\n",
            "2\n",
            "3\n",
            "5\n",
            "----------\n",
            "120\n",
            "----------\n",
            "120\n"
          ]
        }
      ]
    },
    {
      "cell_type": "code",
      "source": [
        "# reverse number :\n",
        "rev = 0\n",
        "num = 325\n",
        "for i in range (len(str(num))):\n",
        "  last = num%10 #5\n",
        "  rev = rev*10 + last #0*10 + 5\n",
        "  num = num//10 #32\n",
        "print(rev)\n",
        "\n",
        "rev = 0\n",
        "num = 365\n",
        "while num>0:\n",
        "  last = num%10\n",
        "  rev = rev*10 + last\n",
        "  num = num//10\n",
        "print(rev)\n",
        "\n",
        "\n",
        "# reverse string :\n",
        "st = 'fazil'\n",
        "rev = ''\n",
        "for i in st:\n",
        "  rev = i+ rev\n",
        "print(rev)\n",
        "\n",
        "st = 'marco'\n",
        "rev = ''\n",
        "i = len(st)-1\n",
        "while i>=0:\n",
        "  rev = rev + st[i]\n",
        "  i = i-1\n",
        "print(rev)"
      ],
      "metadata": {
        "colab": {
          "base_uri": "https://localhost:8080/"
        },
        "id": "Z3n6ubXE6pUu",
        "outputId": "411adbc5-e00e-4c19-b154-29fd740d02db"
      },
      "execution_count": 11,
      "outputs": [
        {
          "output_type": "stream",
          "name": "stdout",
          "text": [
            "523\n",
            "563\n",
            "lizaf\n",
            "ocram\n"
          ]
        }
      ]
    },
    {
      "cell_type": "markdown",
      "source": [
        "**nested loops :**\n"
      ],
      "metadata": {
        "id": "TKzgfKEF-beg"
      }
    },
    {
      "cell_type": "code",
      "source": [
        "\n",
        "matrix = [\n",
        "    [1, 2, 3],\n",
        "    [4, 5, 6],\n",
        "    [7, 8, 9]\n",
        "]\n",
        "\n",
        "for i in matrix:\n",
        "  for j in i:\n",
        "    print(j)\n",
        "\n",
        "\n",
        "for i in range(4,5):\n",
        "  for j in range(1,5):\n",
        "    print(f\"{i}*{j}={j*i}\")\n",
        "\n",
        "colors = ['red','green','blue']\n",
        "size = ['s','m','l']\n",
        "for i in colors:\n",
        "  for j in size:\n",
        "    print(f'{i}:{j}')\n",
        "\n",
        "st = 'fazil','gg'\n",
        "for i in st:\n",
        "  print(i)\n",
        "  for j in i:\n",
        "    print(j)"
      ],
      "metadata": {
        "colab": {
          "base_uri": "https://localhost:8080/"
        },
        "id": "KL5oUY_qCTdi",
        "outputId": "bb6c2ae1-c03a-4800-d3b3-ffabc01e6264"
      },
      "execution_count": 26,
      "outputs": [
        {
          "output_type": "stream",
          "name": "stdout",
          "text": [
            "1\n",
            "2\n",
            "3\n",
            "4\n",
            "5\n",
            "6\n",
            "7\n",
            "8\n",
            "9\n",
            "4*1=4\n",
            "4*2=8\n",
            "4*3=12\n",
            "4*4=16\n",
            "red:s\n",
            "red:m\n",
            "red:l\n",
            "green:s\n",
            "green:m\n",
            "green:l\n",
            "blue:s\n",
            "blue:m\n",
            "blue:l\n"
          ]
        }
      ]
    },
    {
      "cell_type": "markdown",
      "source": [
        "**break(cond. = true in loop - end)**"
      ],
      "metadata": {
        "id": "0GIKsN8x-hdj"
      }
    },
    {
      "cell_type": "code",
      "source": [
        "for i in range(1,10):\n",
        "  print(i)\n",
        "  if i==3:\n",
        "    break\n",
        "\n",
        "\n",
        "balls_faced = 0\n",
        "runs_scored = 0\n",
        "while balls_faced <=6:\n",
        "  balls_faced += 1\n",
        "  run = int(input(f\"runs scored : {balls_faced} \"))\n",
        "  if run>=7:\n",
        "    print('out')\n",
        "    break\n",
        "  runs_scored+=run\n",
        "print(f'runs scored : {runs_scored} in {balls_faced} balls')"
      ],
      "metadata": {
        "colab": {
          "base_uri": "https://localhost:8080/"
        },
        "id": "SnnQEXllKnUs",
        "outputId": "06ceb38d-516d-4fd0-be9c-c67d28dc407b"
      },
      "execution_count": 2,
      "outputs": [
        {
          "output_type": "stream",
          "name": "stdout",
          "text": [
            "1\n",
            "2\n",
            "3\n",
            "runs scored : 1 7\n",
            "out\n",
            "runs scored : 0 in 1 balls\n"
          ]
        }
      ]
    },
    {
      "cell_type": "markdown",
      "source": [
        "**continue(cond. true in loop - skip)**"
      ],
      "metadata": {
        "id": "K2aFYpq6-l54"
      }
    },
    {
      "cell_type": "code",
      "source": [
        "i = 0\n",
        "while i<10:\n",
        "  i+=1\n",
        "  if i ==7:\n",
        "    continue\n",
        "  print(i)\n",
        "\n",
        "runs_scored = 0\n",
        "balls_faced = 0\n",
        "while balls_faced<6:\n",
        "\n",
        "  run = int(input(f\"runs {balls_faced+1} \"))\n",
        "  if run == 7:\n",
        "    runs_scored+=1\n",
        "    continue\n",
        "  elif run>7:\n",
        "    print('out')\n",
        "    break\n",
        "  runs_scored += run\n",
        "  balls_faced+=1\n",
        "print(f'runs scored : {runs_scored}, balls faced {balls_faced+1}')"
      ],
      "metadata": {
        "colab": {
          "base_uri": "https://localhost:8080/"
        },
        "id": "zIqIIRhxew0L",
        "outputId": "6e27a21d-4db6-406d-e759-6482dd2c6195"
      },
      "execution_count": 86,
      "outputs": [
        {
          "output_type": "stream",
          "name": "stdout",
          "text": [
            "1\n",
            "2\n",
            "3\n",
            "4\n",
            "5\n",
            "6\n",
            "8\n",
            "9\n",
            "10\n",
            "runs 1 4\n",
            "runs 2 4\n",
            "runs 3 4\n",
            "runs 4 7\n",
            "runs 4 2\n",
            "runs 5 7\n",
            "runs 5 8\n",
            "out\n",
            "runs scored : 16, balls faced 5\n"
          ]
        }
      ]
    },
    {
      "cell_type": "markdown",
      "source": [
        "**pass(if code is incomplete in any block, use pass. later on u can do it)**"
      ],
      "metadata": {
        "id": "sRpdnaBZ-plB"
      }
    },
    {
      "cell_type": "code",
      "source": [
        "x=8\n",
        "if x>5:\n",
        "  pass\n",
        "else:\n",
        "  print(x)\n",
        "\n",
        "for i in range(6):\n",
        "  pass\n",
        "\n",
        "def my_func(x):\n",
        "  pass\n",
        "my_func(6)"
      ],
      "metadata": {
        "id": "UY02hx3cmljt"
      },
      "execution_count": 98,
      "outputs": []
    },
    {
      "cell_type": "code",
      "source": [
        "# patterns\n",
        "'''\n",
        "*\n",
        "**\n",
        "***\n",
        "'''\n",
        "\n",
        "for i in range(1,4):\n",
        "  for j in range(1,i+1):\n",
        "    print('*',end='')\n",
        "  print()"
      ],
      "metadata": {
        "colab": {
          "base_uri": "https://localhost:8080/"
        },
        "id": "DofHnHzBn6-c",
        "outputId": "1dfd8f80-f4a5-4c2d-fbd9-c59755954986"
      },
      "execution_count": 5,
      "outputs": [
        {
          "output_type": "stream",
          "name": "stdout",
          "text": [
            "*\n",
            "**\n",
            "***\n"
          ]
        }
      ]
    },
    {
      "cell_type": "markdown",
      "source": [
        "**Enumerate**: gives index of value in string, list..."
      ],
      "metadata": {
        "id": "mThrUuq5-3_g"
      }
    },
    {
      "cell_type": "code",
      "source": [
        "li = [23,43,6,31]\n",
        "for index, i in enumerate(li):\n",
        "  print(index,i)\n",
        "\n",
        "\n",
        "li = (73, 3, 4, 43, 2)\n",
        "for index, i in enumerate(li):\n",
        "  if i%2==0:\n",
        "    print('happy')\n",
        "  else:\n",
        "    print(i)"
      ],
      "metadata": {
        "colab": {
          "base_uri": "https://localhost:8080/"
        },
        "id": "qcNkzZY4d3Bk",
        "outputId": "bb309675-ffcb-430d-8965-2b442239ca87"
      },
      "execution_count": 10,
      "outputs": [
        {
          "output_type": "stream",
          "name": "stdout",
          "text": [
            "0 23\n",
            "1 43\n",
            "2 6\n",
            "3 31\n",
            "73\n",
            "3\n",
            "happy\n",
            "43\n",
            "happy\n"
          ]
        }
      ]
    },
    {
      "cell_type": "markdown",
      "source": [
        "**STRINGS** : sequence of characters,\n",
        "In python strings are unicode characters. Python Strings are immutable(notchange). String is a datatype<br><br>\n",
        "Creating Strings : ' ',\" \",'''<br>\n",
        "Accessing Strings : slicing[0:6:2], [::-1]<br>\n",
        "Adding Chars to String<br>\n",
        "Editing Strings : Strings are immutable<br>\n",
        "Deleting Strings : del (string name)<br>\n",
        "Operations on strings : Arithmetic,Relational,Logical,Loops,Membership<br><br>\n",
        "Common Functions : len, min, max, sorted(reverse=)<br>\n",
        "String Function\n"
      ],
      "metadata": {
        "id": "IBKY_yMsrkzI"
      }
    },
    {
      "cell_type": "code",
      "source": [
        "# creating string :\n",
        "s = 'fz'\n",
        "s = \"fazil\"\n",
        "s = '''faz'''\n",
        "print(s)\n",
        "\n",
        "# accessing strings :\n",
        "a = \"hello world\"\n",
        "print(a[4]) #hell\n",
        "print(a[-1])  #d\n",
        "\n",
        "#slicing :\n",
        "print(a[1:])  #ello world\n",
        "print(a[:3])  #hel\n",
        "print(a[0:5]) #hello\n",
        "print(a[0:7:2]) #hlow\n",
        "print(a[6:0:-1]) # if step size is negative, first num should be higher   #w olle\n",
        "print(a[::-1])  #reverse string #dlrow olleh\n",
        "print(a[-5:-1]) #worl\n",
        "print(a[-1:-6:-1])  #dlrow\n",
        "\n",
        "# editing string : not possible(immutable)\n",
        "q = 'america'\n",
        "q[0] = 'A'\n",
        "print(q)\n"
      ],
      "metadata": {
        "colab": {
          "base_uri": "https://localhost:8080/",
          "height": 384
        },
        "id": "udU1jWTNsq0U",
        "outputId": "f3d33beb-8627-49e7-d1f0-6dcef8ad7a3b"
      },
      "execution_count": 26,
      "outputs": [
        {
          "output_type": "stream",
          "name": "stdout",
          "text": [
            "faz\n",
            "o\n",
            "d\n",
            "ello world\n",
            "hel\n",
            "hello\n",
            "hlow\n",
            "w olle\n",
            "dlrow olleh\n",
            "worl\n",
            "dlrow\n"
          ]
        },
        {
          "output_type": "error",
          "ename": "TypeError",
          "evalue": "'str' object does not support item assignment",
          "traceback": [
            "\u001b[0;31m---------------------------------------------------------------------------\u001b[0m",
            "\u001b[0;31mTypeError\u001b[0m                                 Traceback (most recent call last)",
            "\u001b[0;32m<ipython-input-26-c930d5277004>\u001b[0m in \u001b[0;36m<cell line: 0>\u001b[0;34m()\u001b[0m\n\u001b[1;32m     22\u001b[0m \u001b[0;31m# editing string : not possible\u001b[0m\u001b[0;34m\u001b[0m\u001b[0;34m\u001b[0m\u001b[0m\n\u001b[1;32m     23\u001b[0m \u001b[0mq\u001b[0m \u001b[0;34m=\u001b[0m \u001b[0;34m'america'\u001b[0m\u001b[0;34m\u001b[0m\u001b[0;34m\u001b[0m\u001b[0m\n\u001b[0;32m---> 24\u001b[0;31m \u001b[0mq\u001b[0m\u001b[0;34m[\u001b[0m\u001b[0;36m0\u001b[0m\u001b[0;34m]\u001b[0m \u001b[0;34m=\u001b[0m \u001b[0;34m'A'\u001b[0m\u001b[0;34m\u001b[0m\u001b[0;34m\u001b[0m\u001b[0m\n\u001b[0m\u001b[1;32m     25\u001b[0m \u001b[0mprint\u001b[0m\u001b[0;34m(\u001b[0m\u001b[0mq\u001b[0m\u001b[0;34m)\u001b[0m\u001b[0;34m\u001b[0m\u001b[0;34m\u001b[0m\u001b[0m\n",
            "\u001b[0;31mTypeError\u001b[0m: 'str' object does not support item assignment"
          ]
        }
      ]
    },
    {
      "cell_type": "code",
      "source": [
        "r = 'randex'\n",
        "del r\n",
        "print(r)  #it will be deleted"
      ],
      "metadata": {
        "colab": {
          "base_uri": "https://localhost:8080/",
          "height": 176
        },
        "id": "_g3qCBaK0ubM",
        "outputId": "fa15d622-76c8-4db7-cb55-9ea86ea9f3ca"
      },
      "execution_count": 23,
      "outputs": [
        {
          "output_type": "error",
          "ename": "NameError",
          "evalue": "name 'r' is not defined",
          "traceback": [
            "\u001b[0;31m---------------------------------------------------------------------------\u001b[0m",
            "\u001b[0;31mNameError\u001b[0m                                 Traceback (most recent call last)",
            "\u001b[0;32m<ipython-input-23-e7ef4fd6e85b>\u001b[0m in \u001b[0;36m<cell line: 0>\u001b[0;34m()\u001b[0m\n\u001b[1;32m      1\u001b[0m \u001b[0mr\u001b[0m \u001b[0;34m=\u001b[0m \u001b[0;34m'randex'\u001b[0m\u001b[0;34m\u001b[0m\u001b[0;34m\u001b[0m\u001b[0m\n\u001b[1;32m      2\u001b[0m \u001b[0;32mdel\u001b[0m \u001b[0mr\u001b[0m\u001b[0;34m\u001b[0m\u001b[0;34m\u001b[0m\u001b[0m\n\u001b[0;32m----> 3\u001b[0;31m \u001b[0mprint\u001b[0m\u001b[0;34m(\u001b[0m\u001b[0mr\u001b[0m\u001b[0;34m)\u001b[0m\u001b[0;34m\u001b[0m\u001b[0;34m\u001b[0m\u001b[0m\n\u001b[0m",
            "\u001b[0;31mNameError\u001b[0m: name 'r' is not defined"
          ]
        }
      ]
    },
    {
      "cell_type": "markdown",
      "source": [
        "**Operations on Strings :**"
      ],
      "metadata": {
        "id": "s3iS76Dz_fsI"
      }
    },
    {
      "cell_type": "code",
      "source": [
        "print('hello' + 'world') #helloworld\n",
        "print('hello'+' '+'world') #hello world\n",
        "print('hello'*2) #hellohello\n",
        "#---------------------------\n",
        "\n",
        "print('pune'=='mumbai') #false\n",
        "print('pune'=='pune') #true\n",
        "#-----------------------------\n",
        "\n",
        "print('pune' and 'mumbai') #mumbai  or-->prints if true - 1st value, and--> prints 2nd value if both are true\n",
        "print('pune' or 'mumbai')  #pune\n",
        "print('' or 'delhi') #delhi\n",
        "print('' or '') #null --> bcz both are false\n",
        "'' # '' is false\n",
        "print(not '')  #true\n",
        "print('pune'>'Pune') #true  acc. to ascii small letter ascii value is greater than Cap\n",
        "\n",
        "#------------------------\n",
        "\n",
        "for i in 'delhi':\n",
        "  print(i)\n",
        "\n",
        "for i in 'delhi':\n",
        "  print('hey')\n",
        "#--------------------------\n",
        "\n",
        "print('D' in 'Delhi') #true\n",
        "print('d' in 'Delhi') #false"
      ],
      "metadata": {
        "colab": {
          "base_uri": "https://localhost:8080/"
        },
        "id": "08dMPhUQ2MX-",
        "outputId": "2d0ef3cb-5ab5-4c31-e815-89384dbad288"
      },
      "execution_count": 33,
      "outputs": [
        {
          "output_type": "stream",
          "name": "stdout",
          "text": [
            "helloworld\n",
            "hello world\n",
            "hellohello\n",
            "False\n",
            "True\n",
            "mumbai\n",
            "pune\n",
            "delhi\n",
            "\n",
            "True\n",
            "True\n",
            "d\n",
            "e\n",
            "l\n",
            "h\n",
            "i\n",
            "hey\n",
            "hey\n",
            "hey\n",
            "hey\n",
            "hey\n",
            "True\n",
            "False\n"
          ]
        }
      ]
    },
    {
      "cell_type": "markdown",
      "source": [
        "**common function** : len, max, min, sorted"
      ],
      "metadata": {
        "id": "p8feIC9C_Y99"
      }
    },
    {
      "cell_type": "code",
      "source": [
        "print(len('fazil')) #5\n",
        "print(min('fazil')) #a\n",
        "print(max('fazil')) #z\n",
        "print(min('hello world')) # ' ' has min value\n",
        "print(sorted('fazil'))  #[a,f,i,l,z]  acc. ascii\n",
        "print(sorted('fazil',reverse=True)) #"
      ],
      "metadata": {
        "colab": {
          "base_uri": "https://localhost:8080/"
        },
        "id": "Asm5FkGb7FRA",
        "outputId": "1210c884-8d08-4fd3-b90f-e086bd12b395"
      },
      "execution_count": 35,
      "outputs": [
        {
          "output_type": "stream",
          "name": "stdout",
          "text": [
            "5\n",
            "a\n",
            "z\n",
            " \n",
            "['a', 'f', 'i', 'l', 'z']\n",
            "['z', 'l', 'i', 'f', 'a']\n"
          ]
        }
      ]
    },
    {
      "cell_type": "markdown",
      "source": [
        "Capitalize/Title/Upper/Lower/Swapcase"
      ],
      "metadata": {
        "id": "xpurnJEZ_lXF"
      }
    },
    {
      "cell_type": "code",
      "source": [
        "s = 'hello world'\n",
        "a = 'Hello My Name Is'\n",
        "print(s.capitalize()) #Hello world\n",
        "\n",
        "print(s.title())  #Hello World\n",
        "\n",
        "print(s.upper())  #HELLO WORLD\n",
        "\n",
        "print(s.lower())  #hello world\n",
        "\n",
        "print(a.swapcase())\n",
        "\n",
        "print(s)  #s remains same bcz these functions doesn't store in memory/value"
      ],
      "metadata": {
        "colab": {
          "base_uri": "https://localhost:8080/"
        },
        "id": "3twgQDC58Atw",
        "outputId": "8bb63ac1-4d3e-4082-a7ba-2fbcd9a05db8"
      },
      "execution_count": 59,
      "outputs": [
        {
          "output_type": "stream",
          "name": "stdout",
          "text": [
            "Hello world\n",
            "Hello World\n",
            "HELLO WORLD\n",
            "hello world\n",
            "hELLO mY nAME iS\n",
            "hello world\n"
          ]
        }
      ]
    },
    {
      "cell_type": "markdown",
      "source": [
        "Count/Find/Index"
      ],
      "metadata": {
        "id": "2Zx-lzXDAOEx"
      }
    },
    {
      "cell_type": "code",
      "source": [
        "# Count :\n",
        "s = 'hello world'\n",
        "print(s.count('l'))\n",
        "\n",
        "#find\n",
        "print(s.find('o'))\n",
        "print(s.find('x'))  #returns -1\n",
        "\n",
        "#index\n",
        "print(s.index('world'))\n",
        "print(s.index('x')) #return error"
      ],
      "metadata": {
        "colab": {
          "base_uri": "https://localhost:8080/",
          "height": 245
        },
        "id": "xICsCqOwAmHm",
        "outputId": "9dc1922f-8dd4-4eec-b5f2-83d4683e0e3a"
      },
      "execution_count": 51,
      "outputs": [
        {
          "output_type": "stream",
          "name": "stdout",
          "text": [
            "3\n",
            "4\n",
            "-1\n",
            "6\n"
          ]
        },
        {
          "output_type": "error",
          "ename": "ValueError",
          "evalue": "substring not found",
          "traceback": [
            "\u001b[0;31m---------------------------------------------------------------------------\u001b[0m",
            "\u001b[0;31mValueError\u001b[0m                                Traceback (most recent call last)",
            "\u001b[0;32m<ipython-input-51-03243afb8ee0>\u001b[0m in \u001b[0;36m<cell line: 0>\u001b[0;34m()\u001b[0m\n\u001b[1;32m      7\u001b[0m \u001b[0;34m\u001b[0m\u001b[0m\n\u001b[1;32m      8\u001b[0m \u001b[0mprint\u001b[0m\u001b[0;34m(\u001b[0m\u001b[0ms\u001b[0m\u001b[0;34m.\u001b[0m\u001b[0mindex\u001b[0m\u001b[0;34m(\u001b[0m\u001b[0;34m'world'\u001b[0m\u001b[0;34m)\u001b[0m\u001b[0;34m)\u001b[0m\u001b[0;34m\u001b[0m\u001b[0;34m\u001b[0m\u001b[0m\n\u001b[0;32m----> 9\u001b[0;31m \u001b[0mprint\u001b[0m\u001b[0;34m(\u001b[0m\u001b[0ms\u001b[0m\u001b[0;34m.\u001b[0m\u001b[0mindex\u001b[0m\u001b[0;34m(\u001b[0m\u001b[0;34m'x'\u001b[0m\u001b[0;34m)\u001b[0m\u001b[0;34m)\u001b[0m \u001b[0;31m#return error\u001b[0m\u001b[0;34m\u001b[0m\u001b[0;34m\u001b[0m\u001b[0m\n\u001b[0m",
            "\u001b[0;31mValueError\u001b[0m: substring not found"
          ]
        }
      ]
    },
    {
      "cell_type": "markdown",
      "source": [
        "endswith/startswith"
      ],
      "metadata": {
        "id": "wfZCGX61Bi2Y"
      }
    },
    {
      "cell_type": "code",
      "source": [
        "s = 'my name is fz'\n",
        "print(s.startswith('my'))\n",
        "print(s.endswith('is'))"
      ],
      "metadata": {
        "colab": {
          "base_uri": "https://localhost:8080/"
        },
        "id": "gpWah2gyBmF8",
        "outputId": "529f9a14-4f66-4d3c-a8bc-63e9de6eb368"
      },
      "execution_count": 52,
      "outputs": [
        {
          "output_type": "stream",
          "name": "stdout",
          "text": [
            "True\n",
            "False\n"
          ]
        }
      ]
    },
    {
      "cell_type": "markdown",
      "source": [
        "format"
      ],
      "metadata": {
        "id": "C6VfH1cbB4pD"
      }
    },
    {
      "cell_type": "code",
      "source": [
        "name = 'fazil'\n",
        "age = 23\n",
        "print('my name is {} and my age is {}'.format(name,age))\n",
        "\n",
        "print('my name is {0} and my age is {1}'.format(name,age))"
      ],
      "metadata": {
        "colab": {
          "base_uri": "https://localhost:8080/"
        },
        "id": "KT5gUnt0B6lP",
        "outputId": "e791b1c4-b15d-40c8-de46-fdc64eefd26c"
      },
      "execution_count": 58,
      "outputs": [
        {
          "output_type": "stream",
          "name": "stdout",
          "text": [
            "my name is fazil and my age is 23\n",
            "my name is fazil and my age is 23\n"
          ]
        }
      ]
    },
    {
      "cell_type": "markdown",
      "source": [
        "isalnum/isalpha/isdigit/isidentifier"
      ],
      "metadata": {
        "id": "IQNXJd-qDONc"
      }
    },
    {
      "cell_type": "code",
      "source": [
        "s = 'faz20'\n",
        "print(s.isalnum())\n",
        "print(s.isalpha())\n",
        "print(s.isdigit())\n",
        "print(s.isidentifier()) #s, rand -> true , _t , 2hh -> false\n"
      ],
      "metadata": {
        "colab": {
          "base_uri": "https://localhost:8080/"
        },
        "id": "AFvlE1DgDWFd",
        "outputId": "ba445859-b57c-4e98-f4ba-6878a399ca1b"
      },
      "execution_count": 66,
      "outputs": [
        {
          "output_type": "stream",
          "name": "stdout",
          "text": [
            "True\n",
            "False\n",
            "False\n",
            "True\n"
          ]
        }
      ]
    },
    {
      "cell_type": "markdown",
      "source": [
        "Split/Join"
      ],
      "metadata": {
        "id": "672uNGE2ECCa"
      }
    },
    {
      "cell_type": "code",
      "source": [
        "a = 'my name is fazil'\n",
        "print(a.split())  #in list\n",
        "print(a.split('a'))\n",
        "\n",
        "print('-'.join(['my', 'name', 'is', 'fazil']))"
      ],
      "metadata": {
        "colab": {
          "base_uri": "https://localhost:8080/"
        },
        "id": "tyq6qkfgEEJq",
        "outputId": "6efa3b63-f157-41a6-c2f7-086c2659cf88"
      },
      "execution_count": 70,
      "outputs": [
        {
          "output_type": "stream",
          "name": "stdout",
          "text": [
            "['my', 'name', 'is', 'fazil']\n",
            "['my n', 'me is f', 'zil']\n",
            "my-name-is-fazil\n"
          ]
        }
      ]
    },
    {
      "cell_type": "markdown",
      "source": [
        "Replace"
      ],
      "metadata": {
        "id": "7biObaXaEp_M"
      }
    },
    {
      "cell_type": "code",
      "source": [
        "a = 'my name is fazil'\n",
        "print(a.replace('my','al'))"
      ],
      "metadata": {
        "colab": {
          "base_uri": "https://localhost:8080/"
        },
        "id": "KphdXE_QErJz",
        "outputId": "5a14c364-3248-443f-dca1-a84fa88e7c8e"
      },
      "execution_count": 72,
      "outputs": [
        {
          "output_type": "stream",
          "name": "stdout",
          "text": [
            "al name is fazil\n"
          ]
        }
      ]
    },
    {
      "cell_type": "markdown",
      "source": [
        "Strip"
      ],
      "metadata": {
        "id": "mlFlGcWgE39U"
      }
    },
    {
      "cell_type": "code",
      "source": [
        "a = 'fazil       '\n",
        "print(a.strip())"
      ],
      "metadata": {
        "colab": {
          "base_uri": "https://localhost:8080/"
        },
        "id": "dzVWNvvlE5ew",
        "outputId": "fceac17d-f760-44b4-ba4e-46f91f29e545"
      },
      "execution_count": 77,
      "outputs": [
        {
          "output_type": "stream",
          "name": "stdout",
          "text": [
            "fazil\n"
          ]
        }
      ]
    },
    {
      "cell_type": "code",
      "source": [
        "# String Practice\n",
        "\n",
        "# 1. count no. of letter in string\n",
        "a = 'hello world'\n",
        "counter = 0\n",
        "for i in a:\n",
        "  counter+=1\n",
        "print(counter)\n",
        "\n",
        "print(len(a))\n",
        "\n",
        "# 2. print username from an email\n",
        "a = 'helloworld@gmail.com'\n",
        "print('index of @:',a.index('@'))\n",
        "print(a[0:10])\n",
        "\n",
        "# 3. count no. of times letter occured/frequency of letter\n",
        "a = 'my name is fazil'\n",
        "print(a.count('a'))\n",
        "\n",
        "'using for loop'\n",
        "term = 's'\n",
        "counter = 0\n",
        "for i in a:\n",
        "  if i==term:\n",
        "    counter+=1\n",
        "print(counter)\n",
        "\n",
        "# 4. remove particular char and print other\n",
        "a = 'hello713d@gmail.com'\n",
        "for i in a:\n",
        "  if i=='l':\n",
        "    continue\n",
        "  print(i,end='')\n",
        "print()\n",
        "\n",
        "b = 'hello713d@gmail.com'\n",
        "res = ''\n",
        "for i in b:\n",
        "  if i!='l':\n",
        "    res+=i\n",
        "print(res)\n",
        "\n",
        "# 5. palindrome\n",
        "a = 'malayalam'\n",
        "for i in range(0,len(a)//2):  #0,(len(a)//2 = 9//2 = 4)\n",
        "  if a[i] != a[len(a)-i-1]: #a[0]--> != a[9-0-1] --> a[0]!= a[8]\n",
        "    print('not palindrome')\n",
        "    break\n",
        "print('palindrome')\n",
        "\n",
        "s = 'abba'  #with([::-1])\n",
        "flag= True\n",
        "for i in s:\n",
        "  s = s.lower()\n",
        "  if s != s[::-1]:\n",
        "    flag = False\n",
        "    print('not palindrome')\n",
        "    break\n",
        "if flag== True:\n",
        "  print('palindrome')\n",
        "\n",
        "# 6. count no. of words in string\n",
        "s = 'This is my name'\n",
        "s = s.split()\n",
        "count = 0\n",
        "for i in s:\n",
        "  count+=1\n",
        "print(count)\n",
        "\n",
        "s = 'You are welcomed'  #without split()\n",
        "temp =''\n",
        "count = 0\n",
        "L= []\n",
        "for i in s:\n",
        "  if i!=' ':\n",
        "    temp+=i\n",
        "  else:\n",
        "    L.append(temp)\n",
        "    temp=''\n",
        "L.append(temp)\n",
        "for i in L:\n",
        "  count+=1\n",
        "print(L)\n",
        "print(count)\n",
        "\n",
        "# 7. converts string to title\n",
        "s = 'this is rj sharma signing off'\n",
        "print(s.title())\n",
        "\n",
        "\n",
        "s = 'this is rj balaji signing off' # without title()\n",
        "L= []\n",
        "for i in s.split():\n",
        "    L.append(i[0].upper() + i[1:].lower())\n",
        "print(' '.join(L))\n",
        "\n",
        "# 8. converts integer into string\n"
      ],
      "metadata": {
        "colab": {
          "base_uri": "https://localhost:8080/"
        },
        "id": "LwZhjAeJc29G",
        "outputId": "6001121d-4dce-4814-8758-cb0e0db5c125"
      },
      "execution_count": 158,
      "outputs": [
        {
          "output_type": "stream",
          "name": "stdout",
          "text": [
            "11\n",
            "11\n",
            "index of @: 10\n",
            "helloworld\n",
            "2\n",
            "1\n",
            "heo713d@gmai.com\n",
            "heo713d@gmai.com\n",
            "palindrome\n",
            "palindrome\n",
            "4\n",
            "['You', 'are', 'welcomed']\n",
            "3\n",
            "This Is Rj Sharma Signing Off\n",
            "This Is Rj Balaji Signing Off\n"
          ]
        }
      ]
    },
    {
      "cell_type": "markdown",
      "source": [
        "###**Time Complexity:**Way to measure how fast a program runs as the input size grows<br>\n",
        "![time complexity.png](data:image/png;base64,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)"
      ],
      "metadata": {
        "id": "tMGLJu6meS5a"
      }
    },
    {
      "cell_type": "code",
      "source": [
        "# basic example to calculate time complexity: remove additional first, then multi : Big O Notation\n",
        "\n",
        "# 3types : 1. Measuring time to execute, 2. Counting operations, 3. Orders of Growth\n",
        "\n",
        "# 1. Measuring time\n",
        "import time\n",
        "start = time.time()\n",
        "for i in range(1,5):\n",
        "  print(i)\n",
        "end = time.time()\n",
        "print(end - start)  # 0.0002.. returns time taken\n",
        "\n",
        "# 2. Counting operations\n",
        "total = 0\n",
        "for i in range(1,5):\n",
        "  total+=i\n",
        "print(total)  #inside loop : 3*n + outside 1 : 3*n+1\n",
        "\n",
        "# 3. Orders of Growth : if u r not going use loops -> it will be constant O(1)\n",
        "#                       if ur going to use separate loops -> it will be linear O(n)\n",
        "#                       if ur going to use nested loops -> it will be quadratic O(n^2)\n",
        "#                       dividing the input size in half (or by a constant factor), steps decreases significantly -> logarithmetic O(log n)\n",
        "#                       split into two or more branches(fibonacci, recurssion..) -> exponential O(2^n) : mostly tree like will be this\n",
        "\n",
        "'''\n",
        "eg: n^2 + 2n + 2 --> n^2\n",
        "n^2 + 10000n + 3^1000 --> n^2\n",
        "log(n) + n + 4  --> log(n) : bcz it's lesser than n\n",
        "0.0001*n*log(n) + 300n  --> n*log(n)\n",
        "2n^30 + 3^n --> 3^n\n",
        "'''\n",
        "\n",
        "# Eg :\n",
        "'''\n",
        "constant : O(1) : searching index of array -> let array have 100 elements, we need 35th element\n",
        "  it will just search till A[35]. if array no. inc. to 1000 also it will stop @ A[35]\n",
        "\n",
        "linear : O(n) : time will just double\n",
        "\n",
        "quadratic : O(n^2) : nested loops (*4..)\n",
        "\n",
        "logarithmetic : O(log n) : binary search : let's guess no. btw 100, let it be 25 -> every time it will reduce no. of elements to search\n",
        "  like if we guess 50 : it will say lesser no., so no need to search above 50..(n/2,n/4,n/8..)\n",
        "\n",
        "exponential : O(2^n) : takes lot of time : sorting -> evry time **n, eg: 1-2 , 2-4, 3-8, 4-64...\n",
        "'''"
      ],
      "metadata": {
        "colab": {
          "base_uri": "https://localhost:8080/",
          "height": 192
        },
        "id": "D0xN_RRSjxE3",
        "outputId": "156fc8a2-a1f9-4269-c7c2-fca0a42d9f31"
      },
      "execution_count": 3,
      "outputs": [
        {
          "output_type": "stream",
          "name": "stdout",
          "text": [
            "1\n",
            "2\n",
            "3\n",
            "4\n",
            "0.00019478797912597656\n",
            "10\n"
          ]
        },
        {
          "output_type": "execute_result",
          "data": {
            "text/plain": [
              "\"\\nconstant : O(1) : searching index of array -> let array have 100 elements, we need 35th element\\n  it will just search till A[35]. if array no. inc. to 1000 also it will stop @ A[35]\\n\\nlinear : O(n) : time will just double\\n\\nquadratic : O(n^2) : nested loops (*4..)\\n\\nlogarithmetic : O(log n) : binary search : let's guess no. btw 100, let it be 25 -> every time it will reduce no. of elements to search\\n  like if we guess 50 : it will say lesser no., so no need to search above 50..(n/2,n/4,n/8..)\\n\\nexponential : O(2^n) : takes lot of time : sorting -> evry time **n, eg: 1-2 , 2-4, 3-8, 4-64...\\n\""
            ],
            "application/vnd.google.colaboratory.intrinsic+json": {
              "type": "string"
            }
          },
          "metadata": {},
          "execution_count": 3
        }
      ]
    },
    {
      "cell_type": "markdown",
      "source": [
        "![time_complexity.png](data:image/png;base64,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)"
      ],
      "metadata": {
        "id": "J75eQRRzp8iQ"
      }
    },
    {
      "cell_type": "markdown",
      "source": [
        "#**Lists :**  <br>\n",
        "can store multiple items in single. Dynamic array can store many values in runtime. L = [20,'jessy',35.75,[20,39,4]]"
      ],
      "metadata": {
        "id": "Muj2PRjyrK3v"
      }
    },
    {
      "cell_type": "markdown",
      "source": [
        "Array vs Lists<br>\n",
        "* Fixed(need to give how many value to be store@ first) vs Dynamic size\n",
        "* Convenience(homogeneous : only single dtype can be stored) vs Hetrogeneous(diff. dtypes can be stored)<br>\n",
        "* Speed of execution(python list is slow)<br>\n",
        "* Memory(python lists need more space)"
      ],
      "metadata": {
        "id": "t9_MqKJbr-kY"
      }
    },
    {
      "cell_type": "markdown",
      "source": [
        "How Lists stored in memory?<br>\n",
        "Arrays store elements in continuous memory blocks. eg: [1,2,3] --> store binary of value -->[1,2,3]<br>\n",
        "Lists store elements as references (pointers) to their actual values in memory. eg: [1,2,3] --> store memory address of it [500,600,700] : also called referential array(store reference of array)"
      ],
      "metadata": {
        "id": "LAMm7EKxs-Ps"
      }
    },
    {
      "cell_type": "code",
      "source": [
        "L = [1,2,3]\n",
        "print(id(L[0]))\n",
        "print(id(L[1]))\n",
        "print(id(L[2]))\n",
        "print(id(1))"
      ],
      "metadata": {
        "id": "TX_y-rwruiPP",
        "outputId": "f2f2b27d-15c0-4153-f26a-a4241037eade",
        "colab": {
          "base_uri": "https://localhost:8080/"
        }
      },
      "execution_count": 3,
      "outputs": [
        {
          "output_type": "stream",
          "name": "stdout",
          "text": [
            "10750856\n",
            "10750888\n",
            "10750920\n",
            "10750856\n"
          ]
        }
      ]
    },
    {
      "cell_type": "markdown",
      "source": [
        "**Characteristics of List :**\n",
        "* Ordered\n",
        "* Changable/Mutable\n",
        "* Hetrogeneous\n",
        "* Allow duplicates\n",
        "* Dynamic\n",
        "* Can be nested\n",
        "* Items can be accessed\n",
        "* can contain any kind of objects in python"
      ],
      "metadata": {
        "id": "R7c3y5v5vrWW"
      }
    },
    {
      "cell_type": "markdown",
      "source": [
        "**creating list :**"
      ],
      "metadata": {
        "id": "scTdsmAAxDnp"
      }
    },
    {
      "cell_type": "code",
      "source": [
        "# empty\n",
        "print([])\n",
        "# 1d / homogenoeous\n",
        "print([1,2,3])\n",
        "# 2d\n",
        "print([1,2,3,[4,5]])\n",
        "# 3d\n",
        "print([1,2,3,[4,5,6,[1,2,3]]])\n",
        "# hetrogeneous\n",
        "print([1,'jes',0.1,True])\n",
        "# using type conv\n",
        "print(list('hello'))"
      ],
      "metadata": {
        "id": "XcdlzJtevqoS",
        "outputId": "ef8e8502-fa69-4bc4-b463-f7a5b217a369",
        "colab": {
          "base_uri": "https://localhost:8080/"
        }
      },
      "execution_count": 7,
      "outputs": [
        {
          "output_type": "stream",
          "name": "stdout",
          "text": [
            "[]\n",
            "[1, 2, 3]\n",
            "[1, 2, 3, [4, 5]]\n",
            "[1, 2, 3, [4, 5, 6, [1, 2, 3]]]\n",
            "[1, 'jes', 0.1, True]\n",
            "['h', 'e', 'l', 'l', 'o']\n"
          ]
        }
      ]
    },
    {
      "cell_type": "markdown",
      "source": [
        "Accessing Item from list"
      ],
      "metadata": {
        "id": "h0n35Sm-x4p4"
      }
    },
    {
      "cell_type": "code",
      "source": [
        "# Indexing\n",
        "L=[1,2,3,4,5]\n",
        "print(L[2]) #positive\n",
        "print(L[-1]) #negative\n",
        "\n",
        "p = [1,2,3,[4,5]]\n",
        "print(p[-1][0])\n",
        "\n",
        "a = [1,2,3,[4,5,[2,0]]]\n",
        "print(a[3][2][0])\n",
        "\n",
        "# Slicing\n",
        "L=[1,2,3,4,5]\n",
        "print(L[0:3])\n",
        "print(L[-3:-1])\n",
        "print(L[0::2])"
      ],
      "metadata": {
        "id": "1m_aGtjkx8Nx",
        "outputId": "8ceeab3c-31fc-40f5-8c3d-bf050d7f0111",
        "colab": {
          "base_uri": "https://localhost:8080/"
        }
      },
      "execution_count": 24,
      "outputs": [
        {
          "output_type": "stream",
          "name": "stdout",
          "text": [
            "3\n",
            "5\n",
            "4\n",
            "2\n",
            "[1, 2, 3]\n",
            "[3, 4]\n",
            "[1, 3, 5]\n"
          ]
        }
      ]
    },
    {
      "cell_type": "markdown",
      "source": [
        "Adding Items to list"
      ],
      "metadata": {
        "id": "s5HPiSnfz8Q7"
      }
    },
    {
      "cell_type": "code",
      "source": [
        "#append\n",
        "L=[1,2,3]\n",
        "L.append(6)\n",
        "print(L)\n",
        "L.append(['u',True])\n",
        "print(L)\n",
        "#extend\n",
        "L.extend([9,8])\n",
        "print(L)\n",
        "L.extend('delhi')\n",
        "print(L)\n",
        "#insert --> inbtw of any index\n",
        "O = [1,2,3]\n",
        "O.insert(1,100)\n",
        "print(O)"
      ],
      "metadata": {
        "id": "EwrUvvPEz_1w",
        "outputId": "ae6f80f3-44d6-43c4-8874-7b2d258c2dae",
        "colab": {
          "base_uri": "https://localhost:8080/"
        }
      },
      "execution_count": 31,
      "outputs": [
        {
          "output_type": "stream",
          "name": "stdout",
          "text": [
            "[1, 2, 3, 6]\n",
            "[1, 2, 3, 6, ['u', True]]\n",
            "[1, 2, 3, 6, ['u', True], 9, 8]\n",
            "[1, 2, 3, 6, ['u', True], 9, 8, 'd', 'e', 'l', 'h', 'i']\n",
            "[1, 100, 2, 3]\n"
          ]
        }
      ]
    },
    {
      "cell_type": "markdown",
      "source": [
        "Editing items in List"
      ],
      "metadata": {
        "id": "5Q3fdazc1a2x"
      }
    },
    {
      "cell_type": "code",
      "source": [
        "L = [1,2,3,4,5]\n",
        "L[-1] = 500\n",
        "print(L)\n",
        "L[1:3] = [200,300]\n",
        "print(L)"
      ],
      "metadata": {
        "id": "xrNVKpwp1dZ4",
        "outputId": "895070ea-d497-41f3-e6aa-49de91c16def",
        "colab": {
          "base_uri": "https://localhost:8080/"
        }
      },
      "execution_count": 33,
      "outputs": [
        {
          "output_type": "stream",
          "name": "stdout",
          "text": [
            "[1, 2, 3, 4, 500]\n",
            "[1, 200, 300, 4, 500]\n"
          ]
        }
      ]
    },
    {
      "cell_type": "markdown",
      "source": [
        "Deleting items in list"
      ],
      "metadata": {
        "id": "DCghB5H216jQ"
      }
    },
    {
      "cell_type": "code",
      "source": [
        "#del\n",
        "L = [1,2,4]\n",
        "print(L)\n",
        "del(L[1])\n",
        "print(L)\n",
        "del(L)\n",
        "print(L)"
      ],
      "metadata": {
        "id": "5LnNlNh219tz",
        "outputId": "f85cf5d8-7219-4335-d3bc-7df44879e9c1",
        "colab": {
          "base_uri": "https://localhost:8080/",
          "height": 245
        }
      },
      "execution_count": 37,
      "outputs": [
        {
          "output_type": "stream",
          "name": "stdout",
          "text": [
            "[1, 2, 4]\n",
            "[1, 4]\n"
          ]
        },
        {
          "output_type": "error",
          "ename": "NameError",
          "evalue": "name 'L' is not defined",
          "traceback": [
            "\u001b[0;31m---------------------------------------------------------------------------\u001b[0m",
            "\u001b[0;31mNameError\u001b[0m                                 Traceback (most recent call last)",
            "\u001b[0;32m<ipython-input-37-42caad899b54>\u001b[0m in \u001b[0;36m<cell line: 0>\u001b[0;34m()\u001b[0m\n\u001b[1;32m      5\u001b[0m \u001b[0mprint\u001b[0m\u001b[0;34m(\u001b[0m\u001b[0mL\u001b[0m\u001b[0;34m)\u001b[0m\u001b[0;34m\u001b[0m\u001b[0;34m\u001b[0m\u001b[0m\n\u001b[1;32m      6\u001b[0m \u001b[0;32mdel\u001b[0m\u001b[0;34m(\u001b[0m\u001b[0mL\u001b[0m\u001b[0;34m)\u001b[0m\u001b[0;34m\u001b[0m\u001b[0;34m\u001b[0m\u001b[0m\n\u001b[0;32m----> 7\u001b[0;31m \u001b[0mprint\u001b[0m\u001b[0;34m(\u001b[0m\u001b[0mL\u001b[0m\u001b[0;34m)\u001b[0m\u001b[0;34m\u001b[0m\u001b[0;34m\u001b[0m\u001b[0m\n\u001b[0m\u001b[1;32m      8\u001b[0m \u001b[0;34m\u001b[0m\u001b[0m\n\u001b[1;32m      9\u001b[0m \u001b[0;31m#remove\u001b[0m\u001b[0;34m\u001b[0m\u001b[0;34m\u001b[0m\u001b[0m\n",
            "\u001b[0;31mNameError\u001b[0m: name 'L' is not defined"
          ]
        }
      ]
    },
    {
      "cell_type": "code",
      "source": [
        "#remove\n",
        "Q = [1,2,3,4,5]\n",
        "Q.remove(3)\n",
        "print(Q)\n",
        "\n",
        "#pop\n",
        "Q.pop(0)\n",
        "print(Q)\n",
        "Q.pop() #lat will be removed\n",
        "print(Q)\n",
        "\n",
        "#clear --> clears list\n",
        "Q.clear()\n",
        "print(Q)"
      ],
      "metadata": {
        "id": "6_gbdIPc2pok",
        "outputId": "fb32975a-3d1b-458d-f875-509a57a7fc37",
        "colab": {
          "base_uri": "https://localhost:8080/"
        }
      },
      "execution_count": 41,
      "outputs": [
        {
          "output_type": "stream",
          "name": "stdout",
          "text": [
            "[1, 2, 4, 5]\n",
            "[2, 4, 5]\n",
            "[2, 4]\n",
            "[]\n"
          ]
        }
      ]
    },
    {
      "cell_type": "markdown",
      "source": [
        "Operations in List"
      ],
      "metadata": {
        "id": "akQQJILr3RLs"
      }
    },
    {
      "cell_type": "code",
      "source": [
        "# Arithmetic (+ *):\n",
        "L1 = [1,2,3,4,[5,6]]\n",
        "L2 = [2,7,8,3]\n",
        "print(L1+L2)\n",
        "print(L1*2)\n",
        "\n",
        "# Membership (in, not in)\n",
        "print(2 in L1)\n",
        "print(5 in L1)\n",
        "print([5,6] in L1)"
      ],
      "metadata": {
        "id": "nDiJCzrc2tp1",
        "outputId": "0aa7721b-3882-46c4-aacb-0dd7be023f57",
        "colab": {
          "base_uri": "https://localhost:8080/"
        }
      },
      "execution_count": 49,
      "outputs": [
        {
          "output_type": "stream",
          "name": "stdout",
          "text": [
            "[1, 2, 3, 4, [5, 6], 2, 7, 8, 3]\n",
            "[1, 2, 3, 4, [5, 6], 1, 2, 3, 4, [5, 6]]\n",
            "True\n",
            "False\n",
            "True\n"
          ]
        }
      ]
    },
    {
      "cell_type": "code",
      "source": [
        "# Loops :\n",
        "L1 = [1,2,5]\n",
        "L2 = [1,2,[5,8]]\n",
        "for i in L1:\n",
        "  print(i)\n",
        "for i in L2:\n",
        "  print(i)"
      ],
      "metadata": {
        "id": "15jqLGI14f6X",
        "outputId": "45f64c62-beb6-49d6-80ef-e7fe0ed074fd",
        "colab": {
          "base_uri": "https://localhost:8080/"
        }
      },
      "execution_count": 51,
      "outputs": [
        {
          "output_type": "stream",
          "name": "stdout",
          "text": [
            "1\n",
            "2\n",
            "5\n",
            "1\n",
            "2\n",
            "[5, 8]\n"
          ]
        }
      ]
    },
    {
      "cell_type": "markdown",
      "source": [
        "List Functions :"
      ],
      "metadata": {
        "id": "3vWjqW7e4c16"
      }
    },
    {
      "cell_type": "code",
      "source": [
        "# len/max/min/sorted\n",
        "L= [1,0,8,2,3,4]\n",
        "print(len(L))\n",
        "print(max(L))\n",
        "print(min(L))\n",
        "print(sorted(L))\n",
        "print(sorted(L,reverse=True))\n",
        "print(L)"
      ],
      "metadata": {
        "id": "5JgIL-Js5CLp",
        "outputId": "c0f8edbc-450f-43bd-ea34-231cbe3ee524",
        "colab": {
          "base_uri": "https://localhost:8080/"
        }
      },
      "execution_count": 61,
      "outputs": [
        {
          "output_type": "stream",
          "name": "stdout",
          "text": [
            "6\n",
            "8\n",
            "0\n",
            "[0, 1, 2, 3, 4, 8]\n",
            "[8, 4, 3, 2, 1, 0]\n",
            "[1, 0, 8, 2, 3, 4]\n"
          ]
        }
      ]
    },
    {
      "cell_type": "code",
      "source": [
        "#count\n",
        "L= [1,2,4,1,4,3,5,2,2]\n",
        "print(L.count(2))\n",
        "\n",
        "#index\n",
        "print(L.index(4))\n",
        "\n",
        "#reverse --> permanent op.\n",
        "L = [1,0,8,2,3,4]\n",
        "L.reverse()\n",
        "print(L)\n",
        "\n",
        "#sort --> permanent\n",
        "L.sort()\n",
        "print(L)\n",
        "\n",
        "#copy\n",
        "L = [1,8,4,0]\n",
        "print(f'id:',(id(L)))\n",
        "L1 = L.copy()\n",
        "print(L1)\n",
        "print(f'id:',(id(L1)))"
      ],
      "metadata": {
        "id": "StBz57Aq5ehB",
        "outputId": "99ca6342-4d10-4d18-e336-c5117fa34a74",
        "colab": {
          "base_uri": "https://localhost:8080/"
        }
      },
      "execution_count": 71,
      "outputs": [
        {
          "output_type": "stream",
          "name": "stdout",
          "text": [
            "3\n",
            "2\n",
            "[4, 3, 2, 8, 0, 1]\n",
            "[0, 1, 2, 3, 4, 8]\n",
            "id: 133715143352896\n",
            "[1, 8, 4, 0]\n",
            "id: 133715142568576\n"
          ]
        }
      ]
    },
    {
      "cell_type": "markdown",
      "source": [
        "**List Comprehension** : shortcut to new list from an existing one<br>\n",
        "[expression for item in iterable if condition]<br>\n",
        "✅ Shorter code\n",
        "✅ Faster execution\n",
        "✅ More readable\n"
      ],
      "metadata": {
        "id": "pwKpqUyy7LYm"
      }
    },
    {
      "cell_type": "code",
      "source": [
        "L = []\n",
        "for i in range(1,5):\n",
        "  L.append(i)\n",
        "print(L)\n",
        "\n",
        "L = [i for i in range(1,5)]\n",
        "print('comp.',L)"
      ],
      "metadata": {
        "id": "rsoKQLgT8CTv",
        "outputId": "7e460559-8457-4b53-f9f9-c507c3e77f72",
        "colab": {
          "base_uri": "https://localhost:8080/"
        }
      },
      "execution_count": 77,
      "outputs": [
        {
          "output_type": "stream",
          "name": "stdout",
          "text": [
            "[1, 2, 3, 4]\n",
            "comp. [1, 2, 3, 4]\n"
          ]
        }
      ]
    },
    {
      "cell_type": "code",
      "source": [
        "# scaler multiplication on vector\n",
        "v = [2,3,4]\n",
        "s = -3\n",
        "#[-6,-9,-12]\n",
        "\n",
        "a = [i*s for i in v]\n",
        "print(a)\n",
        "\n",
        "# add squares\n",
        "l = [2,5,8]\n",
        "l = [i*i for i in l]\n",
        "print(l)\n",
        "\n",
        "# print all numbers divisible by 5 in range of 1 to 50\n",
        "a = [i for i in range(1,51) if i%5==0]\n",
        "print(a)\n",
        "\n",
        "# find languages which start with letter p\n",
        "languages = ['php','js','java','python','c']\n",
        "l =[i for i in languages if i.startswith('p')]\n",
        "print(l)\n",
        "\n",
        "# nested if with list comprehension\n",
        "basket = ['apple','guava','cherry','banana']\n",
        "my_fruits = ['apple','kiwi','grapes','banana']\n",
        "m = [i for i in basket if i in my_fruits if i.startswith('a')]\n",
        "print(m)\n",
        "\n",
        "# print a (3,3) matrix using list comprehension --> nested comprehension\n",
        "n = [[i*j for i in range(1,4)] for j in range(1,4)]\n",
        "print(n)"
      ],
      "metadata": {
        "id": "yTzF_PSV-kgQ",
        "outputId": "515b0a33-4ca1-452c-e813-44c3c611e120",
        "colab": {
          "base_uri": "https://localhost:8080/"
        }
      },
      "execution_count": 91,
      "outputs": [
        {
          "output_type": "stream",
          "name": "stdout",
          "text": [
            "[-6, -9, -12]\n",
            "[4, 25, 64]\n",
            "[5, 10, 15, 20, 25, 30, 35, 40, 45, 50]\n",
            "['php', 'python']\n",
            "['apple']\n",
            "[[1, 2, 3], [2, 4, 6], [3, 6, 9]]\n"
          ]
        }
      ]
    }
  ]
}