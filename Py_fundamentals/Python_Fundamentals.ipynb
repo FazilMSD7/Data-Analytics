{
  "nbformat": 4,
  "nbformat_minor": 0,
  "metadata": {
    "colab": {
      "provenance": [],
      "include_colab_link": true
    },
    "kernelspec": {
      "name": "python3",
      "display_name": "Python 3"
    },
    "language_info": {
      "name": "python"
    }
  },
  "cells": [
    {
      "cell_type": "markdown",
      "metadata": {
        "id": "view-in-github",
        "colab_type": "text"
      },
      "source": [
        "<a href=\"https://colab.research.google.com/github/FazilMSD7/Data-Analytics/blob/main/Py_fundamentals/Python_Fundamentals.ipynb\" target=\"_parent\"><img src=\"https://colab.research.google.com/assets/colab-badge.svg\" alt=\"Open In Colab\"/></a>"
      ]
    },
    {
      "cell_type": "markdown",
      "source": [
        "**Print**"
      ],
      "metadata": {
        "id": "a4K4HlGE7dfp"
      }
    },
    {
      "cell_type": "markdown",
      "source": [],
      "metadata": {
        "id": "cPU88CsbXSGV"
      }
    },
    {
      "cell_type": "code",
      "execution_count": null,
      "metadata": {
        "id": "XSHOEwGA7MFg",
        "colab": {
          "base_uri": "https://localhost:8080/"
        },
        "outputId": "16cca1b1-8009-4089-9bd2-ba5b284908b8"
      },
      "outputs": [
        {
          "output_type": "stream",
          "name": "stdout",
          "text": [
            "fz 1.2 True\n"
          ]
        }
      ],
      "source": [
        "print('fz',1.2,True)"
      ]
    },
    {
      "cell_type": "code",
      "source": [
        "print('fz',1.2,True,sep='/')"
      ],
      "metadata": {
        "colab": {
          "base_uri": "https://localhost:8080/"
        },
        "id": "Iqay7Ag2XZYY",
        "outputId": "33366cea-799f-4797-c858-dbcaccfc12dc"
      },
      "execution_count": null,
      "outputs": [
        {
          "output_type": "stream",
          "name": "stdout",
          "text": [
            "fz/1.2/True\n"
          ]
        }
      ]
    },
    {
      "cell_type": "code",
      "source": [
        "print('fz',end='-')\n",
        "print('abd')"
      ],
      "metadata": {
        "colab": {
          "base_uri": "https://localhost:8080/"
        },
        "id": "q5QvnG5YXxs6",
        "outputId": "100a0571-6282-4d0d-9586-2195ad5a3544"
      },
      "execution_count": null,
      "outputs": [
        {
          "output_type": "stream",
          "name": "stdout",
          "text": [
            "fz-abd\n"
          ]
        }
      ]
    },
    {
      "cell_type": "code",
      "source": [
        "a = 1,2,3\n",
        "print(a)\n",
        "\n",
        "a,b,c = 1,2,3\n",
        "print(a,b,c)\n",
        "\n",
        "a =b =c =5\n",
        "print(a)"
      ],
      "metadata": {
        "colab": {
          "base_uri": "https://localhost:8080/"
        },
        "id": "YLxBhQw1bIkE",
        "outputId": "b91477b7-8cc8-44d1-f320-5c9e55b5b4bf"
      },
      "execution_count": null,
      "outputs": [
        {
          "output_type": "stream",
          "name": "stdout",
          "text": [
            "(1, 2, 3)\n",
            "1 2 3\n",
            "5\n"
          ]
        }
      ]
    },
    {
      "cell_type": "markdown",
      "source": [
        "Data **Types**"
      ],
      "metadata": {
        "id": "e_tTYDcXYNHx"
      }
    },
    {
      "cell_type": "code",
      "source": [
        "print('vf') #str\n",
        "print(3) #int\n",
        "print(3.4) #float\n",
        "print(True) #boolean\n",
        "print([1,2,3]) #list\n",
        "print((1,2)) #tuple\n",
        "print({1,2,3}) #set\n",
        "print({'a':3}) #dict\n",
        "print(7+2j) #complex"
      ],
      "metadata": {
        "colab": {
          "base_uri": "https://localhost:8080/"
        },
        "id": "P2kRSr1tX84X",
        "outputId": "9c0def59-ca1b-44ed-c1c5-ce7f0750b8a6"
      },
      "execution_count": null,
      "outputs": [
        {
          "output_type": "stream",
          "name": "stdout",
          "text": [
            "vf\n",
            "3\n",
            "3.4\n",
            "True\n",
            "[1, 2, 3]\n",
            "(1, 2)\n",
            "{1, 2, 3}\n",
            "{'a': 3}\n",
            "(7+2j)\n"
          ]
        }
      ]
    },
    {
      "cell_type": "markdown",
      "source": [
        "**Variables** : Containers store info"
      ],
      "metadata": {
        "id": "w0otkqqJZePB"
      }
    },
    {
      "cell_type": "code",
      "source": [
        "name = 'fz'\n",
        "print(name)\n",
        "# Static Typing(define datatype :other lang --> int a = 5)\n",
        "# Dynamic Typing(no need to define dtype : python --> a =5)\n",
        "\n",
        "#Static Binding(other lang. only specified dtype can be supported, eg: int a = 5) only sprts int values\n",
        "# eg : int a = 5, str a = 'st'\n",
        "\n",
        "#Dynamic Binding(python sprts, eg: a =5, a ='st')\n",
        "a = 5\n",
        "a = 'st'\n",
        "print(a)"
      ],
      "metadata": {
        "colab": {
          "base_uri": "https://localhost:8080/"
        },
        "id": "0G40KkdZZcPz",
        "outputId": "54f7703b-e94f-4f10-9d99-3918a7cdab3f"
      },
      "execution_count": null,
      "outputs": [
        {
          "output_type": "stream",
          "name": "stdout",
          "text": [
            "fz\n",
            "st\n"
          ]
        }
      ]
    },
    {
      "cell_type": "markdown",
      "source": [
        "**Keywords & Identifiers**"
      ],
      "metadata": {
        "id": "_2QkxxcnbfLk"
      }
    },
    {
      "cell_type": "code",
      "source": [
        "# Keywords : Reserved words(if,true,def...)\n",
        "# Identifiers : Giving name to prg(eg: variables,class, fn)\n",
        "# Can't start with digit, Van't be keywords, Can use sp. char _ (eg: _ = 5)\n",
        "\n",
        "# Static - Can't interact, can only read eg: calendar\n",
        "# Dynamic - Can interact, Can read/write eg: youtube"
      ],
      "metadata": {
        "id": "7GAsjPaRa9u8"
      },
      "execution_count": null,
      "outputs": []
    },
    {
      "cell_type": "markdown",
      "source": [
        "**User Input**"
      ],
      "metadata": {
        "id": "gW3JeRfMdIUG"
      }
    },
    {
      "cell_type": "code",
      "source": [
        "input('What is ur name :')"
      ],
      "metadata": {
        "colab": {
          "base_uri": "https://localhost:8080/",
          "height": 53
        },
        "id": "BWPYhXX-djnf",
        "outputId": "50b86eac-0a37-40e7-d231-256502b22ec8"
      },
      "execution_count": null,
      "outputs": [
        {
          "name": "stdout",
          "output_type": "stream",
          "text": [
            "What is ur name :Fazil\n"
          ]
        },
        {
          "output_type": "execute_result",
          "data": {
            "text/plain": [
              "'Fazil'"
            ],
            "application/vnd.google.colaboratory.intrinsic+json": {
              "type": "string"
            }
          },
          "metadata": {},
          "execution_count": 16
        }
      ]
    },
    {
      "cell_type": "code",
      "source": [
        "a = input('1st number')\n",
        "b = input('2nd number')\n",
        "c = a+b\n",
        "print(c)\n",
        "type(c)"
      ],
      "metadata": {
        "colab": {
          "base_uri": "https://localhost:8080/"
        },
        "id": "VGZo8HDpdoie",
        "outputId": "ae7da24c-8aed-4f88-d77a-206b973fd297"
      },
      "execution_count": null,
      "outputs": [
        {
          "output_type": "stream",
          "name": "stdout",
          "text": [
            "1st number4\n",
            "2nd number4\n",
            "44\n"
          ]
        },
        {
          "output_type": "execute_result",
          "data": {
            "text/plain": [
              "str"
            ]
          },
          "metadata": {},
          "execution_count": 21
        }
      ]
    },
    {
      "cell_type": "code",
      "source": [
        "a = int(input('1st number'))  # explicit conv. - chng dtyoe acc user, Implicit conv. - automatically conv.\n",
        "b = int(input('2nd number'))  # can't convert complex into other dtype : int(1+6j)\n",
        "c = a+b\n",
        "print(c)\n",
        "type(c)"
      ],
      "metadata": {
        "colab": {
          "base_uri": "https://localhost:8080/"
        },
        "id": "BoR2EKcceRZQ",
        "outputId": "038632da-4e62-4120-a3d7-71f68ec763e4"
      },
      "execution_count": null,
      "outputs": [
        {
          "output_type": "stream",
          "name": "stdout",
          "text": [
            "1st number2\n",
            "2nd number3\n",
            "5\n"
          ]
        },
        {
          "output_type": "execute_result",
          "data": {
            "text/plain": [
              "int"
            ]
          },
          "metadata": {},
          "execution_count": 22
        }
      ]
    },
    {
      "cell_type": "markdown",
      "source": [
        "**Literals** : Value stored (eg. a = 5)  5 is literal"
      ],
      "metadata": {
        "id": "LXdvQ8b4gGZ9"
      }
    },
    {
      "cell_type": "code",
      "source": [
        "from re import X\n",
        "a = 0b1010  # binary li\n",
        "b = 100 # decimal li\n",
        "c = 0o310 # octal li\n",
        "d = 0x12c # hexa li\n",
        "print(a,b,c,d)\n",
        "\n",
        "# floatal li\n",
        "float_1 = 10.5\n",
        "float_2 = 1.5e2 # 1.5*10^2\n",
        "print(float_1,float_2)\n",
        "\n",
        "# complex li\n",
        "X = 3.14j\n",
        "print(X,X.imag,X.real)\n",
        "\n",
        "# String : '', \"\", \"\"\" \"\"\" (multi lines), unicode(u\"u7634..24e) - smily, str1 = r\"row \\n string\" op. raw \\n string"
      ],
      "metadata": {
        "colab": {
          "base_uri": "https://localhost:8080/"
        },
        "id": "3Zb-WsYBfUJ9",
        "outputId": "45c8fbbc-db4c-48b0-cf71-2e733fe97626"
      },
      "execution_count": null,
      "outputs": [
        {
          "output_type": "stream",
          "name": "stdout",
          "text": [
            "10 100 200 300\n",
            "10.5 150.0\n",
            "3.14j 3.14 0.0\n"
          ]
        }
      ]
    },
    {
      "cell_type": "markdown",
      "source": [
        "**Operators :**"
      ],
      "metadata": {
        "id": "oT8L3Ow-p7eF"
      }
    },
    {
      "cell_type": "markdown",
      "source": [
        ". Arithmetic Operators -> + - * / // % **\n",
        ". Relational Operators(True or False) -> > < >= <= == !=\n",
        ". Logical Operators -> and or not\n",
        ". Bitwise Operators(not used mostly) -> & | && || ^ ~ << >>\n",
        ". Assignment Operator -> = == +=\n",
        ". Membership Operator -> in/not in"
      ],
      "metadata": {
        "id": "5un3ESHZR0Gp"
      }
    },
    {
      "cell_type": "code",
      "source": [
        "print(5//2)\n",
        "print(5%2)\n",
        "print(5**2)"
      ],
      "metadata": {
        "id": "e8ZE8dKc40Oi",
        "colab": {
          "base_uri": "https://localhost:8080/"
        },
        "outputId": "f12c53d5-7d07-494b-b761-a9c62741c6f6"
      },
      "execution_count": null,
      "outputs": [
        {
          "output_type": "stream",
          "name": "stdout",
          "text": [
            "2\n",
            "1\n",
            "25\n"
          ]
        }
      ]
    },
    {
      "cell_type": "code",
      "source": [
        "print(4!=4)"
      ],
      "metadata": {
        "colab": {
          "base_uri": "https://localhost:8080/"
        },
        "id": "X6cJYz2CSBBn",
        "outputId": "cb900547-3f1c-4ec7-fcd8-51d86f348e68"
      },
      "execution_count": null,
      "outputs": [
        {
          "output_type": "stream",
          "name": "stdout",
          "text": [
            "False\n"
          ]
        }
      ]
    },
    {
      "cell_type": "code",
      "source": [
        "print(1 and 0)\n",
        "print(1 or 0)\n",
        "print(not 1)"
      ],
      "metadata": {
        "colab": {
          "base_uri": "https://localhost:8080/"
        },
        "id": "cYqTQFFPSOOh",
        "outputId": "1fe776b5-24cb-47db-c8e1-ffc1184f0c22"
      },
      "execution_count": null,
      "outputs": [
        {
          "output_type": "stream",
          "name": "stdout",
          "text": [
            "0\n",
            "1\n",
            "False\n"
          ]
        }
      ]
    },
    {
      "cell_type": "code",
      "source": [
        "print(2&3)"
      ],
      "metadata": {
        "colab": {
          "base_uri": "https://localhost:8080/"
        },
        "id": "ehbybfqQSQ57",
        "outputId": "f1c12236-f346-4ea9-920c-0fb28008808b"
      },
      "execution_count": null,
      "outputs": [
        {
          "output_type": "stream",
          "name": "stdout",
          "text": [
            "2\n"
          ]
        }
      ]
    },
    {
      "cell_type": "code",
      "source": [
        "a = 2\n",
        "a += 3\n",
        "print(a)"
      ],
      "metadata": {
        "colab": {
          "base_uri": "https://localhost:8080/"
        },
        "id": "I1YAGDAeTUNX",
        "outputId": "36249df5-8653-4626-a20e-baab227c3aa8"
      },
      "execution_count": null,
      "outputs": [
        {
          "output_type": "stream",
          "name": "stdout",
          "text": [
            "5\n"
          ]
        }
      ]
    },
    {
      "cell_type": "code",
      "source": [
        "print('d' in 'dubai')"
      ],
      "metadata": {
        "colab": {
          "base_uri": "https://localhost:8080/"
        },
        "id": "b9S_dxtMUSyA",
        "outputId": "217347aa-8d75-4980-cc07-1a79ab2e7cc2"
      },
      "execution_count": null,
      "outputs": [
        {
          "output_type": "stream",
          "name": "stdout",
          "text": [
            "True\n"
          ]
        }
      ]
    },
    {
      "cell_type": "code",
      "source": [
        "num = int(input('number: '))\n",
        "a = num%10\n",
        "print(a)  #345%10 - 5\n",
        "num = num//10\n",
        "print(num) #345//10 - 34\n",
        "b = num%10\n",
        "print(b)  #34%10 - 4\n",
        "c = num // 10\n",
        "print(c)  #34//10 - 3\n",
        "print(a+b+c)  # 12\n"
      ],
      "metadata": {
        "colab": {
          "base_uri": "https://localhost:8080/"
        },
        "id": "8AAzqxsmUiTo",
        "outputId": "baefa877-e0b0-44a7-8c45-98c64883e6f6"
      },
      "execution_count": 2,
      "outputs": [
        {
          "output_type": "stream",
          "name": "stdout",
          "text": [
            "number: 789\n",
            "9\n",
            "78\n",
            "8\n",
            "7\n",
            "24\n"
          ]
        }
      ]
    },
    {
      "cell_type": "markdown",
      "source": [
        "**If-else :**"
      ],
      "metadata": {
        "id": "aIouadcttAhE"
      }
    },
    {
      "cell_type": "code",
      "source": [
        "# Find min of 3 give numbers:\n",
        "a = int(input('1st number: '))\n",
        "b = int(input('2nd number: '))\n",
        "c = int(input('3rd number: '))\n",
        "if a>b and a>c:\n",
        "  print(a)\n",
        "elif b>a and b>c:\n",
        "  print(b)\n",
        "else:\n",
        "  print(c)"
      ],
      "metadata": {
        "colab": {
          "base_uri": "https://localhost:8080/"
        },
        "id": "rEmTmuoWm982",
        "outputId": "ed96b024-33ee-47b5-f155-77e055b7059c"
      },
      "execution_count": null,
      "outputs": [
        {
          "output_type": "stream",
          "name": "stdout",
          "text": [
            "1st number: 45\n",
            "2nd number: 88\n",
            "3rd number: 12\n",
            "88\n"
          ]
        }
      ]
    },
    {
      "cell_type": "code",
      "source": [
        "#calculator :\n",
        "a = int(input('1st number: '))\n",
        "b = int(input('2nd number: '))\n",
        "op = input('operator: ')\n",
        "if op == '+':\n",
        "  print(a+b)\n",
        "elif op == '-':\n",
        "  print(a-b)\n",
        "elif op == '*':\n",
        "  print(a*b)\n",
        "elif op == '/':\n",
        "  print(a/b)"
      ],
      "metadata": {
        "colab": {
          "base_uri": "https://localhost:8080/"
        },
        "id": "a6EyXjFTtj6p",
        "outputId": "b3bc44c8-bb2d-4a1a-87e4-ea1542bfac2c"
      },
      "execution_count": null,
      "outputs": [
        {
          "output_type": "stream",
          "name": "stdout",
          "text": [
            "1st number: 20\n",
            "2nd number: 98\n",
            "operator: -\n",
            "-78\n"
          ]
        }
      ]
    },
    {
      "cell_type": "code",
      "source": [
        "a = int(input('1st number: '))\n",
        "if a%10 ==0:\n",
        "  print(\"even\")\n",
        "else:\n",
        "  print(\"odd\")"
      ],
      "metadata": {
        "colab": {
          "base_uri": "https://localhost:8080/"
        },
        "id": "fbPNLXbJuQqt",
        "outputId": "6f4820d5-e12b-4fd3-f817-0d91a0d8f74b"
      },
      "execution_count": null,
      "outputs": [
        {
          "output_type": "stream",
          "name": "stdout",
          "text": [
            "1st number: 0\n",
            "even\n"
          ]
        }
      ]
    },
    {
      "cell_type": "markdown",
      "source": [
        "**Modules in Python**"
      ],
      "metadata": {
        "id": "2Rg0DF7cvXSZ"
      }
    },
    {
      "cell_type": "markdown",
      "source": [
        " It can include functions, classes, and variables that you can use in other programs. Reusable code - just import and use."
      ],
      "metadata": {
        "id": "2EZtV8lhRiJs"
      }
    },
    {
      "cell_type": "markdown",
      "source": [
        "Math, Random, Keywords, DateTime"
      ],
      "metadata": {
        "id": "ef_wY_BpRv8K"
      }
    },
    {
      "cell_type": "code",
      "source": [
        "import math\n",
        "print(math.sqrt(4))\n",
        "print(math.factorial(5))"
      ],
      "metadata": {
        "id": "iAiT7UaRux1x",
        "colab": {
          "base_uri": "https://localhost:8080/"
        },
        "outputId": "18ec814c-836f-4375-e41a-740057f1e121"
      },
      "execution_count": null,
      "outputs": [
        {
          "output_type": "stream",
          "name": "stdout",
          "text": [
            "2.0\n",
            "120\n"
          ]
        }
      ]
    },
    {
      "cell_type": "code",
      "source": [
        "import keyword\n",
        "print(keyword.kwlist)\n",
        "print(keyword.iskeyword('False'))"
      ],
      "metadata": {
        "colab": {
          "base_uri": "https://localhost:8080/"
        },
        "id": "gzFX20hpSDBM",
        "outputId": "3a32e427-3bea-4357-dabc-7795b6ab0b89"
      },
      "execution_count": null,
      "outputs": [
        {
          "output_type": "stream",
          "name": "stdout",
          "text": [
            "['False', 'None', 'True', 'and', 'as', 'assert', 'async', 'await', 'break', 'class', 'continue', 'def', 'del', 'elif', 'else', 'except', 'finally', 'for', 'from', 'global', 'if', 'import', 'in', 'is', 'lambda', 'nonlocal', 'not', 'or', 'pass', 'raise', 'return', 'try', 'while', 'with', 'yield']\n",
            "True\n"
          ]
        }
      ]
    },
    {
      "cell_type": "code",
      "source": [
        "import random\n",
        "print(random.randint(1,10))"
      ],
      "metadata": {
        "colab": {
          "base_uri": "https://localhost:8080/"
        },
        "id": "ch8XNsVWSuLP",
        "outputId": "f485c54e-50d3-4d0b-862e-44594722179c"
      },
      "execution_count": null,
      "outputs": [
        {
          "output_type": "stream",
          "name": "stdout",
          "text": [
            "6\n"
          ]
        }
      ]
    },
    {
      "cell_type": "code",
      "source": [
        "import datetime\n",
        "print(datetime.datetime.now())"
      ],
      "metadata": {
        "colab": {
          "base_uri": "https://localhost:8080/"
        },
        "id": "LwyFfMPoS-rL",
        "outputId": "d2ecc94b-8640-48b2-d369-b54aa12294f9"
      },
      "execution_count": null,
      "outputs": [
        {
          "output_type": "stream",
          "name": "stdout",
          "text": [
            "2024-12-09 07:23:27.675995\n"
          ]
        }
      ]
    },
    {
      "cell_type": "code",
      "source": [
        "help('modules') #all modules"
      ],
      "metadata": {
        "id": "FPXzg7qoTTSZ"
      },
      "execution_count": null,
      "outputs": []
    },
    {
      "cell_type": "markdown",
      "source": [
        "**LOOPS :**"
      ],
      "metadata": {
        "id": "3wIFfJmKT9Wl"
      }
    },
    {
      "cell_type": "markdown",
      "source": [
        "Eg: used for iteration - Swiggy : 50 dishes(same container - used for all dishes)"
      ],
      "metadata": {
        "id": "YEQprHHdUKWg"
      }
    },
    {
      "cell_type": "markdown",
      "source": [
        "**python tutor** - line by line code explain"
      ],
      "metadata": {
        "id": "kChdndAgVdWX"
      }
    },
    {
      "cell_type": "code",
      "source": [
        "# while loop :\n",
        "i = 1\n",
        "while i<6:\n",
        "  print(i)\n",
        "  i+=1\n",
        "\n",
        "number = int(input('number: '))\n",
        "i = 1\n",
        "while i<11:\n",
        "  print(number,'*',i,'=',number * i)\n",
        "  i += 1"
      ],
      "metadata": {
        "colab": {
          "base_uri": "https://localhost:8080/",
          "height": 17
        },
        "id": "vqVuS6fhTZq1",
        "outputId": "55d18173-b991-40cc-d47d-4dd16881a18b"
      },
      "execution_count": null,
      "outputs": [
        {
          "output_type": "display_data",
          "data": {
            "text/plain": [
              "<IPython.core.display.HTML object>"
            ],
            "text/html": [
              "\n",
              "            <style>\n",
              "                .geemap-dark {\n",
              "                    --jp-widgets-color: white;\n",
              "                    --jp-widgets-label-color: white;\n",
              "                    --jp-ui-font-color1: white;\n",
              "                    --jp-layout-color2: #454545;\n",
              "                    background-color: #383838;\n",
              "                }\n",
              "\n",
              "                .geemap-dark .jupyter-button {\n",
              "                    --jp-layout-color3: #383838;\n",
              "                }\n",
              "\n",
              "                .geemap-colab {\n",
              "                    background-color: var(--colab-primary-surface-color, white);\n",
              "                }\n",
              "\n",
              "                .geemap-colab .jupyter-button {\n",
              "                    --jp-layout-color3: var(--colab-primary-surface-color, white);\n",
              "                }\n",
              "            </style>\n",
              "            "
            ]
          },
          "metadata": {}
        }
      ]
    },
    {
      "cell_type": "code",
      "source": [
        "# while loop with else :\n",
        "number = int(input('number: '))\n",
        "i = 1\n",
        "while i<5:\n",
        "  print(i)\n",
        "  i += 1\n",
        "else:\n",
        "  print('done')"
      ],
      "metadata": {
        "id": "MEE5LkaFWQNH"
      },
      "execution_count": null,
      "outputs": []
    },
    {
      "cell_type": "code",
      "source": [
        "from typing import Counter\n",
        "# guessing random number between 1- 100\n",
        "import random\n",
        "jackpot = random.randint(1,100)\n",
        "print(jackpot)\n",
        "guess = int(input(\"Enter a number\"))\n",
        "\n",
        "Counter = 1\n",
        "while guess != jackpot:\n",
        "  if guess>jackpot:\n",
        "    print(\"guessed number is higher\")\n",
        "  elif guess<jackpot:\n",
        "    print(\"guessed number is lower\")\n",
        "  guess = int(input(\"Enter a number\"))\n",
        "  Counter+=1\n",
        "\n",
        "else:\n",
        "  print(\"guesses number is correct\")\n",
        "print(\"No. of attempts : \", Counter)"
      ],
      "metadata": {
        "id": "LQB433BHXPoS",
        "colab": {
          "base_uri": "https://localhost:8080/"
        },
        "outputId": "85dce64e-de85-455a-8c95-2ded0a96318a"
      },
      "execution_count": 5,
      "outputs": [
        {
          "output_type": "stream",
          "name": "stdout",
          "text": [
            "39\n",
            "Enter a number6\n",
            "guessed number is lower\n",
            "Enter a number9\n",
            "guessed number is lower\n",
            "Enter a number99\n",
            "guessed number is higher\n",
            "Enter a number39\n",
            "guesses number is correct\n",
            "No. of attempts :  4\n"
          ]
        }
      ]
    },
    {
      "cell_type": "code",
      "source": [
        "# for loop :\n",
        "for i in range(1,6):\n",
        "  print(i)\n",
        "\n",
        "for i in range(0,6,2):\n",
        "  print(i)\n",
        "\n",
        "for i in range(5,1,-1):\n",
        "  print(i)\n",
        "\n",
        "for i in 'Ooty':\n",
        "  print(i)\n",
        "\n",
        "for i in {20,63,7}: #loop in any dtype\n",
        "  print(i)"
      ],
      "metadata": {
        "id": "2NsZSmW8pHar",
        "outputId": "b5b75bb2-5418-45f8-a49c-8f072a6b406b",
        "colab": {
          "base_uri": "https://localhost:8080/"
        }
      },
      "execution_count": 13,
      "outputs": [
        {
          "output_type": "stream",
          "name": "stdout",
          "text": [
            "1\n",
            "2\n",
            "3\n",
            "4\n",
            "5\n",
            "0\n",
            "2\n",
            "4\n",
            "5\n",
            "4\n",
            "3\n",
            "2\n",
            "O\n",
            "o\n",
            "t\n",
            "y\n",
            "20\n",
            "63\n",
            "7\n"
          ]
        }
      ]
    },
    {
      "cell_type": "markdown",
      "source": [
        "Program - The current population of a town is 1000. The population of the town is increasing at the rate of 10% per year. You have to write a program to find out the population at the end of each of the last 10 years."
      ],
      "metadata": {
        "id": "Wrui_V4PshmA"
      }
    },
    {
      "cell_type": "code",
      "source": [
        "cur_pop = 1000\n",
        "sum = 0\n",
        "for i in range(1,10):\n",
        "  print(i,cur_pop)\n",
        "  cur_pop = cur_pop + cur_pop*0.1\n",
        "  # cur_pop += cur_pop*0.1\n",
        "  sum += cur_pop\n",
        "\n",
        "print(sum)"
      ],
      "metadata": {
        "id": "LHl6gk44sZi-",
        "outputId": "8970c1ac-87f5-4c86-ae06-ee59e34ac2d9",
        "colab": {
          "base_uri": "https://localhost:8080/"
        }
      },
      "execution_count": 16,
      "outputs": [
        {
          "output_type": "stream",
          "name": "stdout",
          "text": [
            "1 1000\n",
            "2 1100.0\n",
            "3 1210.0\n",
            "4 1331.0\n",
            "5 1464.1\n",
            "6 1610.51\n",
            "7 1771.561\n",
            "8 1948.7170999999998\n",
            "9 2143.5888099999997\n",
            "14937.424600999999\n"
          ]
        }
      ]
    }
  ]
}