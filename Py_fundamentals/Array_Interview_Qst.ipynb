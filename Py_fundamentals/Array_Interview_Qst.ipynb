{
  "nbformat": 4,
  "nbformat_minor": 0,
  "metadata": {
    "colab": {
      "provenance": [],
      "authorship_tag": "ABX9TyNA21i0sb2IPhBgl0/A4rKK",
      "include_colab_link": true
    },
    "kernelspec": {
      "name": "python3",
      "display_name": "Python 3"
    },
    "language_info": {
      "name": "python"
    }
  },
  "cells": [
    {
      "cell_type": "markdown",
      "metadata": {
        "id": "view-in-github",
        "colab_type": "text"
      },
      "source": [
        "<a href=\"https://colab.research.google.com/github/FazilMSD7/Data-Analytics/blob/main/Py_fundamentals/Array_Interview_Qst.ipynb\" target=\"_parent\"><img src=\"https://colab.research.google.com/assets/colab-badge.svg\" alt=\"Open In Colab\"/></a>"
      ]
    },
    {
      "cell_type": "markdown",
      "source": [
        "## Points to remember<br>\n",
        "*   Pythonic syntax is preferred in most cmpy\n",
        "*   Focus on optimized code\n",
        "*   Start with simplest sol. and then improve(time/space complexity)\n",
        "*   A lot of qst are repeated so mugging up the approaches helps\n",
        "*   Build intution using Python Tutor"
      ],
      "metadata": {
        "id": "8NxpOjjR-LJt"
      }
    },
    {
      "cell_type": "code",
      "execution_count": null,
      "metadata": {
        "id": "qJUAXK1k85Nk",
        "outputId": "31124b6a-3edc-4eb7-e9e3-ebccbcf2ea49",
        "colab": {
          "base_uri": "https://localhost:8080/"
        }
      },
      "outputs": [
        {
          "output_type": "stream",
          "name": "stdout",
          "text": [
            "23\n"
          ]
        }
      ],
      "source": [
        "# 1. Find the nth largest/smalllest item from a list\n",
        "L= [12,23,1,4,56,34,22,3]\n",
        "n = 3\n",
        "L.sort(reverse=True)\n",
        "print(L[n-1])"
      ]
    },
    {
      "cell_type": "code",
      "source": [
        "# 2. Check if an array is sorted\n",
        "L= [12,23,1,4,56,34,22,3]\n",
        "if L == sorted(L):\n",
        "  print('sorted')\n",
        "else:\n",
        "  print('not sorted')"
      ],
      "metadata": {
        "id": "5vkzFXAI_Xs0",
        "outputId": "117ceebe-11a1-4050-eb49-a8dffe168e5f",
        "colab": {
          "base_uri": "https://localhost:8080/"
        }
      },
      "execution_count": null,
      "outputs": [
        {
          "output_type": "stream",
          "name": "stdout",
          "text": [
            "not sorted\n"
          ]
        }
      ]
    },
    {
      "cell_type": "code",
      "source": [
        "# 3. Find min/max in a given array\n",
        "L= [12,23,1,4,56,34,22,3]\n",
        "print(max(L),min(L))\n",
        "\n",
        "max_val = L[0]\n",
        "for i in L:\n",
        "  if i > max_val:\n",
        "    max_val = i\n",
        "print(max_val)"
      ],
      "metadata": {
        "id": "2lNCknYF_gIz",
        "outputId": "8633ab71-00ae-4103-f531-c9f2e3b4d693",
        "colab": {
          "base_uri": "https://localhost:8080/"
        }
      },
      "execution_count": null,
      "outputs": [
        {
          "output_type": "stream",
          "name": "stdout",
          "text": [
            "56 1\n",
            "56\n"
          ]
        }
      ]
    },
    {
      "cell_type": "code",
      "source": [
        "# 4. Find the first element to occur n times in an array\n",
        "L= [1,2,3,4,5,3,4]\n",
        "n = 2\n",
        "for i in L:\n",
        "  if L.count(i) == n:\n",
        "    print(i)\n",
        "    break"
      ],
      "metadata": {
        "id": "c4k2zbLK_nG4",
        "outputId": "423cd3fc-7903-4da5-9730-57e785f529f7",
        "colab": {
          "base_uri": "https://localhost:8080/"
        }
      },
      "execution_count": null,
      "outputs": [
        {
          "output_type": "stream",
          "name": "stdout",
          "text": [
            "3\n"
          ]
        }
      ]
    },
    {
      "cell_type": "code",
      "source": [
        "#5. Find duplicates in an array\n",
        "L= [1,2,3,4,5,3,4]\n",
        "seen = []\n",
        "duplicate = []\n",
        "for i in L:\n",
        "  if i in seen and i not in duplicate:\n",
        "    duplicate.append(i)\n",
        "  else:\n",
        "    seen.append(i)\n",
        "print(duplicate)\n",
        "\n",
        "print(*duplicate)   #to unpack list *"
      ],
      "metadata": {
        "id": "o2kJ8zZ__uwJ",
        "outputId": "d1183f94-65d7-492d-a885-f1a4399bf6b9",
        "colab": {
          "base_uri": "https://localhost:8080/"
        }
      },
      "execution_count": null,
      "outputs": [
        {
          "output_type": "stream",
          "name": "stdout",
          "text": [
            "[3, 4]\n",
            "3 4\n"
          ]
        }
      ]
    },
    {
      "cell_type": "code",
      "source": [
        "#6. Rotate array to left n times\n",
        "L= [1,2,3,4,5]\n",
        "rotate = 3\n",
        "\n",
        "for i in range(rotate):\n",
        "  temp = L[0]\n",
        "  for j in range(0, len(L)-1):\n",
        "    L[j] = L[j+1]\n",
        "  L[len(L)-1] = temp\n",
        "print(L)"
      ],
      "metadata": {
        "id": "aH7JoDNg_zFq",
        "outputId": "f0c26614-f101-46a1-df5c-0cab956b8718",
        "colab": {
          "base_uri": "https://localhost:8080/"
        }
      },
      "execution_count": null,
      "outputs": [
        {
          "output_type": "stream",
          "name": "stdout",
          "text": [
            "[4, 5, 1, 2, 3]\n"
          ]
        }
      ]
    },
    {
      "cell_type": "code",
      "source": [
        "# 7. Find intersection of 2 sorted arrays\n",
        "a = [1,2,3,4,5,8]\n",
        "b = [1,6,7,8]\n",
        "for i in a:\n",
        "  if i in b:\n",
        "    print(i)    #time comp. n2 --> bcz in,max,min,sort.. all built-in runs loop inside loop"
      ],
      "metadata": {
        "id": "e22muQiA_6n4",
        "outputId": "167ca67a-4aa7-4ab9-a7da-f5ca9813c5f9",
        "colab": {
          "base_uri": "https://localhost:8080/"
        }
      },
      "execution_count": null,
      "outputs": [
        {
          "output_type": "stream",
          "name": "stdout",
          "text": [
            "1\n",
            "8\n"
          ]
        }
      ]
    },
    {
      "cell_type": "code",
      "source": [
        "# 8. Find continous subarray with a given sum(given non-negative numbers)\n",
        "# return the starting and ending index of the subarray\n",
        "# return 1st subarray in case of multiple\n",
        "\n",
        "L =[1,22,13,7,9,11,10]\n",
        "S = 16\n",
        "\n",
        "for i in range(0,len(L)):\n",
        "  subarray = []\n",
        "  for j in range(i,len(L)):\n",
        "    subarray.append(L[j])\n",
        "    if sum(subarray) == S:\n",
        "      print(subarray)\n",
        "      print('start_index:',i,'end_index:',j)"
      ],
      "metadata": {
        "id": "2IFiKO7zAsYr",
        "outputId": "f4bdc1b9-e1d2-4168-d19d-250a53ee0366",
        "colab": {
          "base_uri": "https://localhost:8080/"
        }
      },
      "execution_count": null,
      "outputs": [
        {
          "output_type": "stream",
          "name": "stdout",
          "text": [
            "[7, 9]\n",
            "start_index: 3 end_index: 4\n"
          ]
        }
      ]
    },
    {
      "cell_type": "code",
      "source": [
        "# 9. Find element with left side smaller/right side greater in an array\n",
        "\n",
        "L = [3,1,2,5,8,7,9]\n",
        "\n",
        "for i in range(1,len(L)-1):\n",
        "  flag = True\n",
        "  for j in range(0,i):\n",
        "    if L[j] > L[i]:\n",
        "      flag = False\n",
        "  for k in range(i+1,len(L)):\n",
        "    if L[k] < L[i]:\n",
        "      flag = False\n",
        "  if flag:\n",
        "    print(L[i])"
      ],
      "metadata": {
        "id": "rNfpMZ2YBNsc",
        "outputId": "01423cc0-118b-48b3-e871-3119b6c96c9d",
        "colab": {
          "base_uri": "https://localhost:8080/"
        }
      },
      "execution_count": null,
      "outputs": [
        {
          "output_type": "stream",
          "name": "stdout",
          "text": [
            "5\n",
            "5\n"
          ]
        }
      ]
    },
    {
      "cell_type": "code",
      "source": [
        "# 10. Maximum sum subarray\n",
        "L = [-2,4,7,-1,6,-11,14,3,-1,-6]\n",
        "\n",
        "d= {}\n",
        "\n",
        "for i in range(0,len(L)):\n",
        "  subarray = []\n",
        "  for j in range(i,len(L)):\n",
        "    subarray.append(L[j])\n",
        "    d[sum(subarray)] = subarray\n",
        "\n",
        "max_value = max(d)\n",
        "\n",
        "for i in d:\n",
        "  if i == max_value:\n",
        "    print(d[i], '--> ',max_value)"
      ],
      "metadata": {
        "id": "G67bHEKTBdV2",
        "outputId": "385bfb23-bdf5-4bef-d1ce-f109d3bed78d",
        "colab": {
          "base_uri": "https://localhost:8080/"
        }
      },
      "execution_count": 1,
      "outputs": [
        {
          "output_type": "stream",
          "name": "stdout",
          "text": [
            "[4, 7, -1, 6, -11, 14, 3, -1, -6] -->  22\n"
          ]
        }
      ]
    },
    {
      "cell_type": "code",
      "source": [
        "# 11. sort arrays with items 1 and 0\n",
        "L = [1, 0, 1, 0, 1, 0, 0, 1]\n",
        "print(sorted(L))"
      ],
      "metadata": {
        "id": "8-TbPoIyIFG0",
        "outputId": "eef58e1c-5f52-4a10-9b01-536d49e73640",
        "colab": {
          "base_uri": "https://localhost:8080/"
        }
      },
      "execution_count": null,
      "outputs": [
        {
          "output_type": "stream",
          "name": "stdout",
          "text": [
            "[0, 0, 0, 0, 1, 1, 1, 1]\n"
          ]
        }
      ]
    },
    {
      "cell_type": "code",
      "source": [
        "# 12. move all -ve numbers to the end\n",
        "L = [-2,4,7,-1,6,-11,14,3,-1,-6]\n",
        "q = []\n",
        "for i in L:\n",
        "  if i>0:\n",
        "    q.append(i)\n",
        "for i in L:\n",
        "  if i<0:\n",
        "    q.append(i)\n",
        "print(q)\n",
        "\n",
        "for i in range(0,len(L)):\n",
        "  for j in range(i,len(L)):\n",
        "    if L[i]<0:\n",
        "      L.append(L[i])\n",
        "      L.remove(L[i])\n",
        "print(L)"
      ],
      "metadata": {
        "id": "6vAyHnbs4aWs",
        "outputId": "c3b90430-9326-48ce-81a0-f253b0764e73",
        "colab": {
          "base_uri": "https://localhost:8080/"
        }
      },
      "execution_count": 2,
      "outputs": [
        {
          "output_type": "stream",
          "name": "stdout",
          "text": [
            "[4, 7, 6, 14, 3, -2, -1, -11, -1, -6]\n",
            "[4, 7, 6, 14, 3, -6, -2, -1, -1, -11]\n"
          ]
        }
      ]
    },
    {
      "cell_type": "code",
      "source": [
        "# 13. maximum product subarray\n",
        "L = [-2, 4, 7, -1, 6, -11, 14, 3, -1, -6]\n",
        "\n",
        "max_prd = L[0]\n",
        "max_subarr = []\n",
        "\n",
        "for i in range(len(L)):\n",
        "  cur_prd = 1\n",
        "  for j in range(i,len(L)):\n",
        "    cur_prd*=L[j]\n",
        "    if cur_prd > max_prd:\n",
        "      max_prd = cur_prd\n",
        "      max_subarr = L[i:j+1]\n",
        "print(f'max_subarray: {max_subarr}-> max_prd: {max_prd}')"
      ],
      "metadata": {
        "id": "8xidkZBV4etB",
        "colab": {
          "base_uri": "https://localhost:8080/"
        },
        "outputId": "f25421c4-9d80-4761-914d-e99120e07c97"
      },
      "execution_count": 5,
      "outputs": [
        {
          "output_type": "stream",
          "name": "stdout",
          "text": [
            "max_subarray: [4, 7, -1, 6, -11, 14, 3, -1, -6]-> max_prd: 465696\n"
          ]
        }
      ]
    },
    {
      "cell_type": "code",
      "source": [
        "# 14. find union of 2 arrays\n",
        "import functools\n",
        "a = [1,2,4,5,3]\n",
        "b = [4,3,7,8,0]\n",
        "print(list(set(a+b)))\n",
        "\n",
        "L = (lambda i,j:list(set(i+j)))(a,b)\n",
        "print(L)\n",
        "\n",
        "z = []\n",
        "for i in a:\n",
        "  if i not in z:\n",
        "    z.append(i)\n",
        "for i in b:\n",
        "  if i not in z:\n",
        "    z.append(i)\n",
        "print(z)"
      ],
      "metadata": {
        "id": "0hl8ke-Z4iq9",
        "outputId": "95a06ba8-d34c-4894-d976-cebfa075677f",
        "colab": {
          "base_uri": "https://localhost:8080/"
        }
      },
      "execution_count": 6,
      "outputs": [
        {
          "output_type": "stream",
          "name": "stdout",
          "text": [
            "[0, 1, 2, 3, 4, 5, 7, 8]\n",
            "[0, 1, 2, 3, 4, 5, 7, 8]\n",
            "[1, 2, 4, 5, 3, 7, 8, 0]\n"
          ]
        }
      ]
    }
  ]
}